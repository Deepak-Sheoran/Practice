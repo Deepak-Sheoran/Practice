{
 "cells": [
  {
   "cell_type": "code",
   "execution_count": 1,
   "id": "1c8f4807",
   "metadata": {},
   "outputs": [
    {
     "name": "stdout",
     "output_type": "stream",
     "text": [
      "5.9.0\n"
     ]
    }
   ],
   "source": [
    "import pandas as pd\n",
    "import numpy as np\n",
    "from plotly import __version__\n",
    "print(__version__)"
   ]
  },
  {
   "cell_type": "code",
   "execution_count": 2,
   "id": "d37e7b30",
   "metadata": {},
   "outputs": [
    {
     "data": {
      "text/html": [
       "        <script type=\"text/javascript\">\n",
       "        window.PlotlyConfig = {MathJaxConfig: 'local'};\n",
       "        if (window.MathJax && window.MathJax.Hub && window.MathJax.Hub.Config) {window.MathJax.Hub.Config({SVG: {font: \"STIX-Web\"}});}\n",
       "        if (typeof require !== 'undefined') {\n",
       "        require.undef(\"plotly\");\n",
       "        requirejs.config({\n",
       "            paths: {\n",
       "                'plotly': ['https://cdn.plot.ly/plotly-2.12.1.min']\n",
       "            }\n",
       "        });\n",
       "        require(['plotly'], function(Plotly) {\n",
       "            window._Plotly = Plotly;\n",
       "        });\n",
       "        }\n",
       "        </script>\n",
       "        "
      ]
     },
     "metadata": {},
     "output_type": "display_data"
    },
    {
     "data": {
      "text/html": [
       "        <script type=\"text/javascript\">\n",
       "        window.PlotlyConfig = {MathJaxConfig: 'local'};\n",
       "        if (window.MathJax && window.MathJax.Hub && window.MathJax.Hub.Config) {window.MathJax.Hub.Config({SVG: {font: \"STIX-Web\"}});}\n",
       "        if (typeof require !== 'undefined') {\n",
       "        require.undef(\"plotly\");\n",
       "        requirejs.config({\n",
       "            paths: {\n",
       "                'plotly': ['https://cdn.plot.ly/plotly-2.12.1.min']\n",
       "            }\n",
       "        });\n",
       "        require(['plotly'], function(Plotly) {\n",
       "            window._Plotly = Plotly;\n",
       "        });\n",
       "        }\n",
       "        </script>\n",
       "        "
      ]
     },
     "metadata": {},
     "output_type": "display_data"
    }
   ],
   "source": [
    "import cufflinks as cf\n",
    "from plotly.offline import download_plotlyjs, init_notebook_mode, plot, iplot\n",
    "init_notebook_mode(connected= True)\n",
    "cf.go_offline()"
   ]
  },
  {
   "cell_type": "code",
   "execution_count": 3,
   "id": "d3417bf1",
   "metadata": {},
   "outputs": [],
   "source": [
    "%matplotlib inline"
   ]
  },
  {
   "cell_type": "code",
   "execution_count": 4,
   "id": "001ef47f",
   "metadata": {},
   "outputs": [
    {
     "data": {
      "text/html": [
       "<div>\n",
       "<style scoped>\n",
       "    .dataframe tbody tr th:only-of-type {\n",
       "        vertical-align: middle;\n",
       "    }\n",
       "\n",
       "    .dataframe tbody tr th {\n",
       "        vertical-align: top;\n",
       "    }\n",
       "\n",
       "    .dataframe thead th {\n",
       "        text-align: right;\n",
       "    }\n",
       "</style>\n",
       "<table border=\"1\" class=\"dataframe\">\n",
       "  <thead>\n",
       "    <tr style=\"text-align: right;\">\n",
       "      <th></th>\n",
       "      <th>A</th>\n",
       "      <th>B</th>\n",
       "      <th>C</th>\n",
       "      <th>D</th>\n",
       "    </tr>\n",
       "  </thead>\n",
       "  <tbody>\n",
       "    <tr>\n",
       "      <th>0</th>\n",
       "      <td>-0.228116</td>\n",
       "      <td>0.985294</td>\n",
       "      <td>0.549741</td>\n",
       "      <td>1.036122</td>\n",
       "    </tr>\n",
       "    <tr>\n",
       "      <th>1</th>\n",
       "      <td>0.678724</td>\n",
       "      <td>-0.414271</td>\n",
       "      <td>1.260212</td>\n",
       "      <td>0.640785</td>\n",
       "    </tr>\n",
       "    <tr>\n",
       "      <th>2</th>\n",
       "      <td>1.651506</td>\n",
       "      <td>-0.299386</td>\n",
       "      <td>-0.594659</td>\n",
       "      <td>0.706378</td>\n",
       "    </tr>\n",
       "    <tr>\n",
       "      <th>3</th>\n",
       "      <td>-0.660478</td>\n",
       "      <td>-1.080158</td>\n",
       "      <td>-0.694873</td>\n",
       "      <td>1.898083</td>\n",
       "    </tr>\n",
       "    <tr>\n",
       "      <th>4</th>\n",
       "      <td>-0.519625</td>\n",
       "      <td>-0.595162</td>\n",
       "      <td>0.980607</td>\n",
       "      <td>0.171872</td>\n",
       "    </tr>\n",
       "  </tbody>\n",
       "</table>\n",
       "</div>"
      ],
      "text/plain": [
       "          A         B         C         D\n",
       "0 -0.228116  0.985294  0.549741  1.036122\n",
       "1  0.678724 -0.414271  1.260212  0.640785\n",
       "2  1.651506 -0.299386 -0.594659  0.706378\n",
       "3 -0.660478 -1.080158 -0.694873  1.898083\n",
       "4 -0.519625 -0.595162  0.980607  0.171872"
      ]
     },
     "execution_count": 4,
     "metadata": {},
     "output_type": "execute_result"
    }
   ],
   "source": [
    "#DATA\n",
    "df=pd.DataFrame(np.random.randn(100,4),columns='A B C D'.split())\n",
    "df.head()"
   ]
  },
  {
   "cell_type": "code",
   "execution_count": 5,
   "id": "a1b0ec4e",
   "metadata": {},
   "outputs": [
    {
     "data": {
      "text/html": [
       "<div>\n",
       "<style scoped>\n",
       "    .dataframe tbody tr th:only-of-type {\n",
       "        vertical-align: middle;\n",
       "    }\n",
       "\n",
       "    .dataframe tbody tr th {\n",
       "        vertical-align: top;\n",
       "    }\n",
       "\n",
       "    .dataframe thead th {\n",
       "        text-align: right;\n",
       "    }\n",
       "</style>\n",
       "<table border=\"1\" class=\"dataframe\">\n",
       "  <thead>\n",
       "    <tr style=\"text-align: right;\">\n",
       "      <th></th>\n",
       "      <th>Category</th>\n",
       "      <th>Values</th>\n",
       "    </tr>\n",
       "  </thead>\n",
       "  <tbody>\n",
       "    <tr>\n",
       "      <th>0</th>\n",
       "      <td>A</td>\n",
       "      <td>32</td>\n",
       "    </tr>\n",
       "    <tr>\n",
       "      <th>1</th>\n",
       "      <td>B</td>\n",
       "      <td>43</td>\n",
       "    </tr>\n",
       "    <tr>\n",
       "      <th>2</th>\n",
       "      <td>C</td>\n",
       "      <td>50</td>\n",
       "    </tr>\n",
       "  </tbody>\n",
       "</table>\n",
       "</div>"
      ],
      "text/plain": [
       "  Category  Values\n",
       "0        A      32\n",
       "1        B      43\n",
       "2        C      50"
      ]
     },
     "execution_count": 5,
     "metadata": {},
     "output_type": "execute_result"
    }
   ],
   "source": [
    "df2=pd.DataFrame({'Category':['A','B','C'],'Values':[32,43,50]})\n",
    "df2"
   ]
  },
  {
   "cell_type": "code",
   "execution_count": 6,
   "id": "8842667f",
   "metadata": {},
   "outputs": [
    {
     "data": {
      "text/plain": [
       "<Axes: >"
      ]
     },
     "execution_count": 6,
     "metadata": {},
     "output_type": "execute_result"
    },
    {
     "data": {
      "image/png": "[encoded data removed]",
      "text/plain": [
       "<Figure size 640x480 with 1 Axes>"
      ]
     },
     "metadata": {},
     "output_type": "display_data"
    }
   ],
   "source": [
    "df.plot()"
   ]
  },
  {
   "cell_type": "code",
   "execution_count": 7,
   "id": "2e82246e",
   "metadata": {},
   "outputs": [
    {
     "data": {
      "application/vnd.plotly.v1+json": {
       "config": {
        "linkText": "Export to plot.ly",
        "plotlyServerURL": "https://plot.ly",
        "showLink": true
       },
       "data": [
        {
         "line": {
          "color": "rgba(255, 153, 51, 1.0)",
          "dash": "solid",
          "shape": "linear",
          "width": 1.3
         },
         "mode": "lines",
         "name": "A",
         "text": "",
         "type": "scatter",
         "x": [
          0,
          1,
          2,
          3,
          4,
          5,
          6,
          7,
          8,
          9,
          10,
          11,
          12,
          13,
          14,
          15,
          16,
          17,
          18,
          19,
          20,
          21,
          22,
          23,
          24,
          25,
          26,
          27,
          28,
          29,
          30,
          31,
          32,
          33,
          34,
          35,
          36,
          37,
          38,
          39,
          40,
          41,
          42,
          43,
          44,
          45,
          46,
          47,
          48,
          49,
          50,
          51,
          52,
          53,
          54,
          55,
          56,
          57,
          58,
          59,
          60,
          61,
          62,
          63,
          64,
          65,
          66,
          67,
          68,
          69,
          70,
          71,
          72,
          73,
          74,
          75,
          76,
          77,
          78,
          79,
          80,
          81,
          82,
          83,
          84,
          85,
          86,
          87,
          88,
          89,
          90,
          91,
          92,
          93,
          94,
          95,
          96,
          97,
          98,
          99
         ],
         "y": [
          -0.22811627589074476,
          0.6787238832591042,
          1.6515060543232125,
          -0.6604782349724839,
          -0.5196249994745574,
          0.02055969042282577,
          -0.4397107068570352,
          0.41406042035964086,
          0.4108425293363018,
          0.8645542364829347,
          0.2119146464712936,
          0.6517328492837595,
          -0.3299934644424242,
          -0.48702899121525334,
          -0.22200897985421947,
          -0.8047818862898786,
          -1.1845906796308772,
          -0.4978353907798658,
          1.621167298309641,
          0.8224618564100735,
          -1.2902079390988175,
          0.01461791408133816,
          1.1410522269583148,
          0.8280874098673555,
          2.023735414640705,
          -0.4865637083260705,
          1.0389367638584508,
          1.2276962498928554,
          -0.18944754493862276,
          -0.14976216719342267,
          0.683583165072884,
          0.3239156424744562,
          -0.0719760168952608,
          -0.6378580170038229,
          -0.15493703777823922,
          1.7894814413117488,
          2.0184945323868257,
          0.20753608984329258,
          0.1978779128445857,
          1.0659510071385676,
          0.6558923317899069,
          -0.9926693302856021,
          -1.5682107352009464,
          -0.5753024096779175,
          -0.029614920045432938,
          -2.467749324540253,
          1.5160313978127993,
          -1.0111094337666988,
          0.36344209841536307,
          0.647623158788987,
          1.4071695619594518,
          0.5351397311767255,
          -0.04656114960512062,
          2.1664962354930863,
          0.14060328416534093,
          -0.8352079111291246,
          -0.9905325268254492,
          0.3027127572771243,
          -0.6970889943202017,
          -0.17485657057263013,
          0.1868467778262092,
          -0.9286776558514568,
          -0.03202384444914497,
          1.1188291288859542,
          1.0977932423879886,
          0.3465054154720146,
          -0.033836252989438084,
          -0.524395948545605,
          -1.031014258748993,
          -1.0769206345804534,
          -0.7197159862369726,
          1.13568672086204,
          -0.006894158362355122,
          -0.1625407442294256,
          -0.004439264787613177,
          0.22346207717106653,
          -0.6338247075959175,
          0.2830031950943066,
          -0.2842757783063089,
          -1.6745075707344477,
          -0.6599566325743017,
          0.11755418565563681,
          -0.8551230708313902,
          -1.4443938044070246,
          -1.7237423856954894,
          0.09323476948011054,
          -2.0237980294421427,
          0.5902819780517904,
          0.3521336835525418,
          -0.47410642666534136,
          -1.1966471740352314,
          -0.6828607642116732,
          -1.011661714759275,
          -1.905834151795708,
          0.9973400152016139,
          0.4597725013627585,
          -0.7315311070057287,
          -0.4033761447760559,
          -0.7193598651158356,
          0.6435615542100579
         ]
        },
        {
         "line": {
          "color": "rgba(55, 128, 191, 1.0)",
          "dash": "solid",
          "shape": "linear",
          "width": 1.3
         },
         "mode": "lines",
         "name": "B",
         "text": "",
         "type": "scatter",
         "x": [
          0,
          1,
          2,
          3,
          4,
          5,
          6,
          7,
          8,
          9,
          10,
          11,
          12,
          13,
          14,
          15,
          16,
          17,
          18,
          19,
          20,
          21,
          22,
          23,
          24,
          25,
          26,
          27,
          28,
          29,
          30,
          31,
          32,
          33,
          34,
          35,
          36,
          37,
          38,
          39,
          40,
          41,
          42,
          43,
          44,
          45,
          46,
          47,
          48,
          49,
          50,
          51,
          52,
          53,
          54,
          55,
          56,
          57,
          58,
          59,
          60,
          61,
          62,
          63,
          64,
          65,
          66,
          67,
          68,
          69,
          70,
          71,
          72,
          73,
          74,
          75,
          76,
          77,
          78,
          79,
          80,
          81,
          82,
          83,
          84,
          85,
          86,
          87,
          88,
          89,
          90,
          91,
          92,
          93,
          94,
          95,
          96,
          97,
          98,
          99
         ],
         "y": [
          0.9852938519840362,
          -0.4142711665345483,
          -0.2993862088212026,
          -1.080158167641829,
          -0.5951615936768305,
          -1.061425559875092,
          -2.7120885483534254,
          -0.03149120113084428,
          -1.5755214690475732,
          0.35761998845734294,
          0.4201604838130015,
          -1.1872547692853608,
          2.2288159685553848,
          -0.20694873379706547,
          -0.29857480676428755,
          0.30465302078098727,
          1.0883622736425371,
          -0.0833002929219233,
          -0.38598103288068203,
          -0.6178040341239334,
          0.4000253076879923,
          -0.22496101350698444,
          -0.6615503092076963,
          1.1112518007745142,
          -0.2547548208944747,
          -0.9505888187305093,
          0.5501125290824538,
          0.23886067040655298,
          0.3767793235919412,
          -1.555051768463564,
          -1.9539650845846017,
          2.068238468829256,
          -0.8857142929791774,
          -0.6360773222197956,
          0.028636021121702788,
          -2.023847184228603,
          -0.6237244217096115,
          -0.845385390133307,
          -0.7706269321010328,
          -0.04798704669675597,
          -0.7347074680924067,
          0.978796728799089,
          3.0844914729635744,
          -0.5714312651068356,
          -1.6259819149285943,
          1.1653242003578144,
          -1.2262408297083338,
          0.024679650851651188,
          1.2652123552822339,
          0.6042438676916213,
          -1.0103596451298062,
          -0.2561198417491012,
          2.0972955326499196,
          0.4931935169281666,
          1.6862523895127877,
          -0.9511409837911713,
          -0.7929340198874938,
          -0.9415624684146361,
          -0.8162447738001156,
          2.305955639896165,
          2.3533932732497136,
          -1.2371339798667005,
          -1.806957263001291,
          -0.6692886247575235,
          0.26981495743716416,
          0.7353214008885376,
          -1.9587844101207168,
          -0.08875047092515755,
          -0.5375446519047127,
          1.0306545150239066,
          -0.42317938725773774,
          -0.7853846371787755,
          0.16885879662634365,
          -0.21273402930876428,
          0.04677265239052718,
          -0.11032587082205524,
          -0.9759868080638875,
          0.37714721887378244,
          -0.040245610606096056,
          -0.3624201877979656,
          -0.7237478146887273,
          -1.136675383870532,
          -0.1762010463278863,
          1.5545539485620936,
          0.12269680380628893,
          -0.27014083531452854,
          -1.1515553777811576,
          0.5355925338371131,
          -0.08498431225411827,
          -0.14033789297750898,
          1.060065500408755,
          -1.5694109802935956,
          1.8141368208221966,
          0.15478352025223172,
          0.009957933182435623,
          1.1231976518480087,
          -0.5950752487108096,
          0.13513089474798265,
          -0.5046785342264216,
          -0.7705528646396353
         ]
        },
        {
         "line": {
          "color": "rgba(50, 171, 96, 1.0)",
          "dash": "solid",
          "shape": "linear",
          "width": 1.3
         },
         "mode": "lines",
         "name": "C",
         "text": "",
         "type": "scatter",
         "x": [
          0,
          1,
          2,
          3,
          4,
          5,
          6,
          7,
          8,
          9,
          10,
          11,
          12,
          13,
          14,
          15,
          16,
          17,
          18,
          19,
          20,
          21,
          22,
          23,
          24,
          25,
          26,
          27,
          28,
          29,
          30,
          31,
          32,
          33,
          34,
          35,
          36,
          37,
          38,
          39,
          40,
          41,
          42,
          43,
          44,
          45,
          46,
          47,
          48,
          49,
          50,
          51,
          52,
          53,
          54,
          55,
          56,
          57,
          58,
          59,
          60,
          61,
          62,
          63,
          64,
          65,
          66,
          67,
          68,
          69,
          70,
          71,
          72,
          73,
          74,
          75,
          76,
          77,
          78,
          79,
          80,
          81,
          82,
          83,
          84,
          85,
          86,
          87,
          88,
          89,
          90,
          91,
          92,
          93,
          94,
          95,
          96,
          97,
          98,
          99
         ],
         "y": [
          0.549740637555539,
          1.260212332460787,
          -0.5946594830986801,
          -0.6948732218626511,
          0.9806073927395907,
          0.4683121610261346,
          -0.14818769004704696,
          0.3452122122268642,
          -1.8067691232641163,
          -1.634749788768707,
          0.034233289669643494,
          -0.28934928828013634,
          0.32812377951620214,
          0.32910794420280115,
          1.1800149358136531,
          -0.8883104448558582,
          1.7936312182763456,
          -1.5666609283533584,
          1.4935951700111614,
          1.0261130875524023,
          0.5686621646377112,
          1.195491738597137,
          1.3095645877703326,
          1.7126221351614856,
          0.20821042621572,
          -0.27245247382963683,
          2.958537074185334,
          1.1521131509256861,
          1.69688082665319,
          1.5997545873746062,
          0.06836165526771469,
          0.05095851489658768,
          -1.4062563167283229,
          0.8009205979754301,
          -2.007850998187997,
          -1.0300679042761605,
          -0.348139549205092,
          -1.043516895168186,
          1.4095532718016575,
          1.0041911259519434,
          -0.10881868601619357,
          0.10697557159210212,
          0.36064636756312696,
          1.7268526163803328,
          0.0036578654411822584,
          0.6828347123397909,
          1.1326183479954248,
          1.3874865661864886,
          -1.4670972916699903,
          1.2554137762048678,
          -0.05883706655082013,
          0.640467929128801,
          -1.5576002803382498,
          1.317810073417994,
          0.7840297996700045,
          0.11773756092765265,
          -0.8535184193794283,
          0.7521265450113909,
          -2.0219945595573225,
          0.6982664594996074,
          -0.2620284721963431,
          -1.790396731796199,
          0.08677610118195855,
          2.0392858394221696,
          0.12882730684197252,
          0.9441592452092047,
          -0.4412387464935074,
          0.4804899837716722,
          -0.27196138774531503,
          0.3117798836344818,
          1.9159999391458693,
          0.3295901499234422,
          -0.4753026306728736,
          0.8191594181634533,
          0.20911743135705846,
          3.314507374063461,
          -0.28695412412569543,
          0.9934315724042603,
          0.10427082656561551,
          0.5739208179449827,
          0.6572094223299806,
          -0.6210516174643926,
          -0.7331282059054588,
          0.40877428828802675,
          -1.231502433839762,
          -0.5966920119114699,
          0.5303734972703417,
          0.7550799210738212,
          -0.25252469721757065,
          -0.17321545632623547,
          0.34704125264602725,
          1.4002442896546903,
          -0.5411407508757214,
          -0.6556024467323619,
          0.4888717616646806,
          -0.6831645443609797,
          1.4107941387219316,
          -1.324146824510583,
          2.4098174170134476,
          1.6986283611221968
         ]
        },
        {
         "line": {
          "color": "rgba(128, 0, 128, 1.0)",
          "dash": "solid",
          "shape": "linear",
          "width": 1.3
         },
         "mode": "lines",
         "name": "D",
         "text": "",
         "type": "scatter",
         "x": [
          0,
          1,
          2,
          3,
          4,
          5,
          6,
          7,
          8,
          9,
          10,
          11,
          12,
          13,
          14,
          15,
          16,
          17,
          18,
          19,
          20,
          21,
          22,
          23,
          24,
          25,
          26,
          27,
          28,
          29,
          30,
          31,
          32,
          33,
          34,
          35,
          36,
          37,
          38,
          39,
          40,
          41,
          42,
          43,
          44,
          45,
          46,
          47,
          48,
          49,
          50,
          51,
          52,
          53,
          54,
          55,
          56,
          57,
          58,
          59,
          60,
          61,
          62,
          63,
          64,
          65,
          66,
          67,
          68,
          69,
          70,
          71,
          72,
          73,
          74,
          75,
          76,
          77,
          78,
          79,
          80,
          81,
          82,
          83,
          84,
          85,
          86,
          87,
          88,
          89,
          90,
          91,
          92,
          93,
          94,
          95,
          96,
          97,
          98,
          99
         ],
         "y": [
          1.0361215242491195,
          0.6407853255491084,
          0.7063779456975104,
          1.8980826082085422,
          0.17187209395006434,
          1.1807930930152146,
          1.4961438288093272,
          -2.0446273869788087,
          1.1318022350041197,
          -1.1927329306327188,
          -0.3718357943680243,
          -1.103634637522285,
          0.68808333426337,
          -0.32682601948711265,
          -0.22521524060681247,
          -0.8974662083076845,
          0.6522682742848068,
          -0.7631185114850355,
          1.4212512473317818,
          -1.196434655579687,
          0.3376907200426193,
          -0.3972002950152537,
          -0.5455228930351891,
          -0.3423263609742087,
          -0.531908394142106,
          0.40697220160755143,
          -1.2245651337600438,
          -1.0957828536350458,
          0.44149574622144727,
          0.6671698451103586,
          -1.0434073030965116,
          1.087993748180064,
          0.8251029406890018,
          0.44954204545429655,
          -0.22719985689936456,
          -0.5422444776464004,
          -2.2324261138964956,
          0.9493595005097836,
          0.4777179691755005,
          -0.5354614446658382,
          -0.4982004714923975,
          -1.1476891696504472,
          -0.2296400044253678,
          0.9204126254454262,
          0.4175094038759765,
          1.3383812678252205,
          0.20393570092135996,
          0.3641768189742347,
          0.056298588785371646,
          1.790154924545487,
          0.35720133249961833,
          1.5064400671355258,
          -0.3019170893055426,
          -1.6578434496745653,
          0.8620146720247083,
          1.1500043106957927,
          0.2822494976777274,
          0.9566833862150375,
          -0.2685357041989318,
          -0.4884728273289955,
          1.2792079241497105,
          -0.7250228973636278,
          -1.2309532650323967,
          0.31197521426637215,
          1.0936944534891009,
          -0.32257914774238977,
          0.8932021180721614,
          1.8362910746299415,
          1.3306532682976469,
          0.7664840393967025,
          1.1502775594682741,
          1.3585620922843022,
          -0.5178200548823758,
          0.806793794387821,
          -0.09845903208504937,
          -1.4103456208172465,
          1.6151659629822908,
          0.06750180450915381,
          2.283053076806745,
          0.18240460302101436,
          -1.685931624410959,
          0.6047384305209671,
          0.6273165693400129,
          0.23627795320787906,
          -0.7447556824866209,
          -1.3722482088152015,
          0.6549064884581498,
          0.2246440447161041,
          -0.8268812754471794,
          -0.6793756327254308,
          1.76927828093296,
          0.8654601044043043,
          0.5927435118167454,
          0.10212959626793228,
          0.48969973682356716,
          -0.07640015800038846,
          0.03879598781609596,
          -0.14838855520956157,
          0.4444156340939495,
          -0.32794358382266386
         ]
        }
       ],
       "layout": {
        "legend": {
         "bgcolor": "#F5F6F9",
         "font": {
          "color": "#4D5663"
         }
        },
        "paper_bgcolor": "#F5F6F9",
        "plot_bgcolor": "#F5F6F9",
        "template": {
         "data": {
          "bar": [
           {
            "error_x": {
             "color": "#2a3f5f"
            },
            "error_y": {
             "color": "#2a3f5f"
            },
            "marker": {
             "line": {
              "color": "#E5ECF6",
              "width": 0.5
             },
             "pattern": {
              "fillmode": "overlay",
              "size": 10,
              "solidity": 0.2
             }
            },
            "type": "bar"
           }
          ],
          "barpolar": [
           {
            "marker": {
             "line": {
              "color": "#E5ECF6",
              "width": 0.5
             },
             "pattern": {
              "fillmode": "overlay",
              "size": 10,
              "solidity": 0.2
             }
            },
            "type": "barpolar"
           }
          ],
          "carpet": [
           {
            "aaxis": {
             "endlinecolor": "#2a3f5f",
             "gridcolor": "white",
             "linecolor": "white",
             "minorgridcolor": "white",
             "startlinecolor": "#2a3f5f"
            },
            "baxis": {
             "endlinecolor": "#2a3f5f",
             "gridcolor": "white",
             "linecolor": "white",
             "minorgridcolor": "white",
             "startlinecolor": "#2a3f5f"
            },
            "type": "carpet"
           }
          ],
          "choropleth": [
           {
            "colorbar": {
             "outlinewidth": 0,
             "ticks": ""
            },
            "type": "choropleth"
           }
          ],
          "contour": [
           {
            "colorbar": {
             "outlinewidth": 0,
             "ticks": ""
            },
            "colorscale": [
             [
              0,
              "#0d0887"
             ],
             [
              0.1111111111111111,
              "#46039f"
             ],
             [
              0.2222222222222222,
              "#7201a8"
             ],
             [
              0.3333333333333333,
              "#9c179e"
             ],
             [
              0.4444444444444444,
              "#bd3786"
             ],
             [
              0.5555555555555556,
              "#d8576b"
             ],
             [
              0.6666666666666666,
              "#ed7953"
             ],
             [
              0.7777777777777778,
              "#fb9f3a"
             ],
             [
              0.8888888888888888,
              "#fdca26"
             ],
             [
              1,
              "#f0f921"
             ]
            ],
            "type": "contour"
           }
          ],
          "contourcarpet": [
           {
            "colorbar": {
             "outlinewidth": 0,
             "ticks": ""
            },
            "type": "contourcarpet"
           }
          ],
          "heatmap": [
           {
            "colorbar": {
             "outlinewidth": 0,
             "ticks": ""
            },
            "colorscale": [
             [
              0,
              "#0d0887"
             ],
             [
              0.1111111111111111,
              "#46039f"
             ],
             [
              0.2222222222222222,
              "#7201a8"
             ],
             [
              0.3333333333333333,
              "#9c179e"
             ],
             [
              0.4444444444444444,
              "#bd3786"
             ],
             [
              0.5555555555555556,
              "#d8576b"
             ],
             [
              0.6666666666666666,
              "#ed7953"
             ],
             [
              0.7777777777777778,
              "#fb9f3a"
             ],
             [
              0.8888888888888888,
              "#fdca26"
             ],
             [
              1,
              "#f0f921"
             ]
            ],
            "type": "heatmap"
           }
          ],
          "heatmapgl": [
           {
            "colorbar": {
             "outlinewidth": 0,
             "ticks": ""
            },
            "colorscale": [
             [
              0,
              "#0d0887"
             ],
             [
              0.1111111111111111,
              "#46039f"
             ],
             [
              0.2222222222222222,
              "#7201a8"
             ],
             [
              0.3333333333333333,
              "#9c179e"
             ],
             [
              0.4444444444444444,
              "#bd3786"
             ],
             [
              0.5555555555555556,
              "#d8576b"
             ],
             [
              0.6666666666666666,
              "#ed7953"
             ],
             [
              0.7777777777777778,
              "#fb9f3a"
             ],
             [
              0.8888888888888888,
              "#fdca26"
             ],
             [
              1,
              "#f0f921"
             ]
            ],
            "type": "heatmapgl"
           }
          ],
          "histogram": [
           {
            "marker": {
             "pattern": {
              "fillmode": "overlay",
              "size": 10,
              "solidity": 0.2
             }
            },
            "type": "histogram"
           }
          ],
          "histogram2d": [
           {
            "colorbar": {
             "outlinewidth": 0,
             "ticks": ""
            },
            "colorscale": [
             [
              0,
              "#0d0887"
             ],
             [
              0.1111111111111111,
              "#46039f"
             ],
             [
              0.2222222222222222,
              "#7201a8"
             ],
             [
              0.3333333333333333,
              "#9c179e"
             ],
             [
              0.4444444444444444,
              "#bd3786"
             ],
             [
              0.5555555555555556,
              "#d8576b"
             ],
             [
              0.6666666666666666,
              "#ed7953"
             ],
             [
              0.7777777777777778,
              "#fb9f3a"
             ],
             [
              0.8888888888888888,
              "#fdca26"
             ],
             [
              1,
              "#f0f921"
             ]
            ],
            "type": "histogram2d"
           }
          ],
          "histogram2dcontour": [
           {
            "colorbar": {
             "outlinewidth": 0,
             "ticks": ""
            },
            "colorscale": [
             [
              0,
              "#0d0887"
             ],
             [
              0.1111111111111111,
              "#46039f"
             ],
             [
              0.2222222222222222,
              "#7201a8"
             ],
             [
              0.3333333333333333,
              "#9c179e"
             ],
             [
              0.4444444444444444,
              "#bd3786"
             ],
             [
              0.5555555555555556,
              "#d8576b"
             ],
             [
              0.6666666666666666,
              "#ed7953"
             ],
             [
              0.7777777777777778,
              "#fb9f3a"
             ],
             [
              0.8888888888888888,
              "#fdca26"
             ],
             [
              1,
              "#f0f921"
             ]
            ],
            "type": "histogram2dcontour"
           }
          ],
          "mesh3d": [
           {
            "colorbar": {
             "outlinewidth": 0,
             "ticks": ""
            },
            "type": "mesh3d"
           }
          ],
          "parcoords": [
           {
            "line": {
             "colorbar": {
              "outlinewidth": 0,
              "ticks": ""
             }
            },
            "type": "parcoords"
           }
          ],
          "pie": [
           {
            "automargin": true,
            "type": "pie"
           }
          ],
          "scatter": [
           {
            "fillpattern": {
             "fillmode": "overlay",
             "size": 10,
             "solidity": 0.2
            },
            "type": "scatter"
           }
          ],
          "scatter3d": [
           {
            "line": {
             "colorbar": {
              "outlinewidth": 0,
              "ticks": ""
             }
            },
            "marker": {
             "colorbar": {
              "outlinewidth": 0,
              "ticks": ""
             }
            },
            "type": "scatter3d"
           }
          ],
          "scattercarpet": [
           {
            "marker": {
             "colorbar": {
              "outlinewidth": 0,
              "ticks": ""
             }
            },
            "type": "scattercarpet"
           }
          ],
          "scattergeo": [
           {
            "marker": {
             "colorbar": {
              "outlinewidth": 0,
              "ticks": ""
             }
            },
            "type": "scattergeo"
           }
          ],
          "scattergl": [
           {
            "marker": {
             "colorbar": {
              "outlinewidth": 0,
              "ticks": ""
             }
            },
            "type": "scattergl"
           }
          ],
          "scattermapbox": [
           {
            "marker": {
             "colorbar": {
              "outlinewidth": 0,
              "ticks": ""
             }
            },
            "type": "scattermapbox"
           }
          ],
          "scatterpolar": [
           {
            "marker": {
             "colorbar": {
              "outlinewidth": 0,
              "ticks": ""
             }
            },
            "type": "scatterpolar"
           }
          ],
          "scatterpolargl": [
           {
            "marker": {
             "colorbar": {
              "outlinewidth": 0,
              "ticks": ""
             }
            },
            "type": "scatterpolargl"
           }
          ],
          "scatterternary": [
           {
            "marker": {
             "colorbar": {
              "outlinewidth": 0,
              "ticks": ""
             }
            },
            "type": "scatterternary"
           }
          ],
          "surface": [
           {
            "colorbar": {
             "outlinewidth": 0,
             "ticks": ""
            },
            "colorscale": [
             [
              0,
              "#0d0887"
             ],
             [
              0.1111111111111111,
              "#46039f"
             ],
             [
              0.2222222222222222,
              "#7201a8"
             ],
             [
              0.3333333333333333,
              "#9c179e"
             ],
             [
              0.4444444444444444,
              "#bd3786"
             ],
             [
              0.5555555555555556,
              "#d8576b"
             ],
             [
              0.6666666666666666,
              "#ed7953"
             ],
             [
              0.7777777777777778,
              "#fb9f3a"
             ],
             [
              0.8888888888888888,
              "#fdca26"
             ],
             [
              1,
              "#f0f921"
             ]
            ],
            "type": "surface"
           }
          ],
          "table": [
           {
            "cells": {
             "fill": {
              "color": "#EBF0F8"
             },
             "line": {
              "color": "white"
             }
            },
            "header": {
             "fill": {
              "color": "#C8D4E3"
             },
             "line": {
              "color": "white"
             }
            },
            "type": "table"
           }
          ]
         },
         "layout": {
          "annotationdefaults": {
           "arrowcolor": "#2a3f5f",
           "arrowhead": 0,
           "arrowwidth": 1
          },
          "autotypenumbers": "strict",
          "coloraxis": {
           "colorbar": {
            "outlinewidth": 0,
            "ticks": ""
           }
          },
          "colorscale": {
           "diverging": [
            [
             0,
             "#8e0152"
            ],
            [
             0.1,
             "#c51b7d"
            ],
            [
             0.2,
             "#de77ae"
            ],
            [
             0.3,
             "#f1b6da"
            ],
            [
             0.4,
             "#fde0ef"
            ],
            [
             0.5,
             "#f7f7f7"
            ],
            [
             0.6,
             "#e6f5d0"
            ],
            [
             0.7,
             "#b8e186"
            ],
            [
             0.8,
             "#7fbc41"
            ],
            [
             0.9,
             "#4d9221"
            ],
            [
             1,
             "#276419"
            ]
           ],
           "sequential": [
            [
             0,
             "#0d0887"
            ],
            [
             0.1111111111111111,
             "#46039f"
            ],
            [
             0.2222222222222222,
             "#7201a8"
            ],
            [
             0.3333333333333333,
             "#9c179e"
            ],
            [
             0.4444444444444444,
             "#bd3786"
            ],
            [
             0.5555555555555556,
             "#d8576b"
            ],
            [
             0.6666666666666666,
             "#ed7953"
            ],
            [
             0.7777777777777778,
             "#fb9f3a"
            ],
            [
             0.8888888888888888,
             "#fdca26"
            ],
            [
             1,
             "#f0f921"
            ]
           ],
           "sequentialminus": [
            [
             0,
             "#0d0887"
            ],
            [
             0.1111111111111111,
             "#46039f"
            ],
            [
             0.2222222222222222,
             "#7201a8"
            ],
            [
             0.3333333333333333,
             "#9c179e"
            ],
            [
             0.4444444444444444,
             "#bd3786"
            ],
            [
             0.5555555555555556,
             "#d8576b"
            ],
            [
             0.6666666666666666,
             "#ed7953"
            ],
            [
             0.7777777777777778,
             "#fb9f3a"
            ],
            [
             0.8888888888888888,
             "#fdca26"
            ],
            [
             1,
             "#f0f921"
            ]
           ]
          },
          "colorway": [
           "#636efa",
           "#EF553B",
           "#00cc96",
           "#ab63fa",
           "#FFA15A",
           "#19d3f3",
           "#FF6692",
           "#B6E880",
           "#FF97FF",
           "#FECB52"
          ],
          "font": {
           "color": "#2a3f5f"
          },
          "geo": {
           "bgcolor": "white",
           "lakecolor": "white",
           "landcolor": "#E5ECF6",
           "showlakes": true,
           "showland": true,
           "subunitcolor": "white"
          },
          "hoverlabel": {
           "align": "left"
          },
          "hovermode": "closest",
          "mapbox": {
           "style": "light"
          },
          "paper_bgcolor": "white",
          "plot_bgcolor": "#E5ECF6",
          "polar": {
           "angularaxis": {
            "gridcolor": "white",
            "linecolor": "white",
            "ticks": ""
           },
           "bgcolor": "#E5ECF6",
           "radialaxis": {
            "gridcolor": "white",
            "linecolor": "white",
            "ticks": ""
           }
          },
          "scene": {
           "xaxis": {
            "backgroundcolor": "#E5ECF6",
            "gridcolor": "white",
            "gridwidth": 2,
            "linecolor": "white",
            "showbackground": true,
            "ticks": "",
            "zerolinecolor": "white"
           },
           "yaxis": {
            "backgroundcolor": "#E5ECF6",
            "gridcolor": "white",
            "gridwidth": 2,
            "linecolor": "white",
            "showbackground": true,
            "ticks": "",
            "zerolinecolor": "white"
           },
           "zaxis": {
            "backgroundcolor": "#E5ECF6",
            "gridcolor": "white",
            "gridwidth": 2,
            "linecolor": "white",
            "showbackground": true,
            "ticks": "",
            "zerolinecolor": "white"
           }
          },
          "shapedefaults": {
           "line": {
            "color": "#2a3f5f"
           }
          },
          "ternary": {
           "aaxis": {
            "gridcolor": "white",
            "linecolor": "white",
            "ticks": ""
           },
           "baxis": {
            "gridcolor": "white",
            "linecolor": "white",
            "ticks": ""
           },
           "bgcolor": "#E5ECF6",
           "caxis": {
            "gridcolor": "white",
            "linecolor": "white",
            "ticks": ""
           }
          },
          "title": {
           "x": 0.05
          },
          "xaxis": {
           "automargin": true,
           "gridcolor": "white",
           "linecolor": "white",
           "ticks": "",
           "title": {
            "standoff": 15
           },
           "zerolinecolor": "white",
           "zerolinewidth": 2
          },
          "yaxis": {
           "automargin": true,
           "gridcolor": "white",
           "linecolor": "white",
           "ticks": "",
           "title": {
            "standoff": 15
           },
           "zerolinecolor": "white",
           "zerolinewidth": 2
          }
         }
        },
        "title": {
         "font": {
          "color": "#4D5663"
         }
        },
        "xaxis": {
         "gridcolor": "#E1E5ED",
         "showgrid": true,
         "tickfont": {
          "color": "#4D5663"
         },
         "title": {
          "font": {
           "color": "#4D5663"
          },
          "text": ""
         },
         "zerolinecolor": "#E1E5ED"
        },
        "yaxis": {
         "gridcolor": "#E1E5ED",
         "showgrid": true,
         "tickfont": {
          "color": "#4D5663"
         },
         "title": {
          "font": {
           "color": "#4D5663"
          },
          "text": ""
         },
         "zerolinecolor": "#E1E5ED"
        }
       }
      },
      "text/html": [
       "<div>                            <div id=\"c549c6b4-5b1e-45c3-85cf-69f5cd6f8812\" class=\"plotly-graph-div\" style=\"height:525px; width:100%;\"></div>            <script type=\"text/javascript\">                require([\"plotly\"], function(Plotly) {                    window.PLOTLYENV=window.PLOTLYENV || {};\n",
       "                    window.PLOTLYENV.BASE_URL='https://plot.ly';                                    if (document.getElementById(\"c549c6b4-5b1e-45c3-85cf-69f5cd6f8812\")) {                    Plotly.newPlot(                        \"c549c6b4-5b1e-45c3-85cf-69f5cd6f8812\",                        [{\"line\":{\"color\":\"rgba(255, 153, 51, 1.0)\",\"dash\":\"solid\",\"shape\":\"linear\",\"width\":1.3},\"mode\":\"lines\",\"name\":\"A\",\"text\":\"\",\"x\":[0,1,2,3,4,5,6,7,8,9,10,11,12,13,14,15,16,17,18,19,20,21,22,23,24,25,26,27,28,29,30,31,32,33,34,35,36,37,38,39,40,41,42,43,44,45,46,47,48,49,50,51,52,53,54,55,56,57,58,59,60,61,62,63,64,65,66,67,68,69,70,71,72,73,74,75,76,77,78,79,80,81,82,83,84,85,86,87,88,89,90,91,92,93,94,95,96,97,98,99],\"y\":[-0.22811627589074476,0.6787238832591042,1.6515060543232125,-0.6604782349724839,-0.5196249994745574,0.02055969042282577,-0.4397107068570352,0.41406042035964086,0.4108425293363018,0.8645542364829347,0.2119146464712936,0.6517328492837595,-0.3299934644424242,-0.48702899121525334,-0.22200897985421947,-0.8047818862898786,-1.1845906796308772,-0.4978353907798658,1.621167298309641,0.8224618564100735,-1.2902079390988175,0.01461791408133816,1.1410522269583148,0.8280874098673555,2.023735414640705,-0.4865637083260705,1.0389367638584508,1.2276962498928554,-0.18944754493862276,-0.14976216719342267,0.683583165072884,0.3239156424744562,-0.0719760168952608,-0.6378580170038229,-0.15493703777823922,1.7894814413117488,2.0184945323868257,0.20753608984329258,0.1978779128445857,1.0659510071385676,0.6558923317899069,-0.9926693302856021,-1.5682107352009464,-0.5753024096779175,-0.029614920045432938,-2.467749324540253,1.5160313978127993,-1.0111094337666988,0.36344209841536307,0.647623158788987,1.4071695619594518,0.5351397311767255,-0.04656114960512062,2.1664962354930863,0.14060328416534093,-0.8352079111291246,-0.9905325268254492,0.3027127572771243,-0.6970889943202017,-0.17485657057263013,0.1868467778262092,-0.9286776558514568,-0.03202384444914497,1.1188291288859542,1.0977932423879886,0.3465054154720146,-0.033836252989438084,-0.524395948545605,-1.031014258748993,-1.0769206345804534,-0.7197159862369726,1.13568672086204,-0.006894158362355122,-0.1625407442294256,-0.004439264787613177,0.22346207717106653,-0.6338247075959175,0.2830031950943066,-0.2842757783063089,-1.6745075707344477,-0.6599566325743017,0.11755418565563681,-0.8551230708313902,-1.4443938044070246,-1.7237423856954894,0.09323476948011054,-2.0237980294421427,0.5902819780517904,0.3521336835525418,-0.47410642666534136,-1.1966471740352314,-0.6828607642116732,-1.011661714759275,-1.905834151795708,0.9973400152016139,0.4597725013627585,-0.7315311070057287,-0.4033761447760559,-0.7193598651158356,0.6435615542100579],\"type\":\"scatter\"},{\"line\":{\"color\":\"rgba(55, 128, 191, 1.0)\",\"dash\":\"solid\",\"shape\":\"linear\",\"width\":1.3},\"mode\":\"lines\",\"name\":\"B\",\"text\":\"\",\"x\":[0,1,2,3,4,5,6,7,8,9,10,11,12,13,14,15,16,17,18,19,20,21,22,23,24,25,26,27,28,29,30,31,32,33,34,35,36,37,38,39,40,41,42,43,44,45,46,47,48,49,50,51,52,53,54,55,56,57,58,59,60,61,62,63,64,65,66,67,68,69,70,71,72,73,74,75,76,77,78,79,80,81,82,83,84,85,86,87,88,89,90,91,92,93,94,95,96,97,98,99],\"y\":[0.9852938519840362,-0.4142711665345483,-0.2993862088212026,-1.080158167641829,-0.5951615936768305,-1.061425559875092,-2.7120885483534254,-0.03149120113084428,-1.5755214690475732,0.35761998845734294,0.4201604838130015,-1.1872547692853608,2.2288159685553848,-0.20694873379706547,-0.29857480676428755,0.30465302078098727,1.0883622736425371,-0.0833002929219233,-0.38598103288068203,-0.6178040341239334,0.4000253076879923,-0.22496101350698444,-0.6615503092076963,1.1112518007745142,-0.2547548208944747,-0.9505888187305093,0.5501125290824538,0.23886067040655298,0.3767793235919412,-1.555051768463564,-1.9539650845846017,2.068238468829256,-0.8857142929791774,-0.6360773222197956,0.028636021121702788,-2.023847184228603,-0.6237244217096115,-0.845385390133307,-0.7706269321010328,-0.04798704669675597,-0.7347074680924067,0.978796728799089,3.0844914729635744,-0.5714312651068356,-1.6259819149285943,1.1653242003578144,-1.2262408297083338,0.024679650851651188,1.2652123552822339,0.6042438676916213,-1.0103596451298062,-0.2561198417491012,2.0972955326499196,0.4931935169281666,1.6862523895127877,-0.9511409837911713,-0.7929340198874938,-0.9415624684146361,-0.8162447738001156,2.305955639896165,2.3533932732497136,-1.2371339798667005,-1.806957263001291,-0.6692886247575235,0.26981495743716416,0.7353214008885376,-1.9587844101207168,-0.08875047092515755,-0.5375446519047127,1.0306545150239066,-0.42317938725773774,-0.7853846371787755,0.16885879662634365,-0.21273402930876428,0.04677265239052718,-0.11032587082205524,-0.9759868080638875,0.37714721887378244,-0.040245610606096056,-0.3624201877979656,-0.7237478146887273,-1.136675383870532,-0.1762010463278863,1.5545539485620936,0.12269680380628893,-0.27014083531452854,-1.1515553777811576,0.5355925338371131,-0.08498431225411827,-0.14033789297750898,1.060065500408755,-1.5694109802935956,1.8141368208221966,0.15478352025223172,0.009957933182435623,1.1231976518480087,-0.5950752487108096,0.13513089474798265,-0.5046785342264216,-0.7705528646396353],\"type\":\"scatter\"},{\"line\":{\"color\":\"rgba(50, 171, 96, 1.0)\",\"dash\":\"solid\",\"shape\":\"linear\",\"width\":1.3},\"mode\":\"lines\",\"name\":\"C\",\"text\":\"\",\"x\":[0,1,2,3,4,5,6,7,8,9,10,11,12,13,14,15,16,17,18,19,20,21,22,23,24,25,26,27,28,29,30,31,32,33,34,35,36,37,38,39,40,41,42,43,44,45,46,47,48,49,50,51,52,53,54,55,56,57,58,59,60,61,62,63,64,65,66,67,68,69,70,71,72,73,74,75,76,77,78,79,80,81,82,83,84,85,86,87,88,89,90,91,92,93,94,95,96,97,98,99],\"y\":[0.549740637555539,1.260212332460787,-0.5946594830986801,-0.6948732218626511,0.9806073927395907,0.4683121610261346,-0.14818769004704696,0.3452122122268642,-1.8067691232641163,-1.634749788768707,0.034233289669643494,-0.28934928828013634,0.32812377951620214,0.32910794420280115,1.1800149358136531,-0.8883104448558582,1.7936312182763456,-1.5666609283533584,1.4935951700111614,1.0261130875524023,0.5686621646377112,1.195491738597137,1.3095645877703326,1.7126221351614856,0.20821042621572,-0.27245247382963683,2.958537074185334,1.1521131509256861,1.69688082665319,1.5997545873746062,0.06836165526771469,0.05095851489658768,-1.4062563167283229,0.8009205979754301,-2.007850998187997,-1.0300679042761605,-0.348139549205092,-1.043516895168186,1.4095532718016575,1.0041911259519434,-0.10881868601619357,0.10697557159210212,0.36064636756312696,1.7268526163803328,0.0036578654411822584,0.6828347123397909,1.1326183479954248,1.3874865661864886,-1.4670972916699903,1.2554137762048678,-0.05883706655082013,0.640467929128801,-1.5576002803382498,1.317810073417994,0.7840297996700045,0.11773756092765265,-0.8535184193794283,0.7521265450113909,-2.0219945595573225,0.6982664594996074,-0.2620284721963431,-1.790396731796199,0.08677610118195855,2.0392858394221696,0.12882730684197252,0.9441592452092047,-0.4412387464935074,0.4804899837716722,-0.27196138774531503,0.3117798836344818,1.9159999391458693,0.3295901499234422,-0.4753026306728736,0.8191594181634533,0.20911743135705846,3.314507374063461,-0.28695412412569543,0.9934315724042603,0.10427082656561551,0.5739208179449827,0.6572094223299806,-0.6210516174643926,-0.7331282059054588,0.40877428828802675,-1.231502433839762,-0.5966920119114699,0.5303734972703417,0.7550799210738212,-0.25252469721757065,-0.17321545632623547,0.34704125264602725,1.4002442896546903,-0.5411407508757214,-0.6556024467323619,0.4888717616646806,-0.6831645443609797,1.4107941387219316,-1.324146824510583,2.4098174170134476,1.6986283611221968],\"type\":\"scatter\"},{\"line\":{\"color\":\"rgba(128, 0, 128, 1.0)\",\"dash\":\"solid\",\"shape\":\"linear\",\"width\":1.3},\"mode\":\"lines\",\"name\":\"D\",\"text\":\"\",\"x\":[0,1,2,3,4,5,6,7,8,9,10,11,12,13,14,15,16,17,18,19,20,21,22,23,24,25,26,27,28,29,30,31,32,33,34,35,36,37,38,39,40,41,42,43,44,45,46,47,48,49,50,51,52,53,54,55,56,57,58,59,60,61,62,63,64,65,66,67,68,69,70,71,72,73,74,75,76,77,78,79,80,81,82,83,84,85,86,87,88,89,90,91,92,93,94,95,96,97,98,99],\"y\":[1.0361215242491195,0.6407853255491084,0.7063779456975104,1.8980826082085422,0.17187209395006434,1.1807930930152146,1.4961438288093272,-2.0446273869788087,1.1318022350041197,-1.1927329306327188,-0.3718357943680243,-1.103634637522285,0.68808333426337,-0.32682601948711265,-0.22521524060681247,-0.8974662083076845,0.6522682742848068,-0.7631185114850355,1.4212512473317818,-1.196434655579687,0.3376907200426193,-0.3972002950152537,-0.5455228930351891,-0.3423263609742087,-0.531908394142106,0.40697220160755143,-1.2245651337600438,-1.0957828536350458,0.44149574622144727,0.6671698451103586,-1.0434073030965116,1.087993748180064,0.8251029406890018,0.44954204545429655,-0.22719985689936456,-0.5422444776464004,-2.2324261138964956,0.9493595005097836,0.4777179691755005,-0.5354614446658382,-0.4982004714923975,-1.1476891696504472,-0.2296400044253678,0.9204126254454262,0.4175094038759765,1.3383812678252205,0.20393570092135996,0.3641768189742347,0.056298588785371646,1.790154924545487,0.35720133249961833,1.5064400671355258,-0.3019170893055426,-1.6578434496745653,0.8620146720247083,1.1500043106957927,0.2822494976777274,0.9566833862150375,-0.2685357041989318,-0.4884728273289955,1.2792079241497105,-0.7250228973636278,-1.2309532650323967,0.31197521426637215,1.0936944534891009,-0.32257914774238977,0.8932021180721614,1.8362910746299415,1.3306532682976469,0.7664840393967025,1.1502775594682741,1.3585620922843022,-0.5178200548823758,0.806793794387821,-0.09845903208504937,-1.4103456208172465,1.6151659629822908,0.06750180450915381,2.283053076806745,0.18240460302101436,-1.685931624410959,0.6047384305209671,0.6273165693400129,0.23627795320787906,-0.7447556824866209,-1.3722482088152015,0.6549064884581498,0.2246440447161041,-0.8268812754471794,-0.6793756327254308,1.76927828093296,0.8654601044043043,0.5927435118167454,0.10212959626793228,0.48969973682356716,-0.07640015800038846,0.03879598781609596,-0.14838855520956157,0.4444156340939495,-0.32794358382266386],\"type\":\"scatter\"}],                        {\"legend\":{\"bgcolor\":\"#F5F6F9\",\"font\":{\"color\":\"#4D5663\"}},\"paper_bgcolor\":\"#F5F6F9\",\"plot_bgcolor\":\"#F5F6F9\",\"template\":{\"data\":{\"barpolar\":[{\"marker\":{\"line\":{\"color\":\"#E5ECF6\",\"width\":0.5},\"pattern\":{\"fillmode\":\"overlay\",\"size\":10,\"solidity\":0.2}},\"type\":\"barpolar\"}],\"bar\":[{\"error_x\":{\"color\":\"#2a3f5f\"},\"error_y\":{\"color\":\"#2a3f5f\"},\"marker\":{\"line\":{\"color\":\"#E5ECF6\",\"width\":0.5},\"pattern\":{\"fillmode\":\"overlay\",\"size\":10,\"solidity\":0.2}},\"type\":\"bar\"}],\"carpet\":[{\"aaxis\":{\"endlinecolor\":\"#2a3f5f\",\"gridcolor\":\"white\",\"linecolor\":\"white\",\"minorgridcolor\":\"white\",\"startlinecolor\":\"#2a3f5f\"},\"baxis\":{\"endlinecolor\":\"#2a3f5f\",\"gridcolor\":\"white\",\"linecolor\":\"white\",\"minorgridcolor\":\"white\",\"startlinecolor\":\"#2a3f5f\"},\"type\":\"carpet\"}],\"choropleth\":[{\"colorbar\":{\"outlinewidth\":0,\"ticks\":\"\"},\"type\":\"choropleth\"}],\"contourcarpet\":[{\"colorbar\":{\"outlinewidth\":0,\"ticks\":\"\"},\"type\":\"contourcarpet\"}],\"contour\":[{\"colorbar\":{\"outlinewidth\":0,\"ticks\":\"\"},\"colorscale\":[[0.0,\"#0d0887\"],[0.1111111111111111,\"#46039f\"],[0.2222222222222222,\"#7201a8\"],[0.3333333333333333,\"#9c179e\"],[0.4444444444444444,\"#bd3786\"],[0.5555555555555556,\"#d8576b\"],[0.6666666666666666,\"#ed7953\"],[0.7777777777777778,\"#fb9f3a\"],[0.8888888888888888,\"#fdca26\"],[1.0,\"#f0f921\"]],\"type\":\"contour\"}],\"heatmapgl\":[{\"colorbar\":{\"outlinewidth\":0,\"ticks\":\"\"},\"colorscale\":[[0.0,\"#0d0887\"],[0.1111111111111111,\"#46039f\"],[0.2222222222222222,\"#7201a8\"],[0.3333333333333333,\"#9c179e\"],[0.4444444444444444,\"#bd3786\"],[0.5555555555555556,\"#d8576b\"],[0.6666666666666666,\"#ed7953\"],[0.7777777777777778,\"#fb9f3a\"],[0.8888888888888888,\"#fdca26\"],[1.0,\"#f0f921\"]],\"type\":\"heatmapgl\"}],\"heatmap\":[{\"colorbar\":{\"outlinewidth\":0,\"ticks\":\"\"},\"colorscale\":[[0.0,\"#0d0887\"],[0.1111111111111111,\"#46039f\"],[0.2222222222222222,\"#7201a8\"],[0.3333333333333333,\"#9c179e\"],[0.4444444444444444,\"#bd3786\"],[0.5555555555555556,\"#d8576b\"],[0.6666666666666666,\"#ed7953\"],[0.7777777777777778,\"#fb9f3a\"],[0.8888888888888888,\"#fdca26\"],[1.0,\"#f0f921\"]],\"type\":\"heatmap\"}],\"histogram2dcontour\":[{\"colorbar\":{\"outlinewidth\":0,\"ticks\":\"\"},\"colorscale\":[[0.0,\"#0d0887\"],[0.1111111111111111,\"#46039f\"],[0.2222222222222222,\"#7201a8\"],[0.3333333333333333,\"#9c179e\"],[0.4444444444444444,\"#bd3786\"],[0.5555555555555556,\"#d8576b\"],[0.6666666666666666,\"#ed7953\"],[0.7777777777777778,\"#fb9f3a\"],[0.8888888888888888,\"#fdca26\"],[1.0,\"#f0f921\"]],\"type\":\"histogram2dcontour\"}],\"histogram2d\":[{\"colorbar\":{\"outlinewidth\":0,\"ticks\":\"\"},\"colorscale\":[[0.0,\"#0d0887\"],[0.1111111111111111,\"#46039f\"],[0.2222222222222222,\"#7201a8\"],[0.3333333333333333,\"#9c179e\"],[0.4444444444444444,\"#bd3786\"],[0.5555555555555556,\"#d8576b\"],[0.6666666666666666,\"#ed7953\"],[0.7777777777777778,\"#fb9f3a\"],[0.8888888888888888,\"#fdca26\"],[1.0,\"#f0f921\"]],\"type\":\"histogram2d\"}],\"histogram\":[{\"marker\":{\"pattern\":{\"fillmode\":\"overlay\",\"size\":10,\"solidity\":0.2}},\"type\":\"histogram\"}],\"mesh3d\":[{\"colorbar\":{\"outlinewidth\":0,\"ticks\":\"\"},\"type\":\"mesh3d\"}],\"parcoords\":[{\"line\":{\"colorbar\":{\"outlinewidth\":0,\"ticks\":\"\"}},\"type\":\"parcoords\"}],\"pie\":[{\"automargin\":true,\"type\":\"pie\"}],\"scatter3d\":[{\"line\":{\"colorbar\":{\"outlinewidth\":0,\"ticks\":\"\"}},\"marker\":{\"colorbar\":{\"outlinewidth\":0,\"ticks\":\"\"}},\"type\":\"scatter3d\"}],\"scattercarpet\":[{\"marker\":{\"colorbar\":{\"outlinewidth\":0,\"ticks\":\"\"}},\"type\":\"scattercarpet\"}],\"scattergeo\":[{\"marker\":{\"colorbar\":{\"outlinewidth\":0,\"ticks\":\"\"}},\"type\":\"scattergeo\"}],\"scattergl\":[{\"marker\":{\"colorbar\":{\"outlinewidth\":0,\"ticks\":\"\"}},\"type\":\"scattergl\"}],\"scattermapbox\":[{\"marker\":{\"colorbar\":{\"outlinewidth\":0,\"ticks\":\"\"}},\"type\":\"scattermapbox\"}],\"scatterpolargl\":[{\"marker\":{\"colorbar\":{\"outlinewidth\":0,\"ticks\":\"\"}},\"type\":\"scatterpolargl\"}],\"scatterpolar\":[{\"marker\":{\"colorbar\":{\"outlinewidth\":0,\"ticks\":\"\"}},\"type\":\"scatterpolar\"}],\"scatter\":[{\"fillpattern\":{\"fillmode\":\"overlay\",\"size\":10,\"solidity\":0.2},\"type\":\"scatter\"}],\"scatterternary\":[{\"marker\":{\"colorbar\":{\"outlinewidth\":0,\"ticks\":\"\"}},\"type\":\"scatterternary\"}],\"surface\":[{\"colorbar\":{\"outlinewidth\":0,\"ticks\":\"\"},\"colorscale\":[[0.0,\"#0d0887\"],[0.1111111111111111,\"#46039f\"],[0.2222222222222222,\"#7201a8\"],[0.3333333333333333,\"#9c179e\"],[0.4444444444444444,\"#bd3786\"],[0.5555555555555556,\"#d8576b\"],[0.6666666666666666,\"#ed7953\"],[0.7777777777777778,\"#fb9f3a\"],[0.8888888888888888,\"#fdca26\"],[1.0,\"#f0f921\"]],\"type\":\"surface\"}],\"table\":[{\"cells\":{\"fill\":{\"color\":\"#EBF0F8\"},\"line\":{\"color\":\"white\"}},\"header\":{\"fill\":{\"color\":\"#C8D4E3\"},\"line\":{\"color\":\"white\"}},\"type\":\"table\"}]},\"layout\":{\"annotationdefaults\":{\"arrowcolor\":\"#2a3f5f\",\"arrowhead\":0,\"arrowwidth\":1},\"autotypenumbers\":\"strict\",\"coloraxis\":{\"colorbar\":{\"outlinewidth\":0,\"ticks\":\"\"}},\"colorscale\":{\"diverging\":[[0,\"#8e0152\"],[0.1,\"#c51b7d\"],[0.2,\"#de77ae\"],[0.3,\"#f1b6da\"],[0.4,\"#fde0ef\"],[0.5,\"#f7f7f7\"],[0.6,\"#e6f5d0\"],[0.7,\"#b8e186\"],[0.8,\"#7fbc41\"],[0.9,\"#4d9221\"],[1,\"#276419\"]],\"sequential\":[[0.0,\"#0d0887\"],[0.1111111111111111,\"#46039f\"],[0.2222222222222222,\"#7201a8\"],[0.3333333333333333,\"#9c179e\"],[0.4444444444444444,\"#bd3786\"],[0.5555555555555556,\"#d8576b\"],[0.6666666666666666,\"#ed7953\"],[0.7777777777777778,\"#fb9f3a\"],[0.8888888888888888,\"#fdca26\"],[1.0,\"#f0f921\"]],\"sequentialminus\":[[0.0,\"#0d0887\"],[0.1111111111111111,\"#46039f\"],[0.2222222222222222,\"#7201a8\"],[0.3333333333333333,\"#9c179e\"],[0.4444444444444444,\"#bd3786\"],[0.5555555555555556,\"#d8576b\"],[0.6666666666666666,\"#ed7953\"],[0.7777777777777778,\"#fb9f3a\"],[0.8888888888888888,\"#fdca26\"],[1.0,\"#f0f921\"]]},\"colorway\":[\"#636efa\",\"#EF553B\",\"#00cc96\",\"#ab63fa\",\"#FFA15A\",\"#19d3f3\",\"#FF6692\",\"#B6E880\",\"#FF97FF\",\"#FECB52\"],\"font\":{\"color\":\"#2a3f5f\"},\"geo\":{\"bgcolor\":\"white\",\"lakecolor\":\"white\",\"landcolor\":\"#E5ECF6\",\"showlakes\":true,\"showland\":true,\"subunitcolor\":\"white\"},\"hoverlabel\":{\"align\":\"left\"},\"hovermode\":\"closest\",\"mapbox\":{\"style\":\"light\"},\"paper_bgcolor\":\"white\",\"plot_bgcolor\":\"#E5ECF6\",\"polar\":{\"angularaxis\":{\"gridcolor\":\"white\",\"linecolor\":\"white\",\"ticks\":\"\"},\"bgcolor\":\"#E5ECF6\",\"radialaxis\":{\"gridcolor\":\"white\",\"linecolor\":\"white\",\"ticks\":\"\"}},\"scene\":{\"xaxis\":{\"backgroundcolor\":\"#E5ECF6\",\"gridcolor\":\"white\",\"gridwidth\":2,\"linecolor\":\"white\",\"showbackground\":true,\"ticks\":\"\",\"zerolinecolor\":\"white\"},\"yaxis\":{\"backgroundcolor\":\"#E5ECF6\",\"gridcolor\":\"white\",\"gridwidth\":2,\"linecolor\":\"white\",\"showbackground\":true,\"ticks\":\"\",\"zerolinecolor\":\"white\"},\"zaxis\":{\"backgroundcolor\":\"#E5ECF6\",\"gridcolor\":\"white\",\"gridwidth\":2,\"linecolor\":\"white\",\"showbackground\":true,\"ticks\":\"\",\"zerolinecolor\":\"white\"}},\"shapedefaults\":{\"line\":{\"color\":\"#2a3f5f\"}},\"ternary\":{\"aaxis\":{\"gridcolor\":\"white\",\"linecolor\":\"white\",\"ticks\":\"\"},\"baxis\":{\"gridcolor\":\"white\",\"linecolor\":\"white\",\"ticks\":\"\"},\"bgcolor\":\"#E5ECF6\",\"caxis\":{\"gridcolor\":\"white\",\"linecolor\":\"white\",\"ticks\":\"\"}},\"title\":{\"x\":0.05},\"xaxis\":{\"automargin\":true,\"gridcolor\":\"white\",\"linecolor\":\"white\",\"ticks\":\"\",\"title\":{\"standoff\":15},\"zerolinecolor\":\"white\",\"zerolinewidth\":2},\"yaxis\":{\"automargin\":true,\"gridcolor\":\"white\",\"linecolor\":\"white\",\"ticks\":\"\",\"title\":{\"standoff\":15},\"zerolinecolor\":\"white\",\"zerolinewidth\":2}}},\"title\":{\"font\":{\"color\":\"#4D5663\"}},\"xaxis\":{\"gridcolor\":\"#E1E5ED\",\"showgrid\":true,\"tickfont\":{\"color\":\"#4D5663\"},\"title\":{\"font\":{\"color\":\"#4D5663\"},\"text\":\"\"},\"zerolinecolor\":\"#E1E5ED\"},\"yaxis\":{\"gridcolor\":\"#E1E5ED\",\"showgrid\":true,\"tickfont\":{\"color\":\"#4D5663\"},\"title\":{\"font\":{\"color\":\"#4D5663\"},\"text\":\"\"},\"zerolinecolor\":\"#E1E5ED\"}},                        {\"showLink\": true, \"linkText\": \"Export to plot.ly\", \"plotlyServerURL\": \"https://plot.ly\", \"responsive\": true}                    ).then(function(){\n",
       "                            \n",
       "var gd = document.getElementById('c549c6b4-5b1e-45c3-85cf-69f5cd6f8812');\n",
       "var x = new MutationObserver(function (mutations, observer) {{\n",
       "        var display = window.getComputedStyle(gd).display;\n",
       "        if (!display || display === 'none') {{\n",
       "            console.log([gd, 'removed!']);\n",
       "            Plotly.purge(gd);\n",
       "            observer.disconnect();\n",
       "        }}\n",
       "}});\n",
       "\n",
       "// Listen for the removal of the full notebook cells\n",
       "var notebookContainer = gd.closest('#notebook-container');\n",
       "if (notebookContainer) {{\n",
       "    x.observe(notebookContainer, {childList: true});\n",
       "}}\n",
       "\n",
       "// Listen for the clearing of the current output cell\n",
       "var outputEl = gd.closest('.output');\n",
       "if (outputEl) {{\n",
       "    x.observe(outputEl, {childList: true});\n",
       "}}\n",
       "\n",
       "                        })                };                });            </script>        </div>"
      ]
     },
     "metadata": {},
     "output_type": "display_data"
    }
   ],
   "source": [
    "df.iplot()"
   ]
  },
  {
   "cell_type": "markdown",
   "id": "347b73e0",
   "metadata": {},
   "source": [
    "# Scatter Plot"
   ]
  },
  {
   "cell_type": "code",
   "execution_count": 8,
   "id": "d2d6f269",
   "metadata": {},
   "outputs": [
    {
     "data": {
      "application/vnd.plotly.v1+json": {
       "config": {
        "linkText": "Export to plot.ly",
        "plotlyServerURL": "https://plot.ly",
        "showLink": true
       },
       "data": [
        {
         "line": {
          "color": "rgba(255, 153, 51, 1.0)",
          "dash": "solid",
          "shape": "linear",
          "width": 1.3
         },
         "marker": {
          "size": 12,
          "symbol": "circle"
         },
         "mode": "markers",
         "name": "B",
         "text": "",
         "type": "scatter",
         "x": [
          -0.22811627589074476,
          0.6787238832591042,
          1.6515060543232125,
          -0.6604782349724839,
          -0.5196249994745574,
          0.02055969042282577,
          -0.4397107068570352,
          0.41406042035964086,
          0.4108425293363018,
          0.8645542364829347,
          0.2119146464712936,
          0.6517328492837595,
          -0.3299934644424242,
          -0.48702899121525334,
          -0.22200897985421947,
          -0.8047818862898786,
          -1.1845906796308772,
          -0.4978353907798658,
          1.621167298309641,
          0.8224618564100735,
          -1.2902079390988175,
          0.01461791408133816,
          1.1410522269583148,
          0.8280874098673555,
          2.023735414640705,
          -0.4865637083260705,
          1.0389367638584508,
          1.2276962498928554,
          -0.18944754493862276,
          -0.14976216719342267,
          0.683583165072884,
          0.3239156424744562,
          -0.0719760168952608,
          -0.6378580170038229,
          -0.15493703777823922,
          1.7894814413117488,
          2.0184945323868257,
          0.20753608984329258,
          0.1978779128445857,
          1.0659510071385676,
          0.6558923317899069,
          -0.9926693302856021,
          -1.5682107352009464,
          -0.5753024096779175,
          -0.029614920045432938,
          -2.467749324540253,
          1.5160313978127993,
          -1.0111094337666988,
          0.36344209841536307,
          0.647623158788987,
          1.4071695619594518,
          0.5351397311767255,
          -0.04656114960512062,
          2.1664962354930863,
          0.14060328416534093,
          -0.8352079111291246,
          -0.9905325268254492,
          0.3027127572771243,
          -0.6970889943202017,
          -0.17485657057263013,
          0.1868467778262092,
          -0.9286776558514568,
          -0.03202384444914497,
          1.1188291288859542,
          1.0977932423879886,
          0.3465054154720146,
          -0.033836252989438084,
          -0.524395948545605,
          -1.031014258748993,
          -1.0769206345804534,
          -0.7197159862369726,
          1.13568672086204,
          -0.006894158362355122,
          -0.1625407442294256,
          -0.004439264787613177,
          0.22346207717106653,
          -0.6338247075959175,
          0.2830031950943066,
          -0.2842757783063089,
          -1.6745075707344477,
          -0.6599566325743017,
          0.11755418565563681,
          -0.8551230708313902,
          -1.4443938044070246,
          -1.7237423856954894,
          0.09323476948011054,
          -2.0237980294421427,
          0.5902819780517904,
          0.3521336835525418,
          -0.47410642666534136,
          -1.1966471740352314,
          -0.6828607642116732,
          -1.011661714759275,
          -1.905834151795708,
          0.9973400152016139,
          0.4597725013627585,
          -0.7315311070057287,
          -0.4033761447760559,
          -0.7193598651158356,
          0.6435615542100579
         ],
         "y": [
          0.9852938519840362,
          -0.4142711665345483,
          -0.2993862088212026,
          -1.080158167641829,
          -0.5951615936768305,
          -1.061425559875092,
          -2.7120885483534254,
          -0.03149120113084428,
          -1.5755214690475732,
          0.35761998845734294,
          0.4201604838130015,
          -1.1872547692853608,
          2.2288159685553848,
          -0.20694873379706547,
          -0.29857480676428755,
          0.30465302078098727,
          1.0883622736425371,
          -0.0833002929219233,
          -0.38598103288068203,
          -0.6178040341239334,
          0.4000253076879923,
          -0.22496101350698444,
          -0.6615503092076963,
          1.1112518007745142,
          -0.2547548208944747,
          -0.9505888187305093,
          0.5501125290824538,
          0.23886067040655298,
          0.3767793235919412,
          -1.555051768463564,
          -1.9539650845846017,
          2.068238468829256,
          -0.8857142929791774,
          -0.6360773222197956,
          0.028636021121702788,
          -2.023847184228603,
          -0.6237244217096115,
          -0.845385390133307,
          -0.7706269321010328,
          -0.04798704669675597,
          -0.7347074680924067,
          0.978796728799089,
          3.0844914729635744,
          -0.5714312651068356,
          -1.6259819149285943,
          1.1653242003578144,
          -1.2262408297083338,
          0.024679650851651188,
          1.2652123552822339,
          0.6042438676916213,
          -1.0103596451298062,
          -0.2561198417491012,
          2.0972955326499196,
          0.4931935169281666,
          1.6862523895127877,
          -0.9511409837911713,
          -0.7929340198874938,
          -0.9415624684146361,
          -0.8162447738001156,
          2.305955639896165,
          2.3533932732497136,
          -1.2371339798667005,
          -1.806957263001291,
          -0.6692886247575235,
          0.26981495743716416,
          0.7353214008885376,
          -1.9587844101207168,
          -0.08875047092515755,
          -0.5375446519047127,
          1.0306545150239066,
          -0.42317938725773774,
          -0.7853846371787755,
          0.16885879662634365,
          -0.21273402930876428,
          0.04677265239052718,
          -0.11032587082205524,
          -0.9759868080638875,
          0.37714721887378244,
          -0.040245610606096056,
          -0.3624201877979656,
          -0.7237478146887273,
          -1.136675383870532,
          -0.1762010463278863,
          1.5545539485620936,
          0.12269680380628893,
          -0.27014083531452854,
          -1.1515553777811576,
          0.5355925338371131,
          -0.08498431225411827,
          -0.14033789297750898,
          1.060065500408755,
          -1.5694109802935956,
          1.8141368208221966,
          0.15478352025223172,
          0.009957933182435623,
          1.1231976518480087,
          -0.5950752487108096,
          0.13513089474798265,
          -0.5046785342264216,
          -0.7705528646396353
         ]
        }
       ],
       "layout": {
        "legend": {
         "bgcolor": "#F5F6F9",
         "font": {
          "color": "#4D5663"
         }
        },
        "paper_bgcolor": "#F5F6F9",
        "plot_bgcolor": "#F5F6F9",
        "template": {
         "data": {
          "bar": [
           {
            "error_x": {
             "color": "#2a3f5f"
            },
            "error_y": {
             "color": "#2a3f5f"
            },
            "marker": {
             "line": {
              "color": "#E5ECF6",
              "width": 0.5
             },
             "pattern": {
              "fillmode": "overlay",
              "size": 10,
              "solidity": 0.2
             }
            },
            "type": "bar"
           }
          ],
          "barpolar": [
           {
            "marker": {
             "line": {
              "color": "#E5ECF6",
              "width": 0.5
             },
             "pattern": {
              "fillmode": "overlay",
              "size": 10,
              "solidity": 0.2
             }
            },
            "type": "barpolar"
           }
          ],
          "carpet": [
           {
            "aaxis": {
             "endlinecolor": "#2a3f5f",
             "gridcolor": "white",
             "linecolor": "white",
             "minorgridcolor": "white",
             "startlinecolor": "#2a3f5f"
            },
            "baxis": {
             "endlinecolor": "#2a3f5f",
             "gridcolor": "white",
             "linecolor": "white",
             "minorgridcolor": "white",
             "startlinecolor": "#2a3f5f"
            },
            "type": "carpet"
           }
          ],
          "choropleth": [
           {
            "colorbar": {
             "outlinewidth": 0,
             "ticks": ""
            },
            "type": "choropleth"
           }
          ],
          "contour": [
           {
            "colorbar": {
             "outlinewidth": 0,
             "ticks": ""
            },
            "colorscale": [
             [
              0,
              "#0d0887"
             ],
             [
              0.1111111111111111,
              "#46039f"
             ],
             [
              0.2222222222222222,
              "#7201a8"
             ],
             [
              0.3333333333333333,
              "#9c179e"
             ],
             [
              0.4444444444444444,
              "#bd3786"
             ],
             [
              0.5555555555555556,
              "#d8576b"
             ],
             [
              0.6666666666666666,
              "#ed7953"
             ],
             [
              0.7777777777777778,
              "#fb9f3a"
             ],
             [
              0.8888888888888888,
              "#fdca26"
             ],
             [
              1,
              "#f0f921"
             ]
            ],
            "type": "contour"
           }
          ],
          "contourcarpet": [
           {
            "colorbar": {
             "outlinewidth": 0,
             "ticks": ""
            },
            "type": "contourcarpet"
           }
          ],
          "heatmap": [
           {
            "colorbar": {
             "outlinewidth": 0,
             "ticks": ""
            },
            "colorscale": [
             [
              0,
              "#0d0887"
             ],
             [
              0.1111111111111111,
              "#46039f"
             ],
             [
              0.2222222222222222,
              "#7201a8"
             ],
             [
              0.3333333333333333,
              "#9c179e"
             ],
             [
              0.4444444444444444,
              "#bd3786"
             ],
             [
              0.5555555555555556,
              "#d8576b"
             ],
             [
              0.6666666666666666,
              "#ed7953"
             ],
             [
              0.7777777777777778,
              "#fb9f3a"
             ],
             [
              0.8888888888888888,
              "#fdca26"
             ],
             [
              1,
              "#f0f921"
             ]
            ],
            "type": "heatmap"
           }
          ],
          "heatmapgl": [
           {
            "colorbar": {
             "outlinewidth": 0,
             "ticks": ""
            },
            "colorscale": [
             [
              0,
              "#0d0887"
             ],
             [
              0.1111111111111111,
              "#46039f"
             ],
             [
              0.2222222222222222,
              "#7201a8"
             ],
             [
              0.3333333333333333,
              "#9c179e"
             ],
             [
              0.4444444444444444,
              "#bd3786"
             ],
             [
              0.5555555555555556,
              "#d8576b"
             ],
             [
              0.6666666666666666,
              "#ed7953"
             ],
             [
              0.7777777777777778,
              "#fb9f3a"
             ],
             [
              0.8888888888888888,
              "#fdca26"
             ],
             [
              1,
              "#f0f921"
             ]
            ],
            "type": "heatmapgl"
           }
          ],
          "histogram": [
           {
            "marker": {
             "pattern": {
              "fillmode": "overlay",
              "size": 10,
              "solidity": 0.2
             }
            },
            "type": "histogram"
           }
          ],
          "histogram2d": [
           {
            "colorbar": {
             "outlinewidth": 0,
             "ticks": ""
            },
            "colorscale": [
             [
              0,
              "#0d0887"
             ],
             [
              0.1111111111111111,
              "#46039f"
             ],
             [
              0.2222222222222222,
              "#7201a8"
             ],
             [
              0.3333333333333333,
              "#9c179e"
             ],
             [
              0.4444444444444444,
              "#bd3786"
             ],
             [
              0.5555555555555556,
              "#d8576b"
             ],
             [
              0.6666666666666666,
              "#ed7953"
             ],
             [
              0.7777777777777778,
              "#fb9f3a"
             ],
             [
              0.8888888888888888,
              "#fdca26"
             ],
             [
              1,
              "#f0f921"
             ]
            ],
            "type": "histogram2d"
           }
          ],
          "histogram2dcontour": [
           {
            "colorbar": {
             "outlinewidth": 0,
             "ticks": ""
            },
            "colorscale": [
             [
              0,
              "#0d0887"
             ],
             [
              0.1111111111111111,
              "#46039f"
             ],
             [
              0.2222222222222222,
              "#7201a8"
             ],
             [
              0.3333333333333333,
              "#9c179e"
             ],
             [
              0.4444444444444444,
              "#bd3786"
             ],
             [
              0.5555555555555556,
              "#d8576b"
             ],
             [
              0.6666666666666666,
              "#ed7953"
             ],
             [
              0.7777777777777778,
              "#fb9f3a"
             ],
             [
              0.8888888888888888,
              "#fdca26"
             ],
             [
              1,
              "#f0f921"
             ]
            ],
            "type": "histogram2dcontour"
           }
          ],
          "mesh3d": [
           {
            "colorbar": {
             "outlinewidth": 0,
             "ticks": ""
            },
            "type": "mesh3d"
           }
          ],
          "parcoords": [
           {
            "line": {
             "colorbar": {
              "outlinewidth": 0,
              "ticks": ""
             }
            },
            "type": "parcoords"
           }
          ],
          "pie": [
           {
            "automargin": true,
            "type": "pie"
           }
          ],
          "scatter": [
           {
            "fillpattern": {
             "fillmode": "overlay",
             "size": 10,
             "solidity": 0.2
            },
            "type": "scatter"
           }
          ],
          "scatter3d": [
           {
            "line": {
             "colorbar": {
              "outlinewidth": 0,
              "ticks": ""
             }
            },
            "marker": {
             "colorbar": {
              "outlinewidth": 0,
              "ticks": ""
             }
            },
            "type": "scatter3d"
           }
          ],
          "scattercarpet": [
           {
            "marker": {
             "colorbar": {
              "outlinewidth": 0,
              "ticks": ""
             }
            },
            "type": "scattercarpet"
           }
          ],
          "scattergeo": [
           {
            "marker": {
             "colorbar": {
              "outlinewidth": 0,
              "ticks": ""
             }
            },
            "type": "scattergeo"
           }
          ],
          "scattergl": [
           {
            "marker": {
             "colorbar": {
              "outlinewidth": 0,
              "ticks": ""
             }
            },
            "type": "scattergl"
           }
          ],
          "scattermapbox": [
           {
            "marker": {
             "colorbar": {
              "outlinewidth": 0,
              "ticks": ""
             }
            },
            "type": "scattermapbox"
           }
          ],
          "scatterpolar": [
           {
            "marker": {
             "colorbar": {
              "outlinewidth": 0,
              "ticks": ""
             }
            },
            "type": "scatterpolar"
           }
          ],
          "scatterpolargl": [
           {
            "marker": {
             "colorbar": {
              "outlinewidth": 0,
              "ticks": ""
             }
            },
            "type": "scatterpolargl"
           }
          ],
          "scatterternary": [
           {
            "marker": {
             "colorbar": {
              "outlinewidth": 0,
              "ticks": ""
             }
            },
            "type": "scatterternary"
           }
          ],
          "surface": [
           {
            "colorbar": {
             "outlinewidth": 0,
             "ticks": ""
            },
            "colorscale": [
             [
              0,
              "#0d0887"
             ],
             [
              0.1111111111111111,
              "#46039f"
             ],
             [
              0.2222222222222222,
              "#7201a8"
             ],
             [
              0.3333333333333333,
              "#9c179e"
             ],
             [
              0.4444444444444444,
              "#bd3786"
             ],
             [
              0.5555555555555556,
              "#d8576b"
             ],
             [
              0.6666666666666666,
              "#ed7953"
             ],
             [
              0.7777777777777778,
              "#fb9f3a"
             ],
             [
              0.8888888888888888,
              "#fdca26"
             ],
             [
              1,
              "#f0f921"
             ]
            ],
            "type": "surface"
           }
          ],
          "table": [
           {
            "cells": {
             "fill": {
              "color": "#EBF0F8"
             },
             "line": {
              "color": "white"
             }
            },
            "header": {
             "fill": {
              "color": "#C8D4E3"
             },
             "line": {
              "color": "white"
             }
            },
            "type": "table"
           }
          ]
         },
         "layout": {
          "annotationdefaults": {
           "arrowcolor": "#2a3f5f",
           "arrowhead": 0,
           "arrowwidth": 1
          },
          "autotypenumbers": "strict",
          "coloraxis": {
           "colorbar": {
            "outlinewidth": 0,
            "ticks": ""
           }
          },
          "colorscale": {
           "diverging": [
            [
             0,
             "#8e0152"
            ],
            [
             0.1,
             "#c51b7d"
            ],
            [
             0.2,
             "#de77ae"
            ],
            [
             0.3,
             "#f1b6da"
            ],
            [
             0.4,
             "#fde0ef"
            ],
            [
             0.5,
             "#f7f7f7"
            ],
            [
             0.6,
             "#e6f5d0"
            ],
            [
             0.7,
             "#b8e186"
            ],
            [
             0.8,
             "#7fbc41"
            ],
            [
             0.9,
             "#4d9221"
            ],
            [
             1,
             "#276419"
            ]
           ],
           "sequential": [
            [
             0,
             "#0d0887"
            ],
            [
             0.1111111111111111,
             "#46039f"
            ],
            [
             0.2222222222222222,
             "#7201a8"
            ],
            [
             0.3333333333333333,
             "#9c179e"
            ],
            [
             0.4444444444444444,
             "#bd3786"
            ],
            [
             0.5555555555555556,
             "#d8576b"
            ],
            [
             0.6666666666666666,
             "#ed7953"
            ],
            [
             0.7777777777777778,
             "#fb9f3a"
            ],
            [
             0.8888888888888888,
             "#fdca26"
            ],
            [
             1,
             "#f0f921"
            ]
           ],
           "sequentialminus": [
            [
             0,
             "#0d0887"
            ],
            [
             0.1111111111111111,
             "#46039f"
            ],
            [
             0.2222222222222222,
             "#7201a8"
            ],
            [
             0.3333333333333333,
             "#9c179e"
            ],
            [
             0.4444444444444444,
             "#bd3786"
            ],
            [
             0.5555555555555556,
             "#d8576b"
            ],
            [
             0.6666666666666666,
             "#ed7953"
            ],
            [
             0.7777777777777778,
             "#fb9f3a"
            ],
            [
             0.8888888888888888,
             "#fdca26"
            ],
            [
             1,
             "#f0f921"
            ]
           ]
          },
          "colorway": [
           "#636efa",
           "#EF553B",
           "#00cc96",
           "#ab63fa",
           "#FFA15A",
           "#19d3f3",
           "#FF6692",
           "#B6E880",
           "#FF97FF",
           "#FECB52"
          ],
          "font": {
           "color": "#2a3f5f"
          },
          "geo": {
           "bgcolor": "white",
           "lakecolor": "white",
           "landcolor": "#E5ECF6",
           "showlakes": true,
           "showland": true,
           "subunitcolor": "white"
          },
          "hoverlabel": {
           "align": "left"
          },
          "hovermode": "closest",
          "mapbox": {
           "style": "light"
          },
          "paper_bgcolor": "white",
          "plot_bgcolor": "#E5ECF6",
          "polar": {
           "angularaxis": {
            "gridcolor": "white",
            "linecolor": "white",
            "ticks": ""
           },
           "bgcolor": "#E5ECF6",
           "radialaxis": {
            "gridcolor": "white",
            "linecolor": "white",
            "ticks": ""
           }
          },
          "scene": {
           "xaxis": {
            "backgroundcolor": "#E5ECF6",
            "gridcolor": "white",
            "gridwidth": 2,
            "linecolor": "white",
            "showbackground": true,
            "ticks": "",
            "zerolinecolor": "white"
           },
           "yaxis": {
            "backgroundcolor": "#E5ECF6",
            "gridcolor": "white",
            "gridwidth": 2,
            "linecolor": "white",
            "showbackground": true,
            "ticks": "",
            "zerolinecolor": "white"
           },
           "zaxis": {
            "backgroundcolor": "#E5ECF6",
            "gridcolor": "white",
            "gridwidth": 2,
            "linecolor": "white",
            "showbackground": true,
            "ticks": "",
            "zerolinecolor": "white"
           }
          },
          "shapedefaults": {
           "line": {
            "color": "#2a3f5f"
           }
          },
          "ternary": {
           "aaxis": {
            "gridcolor": "white",
            "linecolor": "white",
            "ticks": ""
           },
           "baxis": {
            "gridcolor": "white",
            "linecolor": "white",
            "ticks": ""
           },
           "bgcolor": "#E5ECF6",
           "caxis": {
            "gridcolor": "white",
            "linecolor": "white",
            "ticks": ""
           }
          },
          "title": {
           "x": 0.05
          },
          "xaxis": {
           "automargin": true,
           "gridcolor": "white",
           "linecolor": "white",
           "ticks": "",
           "title": {
            "standoff": 15
           },
           "zerolinecolor": "white",
           "zerolinewidth": 2
          },
          "yaxis": {
           "automargin": true,
           "gridcolor": "white",
           "linecolor": "white",
           "ticks": "",
           "title": {
            "standoff": 15
           },
           "zerolinecolor": "white",
           "zerolinewidth": 2
          }
         }
        },
        "title": {
         "font": {
          "color": "#4D5663"
         }
        },
        "xaxis": {
         "gridcolor": "#E1E5ED",
         "showgrid": true,
         "tickfont": {
          "color": "#4D5663"
         },
         "title": {
          "font": {
           "color": "#4D5663"
          },
          "text": ""
         },
         "zerolinecolor": "#E1E5ED"
        },
        "yaxis": {
         "gridcolor": "#E1E5ED",
         "showgrid": true,
         "tickfont": {
          "color": "#4D5663"
         },
         "title": {
          "font": {
           "color": "#4D5663"
          },
          "text": ""
         },
         "zerolinecolor": "#E1E5ED"
        }
       }
      },
      "text/html": [
       "<div>                            <div id=\"5eabbfe1-3513-4623-a504-62a33fc77eee\" class=\"plotly-graph-div\" style=\"height:525px; width:100%;\"></div>            <script type=\"text/javascript\">                require([\"plotly\"], function(Plotly) {                    window.PLOTLYENV=window.PLOTLYENV || {};\n",
       "                    window.PLOTLYENV.BASE_URL='https://plot.ly';                                    if (document.getElementById(\"5eabbfe1-3513-4623-a504-62a33fc77eee\")) {                    Plotly.newPlot(                        \"5eabbfe1-3513-4623-a504-62a33fc77eee\",                        [{\"line\":{\"color\":\"rgba(255, 153, 51, 1.0)\",\"dash\":\"solid\",\"shape\":\"linear\",\"width\":1.3},\"marker\":{\"size\":12,\"symbol\":\"circle\"},\"mode\":\"markers\",\"name\":\"B\",\"text\":\"\",\"x\":[-0.22811627589074476,0.6787238832591042,1.6515060543232125,-0.6604782349724839,-0.5196249994745574,0.02055969042282577,-0.4397107068570352,0.41406042035964086,0.4108425293363018,0.8645542364829347,0.2119146464712936,0.6517328492837595,-0.3299934644424242,-0.48702899121525334,-0.22200897985421947,-0.8047818862898786,-1.1845906796308772,-0.4978353907798658,1.621167298309641,0.8224618564100735,-1.2902079390988175,0.01461791408133816,1.1410522269583148,0.8280874098673555,2.023735414640705,-0.4865637083260705,1.0389367638584508,1.2276962498928554,-0.18944754493862276,-0.14976216719342267,0.683583165072884,0.3239156424744562,-0.0719760168952608,-0.6378580170038229,-0.15493703777823922,1.7894814413117488,2.0184945323868257,0.20753608984329258,0.1978779128445857,1.0659510071385676,0.6558923317899069,-0.9926693302856021,-1.5682107352009464,-0.5753024096779175,-0.029614920045432938,-2.467749324540253,1.5160313978127993,-1.0111094337666988,0.36344209841536307,0.647623158788987,1.4071695619594518,0.5351397311767255,-0.04656114960512062,2.1664962354930863,0.14060328416534093,-0.8352079111291246,-0.9905325268254492,0.3027127572771243,-0.6970889943202017,-0.17485657057263013,0.1868467778262092,-0.9286776558514568,-0.03202384444914497,1.1188291288859542,1.0977932423879886,0.3465054154720146,-0.033836252989438084,-0.524395948545605,-1.031014258748993,-1.0769206345804534,-0.7197159862369726,1.13568672086204,-0.006894158362355122,-0.1625407442294256,-0.004439264787613177,0.22346207717106653,-0.6338247075959175,0.2830031950943066,-0.2842757783063089,-1.6745075707344477,-0.6599566325743017,0.11755418565563681,-0.8551230708313902,-1.4443938044070246,-1.7237423856954894,0.09323476948011054,-2.0237980294421427,0.5902819780517904,0.3521336835525418,-0.47410642666534136,-1.1966471740352314,-0.6828607642116732,-1.011661714759275,-1.905834151795708,0.9973400152016139,0.4597725013627585,-0.7315311070057287,-0.4033761447760559,-0.7193598651158356,0.6435615542100579],\"y\":[0.9852938519840362,-0.4142711665345483,-0.2993862088212026,-1.080158167641829,-0.5951615936768305,-1.061425559875092,-2.7120885483534254,-0.03149120113084428,-1.5755214690475732,0.35761998845734294,0.4201604838130015,-1.1872547692853608,2.2288159685553848,-0.20694873379706547,-0.29857480676428755,0.30465302078098727,1.0883622736425371,-0.0833002929219233,-0.38598103288068203,-0.6178040341239334,0.4000253076879923,-0.22496101350698444,-0.6615503092076963,1.1112518007745142,-0.2547548208944747,-0.9505888187305093,0.5501125290824538,0.23886067040655298,0.3767793235919412,-1.555051768463564,-1.9539650845846017,2.068238468829256,-0.8857142929791774,-0.6360773222197956,0.028636021121702788,-2.023847184228603,-0.6237244217096115,-0.845385390133307,-0.7706269321010328,-0.04798704669675597,-0.7347074680924067,0.978796728799089,3.0844914729635744,-0.5714312651068356,-1.6259819149285943,1.1653242003578144,-1.2262408297083338,0.024679650851651188,1.2652123552822339,0.6042438676916213,-1.0103596451298062,-0.2561198417491012,2.0972955326499196,0.4931935169281666,1.6862523895127877,-0.9511409837911713,-0.7929340198874938,-0.9415624684146361,-0.8162447738001156,2.305955639896165,2.3533932732497136,-1.2371339798667005,-1.806957263001291,-0.6692886247575235,0.26981495743716416,0.7353214008885376,-1.9587844101207168,-0.08875047092515755,-0.5375446519047127,1.0306545150239066,-0.42317938725773774,-0.7853846371787755,0.16885879662634365,-0.21273402930876428,0.04677265239052718,-0.11032587082205524,-0.9759868080638875,0.37714721887378244,-0.040245610606096056,-0.3624201877979656,-0.7237478146887273,-1.136675383870532,-0.1762010463278863,1.5545539485620936,0.12269680380628893,-0.27014083531452854,-1.1515553777811576,0.5355925338371131,-0.08498431225411827,-0.14033789297750898,1.060065500408755,-1.5694109802935956,1.8141368208221966,0.15478352025223172,0.009957933182435623,1.1231976518480087,-0.5950752487108096,0.13513089474798265,-0.5046785342264216,-0.7705528646396353],\"type\":\"scatter\"}],                        {\"legend\":{\"bgcolor\":\"#F5F6F9\",\"font\":{\"color\":\"#4D5663\"}},\"paper_bgcolor\":\"#F5F6F9\",\"plot_bgcolor\":\"#F5F6F9\",\"template\":{\"data\":{\"barpolar\":[{\"marker\":{\"line\":{\"color\":\"#E5ECF6\",\"width\":0.5},\"pattern\":{\"fillmode\":\"overlay\",\"size\":10,\"solidity\":0.2}},\"type\":\"barpolar\"}],\"bar\":[{\"error_x\":{\"color\":\"#2a3f5f\"},\"error_y\":{\"color\":\"#2a3f5f\"},\"marker\":{\"line\":{\"color\":\"#E5ECF6\",\"width\":0.5},\"pattern\":{\"fillmode\":\"overlay\",\"size\":10,\"solidity\":0.2}},\"type\":\"bar\"}],\"carpet\":[{\"aaxis\":{\"endlinecolor\":\"#2a3f5f\",\"gridcolor\":\"white\",\"linecolor\":\"white\",\"minorgridcolor\":\"white\",\"startlinecolor\":\"#2a3f5f\"},\"baxis\":{\"endlinecolor\":\"#2a3f5f\",\"gridcolor\":\"white\",\"linecolor\":\"white\",\"minorgridcolor\":\"white\",\"startlinecolor\":\"#2a3f5f\"},\"type\":\"carpet\"}],\"choropleth\":[{\"colorbar\":{\"outlinewidth\":0,\"ticks\":\"\"},\"type\":\"choropleth\"}],\"contourcarpet\":[{\"colorbar\":{\"outlinewidth\":0,\"ticks\":\"\"},\"type\":\"contourcarpet\"}],\"contour\":[{\"colorbar\":{\"outlinewidth\":0,\"ticks\":\"\"},\"colorscale\":[[0.0,\"#0d0887\"],[0.1111111111111111,\"#46039f\"],[0.2222222222222222,\"#7201a8\"],[0.3333333333333333,\"#9c179e\"],[0.4444444444444444,\"#bd3786\"],[0.5555555555555556,\"#d8576b\"],[0.6666666666666666,\"#ed7953\"],[0.7777777777777778,\"#fb9f3a\"],[0.8888888888888888,\"#fdca26\"],[1.0,\"#f0f921\"]],\"type\":\"contour\"}],\"heatmapgl\":[{\"colorbar\":{\"outlinewidth\":0,\"ticks\":\"\"},\"colorscale\":[[0.0,\"#0d0887\"],[0.1111111111111111,\"#46039f\"],[0.2222222222222222,\"#7201a8\"],[0.3333333333333333,\"#9c179e\"],[0.4444444444444444,\"#bd3786\"],[0.5555555555555556,\"#d8576b\"],[0.6666666666666666,\"#ed7953\"],[0.7777777777777778,\"#fb9f3a\"],[0.8888888888888888,\"#fdca26\"],[1.0,\"#f0f921\"]],\"type\":\"heatmapgl\"}],\"heatmap\":[{\"colorbar\":{\"outlinewidth\":0,\"ticks\":\"\"},\"colorscale\":[[0.0,\"#0d0887\"],[0.1111111111111111,\"#46039f\"],[0.2222222222222222,\"#7201a8\"],[0.3333333333333333,\"#9c179e\"],[0.4444444444444444,\"#bd3786\"],[0.5555555555555556,\"#d8576b\"],[0.6666666666666666,\"#ed7953\"],[0.7777777777777778,\"#fb9f3a\"],[0.8888888888888888,\"#fdca26\"],[1.0,\"#f0f921\"]],\"type\":\"heatmap\"}],\"histogram2dcontour\":[{\"colorbar\":{\"outlinewidth\":0,\"ticks\":\"\"},\"colorscale\":[[0.0,\"#0d0887\"],[0.1111111111111111,\"#46039f\"],[0.2222222222222222,\"#7201a8\"],[0.3333333333333333,\"#9c179e\"],[0.4444444444444444,\"#bd3786\"],[0.5555555555555556,\"#d8576b\"],[0.6666666666666666,\"#ed7953\"],[0.7777777777777778,\"#fb9f3a\"],[0.8888888888888888,\"#fdca26\"],[1.0,\"#f0f921\"]],\"type\":\"histogram2dcontour\"}],\"histogram2d\":[{\"colorbar\":{\"outlinewidth\":0,\"ticks\":\"\"},\"colorscale\":[[0.0,\"#0d0887\"],[0.1111111111111111,\"#46039f\"],[0.2222222222222222,\"#7201a8\"],[0.3333333333333333,\"#9c179e\"],[0.4444444444444444,\"#bd3786\"],[0.5555555555555556,\"#d8576b\"],[0.6666666666666666,\"#ed7953\"],[0.7777777777777778,\"#fb9f3a\"],[0.8888888888888888,\"#fdca26\"],[1.0,\"#f0f921\"]],\"type\":\"histogram2d\"}],\"histogram\":[{\"marker\":{\"pattern\":{\"fillmode\":\"overlay\",\"size\":10,\"solidity\":0.2}},\"type\":\"histogram\"}],\"mesh3d\":[{\"colorbar\":{\"outlinewidth\":0,\"ticks\":\"\"},\"type\":\"mesh3d\"}],\"parcoords\":[{\"line\":{\"colorbar\":{\"outlinewidth\":0,\"ticks\":\"\"}},\"type\":\"parcoords\"}],\"pie\":[{\"automargin\":true,\"type\":\"pie\"}],\"scatter3d\":[{\"line\":{\"colorbar\":{\"outlinewidth\":0,\"ticks\":\"\"}},\"marker\":{\"colorbar\":{\"outlinewidth\":0,\"ticks\":\"\"}},\"type\":\"scatter3d\"}],\"scattercarpet\":[{\"marker\":{\"colorbar\":{\"outlinewidth\":0,\"ticks\":\"\"}},\"type\":\"scattercarpet\"}],\"scattergeo\":[{\"marker\":{\"colorbar\":{\"outlinewidth\":0,\"ticks\":\"\"}},\"type\":\"scattergeo\"}],\"scattergl\":[{\"marker\":{\"colorbar\":{\"outlinewidth\":0,\"ticks\":\"\"}},\"type\":\"scattergl\"}],\"scattermapbox\":[{\"marker\":{\"colorbar\":{\"outlinewidth\":0,\"ticks\":\"\"}},\"type\":\"scattermapbox\"}],\"scatterpolargl\":[{\"marker\":{\"colorbar\":{\"outlinewidth\":0,\"ticks\":\"\"}},\"type\":\"scatterpolargl\"}],\"scatterpolar\":[{\"marker\":{\"colorbar\":{\"outlinewidth\":0,\"ticks\":\"\"}},\"type\":\"scatterpolar\"}],\"scatter\":[{\"fillpattern\":{\"fillmode\":\"overlay\",\"size\":10,\"solidity\":0.2},\"type\":\"scatter\"}],\"scatterternary\":[{\"marker\":{\"colorbar\":{\"outlinewidth\":0,\"ticks\":\"\"}},\"type\":\"scatterternary\"}],\"surface\":[{\"colorbar\":{\"outlinewidth\":0,\"ticks\":\"\"},\"colorscale\":[[0.0,\"#0d0887\"],[0.1111111111111111,\"#46039f\"],[0.2222222222222222,\"#7201a8\"],[0.3333333333333333,\"#9c179e\"],[0.4444444444444444,\"#bd3786\"],[0.5555555555555556,\"#d8576b\"],[0.6666666666666666,\"#ed7953\"],[0.7777777777777778,\"#fb9f3a\"],[0.8888888888888888,\"#fdca26\"],[1.0,\"#f0f921\"]],\"type\":\"surface\"}],\"table\":[{\"cells\":{\"fill\":{\"color\":\"#EBF0F8\"},\"line\":{\"color\":\"white\"}},\"header\":{\"fill\":{\"color\":\"#C8D4E3\"},\"line\":{\"color\":\"white\"}},\"type\":\"table\"}]},\"layout\":{\"annotationdefaults\":{\"arrowcolor\":\"#2a3f5f\",\"arrowhead\":0,\"arrowwidth\":1},\"autotypenumbers\":\"strict\",\"coloraxis\":{\"colorbar\":{\"outlinewidth\":0,\"ticks\":\"\"}},\"colorscale\":{\"diverging\":[[0,\"#8e0152\"],[0.1,\"#c51b7d\"],[0.2,\"#de77ae\"],[0.3,\"#f1b6da\"],[0.4,\"#fde0ef\"],[0.5,\"#f7f7f7\"],[0.6,\"#e6f5d0\"],[0.7,\"#b8e186\"],[0.8,\"#7fbc41\"],[0.9,\"#4d9221\"],[1,\"#276419\"]],\"sequential\":[[0.0,\"#0d0887\"],[0.1111111111111111,\"#46039f\"],[0.2222222222222222,\"#7201a8\"],[0.3333333333333333,\"#9c179e\"],[0.4444444444444444,\"#bd3786\"],[0.5555555555555556,\"#d8576b\"],[0.6666666666666666,\"#ed7953\"],[0.7777777777777778,\"#fb9f3a\"],[0.8888888888888888,\"#fdca26\"],[1.0,\"#f0f921\"]],\"sequentialminus\":[[0.0,\"#0d0887\"],[0.1111111111111111,\"#46039f\"],[0.2222222222222222,\"#7201a8\"],[0.3333333333333333,\"#9c179e\"],[0.4444444444444444,\"#bd3786\"],[0.5555555555555556,\"#d8576b\"],[0.6666666666666666,\"#ed7953\"],[0.7777777777777778,\"#fb9f3a\"],[0.8888888888888888,\"#fdca26\"],[1.0,\"#f0f921\"]]},\"colorway\":[\"#636efa\",\"#EF553B\",\"#00cc96\",\"#ab63fa\",\"#FFA15A\",\"#19d3f3\",\"#FF6692\",\"#B6E880\",\"#FF97FF\",\"#FECB52\"],\"font\":{\"color\":\"#2a3f5f\"},\"geo\":{\"bgcolor\":\"white\",\"lakecolor\":\"white\",\"landcolor\":\"#E5ECF6\",\"showlakes\":true,\"showland\":true,\"subunitcolor\":\"white\"},\"hoverlabel\":{\"align\":\"left\"},\"hovermode\":\"closest\",\"mapbox\":{\"style\":\"light\"},\"paper_bgcolor\":\"white\",\"plot_bgcolor\":\"#E5ECF6\",\"polar\":{\"angularaxis\":{\"gridcolor\":\"white\",\"linecolor\":\"white\",\"ticks\":\"\"},\"bgcolor\":\"#E5ECF6\",\"radialaxis\":{\"gridcolor\":\"white\",\"linecolor\":\"white\",\"ticks\":\"\"}},\"scene\":{\"xaxis\":{\"backgroundcolor\":\"#E5ECF6\",\"gridcolor\":\"white\",\"gridwidth\":2,\"linecolor\":\"white\",\"showbackground\":true,\"ticks\":\"\",\"zerolinecolor\":\"white\"},\"yaxis\":{\"backgroundcolor\":\"#E5ECF6\",\"gridcolor\":\"white\",\"gridwidth\":2,\"linecolor\":\"white\",\"showbackground\":true,\"ticks\":\"\",\"zerolinecolor\":\"white\"},\"zaxis\":{\"backgroundcolor\":\"#E5ECF6\",\"gridcolor\":\"white\",\"gridwidth\":2,\"linecolor\":\"white\",\"showbackground\":true,\"ticks\":\"\",\"zerolinecolor\":\"white\"}},\"shapedefaults\":{\"line\":{\"color\":\"#2a3f5f\"}},\"ternary\":{\"aaxis\":{\"gridcolor\":\"white\",\"linecolor\":\"white\",\"ticks\":\"\"},\"baxis\":{\"gridcolor\":\"white\",\"linecolor\":\"white\",\"ticks\":\"\"},\"bgcolor\":\"#E5ECF6\",\"caxis\":{\"gridcolor\":\"white\",\"linecolor\":\"white\",\"ticks\":\"\"}},\"title\":{\"x\":0.05},\"xaxis\":{\"automargin\":true,\"gridcolor\":\"white\",\"linecolor\":\"white\",\"ticks\":\"\",\"title\":{\"standoff\":15},\"zerolinecolor\":\"white\",\"zerolinewidth\":2},\"yaxis\":{\"automargin\":true,\"gridcolor\":\"white\",\"linecolor\":\"white\",\"ticks\":\"\",\"title\":{\"standoff\":15},\"zerolinecolor\":\"white\",\"zerolinewidth\":2}}},\"title\":{\"font\":{\"color\":\"#4D5663\"}},\"xaxis\":{\"gridcolor\":\"#E1E5ED\",\"showgrid\":true,\"tickfont\":{\"color\":\"#4D5663\"},\"title\":{\"font\":{\"color\":\"#4D5663\"},\"text\":\"\"},\"zerolinecolor\":\"#E1E5ED\"},\"yaxis\":{\"gridcolor\":\"#E1E5ED\",\"showgrid\":true,\"tickfont\":{\"color\":\"#4D5663\"},\"title\":{\"font\":{\"color\":\"#4D5663\"},\"text\":\"\"},\"zerolinecolor\":\"#E1E5ED\"}},                        {\"showLink\": true, \"linkText\": \"Export to plot.ly\", \"plotlyServerURL\": \"https://plot.ly\", \"responsive\": true}                    ).then(function(){\n",
       "                            \n",
       "var gd = document.getElementById('5eabbfe1-3513-4623-a504-62a33fc77eee');\n",
       "var x = new MutationObserver(function (mutations, observer) {{\n",
       "        var display = window.getComputedStyle(gd).display;\n",
       "        if (!display || display === 'none') {{\n",
       "            console.log([gd, 'removed!']);\n",
       "            Plotly.purge(gd);\n",
       "            observer.disconnect();\n",
       "        }}\n",
       "}});\n",
       "\n",
       "// Listen for the removal of the full notebook cells\n",
       "var notebookContainer = gd.closest('#notebook-container');\n",
       "if (notebookContainer) {{\n",
       "    x.observe(notebookContainer, {childList: true});\n",
       "}}\n",
       "\n",
       "// Listen for the clearing of the current output cell\n",
       "var outputEl = gd.closest('.output');\n",
       "if (outputEl) {{\n",
       "    x.observe(outputEl, {childList: true});\n",
       "}}\n",
       "\n",
       "                        })                };                });            </script>        </div>"
      ]
     },
     "metadata": {},
     "output_type": "display_data"
    }
   ],
   "source": [
    "df.iplot(x='A',y='B',mode='markers')"
   ]
  },
  {
   "cell_type": "markdown",
   "id": "733d4314",
   "metadata": {},
   "source": [
    "# Bar Plot"
   ]
  },
  {
   "cell_type": "code",
   "execution_count": 9,
   "id": "e9ab8610",
   "metadata": {},
   "outputs": [
    {
     "data": {
      "application/vnd.plotly.v1+json": {
       "config": {
        "linkText": "Export to plot.ly",
        "plotlyServerURL": "https://plot.ly",
        "showLink": true
       },
       "data": [
        {
         "marker": {
          "color": "rgba(255, 153, 51, 0.6)",
          "line": {
           "color": "rgba(255, 153, 51, 1.0)",
           "width": 1
          }
         },
         "name": "Values",
         "orientation": "v",
         "text": "",
         "type": "bar",
         "x": [
          "A",
          "B",
          "C"
         ],
         "y": [
          32,
          43,
          50
         ]
        }
       ],
       "layout": {
        "legend": {
         "bgcolor": "#F5F6F9",
         "font": {
          "color": "#4D5663"
         }
        },
        "paper_bgcolor": "#F5F6F9",
        "plot_bgcolor": "#F5F6F9",
        "template": {
         "data": {
          "bar": [
           {
            "error_x": {
             "color": "#2a3f5f"
            },
            "error_y": {
             "color": "#2a3f5f"
            },
            "marker": {
             "line": {
              "color": "#E5ECF6",
              "width": 0.5
             },
             "pattern": {
              "fillmode": "overlay",
              "size": 10,
              "solidity": 0.2
             }
            },
            "type": "bar"
           }
          ],
          "barpolar": [
           {
            "marker": {
             "line": {
              "color": "#E5ECF6",
              "width": 0.5
             },
             "pattern": {
              "fillmode": "overlay",
              "size": 10,
              "solidity": 0.2
             }
            },
            "type": "barpolar"
           }
          ],
          "carpet": [
           {
            "aaxis": {
             "endlinecolor": "#2a3f5f",
             "gridcolor": "white",
             "linecolor": "white",
             "minorgridcolor": "white",
             "startlinecolor": "#2a3f5f"
            },
            "baxis": {
             "endlinecolor": "#2a3f5f",
             "gridcolor": "white",
             "linecolor": "white",
             "minorgridcolor": "white",
             "startlinecolor": "#2a3f5f"
            },
            "type": "carpet"
           }
          ],
          "choropleth": [
           {
            "colorbar": {
             "outlinewidth": 0,
             "ticks": ""
            },
            "type": "choropleth"
           }
          ],
          "contour": [
           {
            "colorbar": {
             "outlinewidth": 0,
             "ticks": ""
            },
            "colorscale": [
             [
              0,
              "#0d0887"
             ],
             [
              0.1111111111111111,
              "#46039f"
             ],
             [
              0.2222222222222222,
              "#7201a8"
             ],
             [
              0.3333333333333333,
              "#9c179e"
             ],
             [
              0.4444444444444444,
              "#bd3786"
             ],
             [
              0.5555555555555556,
              "#d8576b"
             ],
             [
              0.6666666666666666,
              "#ed7953"
             ],
             [
              0.7777777777777778,
              "#fb9f3a"
             ],
             [
              0.8888888888888888,
              "#fdca26"
             ],
             [
              1,
              "#f0f921"
             ]
            ],
            "type": "contour"
           }
          ],
          "contourcarpet": [
           {
            "colorbar": {
             "outlinewidth": 0,
             "ticks": ""
            },
            "type": "contourcarpet"
           }
          ],
          "heatmap": [
           {
            "colorbar": {
             "outlinewidth": 0,
             "ticks": ""
            },
            "colorscale": [
             [
              0,
              "#0d0887"
             ],
             [
              0.1111111111111111,
              "#46039f"
             ],
             [
              0.2222222222222222,
              "#7201a8"
             ],
             [
              0.3333333333333333,
              "#9c179e"
             ],
             [
              0.4444444444444444,
              "#bd3786"
             ],
             [
              0.5555555555555556,
              "#d8576b"
             ],
             [
              0.6666666666666666,
              "#ed7953"
             ],
             [
              0.7777777777777778,
              "#fb9f3a"
             ],
             [
              0.8888888888888888,
              "#fdca26"
             ],
             [
              1,
              "#f0f921"
             ]
            ],
            "type": "heatmap"
           }
          ],
          "heatmapgl": [
           {
            "colorbar": {
             "outlinewidth": 0,
             "ticks": ""
            },
            "colorscale": [
             [
              0,
              "#0d0887"
             ],
             [
              0.1111111111111111,
              "#46039f"
             ],
             [
              0.2222222222222222,
              "#7201a8"
             ],
             [
              0.3333333333333333,
              "#9c179e"
             ],
             [
              0.4444444444444444,
              "#bd3786"
             ],
             [
              0.5555555555555556,
              "#d8576b"
             ],
             [
              0.6666666666666666,
              "#ed7953"
             ],
             [
              0.7777777777777778,
              "#fb9f3a"
             ],
             [
              0.8888888888888888,
              "#fdca26"
             ],
             [
              1,
              "#f0f921"
             ]
            ],
            "type": "heatmapgl"
           }
          ],
          "histogram": [
           {
            "marker": {
             "pattern": {
              "fillmode": "overlay",
              "size": 10,
              "solidity": 0.2
             }
            },
            "type": "histogram"
           }
          ],
          "histogram2d": [
           {
            "colorbar": {
             "outlinewidth": 0,
             "ticks": ""
            },
            "colorscale": [
             [
              0,
              "#0d0887"
             ],
             [
              0.1111111111111111,
              "#46039f"
             ],
             [
              0.2222222222222222,
              "#7201a8"
             ],
             [
              0.3333333333333333,
              "#9c179e"
             ],
             [
              0.4444444444444444,
              "#bd3786"
             ],
             [
              0.5555555555555556,
              "#d8576b"
             ],
             [
              0.6666666666666666,
              "#ed7953"
             ],
             [
              0.7777777777777778,
              "#fb9f3a"
             ],
             [
              0.8888888888888888,
              "#fdca26"
             ],
             [
              1,
              "#f0f921"
             ]
            ],
            "type": "histogram2d"
           }
          ],
          "histogram2dcontour": [
           {
            "colorbar": {
             "outlinewidth": 0,
             "ticks": ""
            },
            "colorscale": [
             [
              0,
              "#0d0887"
             ],
             [
              0.1111111111111111,
              "#46039f"
             ],
             [
              0.2222222222222222,
              "#7201a8"
             ],
             [
              0.3333333333333333,
              "#9c179e"
             ],
             [
              0.4444444444444444,
              "#bd3786"
             ],
             [
              0.5555555555555556,
              "#d8576b"
             ],
             [
              0.6666666666666666,
              "#ed7953"
             ],
             [
              0.7777777777777778,
              "#fb9f3a"
             ],
             [
              0.8888888888888888,
              "#fdca26"
             ],
             [
              1,
              "#f0f921"
             ]
            ],
            "type": "histogram2dcontour"
           }
          ],
          "mesh3d": [
           {
            "colorbar": {
             "outlinewidth": 0,
             "ticks": ""
            },
            "type": "mesh3d"
           }
          ],
          "parcoords": [
           {
            "line": {
             "colorbar": {
              "outlinewidth": 0,
              "ticks": ""
             }
            },
            "type": "parcoords"
           }
          ],
          "pie": [
           {
            "automargin": true,
            "type": "pie"
           }
          ],
          "scatter": [
           {
            "fillpattern": {
             "fillmode": "overlay",
             "size": 10,
             "solidity": 0.2
            },
            "type": "scatter"
           }
          ],
          "scatter3d": [
           {
            "line": {
             "colorbar": {
              "outlinewidth": 0,
              "ticks": ""
             }
            },
            "marker": {
             "colorbar": {
              "outlinewidth": 0,
              "ticks": ""
             }
            },
            "type": "scatter3d"
           }
          ],
          "scattercarpet": [
           {
            "marker": {
             "colorbar": {
              "outlinewidth": 0,
              "ticks": ""
             }
            },
            "type": "scattercarpet"
           }
          ],
          "scattergeo": [
           {
            "marker": {
             "colorbar": {
              "outlinewidth": 0,
              "ticks": ""
             }
            },
            "type": "scattergeo"
           }
          ],
          "scattergl": [
           {
            "marker": {
             "colorbar": {
              "outlinewidth": 0,
              "ticks": ""
             }
            },
            "type": "scattergl"
           }
          ],
          "scattermapbox": [
           {
            "marker": {
             "colorbar": {
              "outlinewidth": 0,
              "ticks": ""
             }
            },
            "type": "scattermapbox"
           }
          ],
          "scatterpolar": [
           {
            "marker": {
             "colorbar": {
              "outlinewidth": 0,
              "ticks": ""
             }
            },
            "type": "scatterpolar"
           }
          ],
          "scatterpolargl": [
           {
            "marker": {
             "colorbar": {
              "outlinewidth": 0,
              "ticks": ""
             }
            },
            "type": "scatterpolargl"
           }
          ],
          "scatterternary": [
           {
            "marker": {
             "colorbar": {
              "outlinewidth": 0,
              "ticks": ""
             }
            },
            "type": "scatterternary"
           }
          ],
          "surface": [
           {
            "colorbar": {
             "outlinewidth": 0,
             "ticks": ""
            },
            "colorscale": [
             [
              0,
              "#0d0887"
             ],
             [
              0.1111111111111111,
              "#46039f"
             ],
             [
              0.2222222222222222,
              "#7201a8"
             ],
             [
              0.3333333333333333,
              "#9c179e"
             ],
             [
              0.4444444444444444,
              "#bd3786"
             ],
             [
              0.5555555555555556,
              "#d8576b"
             ],
             [
              0.6666666666666666,
              "#ed7953"
             ],
             [
              0.7777777777777778,
              "#fb9f3a"
             ],
             [
              0.8888888888888888,
              "#fdca26"
             ],
             [
              1,
              "#f0f921"
             ]
            ],
            "type": "surface"
           }
          ],
          "table": [
           {
            "cells": {
             "fill": {
              "color": "#EBF0F8"
             },
             "line": {
              "color": "white"
             }
            },
            "header": {
             "fill": {
              "color": "#C8D4E3"
             },
             "line": {
              "color": "white"
             }
            },
            "type": "table"
           }
          ]
         },
         "layout": {
          "annotationdefaults": {
           "arrowcolor": "#2a3f5f",
           "arrowhead": 0,
           "arrowwidth": 1
          },
          "autotypenumbers": "strict",
          "coloraxis": {
           "colorbar": {
            "outlinewidth": 0,
            "ticks": ""
           }
          },
          "colorscale": {
           "diverging": [
            [
             0,
             "#8e0152"
            ],
            [
             0.1,
             "#c51b7d"
            ],
            [
             0.2,
             "#de77ae"
            ],
            [
             0.3,
             "#f1b6da"
            ],
            [
             0.4,
             "#fde0ef"
            ],
            [
             0.5,
             "#f7f7f7"
            ],
            [
             0.6,
             "#e6f5d0"
            ],
            [
             0.7,
             "#b8e186"
            ],
            [
             0.8,
             "#7fbc41"
            ],
            [
             0.9,
             "#4d9221"
            ],
            [
             1,
             "#276419"
            ]
           ],
           "sequential": [
            [
             0,
             "#0d0887"
            ],
            [
             0.1111111111111111,
             "#46039f"
            ],
            [
             0.2222222222222222,
             "#7201a8"
            ],
            [
             0.3333333333333333,
             "#9c179e"
            ],
            [
             0.4444444444444444,
             "#bd3786"
            ],
            [
             0.5555555555555556,
             "#d8576b"
            ],
            [
             0.6666666666666666,
             "#ed7953"
            ],
            [
             0.7777777777777778,
             "#fb9f3a"
            ],
            [
             0.8888888888888888,
             "#fdca26"
            ],
            [
             1,
             "#f0f921"
            ]
           ],
           "sequentialminus": [
            [
             0,
             "#0d0887"
            ],
            [
             0.1111111111111111,
             "#46039f"
            ],
            [
             0.2222222222222222,
             "#7201a8"
            ],
            [
             0.3333333333333333,
             "#9c179e"
            ],
            [
             0.4444444444444444,
             "#bd3786"
            ],
            [
             0.5555555555555556,
             "#d8576b"
            ],
            [
             0.6666666666666666,
             "#ed7953"
            ],
            [
             0.7777777777777778,
             "#fb9f3a"
            ],
            [
             0.8888888888888888,
             "#fdca26"
            ],
            [
             1,
             "#f0f921"
            ]
           ]
          },
          "colorway": [
           "#636efa",
           "#EF553B",
           "#00cc96",
           "#ab63fa",
           "#FFA15A",
           "#19d3f3",
           "#FF6692",
           "#B6E880",
           "#FF97FF",
           "#FECB52"
          ],
          "font": {
           "color": "#2a3f5f"
          },
          "geo": {
           "bgcolor": "white",
           "lakecolor": "white",
           "landcolor": "#E5ECF6",
           "showlakes": true,
           "showland": true,
           "subunitcolor": "white"
          },
          "hoverlabel": {
           "align": "left"
          },
          "hovermode": "closest",
          "mapbox": {
           "style": "light"
          },
          "paper_bgcolor": "white",
          "plot_bgcolor": "#E5ECF6",
          "polar": {
           "angularaxis": {
            "gridcolor": "white",
            "linecolor": "white",
            "ticks": ""
           },
           "bgcolor": "#E5ECF6",
           "radialaxis": {
            "gridcolor": "white",
            "linecolor": "white",
            "ticks": ""
           }
          },
          "scene": {
           "xaxis": {
            "backgroundcolor": "#E5ECF6",
            "gridcolor": "white",
            "gridwidth": 2,
            "linecolor": "white",
            "showbackground": true,
            "ticks": "",
            "zerolinecolor": "white"
           },
           "yaxis": {
            "backgroundcolor": "#E5ECF6",
            "gridcolor": "white",
            "gridwidth": 2,
            "linecolor": "white",
            "showbackground": true,
            "ticks": "",
            "zerolinecolor": "white"
           },
           "zaxis": {
            "backgroundcolor": "#E5ECF6",
            "gridcolor": "white",
            "gridwidth": 2,
            "linecolor": "white",
            "showbackground": true,
            "ticks": "",
            "zerolinecolor": "white"
           }
          },
          "shapedefaults": {
           "line": {
            "color": "#2a3f5f"
           }
          },
          "ternary": {
           "aaxis": {
            "gridcolor": "white",
            "linecolor": "white",
            "ticks": ""
           },
           "baxis": {
            "gridcolor": "white",
            "linecolor": "white",
            "ticks": ""
           },
           "bgcolor": "#E5ECF6",
           "caxis": {
            "gridcolor": "white",
            "linecolor": "white",
            "ticks": ""
           }
          },
          "title": {
           "x": 0.05
          },
          "xaxis": {
           "automargin": true,
           "gridcolor": "white",
           "linecolor": "white",
           "ticks": "",
           "title": {
            "standoff": 15
           },
           "zerolinecolor": "white",
           "zerolinewidth": 2
          },
          "yaxis": {
           "automargin": true,
           "gridcolor": "white",
           "linecolor": "white",
           "ticks": "",
           "title": {
            "standoff": 15
           },
           "zerolinecolor": "white",
           "zerolinewidth": 2
          }
         }
        },
        "title": {
         "font": {
          "color": "#4D5663"
         }
        },
        "xaxis": {
         "gridcolor": "#E1E5ED",
         "showgrid": true,
         "tickfont": {
          "color": "#4D5663"
         },
         "title": {
          "font": {
           "color": "#4D5663"
          },
          "text": ""
         },
         "zerolinecolor": "#E1E5ED"
        },
        "yaxis": {
         "gridcolor": "#E1E5ED",
         "showgrid": true,
         "tickfont": {
          "color": "#4D5663"
         },
         "title": {
          "font": {
           "color": "#4D5663"
          },
          "text": ""
         },
         "zerolinecolor": "#E1E5ED"
        }
       }
      },
      "text/html": [
       "<div>                            <div id=\"65c6f6cb-98e7-47f4-be64-c517871b68f8\" class=\"plotly-graph-div\" style=\"height:525px; width:100%;\"></div>            <script type=\"text/javascript\">                require([\"plotly\"], function(Plotly) {                    window.PLOTLYENV=window.PLOTLYENV || {};\n",
       "                    window.PLOTLYENV.BASE_URL='https://plot.ly';                                    if (document.getElementById(\"65c6f6cb-98e7-47f4-be64-c517871b68f8\")) {                    Plotly.newPlot(                        \"65c6f6cb-98e7-47f4-be64-c517871b68f8\",                        [{\"marker\":{\"color\":\"rgba(255, 153, 51, 0.6)\",\"line\":{\"color\":\"rgba(255, 153, 51, 1.0)\",\"width\":1}},\"name\":\"Values\",\"orientation\":\"v\",\"text\":\"\",\"x\":[\"A\",\"B\",\"C\"],\"y\":[32,43,50],\"type\":\"bar\"}],                        {\"legend\":{\"bgcolor\":\"#F5F6F9\",\"font\":{\"color\":\"#4D5663\"}},\"paper_bgcolor\":\"#F5F6F9\",\"plot_bgcolor\":\"#F5F6F9\",\"template\":{\"data\":{\"barpolar\":[{\"marker\":{\"line\":{\"color\":\"#E5ECF6\",\"width\":0.5},\"pattern\":{\"fillmode\":\"overlay\",\"size\":10,\"solidity\":0.2}},\"type\":\"barpolar\"}],\"bar\":[{\"error_x\":{\"color\":\"#2a3f5f\"},\"error_y\":{\"color\":\"#2a3f5f\"},\"marker\":{\"line\":{\"color\":\"#E5ECF6\",\"width\":0.5},\"pattern\":{\"fillmode\":\"overlay\",\"size\":10,\"solidity\":0.2}},\"type\":\"bar\"}],\"carpet\":[{\"aaxis\":{\"endlinecolor\":\"#2a3f5f\",\"gridcolor\":\"white\",\"linecolor\":\"white\",\"minorgridcolor\":\"white\",\"startlinecolor\":\"#2a3f5f\"},\"baxis\":{\"endlinecolor\":\"#2a3f5f\",\"gridcolor\":\"white\",\"linecolor\":\"white\",\"minorgridcolor\":\"white\",\"startlinecolor\":\"#2a3f5f\"},\"type\":\"carpet\"}],\"choropleth\":[{\"colorbar\":{\"outlinewidth\":0,\"ticks\":\"\"},\"type\":\"choropleth\"}],\"contourcarpet\":[{\"colorbar\":{\"outlinewidth\":0,\"ticks\":\"\"},\"type\":\"contourcarpet\"}],\"contour\":[{\"colorbar\":{\"outlinewidth\":0,\"ticks\":\"\"},\"colorscale\":[[0.0,\"#0d0887\"],[0.1111111111111111,\"#46039f\"],[0.2222222222222222,\"#7201a8\"],[0.3333333333333333,\"#9c179e\"],[0.4444444444444444,\"#bd3786\"],[0.5555555555555556,\"#d8576b\"],[0.6666666666666666,\"#ed7953\"],[0.7777777777777778,\"#fb9f3a\"],[0.8888888888888888,\"#fdca26\"],[1.0,\"#f0f921\"]],\"type\":\"contour\"}],\"heatmapgl\":[{\"colorbar\":{\"outlinewidth\":0,\"ticks\":\"\"},\"colorscale\":[[0.0,\"#0d0887\"],[0.1111111111111111,\"#46039f\"],[0.2222222222222222,\"#7201a8\"],[0.3333333333333333,\"#9c179e\"],[0.4444444444444444,\"#bd3786\"],[0.5555555555555556,\"#d8576b\"],[0.6666666666666666,\"#ed7953\"],[0.7777777777777778,\"#fb9f3a\"],[0.8888888888888888,\"#fdca26\"],[1.0,\"#f0f921\"]],\"type\":\"heatmapgl\"}],\"heatmap\":[{\"colorbar\":{\"outlinewidth\":0,\"ticks\":\"\"},\"colorscale\":[[0.0,\"#0d0887\"],[0.1111111111111111,\"#46039f\"],[0.2222222222222222,\"#7201a8\"],[0.3333333333333333,\"#9c179e\"],[0.4444444444444444,\"#bd3786\"],[0.5555555555555556,\"#d8576b\"],[0.6666666666666666,\"#ed7953\"],[0.7777777777777778,\"#fb9f3a\"],[0.8888888888888888,\"#fdca26\"],[1.0,\"#f0f921\"]],\"type\":\"heatmap\"}],\"histogram2dcontour\":[{\"colorbar\":{\"outlinewidth\":0,\"ticks\":\"\"},\"colorscale\":[[0.0,\"#0d0887\"],[0.1111111111111111,\"#46039f\"],[0.2222222222222222,\"#7201a8\"],[0.3333333333333333,\"#9c179e\"],[0.4444444444444444,\"#bd3786\"],[0.5555555555555556,\"#d8576b\"],[0.6666666666666666,\"#ed7953\"],[0.7777777777777778,\"#fb9f3a\"],[0.8888888888888888,\"#fdca26\"],[1.0,\"#f0f921\"]],\"type\":\"histogram2dcontour\"}],\"histogram2d\":[{\"colorbar\":{\"outlinewidth\":0,\"ticks\":\"\"},\"colorscale\":[[0.0,\"#0d0887\"],[0.1111111111111111,\"#46039f\"],[0.2222222222222222,\"#7201a8\"],[0.3333333333333333,\"#9c179e\"],[0.4444444444444444,\"#bd3786\"],[0.5555555555555556,\"#d8576b\"],[0.6666666666666666,\"#ed7953\"],[0.7777777777777778,\"#fb9f3a\"],[0.8888888888888888,\"#fdca26\"],[1.0,\"#f0f921\"]],\"type\":\"histogram2d\"}],\"histogram\":[{\"marker\":{\"pattern\":{\"fillmode\":\"overlay\",\"size\":10,\"solidity\":0.2}},\"type\":\"histogram\"}],\"mesh3d\":[{\"colorbar\":{\"outlinewidth\":0,\"ticks\":\"\"},\"type\":\"mesh3d\"}],\"parcoords\":[{\"line\":{\"colorbar\":{\"outlinewidth\":0,\"ticks\":\"\"}},\"type\":\"parcoords\"}],\"pie\":[{\"automargin\":true,\"type\":\"pie\"}],\"scatter3d\":[{\"line\":{\"colorbar\":{\"outlinewidth\":0,\"ticks\":\"\"}},\"marker\":{\"colorbar\":{\"outlinewidth\":0,\"ticks\":\"\"}},\"type\":\"scatter3d\"}],\"scattercarpet\":[{\"marker\":{\"colorbar\":{\"outlinewidth\":0,\"ticks\":\"\"}},\"type\":\"scattercarpet\"}],\"scattergeo\":[{\"marker\":{\"colorbar\":{\"outlinewidth\":0,\"ticks\":\"\"}},\"type\":\"scattergeo\"}],\"scattergl\":[{\"marker\":{\"colorbar\":{\"outlinewidth\":0,\"ticks\":\"\"}},\"type\":\"scattergl\"}],\"scattermapbox\":[{\"marker\":{\"colorbar\":{\"outlinewidth\":0,\"ticks\":\"\"}},\"type\":\"scattermapbox\"}],\"scatterpolargl\":[{\"marker\":{\"colorbar\":{\"outlinewidth\":0,\"ticks\":\"\"}},\"type\":\"scatterpolargl\"}],\"scatterpolar\":[{\"marker\":{\"colorbar\":{\"outlinewidth\":0,\"ticks\":\"\"}},\"type\":\"scatterpolar\"}],\"scatter\":[{\"fillpattern\":{\"fillmode\":\"overlay\",\"size\":10,\"solidity\":0.2},\"type\":\"scatter\"}],\"scatterternary\":[{\"marker\":{\"colorbar\":{\"outlinewidth\":0,\"ticks\":\"\"}},\"type\":\"scatterternary\"}],\"surface\":[{\"colorbar\":{\"outlinewidth\":0,\"ticks\":\"\"},\"colorscale\":[[0.0,\"#0d0887\"],[0.1111111111111111,\"#46039f\"],[0.2222222222222222,\"#7201a8\"],[0.3333333333333333,\"#9c179e\"],[0.4444444444444444,\"#bd3786\"],[0.5555555555555556,\"#d8576b\"],[0.6666666666666666,\"#ed7953\"],[0.7777777777777778,\"#fb9f3a\"],[0.8888888888888888,\"#fdca26\"],[1.0,\"#f0f921\"]],\"type\":\"surface\"}],\"table\":[{\"cells\":{\"fill\":{\"color\":\"#EBF0F8\"},\"line\":{\"color\":\"white\"}},\"header\":{\"fill\":{\"color\":\"#C8D4E3\"},\"line\":{\"color\":\"white\"}},\"type\":\"table\"}]},\"layout\":{\"annotationdefaults\":{\"arrowcolor\":\"#2a3f5f\",\"arrowhead\":0,\"arrowwidth\":1},\"autotypenumbers\":\"strict\",\"coloraxis\":{\"colorbar\":{\"outlinewidth\":0,\"ticks\":\"\"}},\"colorscale\":{\"diverging\":[[0,\"#8e0152\"],[0.1,\"#c51b7d\"],[0.2,\"#de77ae\"],[0.3,\"#f1b6da\"],[0.4,\"#fde0ef\"],[0.5,\"#f7f7f7\"],[0.6,\"#e6f5d0\"],[0.7,\"#b8e186\"],[0.8,\"#7fbc41\"],[0.9,\"#4d9221\"],[1,\"#276419\"]],\"sequential\":[[0.0,\"#0d0887\"],[0.1111111111111111,\"#46039f\"],[0.2222222222222222,\"#7201a8\"],[0.3333333333333333,\"#9c179e\"],[0.4444444444444444,\"#bd3786\"],[0.5555555555555556,\"#d8576b\"],[0.6666666666666666,\"#ed7953\"],[0.7777777777777778,\"#fb9f3a\"],[0.8888888888888888,\"#fdca26\"],[1.0,\"#f0f921\"]],\"sequentialminus\":[[0.0,\"#0d0887\"],[0.1111111111111111,\"#46039f\"],[0.2222222222222222,\"#7201a8\"],[0.3333333333333333,\"#9c179e\"],[0.4444444444444444,\"#bd3786\"],[0.5555555555555556,\"#d8576b\"],[0.6666666666666666,\"#ed7953\"],[0.7777777777777778,\"#fb9f3a\"],[0.8888888888888888,\"#fdca26\"],[1.0,\"#f0f921\"]]},\"colorway\":[\"#636efa\",\"#EF553B\",\"#00cc96\",\"#ab63fa\",\"#FFA15A\",\"#19d3f3\",\"#FF6692\",\"#B6E880\",\"#FF97FF\",\"#FECB52\"],\"font\":{\"color\":\"#2a3f5f\"},\"geo\":{\"bgcolor\":\"white\",\"lakecolor\":\"white\",\"landcolor\":\"#E5ECF6\",\"showlakes\":true,\"showland\":true,\"subunitcolor\":\"white\"},\"hoverlabel\":{\"align\":\"left\"},\"hovermode\":\"closest\",\"mapbox\":{\"style\":\"light\"},\"paper_bgcolor\":\"white\",\"plot_bgcolor\":\"#E5ECF6\",\"polar\":{\"angularaxis\":{\"gridcolor\":\"white\",\"linecolor\":\"white\",\"ticks\":\"\"},\"bgcolor\":\"#E5ECF6\",\"radialaxis\":{\"gridcolor\":\"white\",\"linecolor\":\"white\",\"ticks\":\"\"}},\"scene\":{\"xaxis\":{\"backgroundcolor\":\"#E5ECF6\",\"gridcolor\":\"white\",\"gridwidth\":2,\"linecolor\":\"white\",\"showbackground\":true,\"ticks\":\"\",\"zerolinecolor\":\"white\"},\"yaxis\":{\"backgroundcolor\":\"#E5ECF6\",\"gridcolor\":\"white\",\"gridwidth\":2,\"linecolor\":\"white\",\"showbackground\":true,\"ticks\":\"\",\"zerolinecolor\":\"white\"},\"zaxis\":{\"backgroundcolor\":\"#E5ECF6\",\"gridcolor\":\"white\",\"gridwidth\":2,\"linecolor\":\"white\",\"showbackground\":true,\"ticks\":\"\",\"zerolinecolor\":\"white\"}},\"shapedefaults\":{\"line\":{\"color\":\"#2a3f5f\"}},\"ternary\":{\"aaxis\":{\"gridcolor\":\"white\",\"linecolor\":\"white\",\"ticks\":\"\"},\"baxis\":{\"gridcolor\":\"white\",\"linecolor\":\"white\",\"ticks\":\"\"},\"bgcolor\":\"#E5ECF6\",\"caxis\":{\"gridcolor\":\"white\",\"linecolor\":\"white\",\"ticks\":\"\"}},\"title\":{\"x\":0.05},\"xaxis\":{\"automargin\":true,\"gridcolor\":\"white\",\"linecolor\":\"white\",\"ticks\":\"\",\"title\":{\"standoff\":15},\"zerolinecolor\":\"white\",\"zerolinewidth\":2},\"yaxis\":{\"automargin\":true,\"gridcolor\":\"white\",\"linecolor\":\"white\",\"ticks\":\"\",\"title\":{\"standoff\":15},\"zerolinecolor\":\"white\",\"zerolinewidth\":2}}},\"title\":{\"font\":{\"color\":\"#4D5663\"}},\"xaxis\":{\"gridcolor\":\"#E1E5ED\",\"showgrid\":true,\"tickfont\":{\"color\":\"#4D5663\"},\"title\":{\"font\":{\"color\":\"#4D5663\"},\"text\":\"\"},\"zerolinecolor\":\"#E1E5ED\"},\"yaxis\":{\"gridcolor\":\"#E1E5ED\",\"showgrid\":true,\"tickfont\":{\"color\":\"#4D5663\"},\"title\":{\"font\":{\"color\":\"#4D5663\"},\"text\":\"\"},\"zerolinecolor\":\"#E1E5ED\"}},                        {\"showLink\": true, \"linkText\": \"Export to plot.ly\", \"plotlyServerURL\": \"https://plot.ly\", \"responsive\": true}                    ).then(function(){\n",
       "                            \n",
       "var gd = document.getElementById('65c6f6cb-98e7-47f4-be64-c517871b68f8');\n",
       "var x = new MutationObserver(function (mutations, observer) {{\n",
       "        var display = window.getComputedStyle(gd).display;\n",
       "        if (!display || display === 'none') {{\n",
       "            console.log([gd, 'removed!']);\n",
       "            Plotly.purge(gd);\n",
       "            observer.disconnect();\n",
       "        }}\n",
       "}});\n",
       "\n",
       "// Listen for the removal of the full notebook cells\n",
       "var notebookContainer = gd.closest('#notebook-container');\n",
       "if (notebookContainer) {{\n",
       "    x.observe(notebookContainer, {childList: true});\n",
       "}}\n",
       "\n",
       "// Listen for the clearing of the current output cell\n",
       "var outputEl = gd.closest('.output');\n",
       "if (outputEl) {{\n",
       "    x.observe(outputEl, {childList: true});\n",
       "}}\n",
       "\n",
       "                        })                };                });            </script>        </div>"
      ]
     },
     "metadata": {},
     "output_type": "display_data"
    }
   ],
   "source": [
    "df2.iplot(kind='bar',x='Category',y='Values')"
   ]
  },
  {
   "cell_type": "code",
   "execution_count": 10,
   "id": "8b19e4d4",
   "metadata": {},
   "outputs": [
    {
     "data": {
      "application/vnd.plotly.v1+json": {
       "config": {
        "linkText": "Export to plot.ly",
        "plotlyServerURL": "https://plot.ly",
        "showLink": true
       },
       "data": [
        {
         "marker": {
          "color": "rgba(255, 153, 51, 0.6)",
          "line": {
           "color": "rgba(255, 153, 51, 1.0)",
           "width": 1
          }
         },
         "name": "None",
         "orientation": "v",
         "text": "",
         "type": "bar",
         "x": [
          "A",
          "B",
          "C",
          "D"
         ],
         "y": [
          -3.3996783862212543,
          -11.8860879379977,
          28.710038957626754,
          16.89842218148301
         ]
        }
       ],
       "layout": {
        "legend": {
         "bgcolor": "#F5F6F9",
         "font": {
          "color": "#4D5663"
         }
        },
        "paper_bgcolor": "#F5F6F9",
        "plot_bgcolor": "#F5F6F9",
        "template": {
         "data": {
          "bar": [
           {
            "error_x": {
             "color": "#2a3f5f"
            },
            "error_y": {
             "color": "#2a3f5f"
            },
            "marker": {
             "line": {
              "color": "#E5ECF6",
              "width": 0.5
             },
             "pattern": {
              "fillmode": "overlay",
              "size": 10,
              "solidity": 0.2
             }
            },
            "type": "bar"
           }
          ],
          "barpolar": [
           {
            "marker": {
             "line": {
              "color": "#E5ECF6",
              "width": 0.5
             },
             "pattern": {
              "fillmode": "overlay",
              "size": 10,
              "solidity": 0.2
             }
            },
            "type": "barpolar"
           }
          ],
          "carpet": [
           {
            "aaxis": {
             "endlinecolor": "#2a3f5f",
             "gridcolor": "white",
             "linecolor": "white",
             "minorgridcolor": "white",
             "startlinecolor": "#2a3f5f"
            },
            "baxis": {
             "endlinecolor": "#2a3f5f",
             "gridcolor": "white",
             "linecolor": "white",
             "minorgridcolor": "white",
             "startlinecolor": "#2a3f5f"
            },
            "type": "carpet"
           }
          ],
          "choropleth": [
           {
            "colorbar": {
             "outlinewidth": 0,
             "ticks": ""
            },
            "type": "choropleth"
           }
          ],
          "contour": [
           {
            "colorbar": {
             "outlinewidth": 0,
             "ticks": ""
            },
            "colorscale": [
             [
              0,
              "#0d0887"
             ],
             [
              0.1111111111111111,
              "#46039f"
             ],
             [
              0.2222222222222222,
              "#7201a8"
             ],
             [
              0.3333333333333333,
              "#9c179e"
             ],
             [
              0.4444444444444444,
              "#bd3786"
             ],
             [
              0.5555555555555556,
              "#d8576b"
             ],
             [
              0.6666666666666666,
              "#ed7953"
             ],
             [
              0.7777777777777778,
              "#fb9f3a"
             ],
             [
              0.8888888888888888,
              "#fdca26"
             ],
             [
              1,
              "#f0f921"
             ]
            ],
            "type": "contour"
           }
          ],
          "contourcarpet": [
           {
            "colorbar": {
             "outlinewidth": 0,
             "ticks": ""
            },
            "type": "contourcarpet"
           }
          ],
          "heatmap": [
           {
            "colorbar": {
             "outlinewidth": 0,
             "ticks": ""
            },
            "colorscale": [
             [
              0,
              "#0d0887"
             ],
             [
              0.1111111111111111,
              "#46039f"
             ],
             [
              0.2222222222222222,
              "#7201a8"
             ],
             [
              0.3333333333333333,
              "#9c179e"
             ],
             [
              0.4444444444444444,
              "#bd3786"
             ],
             [
              0.5555555555555556,
              "#d8576b"
             ],
             [
              0.6666666666666666,
              "#ed7953"
             ],
             [
              0.7777777777777778,
              "#fb9f3a"
             ],
             [
              0.8888888888888888,
              "#fdca26"
             ],
             [
              1,
              "#f0f921"
             ]
            ],
            "type": "heatmap"
           }
          ],
          "heatmapgl": [
           {
            "colorbar": {
             "outlinewidth": 0,
             "ticks": ""
            },
            "colorscale": [
             [
              0,
              "#0d0887"
             ],
             [
              0.1111111111111111,
              "#46039f"
             ],
             [
              0.2222222222222222,
              "#7201a8"
             ],
             [
              0.3333333333333333,
              "#9c179e"
             ],
             [
              0.4444444444444444,
              "#bd3786"
             ],
             [
              0.5555555555555556,
              "#d8576b"
             ],
             [
              0.6666666666666666,
              "#ed7953"
             ],
             [
              0.7777777777777778,
              "#fb9f3a"
             ],
             [
              0.8888888888888888,
              "#fdca26"
             ],
             [
              1,
              "#f0f921"
             ]
            ],
            "type": "heatmapgl"
           }
          ],
          "histogram": [
           {
            "marker": {
             "pattern": {
              "fillmode": "overlay",
              "size": 10,
              "solidity": 0.2
             }
            },
            "type": "histogram"
           }
          ],
          "histogram2d": [
           {
            "colorbar": {
             "outlinewidth": 0,
             "ticks": ""
            },
            "colorscale": [
             [
              0,
              "#0d0887"
             ],
             [
              0.1111111111111111,
              "#46039f"
             ],
             [
              0.2222222222222222,
              "#7201a8"
             ],
             [
              0.3333333333333333,
              "#9c179e"
             ],
             [
              0.4444444444444444,
              "#bd3786"
             ],
             [
              0.5555555555555556,
              "#d8576b"
             ],
             [
              0.6666666666666666,
              "#ed7953"
             ],
             [
              0.7777777777777778,
              "#fb9f3a"
             ],
             [
              0.8888888888888888,
              "#fdca26"
             ],
             [
              1,
              "#f0f921"
             ]
            ],
            "type": "histogram2d"
           }
          ],
          "histogram2dcontour": [
           {
            "colorbar": {
             "outlinewidth": 0,
             "ticks": ""
            },
            "colorscale": [
             [
              0,
              "#0d0887"
             ],
             [
              0.1111111111111111,
              "#46039f"
             ],
             [
              0.2222222222222222,
              "#7201a8"
             ],
             [
              0.3333333333333333,
              "#9c179e"
             ],
             [
              0.4444444444444444,
              "#bd3786"
             ],
             [
              0.5555555555555556,
              "#d8576b"
             ],
             [
              0.6666666666666666,
              "#ed7953"
             ],
             [
              0.7777777777777778,
              "#fb9f3a"
             ],
             [
              0.8888888888888888,
              "#fdca26"
             ],
             [
              1,
              "#f0f921"
             ]
            ],
            "type": "histogram2dcontour"
           }
          ],
          "mesh3d": [
           {
            "colorbar": {
             "outlinewidth": 0,
             "ticks": ""
            },
            "type": "mesh3d"
           }
          ],
          "parcoords": [
           {
            "line": {
             "colorbar": {
              "outlinewidth": 0,
              "ticks": ""
             }
            },
            "type": "parcoords"
           }
          ],
          "pie": [
           {
            "automargin": true,
            "type": "pie"
           }
          ],
          "scatter": [
           {
            "fillpattern": {
             "fillmode": "overlay",
             "size": 10,
             "solidity": 0.2
            },
            "type": "scatter"
           }
          ],
          "scatter3d": [
           {
            "line": {
             "colorbar": {
              "outlinewidth": 0,
              "ticks": ""
             }
            },
            "marker": {
             "colorbar": {
              "outlinewidth": 0,
              "ticks": ""
             }
            },
            "type": "scatter3d"
           }
          ],
          "scattercarpet": [
           {
            "marker": {
             "colorbar": {
              "outlinewidth": 0,
              "ticks": ""
             }
            },
            "type": "scattercarpet"
           }
          ],
          "scattergeo": [
           {
            "marker": {
             "colorbar": {
              "outlinewidth": 0,
              "ticks": ""
             }
            },
            "type": "scattergeo"
           }
          ],
          "scattergl": [
           {
            "marker": {
             "colorbar": {
              "outlinewidth": 0,
              "ticks": ""
             }
            },
            "type": "scattergl"
           }
          ],
          "scattermapbox": [
           {
            "marker": {
             "colorbar": {
              "outlinewidth": 0,
              "ticks": ""
             }
            },
            "type": "scattermapbox"
           }
          ],
          "scatterpolar": [
           {
            "marker": {
             "colorbar": {
              "outlinewidth": 0,
              "ticks": ""
             }
            },
            "type": "scatterpolar"
           }
          ],
          "scatterpolargl": [
           {
            "marker": {
             "colorbar": {
              "outlinewidth": 0,
              "ticks": ""
             }
            },
            "type": "scatterpolargl"
           }
          ],
          "scatterternary": [
           {
            "marker": {
             "colorbar": {
              "outlinewidth": 0,
              "ticks": ""
             }
            },
            "type": "scatterternary"
           }
          ],
          "surface": [
           {
            "colorbar": {
             "outlinewidth": 0,
             "ticks": ""
            },
            "colorscale": [
             [
              0,
              "#0d0887"
             ],
             [
              0.1111111111111111,
              "#46039f"
             ],
             [
              0.2222222222222222,
              "#7201a8"
             ],
             [
              0.3333333333333333,
              "#9c179e"
             ],
             [
              0.4444444444444444,
              "#bd3786"
             ],
             [
              0.5555555555555556,
              "#d8576b"
             ],
             [
              0.6666666666666666,
              "#ed7953"
             ],
             [
              0.7777777777777778,
              "#fb9f3a"
             ],
             [
              0.8888888888888888,
              "#fdca26"
             ],
             [
              1,
              "#f0f921"
             ]
            ],
            "type": "surface"
           }
          ],
          "table": [
           {
            "cells": {
             "fill": {
              "color": "#EBF0F8"
             },
             "line": {
              "color": "white"
             }
            },
            "header": {
             "fill": {
              "color": "#C8D4E3"
             },
             "line": {
              "color": "white"
             }
            },
            "type": "table"
           }
          ]
         },
         "layout": {
          "annotationdefaults": {
           "arrowcolor": "#2a3f5f",
           "arrowhead": 0,
           "arrowwidth": 1
          },
          "autotypenumbers": "strict",
          "coloraxis": {
           "colorbar": {
            "outlinewidth": 0,
            "ticks": ""
           }
          },
          "colorscale": {
           "diverging": [
            [
             0,
             "#8e0152"
            ],
            [
             0.1,
             "#c51b7d"
            ],
            [
             0.2,
             "#de77ae"
            ],
            [
             0.3,
             "#f1b6da"
            ],
            [
             0.4,
             "#fde0ef"
            ],
            [
             0.5,
             "#f7f7f7"
            ],
            [
             0.6,
             "#e6f5d0"
            ],
            [
             0.7,
             "#b8e186"
            ],
            [
             0.8,
             "#7fbc41"
            ],
            [
             0.9,
             "#4d9221"
            ],
            [
             1,
             "#276419"
            ]
           ],
           "sequential": [
            [
             0,
             "#0d0887"
            ],
            [
             0.1111111111111111,
             "#46039f"
            ],
            [
             0.2222222222222222,
             "#7201a8"
            ],
            [
             0.3333333333333333,
             "#9c179e"
            ],
            [
             0.4444444444444444,
             "#bd3786"
            ],
            [
             0.5555555555555556,
             "#d8576b"
            ],
            [
             0.6666666666666666,
             "#ed7953"
            ],
            [
             0.7777777777777778,
             "#fb9f3a"
            ],
            [
             0.8888888888888888,
             "#fdca26"
            ],
            [
             1,
             "#f0f921"
            ]
           ],
           "sequentialminus": [
            [
             0,
             "#0d0887"
            ],
            [
             0.1111111111111111,
             "#46039f"
            ],
            [
             0.2222222222222222,
             "#7201a8"
            ],
            [
             0.3333333333333333,
             "#9c179e"
            ],
            [
             0.4444444444444444,
             "#bd3786"
            ],
            [
             0.5555555555555556,
             "#d8576b"
            ],
            [
             0.6666666666666666,
             "#ed7953"
            ],
            [
             0.7777777777777778,
             "#fb9f3a"
            ],
            [
             0.8888888888888888,
             "#fdca26"
            ],
            [
             1,
             "#f0f921"
            ]
           ]
          },
          "colorway": [
           "#636efa",
           "#EF553B",
           "#00cc96",
           "#ab63fa",
           "#FFA15A",
           "#19d3f3",
           "#FF6692",
           "#B6E880",
           "#FF97FF",
           "#FECB52"
          ],
          "font": {
           "color": "#2a3f5f"
          },
          "geo": {
           "bgcolor": "white",
           "lakecolor": "white",
           "landcolor": "#E5ECF6",
           "showlakes": true,
           "showland": true,
           "subunitcolor": "white"
          },
          "hoverlabel": {
           "align": "left"
          },
          "hovermode": "closest",
          "mapbox": {
           "style": "light"
          },
          "paper_bgcolor": "white",
          "plot_bgcolor": "#E5ECF6",
          "polar": {
           "angularaxis": {
            "gridcolor": "white",
            "linecolor": "white",
            "ticks": ""
           },
           "bgcolor": "#E5ECF6",
           "radialaxis": {
            "gridcolor": "white",
            "linecolor": "white",
            "ticks": ""
           }
          },
          "scene": {
           "xaxis": {
            "backgroundcolor": "#E5ECF6",
            "gridcolor": "white",
            "gridwidth": 2,
            "linecolor": "white",
            "showbackground": true,
            "ticks": "",
            "zerolinecolor": "white"
           },
           "yaxis": {
            "backgroundcolor": "#E5ECF6",
            "gridcolor": "white",
            "gridwidth": 2,
            "linecolor": "white",
            "showbackground": true,
            "ticks": "",
            "zerolinecolor": "white"
           },
           "zaxis": {
            "backgroundcolor": "#E5ECF6",
            "gridcolor": "white",
            "gridwidth": 2,
            "linecolor": "white",
            "showbackground": true,
            "ticks": "",
            "zerolinecolor": "white"
           }
          },
          "shapedefaults": {
           "line": {
            "color": "#2a3f5f"
           }
          },
          "ternary": {
           "aaxis": {
            "gridcolor": "white",
            "linecolor": "white",
            "ticks": ""
           },
           "baxis": {
            "gridcolor": "white",
            "linecolor": "white",
            "ticks": ""
           },
           "bgcolor": "#E5ECF6",
           "caxis": {
            "gridcolor": "white",
            "linecolor": "white",
            "ticks": ""
           }
          },
          "title": {
           "x": 0.05
          },
          "xaxis": {
           "automargin": true,
           "gridcolor": "white",
           "linecolor": "white",
           "ticks": "",
           "title": {
            "standoff": 15
           },
           "zerolinecolor": "white",
           "zerolinewidth": 2
          },
          "yaxis": {
           "automargin": true,
           "gridcolor": "white",
           "linecolor": "white",
           "ticks": "",
           "title": {
            "standoff": 15
           },
           "zerolinecolor": "white",
           "zerolinewidth": 2
          }
         }
        },
        "title": {
         "font": {
          "color": "#4D5663"
         }
        },
        "xaxis": {
         "gridcolor": "#E1E5ED",
         "showgrid": true,
         "tickfont": {
          "color": "#4D5663"
         },
         "title": {
          "font": {
           "color": "#4D5663"
          },
          "text": ""
         },
         "zerolinecolor": "#E1E5ED"
        },
        "yaxis": {
         "gridcolor": "#E1E5ED",
         "showgrid": true,
         "tickfont": {
          "color": "#4D5663"
         },
         "title": {
          "font": {
           "color": "#4D5663"
          },
          "text": ""
         },
         "zerolinecolor": "#E1E5ED"
        }
       }
      },
      "text/html": [
       "<div>                            <div id=\"a7969af5-a105-4808-bd5e-1ae9ff5be5bc\" class=\"plotly-graph-div\" style=\"height:525px; width:100%;\"></div>            <script type=\"text/javascript\">                require([\"plotly\"], function(Plotly) {                    window.PLOTLYENV=window.PLOTLYENV || {};\n",
       "                    window.PLOTLYENV.BASE_URL='https://plot.ly';                                    if (document.getElementById(\"a7969af5-a105-4808-bd5e-1ae9ff5be5bc\")) {                    Plotly.newPlot(                        \"a7969af5-a105-4808-bd5e-1ae9ff5be5bc\",                        [{\"marker\":{\"color\":\"rgba(255, 153, 51, 0.6)\",\"line\":{\"color\":\"rgba(255, 153, 51, 1.0)\",\"width\":1}},\"name\":\"None\",\"orientation\":\"v\",\"text\":\"\",\"x\":[\"A\",\"B\",\"C\",\"D\"],\"y\":[-3.3996783862212543,-11.8860879379977,28.710038957626754,16.89842218148301],\"type\":\"bar\"}],                        {\"legend\":{\"bgcolor\":\"#F5F6F9\",\"font\":{\"color\":\"#4D5663\"}},\"paper_bgcolor\":\"#F5F6F9\",\"plot_bgcolor\":\"#F5F6F9\",\"template\":{\"data\":{\"barpolar\":[{\"marker\":{\"line\":{\"color\":\"#E5ECF6\",\"width\":0.5},\"pattern\":{\"fillmode\":\"overlay\",\"size\":10,\"solidity\":0.2}},\"type\":\"barpolar\"}],\"bar\":[{\"error_x\":{\"color\":\"#2a3f5f\"},\"error_y\":{\"color\":\"#2a3f5f\"},\"marker\":{\"line\":{\"color\":\"#E5ECF6\",\"width\":0.5},\"pattern\":{\"fillmode\":\"overlay\",\"size\":10,\"solidity\":0.2}},\"type\":\"bar\"}],\"carpet\":[{\"aaxis\":{\"endlinecolor\":\"#2a3f5f\",\"gridcolor\":\"white\",\"linecolor\":\"white\",\"minorgridcolor\":\"white\",\"startlinecolor\":\"#2a3f5f\"},\"baxis\":{\"endlinecolor\":\"#2a3f5f\",\"gridcolor\":\"white\",\"linecolor\":\"white\",\"minorgridcolor\":\"white\",\"startlinecolor\":\"#2a3f5f\"},\"type\":\"carpet\"}],\"choropleth\":[{\"colorbar\":{\"outlinewidth\":0,\"ticks\":\"\"},\"type\":\"choropleth\"}],\"contourcarpet\":[{\"colorbar\":{\"outlinewidth\":0,\"ticks\":\"\"},\"type\":\"contourcarpet\"}],\"contour\":[{\"colorbar\":{\"outlinewidth\":0,\"ticks\":\"\"},\"colorscale\":[[0.0,\"#0d0887\"],[0.1111111111111111,\"#46039f\"],[0.2222222222222222,\"#7201a8\"],[0.3333333333333333,\"#9c179e\"],[0.4444444444444444,\"#bd3786\"],[0.5555555555555556,\"#d8576b\"],[0.6666666666666666,\"#ed7953\"],[0.7777777777777778,\"#fb9f3a\"],[0.8888888888888888,\"#fdca26\"],[1.0,\"#f0f921\"]],\"type\":\"contour\"}],\"heatmapgl\":[{\"colorbar\":{\"outlinewidth\":0,\"ticks\":\"\"},\"colorscale\":[[0.0,\"#0d0887\"],[0.1111111111111111,\"#46039f\"],[0.2222222222222222,\"#7201a8\"],[0.3333333333333333,\"#9c179e\"],[0.4444444444444444,\"#bd3786\"],[0.5555555555555556,\"#d8576b\"],[0.6666666666666666,\"#ed7953\"],[0.7777777777777778,\"#fb9f3a\"],[0.8888888888888888,\"#fdca26\"],[1.0,\"#f0f921\"]],\"type\":\"heatmapgl\"}],\"heatmap\":[{\"colorbar\":{\"outlinewidth\":0,\"ticks\":\"\"},\"colorscale\":[[0.0,\"#0d0887\"],[0.1111111111111111,\"#46039f\"],[0.2222222222222222,\"#7201a8\"],[0.3333333333333333,\"#9c179e\"],[0.4444444444444444,\"#bd3786\"],[0.5555555555555556,\"#d8576b\"],[0.6666666666666666,\"#ed7953\"],[0.7777777777777778,\"#fb9f3a\"],[0.8888888888888888,\"#fdca26\"],[1.0,\"#f0f921\"]],\"type\":\"heatmap\"}],\"histogram2dcontour\":[{\"colorbar\":{\"outlinewidth\":0,\"ticks\":\"\"},\"colorscale\":[[0.0,\"#0d0887\"],[0.1111111111111111,\"#46039f\"],[0.2222222222222222,\"#7201a8\"],[0.3333333333333333,\"#9c179e\"],[0.4444444444444444,\"#bd3786\"],[0.5555555555555556,\"#d8576b\"],[0.6666666666666666,\"#ed7953\"],[0.7777777777777778,\"#fb9f3a\"],[0.8888888888888888,\"#fdca26\"],[1.0,\"#f0f921\"]],\"type\":\"histogram2dcontour\"}],\"histogram2d\":[{\"colorbar\":{\"outlinewidth\":0,\"ticks\":\"\"},\"colorscale\":[[0.0,\"#0d0887\"],[0.1111111111111111,\"#46039f\"],[0.2222222222222222,\"#7201a8\"],[0.3333333333333333,\"#9c179e\"],[0.4444444444444444,\"#bd3786\"],[0.5555555555555556,\"#d8576b\"],[0.6666666666666666,\"#ed7953\"],[0.7777777777777778,\"#fb9f3a\"],[0.8888888888888888,\"#fdca26\"],[1.0,\"#f0f921\"]],\"type\":\"histogram2d\"}],\"histogram\":[{\"marker\":{\"pattern\":{\"fillmode\":\"overlay\",\"size\":10,\"solidity\":0.2}},\"type\":\"histogram\"}],\"mesh3d\":[{\"colorbar\":{\"outlinewidth\":0,\"ticks\":\"\"},\"type\":\"mesh3d\"}],\"parcoords\":[{\"line\":{\"colorbar\":{\"outlinewidth\":0,\"ticks\":\"\"}},\"type\":\"parcoords\"}],\"pie\":[{\"automargin\":true,\"type\":\"pie\"}],\"scatter3d\":[{\"line\":{\"colorbar\":{\"outlinewidth\":0,\"ticks\":\"\"}},\"marker\":{\"colorbar\":{\"outlinewidth\":0,\"ticks\":\"\"}},\"type\":\"scatter3d\"}],\"scattercarpet\":[{\"marker\":{\"colorbar\":{\"outlinewidth\":0,\"ticks\":\"\"}},\"type\":\"scattercarpet\"}],\"scattergeo\":[{\"marker\":{\"colorbar\":{\"outlinewidth\":0,\"ticks\":\"\"}},\"type\":\"scattergeo\"}],\"scattergl\":[{\"marker\":{\"colorbar\":{\"outlinewidth\":0,\"ticks\":\"\"}},\"type\":\"scattergl\"}],\"scattermapbox\":[{\"marker\":{\"colorbar\":{\"outlinewidth\":0,\"ticks\":\"\"}},\"type\":\"scattermapbox\"}],\"scatterpolargl\":[{\"marker\":{\"colorbar\":{\"outlinewidth\":0,\"ticks\":\"\"}},\"type\":\"scatterpolargl\"}],\"scatterpolar\":[{\"marker\":{\"colorbar\":{\"outlinewidth\":0,\"ticks\":\"\"}},\"type\":\"scatterpolar\"}],\"scatter\":[{\"fillpattern\":{\"fillmode\":\"overlay\",\"size\":10,\"solidity\":0.2},\"type\":\"scatter\"}],\"scatterternary\":[{\"marker\":{\"colorbar\":{\"outlinewidth\":0,\"ticks\":\"\"}},\"type\":\"scatterternary\"}],\"surface\":[{\"colorbar\":{\"outlinewidth\":0,\"ticks\":\"\"},\"colorscale\":[[0.0,\"#0d0887\"],[0.1111111111111111,\"#46039f\"],[0.2222222222222222,\"#7201a8\"],[0.3333333333333333,\"#9c179e\"],[0.4444444444444444,\"#bd3786\"],[0.5555555555555556,\"#d8576b\"],[0.6666666666666666,\"#ed7953\"],[0.7777777777777778,\"#fb9f3a\"],[0.8888888888888888,\"#fdca26\"],[1.0,\"#f0f921\"]],\"type\":\"surface\"}],\"table\":[{\"cells\":{\"fill\":{\"color\":\"#EBF0F8\"},\"line\":{\"color\":\"white\"}},\"header\":{\"fill\":{\"color\":\"#C8D4E3\"},\"line\":{\"color\":\"white\"}},\"type\":\"table\"}]},\"layout\":{\"annotationdefaults\":{\"arrowcolor\":\"#2a3f5f\",\"arrowhead\":0,\"arrowwidth\":1},\"autotypenumbers\":\"strict\",\"coloraxis\":{\"colorbar\":{\"outlinewidth\":0,\"ticks\":\"\"}},\"colorscale\":{\"diverging\":[[0,\"#8e0152\"],[0.1,\"#c51b7d\"],[0.2,\"#de77ae\"],[0.3,\"#f1b6da\"],[0.4,\"#fde0ef\"],[0.5,\"#f7f7f7\"],[0.6,\"#e6f5d0\"],[0.7,\"#b8e186\"],[0.8,\"#7fbc41\"],[0.9,\"#4d9221\"],[1,\"#276419\"]],\"sequential\":[[0.0,\"#0d0887\"],[0.1111111111111111,\"#46039f\"],[0.2222222222222222,\"#7201a8\"],[0.3333333333333333,\"#9c179e\"],[0.4444444444444444,\"#bd3786\"],[0.5555555555555556,\"#d8576b\"],[0.6666666666666666,\"#ed7953\"],[0.7777777777777778,\"#fb9f3a\"],[0.8888888888888888,\"#fdca26\"],[1.0,\"#f0f921\"]],\"sequentialminus\":[[0.0,\"#0d0887\"],[0.1111111111111111,\"#46039f\"],[0.2222222222222222,\"#7201a8\"],[0.3333333333333333,\"#9c179e\"],[0.4444444444444444,\"#bd3786\"],[0.5555555555555556,\"#d8576b\"],[0.6666666666666666,\"#ed7953\"],[0.7777777777777778,\"#fb9f3a\"],[0.8888888888888888,\"#fdca26\"],[1.0,\"#f0f921\"]]},\"colorway\":[\"#636efa\",\"#EF553B\",\"#00cc96\",\"#ab63fa\",\"#FFA15A\",\"#19d3f3\",\"#FF6692\",\"#B6E880\",\"#FF97FF\",\"#FECB52\"],\"font\":{\"color\":\"#2a3f5f\"},\"geo\":{\"bgcolor\":\"white\",\"lakecolor\":\"white\",\"landcolor\":\"#E5ECF6\",\"showlakes\":true,\"showland\":true,\"subunitcolor\":\"white\"},\"hoverlabel\":{\"align\":\"left\"},\"hovermode\":\"closest\",\"mapbox\":{\"style\":\"light\"},\"paper_bgcolor\":\"white\",\"plot_bgcolor\":\"#E5ECF6\",\"polar\":{\"angularaxis\":{\"gridcolor\":\"white\",\"linecolor\":\"white\",\"ticks\":\"\"},\"bgcolor\":\"#E5ECF6\",\"radialaxis\":{\"gridcolor\":\"white\",\"linecolor\":\"white\",\"ticks\":\"\"}},\"scene\":{\"xaxis\":{\"backgroundcolor\":\"#E5ECF6\",\"gridcolor\":\"white\",\"gridwidth\":2,\"linecolor\":\"white\",\"showbackground\":true,\"ticks\":\"\",\"zerolinecolor\":\"white\"},\"yaxis\":{\"backgroundcolor\":\"#E5ECF6\",\"gridcolor\":\"white\",\"gridwidth\":2,\"linecolor\":\"white\",\"showbackground\":true,\"ticks\":\"\",\"zerolinecolor\":\"white\"},\"zaxis\":{\"backgroundcolor\":\"#E5ECF6\",\"gridcolor\":\"white\",\"gridwidth\":2,\"linecolor\":\"white\",\"showbackground\":true,\"ticks\":\"\",\"zerolinecolor\":\"white\"}},\"shapedefaults\":{\"line\":{\"color\":\"#2a3f5f\"}},\"ternary\":{\"aaxis\":{\"gridcolor\":\"white\",\"linecolor\":\"white\",\"ticks\":\"\"},\"baxis\":{\"gridcolor\":\"white\",\"linecolor\":\"white\",\"ticks\":\"\"},\"bgcolor\":\"#E5ECF6\",\"caxis\":{\"gridcolor\":\"white\",\"linecolor\":\"white\",\"ticks\":\"\"}},\"title\":{\"x\":0.05},\"xaxis\":{\"automargin\":true,\"gridcolor\":\"white\",\"linecolor\":\"white\",\"ticks\":\"\",\"title\":{\"standoff\":15},\"zerolinecolor\":\"white\",\"zerolinewidth\":2},\"yaxis\":{\"automargin\":true,\"gridcolor\":\"white\",\"linecolor\":\"white\",\"ticks\":\"\",\"title\":{\"standoff\":15},\"zerolinecolor\":\"white\",\"zerolinewidth\":2}}},\"title\":{\"font\":{\"color\":\"#4D5663\"}},\"xaxis\":{\"gridcolor\":\"#E1E5ED\",\"showgrid\":true,\"tickfont\":{\"color\":\"#4D5663\"},\"title\":{\"font\":{\"color\":\"#4D5663\"},\"text\":\"\"},\"zerolinecolor\":\"#E1E5ED\"},\"yaxis\":{\"gridcolor\":\"#E1E5ED\",\"showgrid\":true,\"tickfont\":{\"color\":\"#4D5663\"},\"title\":{\"font\":{\"color\":\"#4D5663\"},\"text\":\"\"},\"zerolinecolor\":\"#E1E5ED\"}},                        {\"showLink\": true, \"linkText\": \"Export to plot.ly\", \"plotlyServerURL\": \"https://plot.ly\", \"responsive\": true}                    ).then(function(){\n",
       "                            \n",
       "var gd = document.getElementById('a7969af5-a105-4808-bd5e-1ae9ff5be5bc');\n",
       "var x = new MutationObserver(function (mutations, observer) {{\n",
       "        var display = window.getComputedStyle(gd).display;\n",
       "        if (!display || display === 'none') {{\n",
       "            console.log([gd, 'removed!']);\n",
       "            Plotly.purge(gd);\n",
       "            observer.disconnect();\n",
       "        }}\n",
       "}});\n",
       "\n",
       "// Listen for the removal of the full notebook cells\n",
       "var notebookContainer = gd.closest('#notebook-container');\n",
       "if (notebookContainer) {{\n",
       "    x.observe(notebookContainer, {childList: true});\n",
       "}}\n",
       "\n",
       "// Listen for the clearing of the current output cell\n",
       "var outputEl = gd.closest('.output');\n",
       "if (outputEl) {{\n",
       "    x.observe(outputEl, {childList: true});\n",
       "}}\n",
       "\n",
       "                        })                };                });            </script>        </div>"
      ]
     },
     "metadata": {},
     "output_type": "display_data"
    }
   ],
   "source": [
    "df.sum().iplot(kind='bar')"
   ]
  },
  {
   "cell_type": "markdown",
   "id": "c59b1295",
   "metadata": {},
   "source": [
    "# Box Plot"
   ]
  },
  {
   "cell_type": "code",
   "execution_count": 11,
   "id": "63cd36e6",
   "metadata": {},
   "outputs": [
    {
     "data": {
      "application/vnd.plotly.v1+json": {
       "config": {
        "linkText": "Export to plot.ly",
        "plotlyServerURL": "https://plot.ly",
        "showLink": true
       },
       "data": [
        {
         "boxpoints": false,
         "line": {
          "width": 1.3
         },
         "marker": {
          "color": "rgba(255, 153, 51, 1.0)"
         },
         "name": "A",
         "orientation": "v",
         "type": "box",
         "y": [
          -0.22811627589074476,
          0.6787238832591042,
          1.6515060543232125,
          -0.6604782349724839,
          -0.5196249994745574,
          0.02055969042282577,
          -0.4397107068570352,
          0.41406042035964086,
          0.4108425293363018,
          0.8645542364829347,
          0.2119146464712936,
          0.6517328492837595,
          -0.3299934644424242,
          -0.48702899121525334,
          -0.22200897985421947,
          -0.8047818862898786,
          -1.1845906796308772,
          -0.4978353907798658,
          1.621167298309641,
          0.8224618564100735,
          -1.2902079390988175,
          0.01461791408133816,
          1.1410522269583148,
          0.8280874098673555,
          2.023735414640705,
          -0.4865637083260705,
          1.0389367638584508,
          1.2276962498928554,
          -0.18944754493862276,
          -0.14976216719342267,
          0.683583165072884,
          0.3239156424744562,
          -0.0719760168952608,
          -0.6378580170038229,
          -0.15493703777823922,
          1.7894814413117488,
          2.0184945323868257,
          0.20753608984329258,
          0.1978779128445857,
          1.0659510071385676,
          0.6558923317899069,
          -0.9926693302856021,
          -1.5682107352009464,
          -0.5753024096779175,
          -0.029614920045432938,
          -2.467749324540253,
          1.5160313978127993,
          -1.0111094337666988,
          0.36344209841536307,
          0.647623158788987,
          1.4071695619594518,
          0.5351397311767255,
          -0.04656114960512062,
          2.1664962354930863,
          0.14060328416534093,
          -0.8352079111291246,
          -0.9905325268254492,
          0.3027127572771243,
          -0.6970889943202017,
          -0.17485657057263013,
          0.1868467778262092,
          -0.9286776558514568,
          -0.03202384444914497,
          1.1188291288859542,
          1.0977932423879886,
          0.3465054154720146,
          -0.033836252989438084,
          -0.524395948545605,
          -1.031014258748993,
          -1.0769206345804534,
          -0.7197159862369726,
          1.13568672086204,
          -0.006894158362355122,
          -0.1625407442294256,
          -0.004439264787613177,
          0.22346207717106653,
          -0.6338247075959175,
          0.2830031950943066,
          -0.2842757783063089,
          -1.6745075707344477,
          -0.6599566325743017,
          0.11755418565563681,
          -0.8551230708313902,
          -1.4443938044070246,
          -1.7237423856954894,
          0.09323476948011054,
          -2.0237980294421427,
          0.5902819780517904,
          0.3521336835525418,
          -0.47410642666534136,
          -1.1966471740352314,
          -0.6828607642116732,
          -1.011661714759275,
          -1.905834151795708,
          0.9973400152016139,
          0.4597725013627585,
          -0.7315311070057287,
          -0.4033761447760559,
          -0.7193598651158356,
          0.6435615542100579
         ]
        },
        {
         "boxpoints": false,
         "line": {
          "width": 1.3
         },
         "marker": {
          "color": "rgba(55, 128, 191, 1.0)"
         },
         "name": "B",
         "orientation": "v",
         "type": "box",
         "y": [
          0.9852938519840362,
          -0.4142711665345483,
          -0.2993862088212026,
          -1.080158167641829,
          -0.5951615936768305,
          -1.061425559875092,
          -2.7120885483534254,
          -0.03149120113084428,
          -1.5755214690475732,
          0.35761998845734294,
          0.4201604838130015,
          -1.1872547692853608,
          2.2288159685553848,
          -0.20694873379706547,
          -0.29857480676428755,
          0.30465302078098727,
          1.0883622736425371,
          -0.0833002929219233,
          -0.38598103288068203,
          -0.6178040341239334,
          0.4000253076879923,
          -0.22496101350698444,
          -0.6615503092076963,
          1.1112518007745142,
          -0.2547548208944747,
          -0.9505888187305093,
          0.5501125290824538,
          0.23886067040655298,
          0.3767793235919412,
          -1.555051768463564,
          -1.9539650845846017,
          2.068238468829256,
          -0.8857142929791774,
          -0.6360773222197956,
          0.028636021121702788,
          -2.023847184228603,
          -0.6237244217096115,
          -0.845385390133307,
          -0.7706269321010328,
          -0.04798704669675597,
          -0.7347074680924067,
          0.978796728799089,
          3.0844914729635744,
          -0.5714312651068356,
          -1.6259819149285943,
          1.1653242003578144,
          -1.2262408297083338,
          0.024679650851651188,
          1.2652123552822339,
          0.6042438676916213,
          -1.0103596451298062,
          -0.2561198417491012,
          2.0972955326499196,
          0.4931935169281666,
          1.6862523895127877,
          -0.9511409837911713,
          -0.7929340198874938,
          -0.9415624684146361,
          -0.8162447738001156,
          2.305955639896165,
          2.3533932732497136,
          -1.2371339798667005,
          -1.806957263001291,
          -0.6692886247575235,
          0.26981495743716416,
          0.7353214008885376,
          -1.9587844101207168,
          -0.08875047092515755,
          -0.5375446519047127,
          1.0306545150239066,
          -0.42317938725773774,
          -0.7853846371787755,
          0.16885879662634365,
          -0.21273402930876428,
          0.04677265239052718,
          -0.11032587082205524,
          -0.9759868080638875,
          0.37714721887378244,
          -0.040245610606096056,
          -0.3624201877979656,
          -0.7237478146887273,
          -1.136675383870532,
          -0.1762010463278863,
          1.5545539485620936,
          0.12269680380628893,
          -0.27014083531452854,
          -1.1515553777811576,
          0.5355925338371131,
          -0.08498431225411827,
          -0.14033789297750898,
          1.060065500408755,
          -1.5694109802935956,
          1.8141368208221966,
          0.15478352025223172,
          0.009957933182435623,
          1.1231976518480087,
          -0.5950752487108096,
          0.13513089474798265,
          -0.5046785342264216,
          -0.7705528646396353
         ]
        },
        {
         "boxpoints": false,
         "line": {
          "width": 1.3
         },
         "marker": {
          "color": "rgba(50, 171, 96, 1.0)"
         },
         "name": "C",
         "orientation": "v",
         "type": "box",
         "y": [
          0.549740637555539,
          1.260212332460787,
          -0.5946594830986801,
          -0.6948732218626511,
          0.9806073927395907,
          0.4683121610261346,
          -0.14818769004704696,
          0.3452122122268642,
          -1.8067691232641163,
          -1.634749788768707,
          0.034233289669643494,
          -0.28934928828013634,
          0.32812377951620214,
          0.32910794420280115,
          1.1800149358136531,
          -0.8883104448558582,
          1.7936312182763456,
          -1.5666609283533584,
          1.4935951700111614,
          1.0261130875524023,
          0.5686621646377112,
          1.195491738597137,
          1.3095645877703326,
          1.7126221351614856,
          0.20821042621572,
          -0.27245247382963683,
          2.958537074185334,
          1.1521131509256861,
          1.69688082665319,
          1.5997545873746062,
          0.06836165526771469,
          0.05095851489658768,
          -1.4062563167283229,
          0.8009205979754301,
          -2.007850998187997,
          -1.0300679042761605,
          -0.348139549205092,
          -1.043516895168186,
          1.4095532718016575,
          1.0041911259519434,
          -0.10881868601619357,
          0.10697557159210212,
          0.36064636756312696,
          1.7268526163803328,
          0.0036578654411822584,
          0.6828347123397909,
          1.1326183479954248,
          1.3874865661864886,
          -1.4670972916699903,
          1.2554137762048678,
          -0.05883706655082013,
          0.640467929128801,
          -1.5576002803382498,
          1.317810073417994,
          0.7840297996700045,
          0.11773756092765265,
          -0.8535184193794283,
          0.7521265450113909,
          -2.0219945595573225,
          0.6982664594996074,
          -0.2620284721963431,
          -1.790396731796199,
          0.08677610118195855,
          2.0392858394221696,
          0.12882730684197252,
          0.9441592452092047,
          -0.4412387464935074,
          0.4804899837716722,
          -0.27196138774531503,
          0.3117798836344818,
          1.9159999391458693,
          0.3295901499234422,
          -0.4753026306728736,
          0.8191594181634533,
          0.20911743135705846,
          3.314507374063461,
          -0.28695412412569543,
          0.9934315724042603,
          0.10427082656561551,
          0.5739208179449827,
          0.6572094223299806,
          -0.6210516174643926,
          -0.7331282059054588,
          0.40877428828802675,
          -1.231502433839762,
          -0.5966920119114699,
          0.5303734972703417,
          0.7550799210738212,
          -0.25252469721757065,
          -0.17321545632623547,
          0.34704125264602725,
          1.4002442896546903,
          -0.5411407508757214,
          -0.6556024467323619,
          0.4888717616646806,
          -0.6831645443609797,
          1.4107941387219316,
          -1.324146824510583,
          2.4098174170134476,
          1.6986283611221968
         ]
        },
        {
         "boxpoints": false,
         "line": {
          "width": 1.3
         },
         "marker": {
          "color": "rgba(128, 0, 128, 1.0)"
         },
         "name": "D",
         "orientation": "v",
         "type": "box",
         "y": [
          1.0361215242491195,
          0.6407853255491084,
          0.7063779456975104,
          1.8980826082085422,
          0.17187209395006434,
          1.1807930930152146,
          1.4961438288093272,
          -2.0446273869788087,
          1.1318022350041197,
          -1.1927329306327188,
          -0.3718357943680243,
          -1.103634637522285,
          0.68808333426337,
          -0.32682601948711265,
          -0.22521524060681247,
          -0.8974662083076845,
          0.6522682742848068,
          -0.7631185114850355,
          1.4212512473317818,
          -1.196434655579687,
          0.3376907200426193,
          -0.3972002950152537,
          -0.5455228930351891,
          -0.3423263609742087,
          -0.531908394142106,
          0.40697220160755143,
          -1.2245651337600438,
          -1.0957828536350458,
          0.44149574622144727,
          0.6671698451103586,
          -1.0434073030965116,
          1.087993748180064,
          0.8251029406890018,
          0.44954204545429655,
          -0.22719985689936456,
          -0.5422444776464004,
          -2.2324261138964956,
          0.9493595005097836,
          0.4777179691755005,
          -0.5354614446658382,
          -0.4982004714923975,
          -1.1476891696504472,
          -0.2296400044253678,
          0.9204126254454262,
          0.4175094038759765,
          1.3383812678252205,
          0.20393570092135996,
          0.3641768189742347,
          0.056298588785371646,
          1.790154924545487,
          0.35720133249961833,
          1.5064400671355258,
          -0.3019170893055426,
          -1.6578434496745653,
          0.8620146720247083,
          1.1500043106957927,
          0.2822494976777274,
          0.9566833862150375,
          -0.2685357041989318,
          -0.4884728273289955,
          1.2792079241497105,
          -0.7250228973636278,
          -1.2309532650323967,
          0.31197521426637215,
          1.0936944534891009,
          -0.32257914774238977,
          0.8932021180721614,
          1.8362910746299415,
          1.3306532682976469,
          0.7664840393967025,
          1.1502775594682741,
          1.3585620922843022,
          -0.5178200548823758,
          0.806793794387821,
          -0.09845903208504937,
          -1.4103456208172465,
          1.6151659629822908,
          0.06750180450915381,
          2.283053076806745,
          0.18240460302101436,
          -1.685931624410959,
          0.6047384305209671,
          0.6273165693400129,
          0.23627795320787906,
          -0.7447556824866209,
          -1.3722482088152015,
          0.6549064884581498,
          0.2246440447161041,
          -0.8268812754471794,
          -0.6793756327254308,
          1.76927828093296,
          0.8654601044043043,
          0.5927435118167454,
          0.10212959626793228,
          0.48969973682356716,
          -0.07640015800038846,
          0.03879598781609596,
          -0.14838855520956157,
          0.4444156340939495,
          -0.32794358382266386
         ]
        }
       ],
       "layout": {
        "legend": {
         "bgcolor": "#F5F6F9",
         "font": {
          "color": "#4D5663"
         }
        },
        "paper_bgcolor": "#F5F6F9",
        "plot_bgcolor": "#F5F6F9",
        "template": {
         "data": {
          "bar": [
           {
            "error_x": {
             "color": "#2a3f5f"
            },
            "error_y": {
             "color": "#2a3f5f"
            },
            "marker": {
             "line": {
              "color": "#E5ECF6",
              "width": 0.5
             },
             "pattern": {
              "fillmode": "overlay",
              "size": 10,
              "solidity": 0.2
             }
            },
            "type": "bar"
           }
          ],
          "barpolar": [
           {
            "marker": {
             "line": {
              "color": "#E5ECF6",
              "width": 0.5
             },
             "pattern": {
              "fillmode": "overlay",
              "size": 10,
              "solidity": 0.2
             }
            },
            "type": "barpolar"
           }
          ],
          "carpet": [
           {
            "aaxis": {
             "endlinecolor": "#2a3f5f",
             "gridcolor": "white",
             "linecolor": "white",
             "minorgridcolor": "white",
             "startlinecolor": "#2a3f5f"
            },
            "baxis": {
             "endlinecolor": "#2a3f5f",
             "gridcolor": "white",
             "linecolor": "white",
             "minorgridcolor": "white",
             "startlinecolor": "#2a3f5f"
            },
            "type": "carpet"
           }
          ],
          "choropleth": [
           {
            "colorbar": {
             "outlinewidth": 0,
             "ticks": ""
            },
            "type": "choropleth"
           }
          ],
          "contour": [
           {
            "colorbar": {
             "outlinewidth": 0,
             "ticks": ""
            },
            "colorscale": [
             [
              0,
              "#0d0887"
             ],
             [
              0.1111111111111111,
              "#46039f"
             ],
             [
              0.2222222222222222,
              "#7201a8"
             ],
             [
              0.3333333333333333,
              "#9c179e"
             ],
             [
              0.4444444444444444,
              "#bd3786"
             ],
             [
              0.5555555555555556,
              "#d8576b"
             ],
             [
              0.6666666666666666,
              "#ed7953"
             ],
             [
              0.7777777777777778,
              "#fb9f3a"
             ],
             [
              0.8888888888888888,
              "#fdca26"
             ],
             [
              1,
              "#f0f921"
             ]
            ],
            "type": "contour"
           }
          ],
          "contourcarpet": [
           {
            "colorbar": {
             "outlinewidth": 0,
             "ticks": ""
            },
            "type": "contourcarpet"
           }
          ],
          "heatmap": [
           {
            "colorbar": {
             "outlinewidth": 0,
             "ticks": ""
            },
            "colorscale": [
             [
              0,
              "#0d0887"
             ],
             [
              0.1111111111111111,
              "#46039f"
             ],
             [
              0.2222222222222222,
              "#7201a8"
             ],
             [
              0.3333333333333333,
              "#9c179e"
             ],
             [
              0.4444444444444444,
              "#bd3786"
             ],
             [
              0.5555555555555556,
              "#d8576b"
             ],
             [
              0.6666666666666666,
              "#ed7953"
             ],
             [
              0.7777777777777778,
              "#fb9f3a"
             ],
             [
              0.8888888888888888,
              "#fdca26"
             ],
             [
              1,
              "#f0f921"
             ]
            ],
            "type": "heatmap"
           }
          ],
          "heatmapgl": [
           {
            "colorbar": {
             "outlinewidth": 0,
             "ticks": ""
            },
            "colorscale": [
             [
              0,
              "#0d0887"
             ],
             [
              0.1111111111111111,
              "#46039f"
             ],
             [
              0.2222222222222222,
              "#7201a8"
             ],
             [
              0.3333333333333333,
              "#9c179e"
             ],
             [
              0.4444444444444444,
              "#bd3786"
             ],
             [
              0.5555555555555556,
              "#d8576b"
             ],
             [
              0.6666666666666666,
              "#ed7953"
             ],
             [
              0.7777777777777778,
              "#fb9f3a"
             ],
             [
              0.8888888888888888,
              "#fdca26"
             ],
             [
              1,
              "#f0f921"
             ]
            ],
            "type": "heatmapgl"
           }
          ],
          "histogram": [
           {
            "marker": {
             "pattern": {
              "fillmode": "overlay",
              "size": 10,
              "solidity": 0.2
             }
            },
            "type": "histogram"
           }
          ],
          "histogram2d": [
           {
            "colorbar": {
             "outlinewidth": 0,
             "ticks": ""
            },
            "colorscale": [
             [
              0,
              "#0d0887"
             ],
             [
              0.1111111111111111,
              "#46039f"
             ],
             [
              0.2222222222222222,
              "#7201a8"
             ],
             [
              0.3333333333333333,
              "#9c179e"
             ],
             [
              0.4444444444444444,
              "#bd3786"
             ],
             [
              0.5555555555555556,
              "#d8576b"
             ],
             [
              0.6666666666666666,
              "#ed7953"
             ],
             [
              0.7777777777777778,
              "#fb9f3a"
             ],
             [
              0.8888888888888888,
              "#fdca26"
             ],
             [
              1,
              "#f0f921"
             ]
            ],
            "type": "histogram2d"
           }
          ],
          "histogram2dcontour": [
           {
            "colorbar": {
             "outlinewidth": 0,
             "ticks": ""
            },
            "colorscale": [
             [
              0,
              "#0d0887"
             ],
             [
              0.1111111111111111,
              "#46039f"
             ],
             [
              0.2222222222222222,
              "#7201a8"
             ],
             [
              0.3333333333333333,
              "#9c179e"
             ],
             [
              0.4444444444444444,
              "#bd3786"
             ],
             [
              0.5555555555555556,
              "#d8576b"
             ],
             [
              0.6666666666666666,
              "#ed7953"
             ],
             [
              0.7777777777777778,
              "#fb9f3a"
             ],
             [
              0.8888888888888888,
              "#fdca26"
             ],
             [
              1,
              "#f0f921"
             ]
            ],
            "type": "histogram2dcontour"
           }
          ],
          "mesh3d": [
           {
            "colorbar": {
             "outlinewidth": 0,
             "ticks": ""
            },
            "type": "mesh3d"
           }
          ],
          "parcoords": [
           {
            "line": {
             "colorbar": {
              "outlinewidth": 0,
              "ticks": ""
             }
            },
            "type": "parcoords"
           }
          ],
          "pie": [
           {
            "automargin": true,
            "type": "pie"
           }
          ],
          "scatter": [
           {
            "fillpattern": {
             "fillmode": "overlay",
             "size": 10,
             "solidity": 0.2
            },
            "type": "scatter"
           }
          ],
          "scatter3d": [
           {
            "line": {
             "colorbar": {
              "outlinewidth": 0,
              "ticks": ""
             }
            },
            "marker": {
             "colorbar": {
              "outlinewidth": 0,
              "ticks": ""
             }
            },
            "type": "scatter3d"
           }
          ],
          "scattercarpet": [
           {
            "marker": {
             "colorbar": {
              "outlinewidth": 0,
              "ticks": ""
             }
            },
            "type": "scattercarpet"
           }
          ],
          "scattergeo": [
           {
            "marker": {
             "colorbar": {
              "outlinewidth": 0,
              "ticks": ""
             }
            },
            "type": "scattergeo"
           }
          ],
          "scattergl": [
           {
            "marker": {
             "colorbar": {
              "outlinewidth": 0,
              "ticks": ""
             }
            },
            "type": "scattergl"
           }
          ],
          "scattermapbox": [
           {
            "marker": {
             "colorbar": {
              "outlinewidth": 0,
              "ticks": ""
             }
            },
            "type": "scattermapbox"
           }
          ],
          "scatterpolar": [
           {
            "marker": {
             "colorbar": {
              "outlinewidth": 0,
              "ticks": ""
             }
            },
            "type": "scatterpolar"
           }
          ],
          "scatterpolargl": [
           {
            "marker": {
             "colorbar": {
              "outlinewidth": 0,
              "ticks": ""
             }
            },
            "type": "scatterpolargl"
           }
          ],
          "scatterternary": [
           {
            "marker": {
             "colorbar": {
              "outlinewidth": 0,
              "ticks": ""
             }
            },
            "type": "scatterternary"
           }
          ],
          "surface": [
           {
            "colorbar": {
             "outlinewidth": 0,
             "ticks": ""
            },
            "colorscale": [
             [
              0,
              "#0d0887"
             ],
             [
              0.1111111111111111,
              "#46039f"
             ],
             [
              0.2222222222222222,
              "#7201a8"
             ],
             [
              0.3333333333333333,
              "#9c179e"
             ],
             [
              0.4444444444444444,
              "#bd3786"
             ],
             [
              0.5555555555555556,
              "#d8576b"
             ],
             [
              0.6666666666666666,
              "#ed7953"
             ],
             [
              0.7777777777777778,
              "#fb9f3a"
             ],
             [
              0.8888888888888888,
              "#fdca26"
             ],
             [
              1,
              "#f0f921"
             ]
            ],
            "type": "surface"
           }
          ],
          "table": [
           {
            "cells": {
             "fill": {
              "color": "#EBF0F8"
             },
             "line": {
              "color": "white"
             }
            },
            "header": {
             "fill": {
              "color": "#C8D4E3"
             },
             "line": {
              "color": "white"
             }
            },
            "type": "table"
           }
          ]
         },
         "layout": {
          "annotationdefaults": {
           "arrowcolor": "#2a3f5f",
           "arrowhead": 0,
           "arrowwidth": 1
          },
          "autotypenumbers": "strict",
          "coloraxis": {
           "colorbar": {
            "outlinewidth": 0,
            "ticks": ""
           }
          },
          "colorscale": {
           "diverging": [
            [
             0,
             "#8e0152"
            ],
            [
             0.1,
             "#c51b7d"
            ],
            [
             0.2,
             "#de77ae"
            ],
            [
             0.3,
             "#f1b6da"
            ],
            [
             0.4,
             "#fde0ef"
            ],
            [
             0.5,
             "#f7f7f7"
            ],
            [
             0.6,
             "#e6f5d0"
            ],
            [
             0.7,
             "#b8e186"
            ],
            [
             0.8,
             "#7fbc41"
            ],
            [
             0.9,
             "#4d9221"
            ],
            [
             1,
             "#276419"
            ]
           ],
           "sequential": [
            [
             0,
             "#0d0887"
            ],
            [
             0.1111111111111111,
             "#46039f"
            ],
            [
             0.2222222222222222,
             "#7201a8"
            ],
            [
             0.3333333333333333,
             "#9c179e"
            ],
            [
             0.4444444444444444,
             "#bd3786"
            ],
            [
             0.5555555555555556,
             "#d8576b"
            ],
            [
             0.6666666666666666,
             "#ed7953"
            ],
            [
             0.7777777777777778,
             "#fb9f3a"
            ],
            [
             0.8888888888888888,
             "#fdca26"
            ],
            [
             1,
             "#f0f921"
            ]
           ],
           "sequentialminus": [
            [
             0,
             "#0d0887"
            ],
            [
             0.1111111111111111,
             "#46039f"
            ],
            [
             0.2222222222222222,
             "#7201a8"
            ],
            [
             0.3333333333333333,
             "#9c179e"
            ],
            [
             0.4444444444444444,
             "#bd3786"
            ],
            [
             0.5555555555555556,
             "#d8576b"
            ],
            [
             0.6666666666666666,
             "#ed7953"
            ],
            [
             0.7777777777777778,
             "#fb9f3a"
            ],
            [
             0.8888888888888888,
             "#fdca26"
            ],
            [
             1,
             "#f0f921"
            ]
           ]
          },
          "colorway": [
           "#636efa",
           "#EF553B",
           "#00cc96",
           "#ab63fa",
           "#FFA15A",
           "#19d3f3",
           "#FF6692",
           "#B6E880",
           "#FF97FF",
           "#FECB52"
          ],
          "font": {
           "color": "#2a3f5f"
          },
          "geo": {
           "bgcolor": "white",
           "lakecolor": "white",
           "landcolor": "#E5ECF6",
           "showlakes": true,
           "showland": true,
           "subunitcolor": "white"
          },
          "hoverlabel": {
           "align": "left"
          },
          "hovermode": "closest",
          "mapbox": {
           "style": "light"
          },
          "paper_bgcolor": "white",
          "plot_bgcolor": "#E5ECF6",
          "polar": {
           "angularaxis": {
            "gridcolor": "white",
            "linecolor": "white",
            "ticks": ""
           },
           "bgcolor": "#E5ECF6",
           "radialaxis": {
            "gridcolor": "white",
            "linecolor": "white",
            "ticks": ""
           }
          },
          "scene": {
           "xaxis": {
            "backgroundcolor": "#E5ECF6",
            "gridcolor": "white",
            "gridwidth": 2,
            "linecolor": "white",
            "showbackground": true,
            "ticks": "",
            "zerolinecolor": "white"
           },
           "yaxis": {
            "backgroundcolor": "#E5ECF6",
            "gridcolor": "white",
            "gridwidth": 2,
            "linecolor": "white",
            "showbackground": true,
            "ticks": "",
            "zerolinecolor": "white"
           },
           "zaxis": {
            "backgroundcolor": "#E5ECF6",
            "gridcolor": "white",
            "gridwidth": 2,
            "linecolor": "white",
            "showbackground": true,
            "ticks": "",
            "zerolinecolor": "white"
           }
          },
          "shapedefaults": {
           "line": {
            "color": "#2a3f5f"
           }
          },
          "ternary": {
           "aaxis": {
            "gridcolor": "white",
            "linecolor": "white",
            "ticks": ""
           },
           "baxis": {
            "gridcolor": "white",
            "linecolor": "white",
            "ticks": ""
           },
           "bgcolor": "#E5ECF6",
           "caxis": {
            "gridcolor": "white",
            "linecolor": "white",
            "ticks": ""
           }
          },
          "title": {
           "x": 0.05
          },
          "xaxis": {
           "automargin": true,
           "gridcolor": "white",
           "linecolor": "white",
           "ticks": "",
           "title": {
            "standoff": 15
           },
           "zerolinecolor": "white",
           "zerolinewidth": 2
          },
          "yaxis": {
           "automargin": true,
           "gridcolor": "white",
           "linecolor": "white",
           "ticks": "",
           "title": {
            "standoff": 15
           },
           "zerolinecolor": "white",
           "zerolinewidth": 2
          }
         }
        },
        "title": {
         "font": {
          "color": "#4D5663"
         }
        },
        "xaxis": {
         "gridcolor": "#E1E5ED",
         "showgrid": true,
         "tickfont": {
          "color": "#4D5663"
         },
         "title": {
          "font": {
           "color": "#4D5663"
          },
          "text": ""
         },
         "zerolinecolor": "#E1E5ED"
        },
        "yaxis": {
         "gridcolor": "#E1E5ED",
         "showgrid": true,
         "tickfont": {
          "color": "#4D5663"
         },
         "title": {
          "font": {
           "color": "#4D5663"
          },
          "text": ""
         },
         "zerolinecolor": "#E1E5ED"
        }
       }
      },
      "text/html": [
       "<div>                            <div id=\"63709a85-3160-4b9d-83bf-03e4f1d3fe63\" class=\"plotly-graph-div\" style=\"height:525px; width:100%;\"></div>            <script type=\"text/javascript\">                require([\"plotly\"], function(Plotly) {                    window.PLOTLYENV=window.PLOTLYENV || {};\n",
       "                    window.PLOTLYENV.BASE_URL='https://plot.ly';                                    if (document.getElementById(\"63709a85-3160-4b9d-83bf-03e4f1d3fe63\")) {                    Plotly.newPlot(                        \"63709a85-3160-4b9d-83bf-03e4f1d3fe63\",                        [{\"boxpoints\":false,\"line\":{\"width\":1.3},\"marker\":{\"color\":\"rgba(255, 153, 51, 1.0)\"},\"name\":\"A\",\"orientation\":\"v\",\"y\":[-0.22811627589074476,0.6787238832591042,1.6515060543232125,-0.6604782349724839,-0.5196249994745574,0.02055969042282577,-0.4397107068570352,0.41406042035964086,0.4108425293363018,0.8645542364829347,0.2119146464712936,0.6517328492837595,-0.3299934644424242,-0.48702899121525334,-0.22200897985421947,-0.8047818862898786,-1.1845906796308772,-0.4978353907798658,1.621167298309641,0.8224618564100735,-1.2902079390988175,0.01461791408133816,1.1410522269583148,0.8280874098673555,2.023735414640705,-0.4865637083260705,1.0389367638584508,1.2276962498928554,-0.18944754493862276,-0.14976216719342267,0.683583165072884,0.3239156424744562,-0.0719760168952608,-0.6378580170038229,-0.15493703777823922,1.7894814413117488,2.0184945323868257,0.20753608984329258,0.1978779128445857,1.0659510071385676,0.6558923317899069,-0.9926693302856021,-1.5682107352009464,-0.5753024096779175,-0.029614920045432938,-2.467749324540253,1.5160313978127993,-1.0111094337666988,0.36344209841536307,0.647623158788987,1.4071695619594518,0.5351397311767255,-0.04656114960512062,2.1664962354930863,0.14060328416534093,-0.8352079111291246,-0.9905325268254492,0.3027127572771243,-0.6970889943202017,-0.17485657057263013,0.1868467778262092,-0.9286776558514568,-0.03202384444914497,1.1188291288859542,1.0977932423879886,0.3465054154720146,-0.033836252989438084,-0.524395948545605,-1.031014258748993,-1.0769206345804534,-0.7197159862369726,1.13568672086204,-0.006894158362355122,-0.1625407442294256,-0.004439264787613177,0.22346207717106653,-0.6338247075959175,0.2830031950943066,-0.2842757783063089,-1.6745075707344477,-0.6599566325743017,0.11755418565563681,-0.8551230708313902,-1.4443938044070246,-1.7237423856954894,0.09323476948011054,-2.0237980294421427,0.5902819780517904,0.3521336835525418,-0.47410642666534136,-1.1966471740352314,-0.6828607642116732,-1.011661714759275,-1.905834151795708,0.9973400152016139,0.4597725013627585,-0.7315311070057287,-0.4033761447760559,-0.7193598651158356,0.6435615542100579],\"type\":\"box\"},{\"boxpoints\":false,\"line\":{\"width\":1.3},\"marker\":{\"color\":\"rgba(55, 128, 191, 1.0)\"},\"name\":\"B\",\"orientation\":\"v\",\"y\":[0.9852938519840362,-0.4142711665345483,-0.2993862088212026,-1.080158167641829,-0.5951615936768305,-1.061425559875092,-2.7120885483534254,-0.03149120113084428,-1.5755214690475732,0.35761998845734294,0.4201604838130015,-1.1872547692853608,2.2288159685553848,-0.20694873379706547,-0.29857480676428755,0.30465302078098727,1.0883622736425371,-0.0833002929219233,-0.38598103288068203,-0.6178040341239334,0.4000253076879923,-0.22496101350698444,-0.6615503092076963,1.1112518007745142,-0.2547548208944747,-0.9505888187305093,0.5501125290824538,0.23886067040655298,0.3767793235919412,-1.555051768463564,-1.9539650845846017,2.068238468829256,-0.8857142929791774,-0.6360773222197956,0.028636021121702788,-2.023847184228603,-0.6237244217096115,-0.845385390133307,-0.7706269321010328,-0.04798704669675597,-0.7347074680924067,0.978796728799089,3.0844914729635744,-0.5714312651068356,-1.6259819149285943,1.1653242003578144,-1.2262408297083338,0.024679650851651188,1.2652123552822339,0.6042438676916213,-1.0103596451298062,-0.2561198417491012,2.0972955326499196,0.4931935169281666,1.6862523895127877,-0.9511409837911713,-0.7929340198874938,-0.9415624684146361,-0.8162447738001156,2.305955639896165,2.3533932732497136,-1.2371339798667005,-1.806957263001291,-0.6692886247575235,0.26981495743716416,0.7353214008885376,-1.9587844101207168,-0.08875047092515755,-0.5375446519047127,1.0306545150239066,-0.42317938725773774,-0.7853846371787755,0.16885879662634365,-0.21273402930876428,0.04677265239052718,-0.11032587082205524,-0.9759868080638875,0.37714721887378244,-0.040245610606096056,-0.3624201877979656,-0.7237478146887273,-1.136675383870532,-0.1762010463278863,1.5545539485620936,0.12269680380628893,-0.27014083531452854,-1.1515553777811576,0.5355925338371131,-0.08498431225411827,-0.14033789297750898,1.060065500408755,-1.5694109802935956,1.8141368208221966,0.15478352025223172,0.009957933182435623,1.1231976518480087,-0.5950752487108096,0.13513089474798265,-0.5046785342264216,-0.7705528646396353],\"type\":\"box\"},{\"boxpoints\":false,\"line\":{\"width\":1.3},\"marker\":{\"color\":\"rgba(50, 171, 96, 1.0)\"},\"name\":\"C\",\"orientation\":\"v\",\"y\":[0.549740637555539,1.260212332460787,-0.5946594830986801,-0.6948732218626511,0.9806073927395907,0.4683121610261346,-0.14818769004704696,0.3452122122268642,-1.8067691232641163,-1.634749788768707,0.034233289669643494,-0.28934928828013634,0.32812377951620214,0.32910794420280115,1.1800149358136531,-0.8883104448558582,1.7936312182763456,-1.5666609283533584,1.4935951700111614,1.0261130875524023,0.5686621646377112,1.195491738597137,1.3095645877703326,1.7126221351614856,0.20821042621572,-0.27245247382963683,2.958537074185334,1.1521131509256861,1.69688082665319,1.5997545873746062,0.06836165526771469,0.05095851489658768,-1.4062563167283229,0.8009205979754301,-2.007850998187997,-1.0300679042761605,-0.348139549205092,-1.043516895168186,1.4095532718016575,1.0041911259519434,-0.10881868601619357,0.10697557159210212,0.36064636756312696,1.7268526163803328,0.0036578654411822584,0.6828347123397909,1.1326183479954248,1.3874865661864886,-1.4670972916699903,1.2554137762048678,-0.05883706655082013,0.640467929128801,-1.5576002803382498,1.317810073417994,0.7840297996700045,0.11773756092765265,-0.8535184193794283,0.7521265450113909,-2.0219945595573225,0.6982664594996074,-0.2620284721963431,-1.790396731796199,0.08677610118195855,2.0392858394221696,0.12882730684197252,0.9441592452092047,-0.4412387464935074,0.4804899837716722,-0.27196138774531503,0.3117798836344818,1.9159999391458693,0.3295901499234422,-0.4753026306728736,0.8191594181634533,0.20911743135705846,3.314507374063461,-0.28695412412569543,0.9934315724042603,0.10427082656561551,0.5739208179449827,0.6572094223299806,-0.6210516174643926,-0.7331282059054588,0.40877428828802675,-1.231502433839762,-0.5966920119114699,0.5303734972703417,0.7550799210738212,-0.25252469721757065,-0.17321545632623547,0.34704125264602725,1.4002442896546903,-0.5411407508757214,-0.6556024467323619,0.4888717616646806,-0.6831645443609797,1.4107941387219316,-1.324146824510583,2.4098174170134476,1.6986283611221968],\"type\":\"box\"},{\"boxpoints\":false,\"line\":{\"width\":1.3},\"marker\":{\"color\":\"rgba(128, 0, 128, 1.0)\"},\"name\":\"D\",\"orientation\":\"v\",\"y\":[1.0361215242491195,0.6407853255491084,0.7063779456975104,1.8980826082085422,0.17187209395006434,1.1807930930152146,1.4961438288093272,-2.0446273869788087,1.1318022350041197,-1.1927329306327188,-0.3718357943680243,-1.103634637522285,0.68808333426337,-0.32682601948711265,-0.22521524060681247,-0.8974662083076845,0.6522682742848068,-0.7631185114850355,1.4212512473317818,-1.196434655579687,0.3376907200426193,-0.3972002950152537,-0.5455228930351891,-0.3423263609742087,-0.531908394142106,0.40697220160755143,-1.2245651337600438,-1.0957828536350458,0.44149574622144727,0.6671698451103586,-1.0434073030965116,1.087993748180064,0.8251029406890018,0.44954204545429655,-0.22719985689936456,-0.5422444776464004,-2.2324261138964956,0.9493595005097836,0.4777179691755005,-0.5354614446658382,-0.4982004714923975,-1.1476891696504472,-0.2296400044253678,0.9204126254454262,0.4175094038759765,1.3383812678252205,0.20393570092135996,0.3641768189742347,0.056298588785371646,1.790154924545487,0.35720133249961833,1.5064400671355258,-0.3019170893055426,-1.6578434496745653,0.8620146720247083,1.1500043106957927,0.2822494976777274,0.9566833862150375,-0.2685357041989318,-0.4884728273289955,1.2792079241497105,-0.7250228973636278,-1.2309532650323967,0.31197521426637215,1.0936944534891009,-0.32257914774238977,0.8932021180721614,1.8362910746299415,1.3306532682976469,0.7664840393967025,1.1502775594682741,1.3585620922843022,-0.5178200548823758,0.806793794387821,-0.09845903208504937,-1.4103456208172465,1.6151659629822908,0.06750180450915381,2.283053076806745,0.18240460302101436,-1.685931624410959,0.6047384305209671,0.6273165693400129,0.23627795320787906,-0.7447556824866209,-1.3722482088152015,0.6549064884581498,0.2246440447161041,-0.8268812754471794,-0.6793756327254308,1.76927828093296,0.8654601044043043,0.5927435118167454,0.10212959626793228,0.48969973682356716,-0.07640015800038846,0.03879598781609596,-0.14838855520956157,0.4444156340939495,-0.32794358382266386],\"type\":\"box\"}],                        {\"legend\":{\"bgcolor\":\"#F5F6F9\",\"font\":{\"color\":\"#4D5663\"}},\"paper_bgcolor\":\"#F5F6F9\",\"plot_bgcolor\":\"#F5F6F9\",\"template\":{\"data\":{\"barpolar\":[{\"marker\":{\"line\":{\"color\":\"#E5ECF6\",\"width\":0.5},\"pattern\":{\"fillmode\":\"overlay\",\"size\":10,\"solidity\":0.2}},\"type\":\"barpolar\"}],\"bar\":[{\"error_x\":{\"color\":\"#2a3f5f\"},\"error_y\":{\"color\":\"#2a3f5f\"},\"marker\":{\"line\":{\"color\":\"#E5ECF6\",\"width\":0.5},\"pattern\":{\"fillmode\":\"overlay\",\"size\":10,\"solidity\":0.2}},\"type\":\"bar\"}],\"carpet\":[{\"aaxis\":{\"endlinecolor\":\"#2a3f5f\",\"gridcolor\":\"white\",\"linecolor\":\"white\",\"minorgridcolor\":\"white\",\"startlinecolor\":\"#2a3f5f\"},\"baxis\":{\"endlinecolor\":\"#2a3f5f\",\"gridcolor\":\"white\",\"linecolor\":\"white\",\"minorgridcolor\":\"white\",\"startlinecolor\":\"#2a3f5f\"},\"type\":\"carpet\"}],\"choropleth\":[{\"colorbar\":{\"outlinewidth\":0,\"ticks\":\"\"},\"type\":\"choropleth\"}],\"contourcarpet\":[{\"colorbar\":{\"outlinewidth\":0,\"ticks\":\"\"},\"type\":\"contourcarpet\"}],\"contour\":[{\"colorbar\":{\"outlinewidth\":0,\"ticks\":\"\"},\"colorscale\":[[0.0,\"#0d0887\"],[0.1111111111111111,\"#46039f\"],[0.2222222222222222,\"#7201a8\"],[0.3333333333333333,\"#9c179e\"],[0.4444444444444444,\"#bd3786\"],[0.5555555555555556,\"#d8576b\"],[0.6666666666666666,\"#ed7953\"],[0.7777777777777778,\"#fb9f3a\"],[0.8888888888888888,\"#fdca26\"],[1.0,\"#f0f921\"]],\"type\":\"contour\"}],\"heatmapgl\":[{\"colorbar\":{\"outlinewidth\":0,\"ticks\":\"\"},\"colorscale\":[[0.0,\"#0d0887\"],[0.1111111111111111,\"#46039f\"],[0.2222222222222222,\"#7201a8\"],[0.3333333333333333,\"#9c179e\"],[0.4444444444444444,\"#bd3786\"],[0.5555555555555556,\"#d8576b\"],[0.6666666666666666,\"#ed7953\"],[0.7777777777777778,\"#fb9f3a\"],[0.8888888888888888,\"#fdca26\"],[1.0,\"#f0f921\"]],\"type\":\"heatmapgl\"}],\"heatmap\":[{\"colorbar\":{\"outlinewidth\":0,\"ticks\":\"\"},\"colorscale\":[[0.0,\"#0d0887\"],[0.1111111111111111,\"#46039f\"],[0.2222222222222222,\"#7201a8\"],[0.3333333333333333,\"#9c179e\"],[0.4444444444444444,\"#bd3786\"],[0.5555555555555556,\"#d8576b\"],[0.6666666666666666,\"#ed7953\"],[0.7777777777777778,\"#fb9f3a\"],[0.8888888888888888,\"#fdca26\"],[1.0,\"#f0f921\"]],\"type\":\"heatmap\"}],\"histogram2dcontour\":[{\"colorbar\":{\"outlinewidth\":0,\"ticks\":\"\"},\"colorscale\":[[0.0,\"#0d0887\"],[0.1111111111111111,\"#46039f\"],[0.2222222222222222,\"#7201a8\"],[0.3333333333333333,\"#9c179e\"],[0.4444444444444444,\"#bd3786\"],[0.5555555555555556,\"#d8576b\"],[0.6666666666666666,\"#ed7953\"],[0.7777777777777778,\"#fb9f3a\"],[0.8888888888888888,\"#fdca26\"],[1.0,\"#f0f921\"]],\"type\":\"histogram2dcontour\"}],\"histogram2d\":[{\"colorbar\":{\"outlinewidth\":0,\"ticks\":\"\"},\"colorscale\":[[0.0,\"#0d0887\"],[0.1111111111111111,\"#46039f\"],[0.2222222222222222,\"#7201a8\"],[0.3333333333333333,\"#9c179e\"],[0.4444444444444444,\"#bd3786\"],[0.5555555555555556,\"#d8576b\"],[0.6666666666666666,\"#ed7953\"],[0.7777777777777778,\"#fb9f3a\"],[0.8888888888888888,\"#fdca26\"],[1.0,\"#f0f921\"]],\"type\":\"histogram2d\"}],\"histogram\":[{\"marker\":{\"pattern\":{\"fillmode\":\"overlay\",\"size\":10,\"solidity\":0.2}},\"type\":\"histogram\"}],\"mesh3d\":[{\"colorbar\":{\"outlinewidth\":0,\"ticks\":\"\"},\"type\":\"mesh3d\"}],\"parcoords\":[{\"line\":{\"colorbar\":{\"outlinewidth\":0,\"ticks\":\"\"}},\"type\":\"parcoords\"}],\"pie\":[{\"automargin\":true,\"type\":\"pie\"}],\"scatter3d\":[{\"line\":{\"colorbar\":{\"outlinewidth\":0,\"ticks\":\"\"}},\"marker\":{\"colorbar\":{\"outlinewidth\":0,\"ticks\":\"\"}},\"type\":\"scatter3d\"}],\"scattercarpet\":[{\"marker\":{\"colorbar\":{\"outlinewidth\":0,\"ticks\":\"\"}},\"type\":\"scattercarpet\"}],\"scattergeo\":[{\"marker\":{\"colorbar\":{\"outlinewidth\":0,\"ticks\":\"\"}},\"type\":\"scattergeo\"}],\"scattergl\":[{\"marker\":{\"colorbar\":{\"outlinewidth\":0,\"ticks\":\"\"}},\"type\":\"scattergl\"}],\"scattermapbox\":[{\"marker\":{\"colorbar\":{\"outlinewidth\":0,\"ticks\":\"\"}},\"type\":\"scattermapbox\"}],\"scatterpolargl\":[{\"marker\":{\"colorbar\":{\"outlinewidth\":0,\"ticks\":\"\"}},\"type\":\"scatterpolargl\"}],\"scatterpolar\":[{\"marker\":{\"colorbar\":{\"outlinewidth\":0,\"ticks\":\"\"}},\"type\":\"scatterpolar\"}],\"scatter\":[{\"fillpattern\":{\"fillmode\":\"overlay\",\"size\":10,\"solidity\":0.2},\"type\":\"scatter\"}],\"scatterternary\":[{\"marker\":{\"colorbar\":{\"outlinewidth\":0,\"ticks\":\"\"}},\"type\":\"scatterternary\"}],\"surface\":[{\"colorbar\":{\"outlinewidth\":0,\"ticks\":\"\"},\"colorscale\":[[0.0,\"#0d0887\"],[0.1111111111111111,\"#46039f\"],[0.2222222222222222,\"#7201a8\"],[0.3333333333333333,\"#9c179e\"],[0.4444444444444444,\"#bd3786\"],[0.5555555555555556,\"#d8576b\"],[0.6666666666666666,\"#ed7953\"],[0.7777777777777778,\"#fb9f3a\"],[0.8888888888888888,\"#fdca26\"],[1.0,\"#f0f921\"]],\"type\":\"surface\"}],\"table\":[{\"cells\":{\"fill\":{\"color\":\"#EBF0F8\"},\"line\":{\"color\":\"white\"}},\"header\":{\"fill\":{\"color\":\"#C8D4E3\"},\"line\":{\"color\":\"white\"}},\"type\":\"table\"}]},\"layout\":{\"annotationdefaults\":{\"arrowcolor\":\"#2a3f5f\",\"arrowhead\":0,\"arrowwidth\":1},\"autotypenumbers\":\"strict\",\"coloraxis\":{\"colorbar\":{\"outlinewidth\":0,\"ticks\":\"\"}},\"colorscale\":{\"diverging\":[[0,\"#8e0152\"],[0.1,\"#c51b7d\"],[0.2,\"#de77ae\"],[0.3,\"#f1b6da\"],[0.4,\"#fde0ef\"],[0.5,\"#f7f7f7\"],[0.6,\"#e6f5d0\"],[0.7,\"#b8e186\"],[0.8,\"#7fbc41\"],[0.9,\"#4d9221\"],[1,\"#276419\"]],\"sequential\":[[0.0,\"#0d0887\"],[0.1111111111111111,\"#46039f\"],[0.2222222222222222,\"#7201a8\"],[0.3333333333333333,\"#9c179e\"],[0.4444444444444444,\"#bd3786\"],[0.5555555555555556,\"#d8576b\"],[0.6666666666666666,\"#ed7953\"],[0.7777777777777778,\"#fb9f3a\"],[0.8888888888888888,\"#fdca26\"],[1.0,\"#f0f921\"]],\"sequentialminus\":[[0.0,\"#0d0887\"],[0.1111111111111111,\"#46039f\"],[0.2222222222222222,\"#7201a8\"],[0.3333333333333333,\"#9c179e\"],[0.4444444444444444,\"#bd3786\"],[0.5555555555555556,\"#d8576b\"],[0.6666666666666666,\"#ed7953\"],[0.7777777777777778,\"#fb9f3a\"],[0.8888888888888888,\"#fdca26\"],[1.0,\"#f0f921\"]]},\"colorway\":[\"#636efa\",\"#EF553B\",\"#00cc96\",\"#ab63fa\",\"#FFA15A\",\"#19d3f3\",\"#FF6692\",\"#B6E880\",\"#FF97FF\",\"#FECB52\"],\"font\":{\"color\":\"#2a3f5f\"},\"geo\":{\"bgcolor\":\"white\",\"lakecolor\":\"white\",\"landcolor\":\"#E5ECF6\",\"showlakes\":true,\"showland\":true,\"subunitcolor\":\"white\"},\"hoverlabel\":{\"align\":\"left\"},\"hovermode\":\"closest\",\"mapbox\":{\"style\":\"light\"},\"paper_bgcolor\":\"white\",\"plot_bgcolor\":\"#E5ECF6\",\"polar\":{\"angularaxis\":{\"gridcolor\":\"white\",\"linecolor\":\"white\",\"ticks\":\"\"},\"bgcolor\":\"#E5ECF6\",\"radialaxis\":{\"gridcolor\":\"white\",\"linecolor\":\"white\",\"ticks\":\"\"}},\"scene\":{\"xaxis\":{\"backgroundcolor\":\"#E5ECF6\",\"gridcolor\":\"white\",\"gridwidth\":2,\"linecolor\":\"white\",\"showbackground\":true,\"ticks\":\"\",\"zerolinecolor\":\"white\"},\"yaxis\":{\"backgroundcolor\":\"#E5ECF6\",\"gridcolor\":\"white\",\"gridwidth\":2,\"linecolor\":\"white\",\"showbackground\":true,\"ticks\":\"\",\"zerolinecolor\":\"white\"},\"zaxis\":{\"backgroundcolor\":\"#E5ECF6\",\"gridcolor\":\"white\",\"gridwidth\":2,\"linecolor\":\"white\",\"showbackground\":true,\"ticks\":\"\",\"zerolinecolor\":\"white\"}},\"shapedefaults\":{\"line\":{\"color\":\"#2a3f5f\"}},\"ternary\":{\"aaxis\":{\"gridcolor\":\"white\",\"linecolor\":\"white\",\"ticks\":\"\"},\"baxis\":{\"gridcolor\":\"white\",\"linecolor\":\"white\",\"ticks\":\"\"},\"bgcolor\":\"#E5ECF6\",\"caxis\":{\"gridcolor\":\"white\",\"linecolor\":\"white\",\"ticks\":\"\"}},\"title\":{\"x\":0.05},\"xaxis\":{\"automargin\":true,\"gridcolor\":\"white\",\"linecolor\":\"white\",\"ticks\":\"\",\"title\":{\"standoff\":15},\"zerolinecolor\":\"white\",\"zerolinewidth\":2},\"yaxis\":{\"automargin\":true,\"gridcolor\":\"white\",\"linecolor\":\"white\",\"ticks\":\"\",\"title\":{\"standoff\":15},\"zerolinecolor\":\"white\",\"zerolinewidth\":2}}},\"title\":{\"font\":{\"color\":\"#4D5663\"}},\"xaxis\":{\"gridcolor\":\"#E1E5ED\",\"showgrid\":true,\"tickfont\":{\"color\":\"#4D5663\"},\"title\":{\"font\":{\"color\":\"#4D5663\"},\"text\":\"\"},\"zerolinecolor\":\"#E1E5ED\"},\"yaxis\":{\"gridcolor\":\"#E1E5ED\",\"showgrid\":true,\"tickfont\":{\"color\":\"#4D5663\"},\"title\":{\"font\":{\"color\":\"#4D5663\"},\"text\":\"\"},\"zerolinecolor\":\"#E1E5ED\"}},                        {\"showLink\": true, \"linkText\": \"Export to plot.ly\", \"plotlyServerURL\": \"https://plot.ly\", \"responsive\": true}                    ).then(function(){\n",
       "                            \n",
       "var gd = document.getElementById('63709a85-3160-4b9d-83bf-03e4f1d3fe63');\n",
       "var x = new MutationObserver(function (mutations, observer) {{\n",
       "        var display = window.getComputedStyle(gd).display;\n",
       "        if (!display || display === 'none') {{\n",
       "            console.log([gd, 'removed!']);\n",
       "            Plotly.purge(gd);\n",
       "            observer.disconnect();\n",
       "        }}\n",
       "}});\n",
       "\n",
       "// Listen for the removal of the full notebook cells\n",
       "var notebookContainer = gd.closest('#notebook-container');\n",
       "if (notebookContainer) {{\n",
       "    x.observe(notebookContainer, {childList: true});\n",
       "}}\n",
       "\n",
       "// Listen for the clearing of the current output cell\n",
       "var outputEl = gd.closest('.output');\n",
       "if (outputEl) {{\n",
       "    x.observe(outputEl, {childList: true});\n",
       "}}\n",
       "\n",
       "                        })                };                });            </script>        </div>"
      ]
     },
     "metadata": {},
     "output_type": "display_data"
    }
   ],
   "source": [
    "df.iplot(kind='box')"
   ]
  },
  {
   "cell_type": "markdown",
   "id": "1411438e",
   "metadata": {},
   "source": [
    "# 3D Surface Plot"
   ]
  },
  {
   "cell_type": "code",
   "execution_count": 12,
   "id": "5ecf0729",
   "metadata": {},
   "outputs": [
    {
     "data": {
      "application/vnd.plotly.v1+json": {
       "config": {
        "linkText": "Export to plot.ly",
        "plotlyServerURL": "https://plot.ly",
        "showLink": true
       },
       "data": [
        {
         "colorscale": [
          [
           0,
           "rgb(255, 153, 51)"
          ],
          [
           0.1111111111111111,
           "rgb(55, 128, 191)"
          ],
          [
           0.2222222222222222,
           "rgb(50, 171, 96)"
          ],
          [
           0.3333333333333333,
           "rgb(128, 0, 128)"
          ],
          [
           0.4444444444444444,
           "rgb(219, 64, 82)"
          ],
          [
           0.5555555555555556,
           "rgb(0, 128, 128)"
          ],
          [
           0.6666666666666666,
           "rgb(255, 255, 51)"
          ],
          [
           0.7777777777777778,
           "rgb(128, 128, 0)"
          ],
          [
           0.8888888888888888,
           "rgb(251, 128, 114)"
          ],
          [
           1,
           "rgb(128, 177, 211)"
          ]
         ],
         "type": "surface",
         "x": [
          0,
          1,
          2,
          3,
          4
         ],
         "y": [
          "x",
          "y",
          "z"
         ],
         "z": [
          [
           1,
           2,
           3,
           4,
           5
          ],
          [
           10,
           20,
           30,
           20,
           10
          ],
          [
           500,
           400,
           300,
           200,
           100
          ]
         ]
        }
       ],
       "layout": {
        "legend": {
         "bgcolor": "#F5F6F9",
         "font": {
          "color": "#4D5663"
         }
        },
        "paper_bgcolor": "#F5F6F9",
        "plot_bgcolor": "#F5F6F9",
        "template": {
         "data": {
          "bar": [
           {
            "error_x": {
             "color": "#2a3f5f"
            },
            "error_y": {
             "color": "#2a3f5f"
            },
            "marker": {
             "line": {
              "color": "#E5ECF6",
              "width": 0.5
             },
             "pattern": {
              "fillmode": "overlay",
              "size": 10,
              "solidity": 0.2
             }
            },
            "type": "bar"
           }
          ],
          "barpolar": [
           {
            "marker": {
             "line": {
              "color": "#E5ECF6",
              "width": 0.5
             },
             "pattern": {
              "fillmode": "overlay",
              "size": 10,
              "solidity": 0.2
             }
            },
            "type": "barpolar"
           }
          ],
          "carpet": [
           {
            "aaxis": {
             "endlinecolor": "#2a3f5f",
             "gridcolor": "white",
             "linecolor": "white",
             "minorgridcolor": "white",
             "startlinecolor": "#2a3f5f"
            },
            "baxis": {
             "endlinecolor": "#2a3f5f",
             "gridcolor": "white",
             "linecolor": "white",
             "minorgridcolor": "white",
             "startlinecolor": "#2a3f5f"
            },
            "type": "carpet"
           }
          ],
          "choropleth": [
           {
            "colorbar": {
             "outlinewidth": 0,
             "ticks": ""
            },
            "type": "choropleth"
           }
          ],
          "contour": [
           {
            "colorbar": {
             "outlinewidth": 0,
             "ticks": ""
            },
            "colorscale": [
             [
              0,
              "#0d0887"
             ],
             [
              0.1111111111111111,
              "#46039f"
             ],
             [
              0.2222222222222222,
              "#7201a8"
             ],
             [
              0.3333333333333333,
              "#9c179e"
             ],
             [
              0.4444444444444444,
              "#bd3786"
             ],
             [
              0.5555555555555556,
              "#d8576b"
             ],
             [
              0.6666666666666666,
              "#ed7953"
             ],
             [
              0.7777777777777778,
              "#fb9f3a"
             ],
             [
              0.8888888888888888,
              "#fdca26"
             ],
             [
              1,
              "#f0f921"
             ]
            ],
            "type": "contour"
           }
          ],
          "contourcarpet": [
           {
            "colorbar": {
             "outlinewidth": 0,
             "ticks": ""
            },
            "type": "contourcarpet"
           }
          ],
          "heatmap": [
           {
            "colorbar": {
             "outlinewidth": 0,
             "ticks": ""
            },
            "colorscale": [
             [
              0,
              "#0d0887"
             ],
             [
              0.1111111111111111,
              "#46039f"
             ],
             [
              0.2222222222222222,
              "#7201a8"
             ],
             [
              0.3333333333333333,
              "#9c179e"
             ],
             [
              0.4444444444444444,
              "#bd3786"
             ],
             [
              0.5555555555555556,
              "#d8576b"
             ],
             [
              0.6666666666666666,
              "#ed7953"
             ],
             [
              0.7777777777777778,
              "#fb9f3a"
             ],
             [
              0.8888888888888888,
              "#fdca26"
             ],
             [
              1,
              "#f0f921"
             ]
            ],
            "type": "heatmap"
           }
          ],
          "heatmapgl": [
           {
            "colorbar": {
             "outlinewidth": 0,
             "ticks": ""
            },
            "colorscale": [
             [
              0,
              "#0d0887"
             ],
             [
              0.1111111111111111,
              "#46039f"
             ],
             [
              0.2222222222222222,
              "#7201a8"
             ],
             [
              0.3333333333333333,
              "#9c179e"
             ],
             [
              0.4444444444444444,
              "#bd3786"
             ],
             [
              0.5555555555555556,
              "#d8576b"
             ],
             [
              0.6666666666666666,
              "#ed7953"
             ],
             [
              0.7777777777777778,
              "#fb9f3a"
             ],
             [
              0.8888888888888888,
              "#fdca26"
             ],
             [
              1,
              "#f0f921"
             ]
            ],
            "type": "heatmapgl"
           }
          ],
          "histogram": [
           {
            "marker": {
             "pattern": {
              "fillmode": "overlay",
              "size": 10,
              "solidity": 0.2
             }
            },
            "type": "histogram"
           }
          ],
          "histogram2d": [
           {
            "colorbar": {
             "outlinewidth": 0,
             "ticks": ""
            },
            "colorscale": [
             [
              0,
              "#0d0887"
             ],
             [
              0.1111111111111111,
              "#46039f"
             ],
             [
              0.2222222222222222,
              "#7201a8"
             ],
             [
              0.3333333333333333,
              "#9c179e"
             ],
             [
              0.4444444444444444,
              "#bd3786"
             ],
             [
              0.5555555555555556,
              "#d8576b"
             ],
             [
              0.6666666666666666,
              "#ed7953"
             ],
             [
              0.7777777777777778,
              "#fb9f3a"
             ],
             [
              0.8888888888888888,
              "#fdca26"
             ],
             [
              1,
              "#f0f921"
             ]
            ],
            "type": "histogram2d"
           }
          ],
          "histogram2dcontour": [
           {
            "colorbar": {
             "outlinewidth": 0,
             "ticks": ""
            },
            "colorscale": [
             [
              0,
              "#0d0887"
             ],
             [
              0.1111111111111111,
              "#46039f"
             ],
             [
              0.2222222222222222,
              "#7201a8"
             ],
             [
              0.3333333333333333,
              "#9c179e"
             ],
             [
              0.4444444444444444,
              "#bd3786"
             ],
             [
              0.5555555555555556,
              "#d8576b"
             ],
             [
              0.6666666666666666,
              "#ed7953"
             ],
             [
              0.7777777777777778,
              "#fb9f3a"
             ],
             [
              0.8888888888888888,
              "#fdca26"
             ],
             [
              1,
              "#f0f921"
             ]
            ],
            "type": "histogram2dcontour"
           }
          ],
          "mesh3d": [
           {
            "colorbar": {
             "outlinewidth": 0,
             "ticks": ""
            },
            "type": "mesh3d"
           }
          ],
          "parcoords": [
           {
            "line": {
             "colorbar": {
              "outlinewidth": 0,
              "ticks": ""
             }
            },
            "type": "parcoords"
           }
          ],
          "pie": [
           {
            "automargin": true,
            "type": "pie"
           }
          ],
          "scatter": [
           {
            "fillpattern": {
             "fillmode": "overlay",
             "size": 10,
             "solidity": 0.2
            },
            "type": "scatter"
           }
          ],
          "scatter3d": [
           {
            "line": {
             "colorbar": {
              "outlinewidth": 0,
              "ticks": ""
             }
            },
            "marker": {
             "colorbar": {
              "outlinewidth": 0,
              "ticks": ""
             }
            },
            "type": "scatter3d"
           }
          ],
          "scattercarpet": [
           {
            "marker": {
             "colorbar": {
              "outlinewidth": 0,
              "ticks": ""
             }
            },
            "type": "scattercarpet"
           }
          ],
          "scattergeo": [
           {
            "marker": {
             "colorbar": {
              "outlinewidth": 0,
              "ticks": ""
             }
            },
            "type": "scattergeo"
           }
          ],
          "scattergl": [
           {
            "marker": {
             "colorbar": {
              "outlinewidth": 0,
              "ticks": ""
             }
            },
            "type": "scattergl"
           }
          ],
          "scattermapbox": [
           {
            "marker": {
             "colorbar": {
              "outlinewidth": 0,
              "ticks": ""
             }
            },
            "type": "scattermapbox"
           }
          ],
          "scatterpolar": [
           {
            "marker": {
             "colorbar": {
              "outlinewidth": 0,
              "ticks": ""
             }
            },
            "type": "scatterpolar"
           }
          ],
          "scatterpolargl": [
           {
            "marker": {
             "colorbar": {
              "outlinewidth": 0,
              "ticks": ""
             }
            },
            "type": "scatterpolargl"
           }
          ],
          "scatterternary": [
           {
            "marker": {
             "colorbar": {
              "outlinewidth": 0,
              "ticks": ""
             }
            },
            "type": "scatterternary"
           }
          ],
          "surface": [
           {
            "colorbar": {
             "outlinewidth": 0,
             "ticks": ""
            },
            "colorscale": [
             [
              0,
              "#0d0887"
             ],
             [
              0.1111111111111111,
              "#46039f"
             ],
             [
              0.2222222222222222,
              "#7201a8"
             ],
             [
              0.3333333333333333,
              "#9c179e"
             ],
             [
              0.4444444444444444,
              "#bd3786"
             ],
             [
              0.5555555555555556,
              "#d8576b"
             ],
             [
              0.6666666666666666,
              "#ed7953"
             ],
             [
              0.7777777777777778,
              "#fb9f3a"
             ],
             [
              0.8888888888888888,
              "#fdca26"
             ],
             [
              1,
              "#f0f921"
             ]
            ],
            "type": "surface"
           }
          ],
          "table": [
           {
            "cells": {
             "fill": {
              "color": "#EBF0F8"
             },
             "line": {
              "color": "white"
             }
            },
            "header": {
             "fill": {
              "color": "#C8D4E3"
             },
             "line": {
              "color": "white"
             }
            },
            "type": "table"
           }
          ]
         },
         "layout": {
          "annotationdefaults": {
           "arrowcolor": "#2a3f5f",
           "arrowhead": 0,
           "arrowwidth": 1
          },
          "autotypenumbers": "strict",
          "coloraxis": {
           "colorbar": {
            "outlinewidth": 0,
            "ticks": ""
           }
          },
          "colorscale": {
           "diverging": [
            [
             0,
             "#8e0152"
            ],
            [
             0.1,
             "#c51b7d"
            ],
            [
             0.2,
             "#de77ae"
            ],
            [
             0.3,
             "#f1b6da"
            ],
            [
             0.4,
             "#fde0ef"
            ],
            [
             0.5,
             "#f7f7f7"
            ],
            [
             0.6,
             "#e6f5d0"
            ],
            [
             0.7,
             "#b8e186"
            ],
            [
             0.8,
             "#7fbc41"
            ],
            [
             0.9,
             "#4d9221"
            ],
            [
             1,
             "#276419"
            ]
           ],
           "sequential": [
            [
             0,
             "#0d0887"
            ],
            [
             0.1111111111111111,
             "#46039f"
            ],
            [
             0.2222222222222222,
             "#7201a8"
            ],
            [
             0.3333333333333333,
             "#9c179e"
            ],
            [
             0.4444444444444444,
             "#bd3786"
            ],
            [
             0.5555555555555556,
             "#d8576b"
            ],
            [
             0.6666666666666666,
             "#ed7953"
            ],
            [
             0.7777777777777778,
             "#fb9f3a"
            ],
            [
             0.8888888888888888,
             "#fdca26"
            ],
            [
             1,
             "#f0f921"
            ]
           ],
           "sequentialminus": [
            [
             0,
             "#0d0887"
            ],
            [
             0.1111111111111111,
             "#46039f"
            ],
            [
             0.2222222222222222,
             "#7201a8"
            ],
            [
             0.3333333333333333,
             "#9c179e"
            ],
            [
             0.4444444444444444,
             "#bd3786"
            ],
            [
             0.5555555555555556,
             "#d8576b"
            ],
            [
             0.6666666666666666,
             "#ed7953"
            ],
            [
             0.7777777777777778,
             "#fb9f3a"
            ],
            [
             0.8888888888888888,
             "#fdca26"
            ],
            [
             1,
             "#f0f921"
            ]
           ]
          },
          "colorway": [
           "#636efa",
           "#EF553B",
           "#00cc96",
           "#ab63fa",
           "#FFA15A",
           "#19d3f3",
           "#FF6692",
           "#B6E880",
           "#FF97FF",
           "#FECB52"
          ],
          "font": {
           "color": "#2a3f5f"
          },
          "geo": {
           "bgcolor": "white",
           "lakecolor": "white",
           "landcolor": "#E5ECF6",
           "showlakes": true,
           "showland": true,
           "subunitcolor": "white"
          },
          "hoverlabel": {
           "align": "left"
          },
          "hovermode": "closest",
          "mapbox": {
           "style": "light"
          },
          "paper_bgcolor": "white",
          "plot_bgcolor": "#E5ECF6",
          "polar": {
           "angularaxis": {
            "gridcolor": "white",
            "linecolor": "white",
            "ticks": ""
           },
           "bgcolor": "#E5ECF6",
           "radialaxis": {
            "gridcolor": "white",
            "linecolor": "white",
            "ticks": ""
           }
          },
          "scene": {
           "xaxis": {
            "backgroundcolor": "#E5ECF6",
            "gridcolor": "white",
            "gridwidth": 2,
            "linecolor": "white",
            "showbackground": true,
            "ticks": "",
            "zerolinecolor": "white"
           },
           "yaxis": {
            "backgroundcolor": "#E5ECF6",
            "gridcolor": "white",
            "gridwidth": 2,
            "linecolor": "white",
            "showbackground": true,
            "ticks": "",
            "zerolinecolor": "white"
           },
           "zaxis": {
            "backgroundcolor": "#E5ECF6",
            "gridcolor": "white",
            "gridwidth": 2,
            "linecolor": "white",
            "showbackground": true,
            "ticks": "",
            "zerolinecolor": "white"
           }
          },
          "shapedefaults": {
           "line": {
            "color": "#2a3f5f"
           }
          },
          "ternary": {
           "aaxis": {
            "gridcolor": "white",
            "linecolor": "white",
            "ticks": ""
           },
           "baxis": {
            "gridcolor": "white",
            "linecolor": "white",
            "ticks": ""
           },
           "bgcolor": "#E5ECF6",
           "caxis": {
            "gridcolor": "white",
            "linecolor": "white",
            "ticks": ""
           }
          },
          "title": {
           "x": 0.05
          },
          "xaxis": {
           "automargin": true,
           "gridcolor": "white",
           "linecolor": "white",
           "ticks": "",
           "title": {
            "standoff": 15
           },
           "zerolinecolor": "white",
           "zerolinewidth": 2
          },
          "yaxis": {
           "automargin": true,
           "gridcolor": "white",
           "linecolor": "white",
           "ticks": "",
           "title": {
            "standoff": 15
           },
           "zerolinecolor": "white",
           "zerolinewidth": 2
          }
         }
        },
        "title": {
         "font": {
          "color": "#4D5663"
         }
        },
        "xaxis": {
         "gridcolor": "#E1E5ED",
         "showgrid": true,
         "tickfont": {
          "color": "#4D5663"
         },
         "title": {
          "font": {
           "color": "#4D5663"
          },
          "text": ""
         },
         "zerolinecolor": "#E1E5ED"
        },
        "yaxis": {
         "gridcolor": "#E1E5ED",
         "showgrid": true,
         "tickfont": {
          "color": "#4D5663"
         },
         "title": {
          "font": {
           "color": "#4D5663"
          },
          "text": ""
         },
         "zerolinecolor": "#E1E5ED"
        }
       }
      },
      "text/html": [
       "<div>                            <div id=\"4b1bb005-b220-4948-8c49-10c93b947041\" class=\"plotly-graph-div\" style=\"height:525px; width:100%;\"></div>            <script type=\"text/javascript\">                require([\"plotly\"], function(Plotly) {                    window.PLOTLYENV=window.PLOTLYENV || {};\n",
       "                    window.PLOTLYENV.BASE_URL='https://plot.ly';                                    if (document.getElementById(\"4b1bb005-b220-4948-8c49-10c93b947041\")) {                    Plotly.newPlot(                        \"4b1bb005-b220-4948-8c49-10c93b947041\",                        [{\"colorscale\":[[0.0,\"rgb(255, 153, 51)\"],[0.1111111111111111,\"rgb(55, 128, 191)\"],[0.2222222222222222,\"rgb(50, 171, 96)\"],[0.3333333333333333,\"rgb(128, 0, 128)\"],[0.4444444444444444,\"rgb(219, 64, 82)\"],[0.5555555555555556,\"rgb(0, 128, 128)\"],[0.6666666666666666,\"rgb(255, 255, 51)\"],[0.7777777777777778,\"rgb(128, 128, 0)\"],[0.8888888888888888,\"rgb(251, 128, 114)\"],[1.0,\"rgb(128, 177, 211)\"]],\"x\":[0,1,2,3,4],\"y\":[\"x\",\"y\",\"z\"],\"z\":[[1,2,3,4,5],[10,20,30,20,10],[500,400,300,200,100]],\"type\":\"surface\"}],                        {\"legend\":{\"bgcolor\":\"#F5F6F9\",\"font\":{\"color\":\"#4D5663\"}},\"paper_bgcolor\":\"#F5F6F9\",\"plot_bgcolor\":\"#F5F6F9\",\"template\":{\"data\":{\"barpolar\":[{\"marker\":{\"line\":{\"color\":\"#E5ECF6\",\"width\":0.5},\"pattern\":{\"fillmode\":\"overlay\",\"size\":10,\"solidity\":0.2}},\"type\":\"barpolar\"}],\"bar\":[{\"error_x\":{\"color\":\"#2a3f5f\"},\"error_y\":{\"color\":\"#2a3f5f\"},\"marker\":{\"line\":{\"color\":\"#E5ECF6\",\"width\":0.5},\"pattern\":{\"fillmode\":\"overlay\",\"size\":10,\"solidity\":0.2}},\"type\":\"bar\"}],\"carpet\":[{\"aaxis\":{\"endlinecolor\":\"#2a3f5f\",\"gridcolor\":\"white\",\"linecolor\":\"white\",\"minorgridcolor\":\"white\",\"startlinecolor\":\"#2a3f5f\"},\"baxis\":{\"endlinecolor\":\"#2a3f5f\",\"gridcolor\":\"white\",\"linecolor\":\"white\",\"minorgridcolor\":\"white\",\"startlinecolor\":\"#2a3f5f\"},\"type\":\"carpet\"}],\"choropleth\":[{\"colorbar\":{\"outlinewidth\":0,\"ticks\":\"\"},\"type\":\"choropleth\"}],\"contourcarpet\":[{\"colorbar\":{\"outlinewidth\":0,\"ticks\":\"\"},\"type\":\"contourcarpet\"}],\"contour\":[{\"colorbar\":{\"outlinewidth\":0,\"ticks\":\"\"},\"colorscale\":[[0.0,\"#0d0887\"],[0.1111111111111111,\"#46039f\"],[0.2222222222222222,\"#7201a8\"],[0.3333333333333333,\"#9c179e\"],[0.4444444444444444,\"#bd3786\"],[0.5555555555555556,\"#d8576b\"],[0.6666666666666666,\"#ed7953\"],[0.7777777777777778,\"#fb9f3a\"],[0.8888888888888888,\"#fdca26\"],[1.0,\"#f0f921\"]],\"type\":\"contour\"}],\"heatmapgl\":[{\"colorbar\":{\"outlinewidth\":0,\"ticks\":\"\"},\"colorscale\":[[0.0,\"#0d0887\"],[0.1111111111111111,\"#46039f\"],[0.2222222222222222,\"#7201a8\"],[0.3333333333333333,\"#9c179e\"],[0.4444444444444444,\"#bd3786\"],[0.5555555555555556,\"#d8576b\"],[0.6666666666666666,\"#ed7953\"],[0.7777777777777778,\"#fb9f3a\"],[0.8888888888888888,\"#fdca26\"],[1.0,\"#f0f921\"]],\"type\":\"heatmapgl\"}],\"heatmap\":[{\"colorbar\":{\"outlinewidth\":0,\"ticks\":\"\"},\"colorscale\":[[0.0,\"#0d0887\"],[0.1111111111111111,\"#46039f\"],[0.2222222222222222,\"#7201a8\"],[0.3333333333333333,\"#9c179e\"],[0.4444444444444444,\"#bd3786\"],[0.5555555555555556,\"#d8576b\"],[0.6666666666666666,\"#ed7953\"],[0.7777777777777778,\"#fb9f3a\"],[0.8888888888888888,\"#fdca26\"],[1.0,\"#f0f921\"]],\"type\":\"heatmap\"}],\"histogram2dcontour\":[{\"colorbar\":{\"outlinewidth\":0,\"ticks\":\"\"},\"colorscale\":[[0.0,\"#0d0887\"],[0.1111111111111111,\"#46039f\"],[0.2222222222222222,\"#7201a8\"],[0.3333333333333333,\"#9c179e\"],[0.4444444444444444,\"#bd3786\"],[0.5555555555555556,\"#d8576b\"],[0.6666666666666666,\"#ed7953\"],[0.7777777777777778,\"#fb9f3a\"],[0.8888888888888888,\"#fdca26\"],[1.0,\"#f0f921\"]],\"type\":\"histogram2dcontour\"}],\"histogram2d\":[{\"colorbar\":{\"outlinewidth\":0,\"ticks\":\"\"},\"colorscale\":[[0.0,\"#0d0887\"],[0.1111111111111111,\"#46039f\"],[0.2222222222222222,\"#7201a8\"],[0.3333333333333333,\"#9c179e\"],[0.4444444444444444,\"#bd3786\"],[0.5555555555555556,\"#d8576b\"],[0.6666666666666666,\"#ed7953\"],[0.7777777777777778,\"#fb9f3a\"],[0.8888888888888888,\"#fdca26\"],[1.0,\"#f0f921\"]],\"type\":\"histogram2d\"}],\"histogram\":[{\"marker\":{\"pattern\":{\"fillmode\":\"overlay\",\"size\":10,\"solidity\":0.2}},\"type\":\"histogram\"}],\"mesh3d\":[{\"colorbar\":{\"outlinewidth\":0,\"ticks\":\"\"},\"type\":\"mesh3d\"}],\"parcoords\":[{\"line\":{\"colorbar\":{\"outlinewidth\":0,\"ticks\":\"\"}},\"type\":\"parcoords\"}],\"pie\":[{\"automargin\":true,\"type\":\"pie\"}],\"scatter3d\":[{\"line\":{\"colorbar\":{\"outlinewidth\":0,\"ticks\":\"\"}},\"marker\":{\"colorbar\":{\"outlinewidth\":0,\"ticks\":\"\"}},\"type\":\"scatter3d\"}],\"scattercarpet\":[{\"marker\":{\"colorbar\":{\"outlinewidth\":0,\"ticks\":\"\"}},\"type\":\"scattercarpet\"}],\"scattergeo\":[{\"marker\":{\"colorbar\":{\"outlinewidth\":0,\"ticks\":\"\"}},\"type\":\"scattergeo\"}],\"scattergl\":[{\"marker\":{\"colorbar\":{\"outlinewidth\":0,\"ticks\":\"\"}},\"type\":\"scattergl\"}],\"scattermapbox\":[{\"marker\":{\"colorbar\":{\"outlinewidth\":0,\"ticks\":\"\"}},\"type\":\"scattermapbox\"}],\"scatterpolargl\":[{\"marker\":{\"colorbar\":{\"outlinewidth\":0,\"ticks\":\"\"}},\"type\":\"scatterpolargl\"}],\"scatterpolar\":[{\"marker\":{\"colorbar\":{\"outlinewidth\":0,\"ticks\":\"\"}},\"type\":\"scatterpolar\"}],\"scatter\":[{\"fillpattern\":{\"fillmode\":\"overlay\",\"size\":10,\"solidity\":0.2},\"type\":\"scatter\"}],\"scatterternary\":[{\"marker\":{\"colorbar\":{\"outlinewidth\":0,\"ticks\":\"\"}},\"type\":\"scatterternary\"}],\"surface\":[{\"colorbar\":{\"outlinewidth\":0,\"ticks\":\"\"},\"colorscale\":[[0.0,\"#0d0887\"],[0.1111111111111111,\"#46039f\"],[0.2222222222222222,\"#7201a8\"],[0.3333333333333333,\"#9c179e\"],[0.4444444444444444,\"#bd3786\"],[0.5555555555555556,\"#d8576b\"],[0.6666666666666666,\"#ed7953\"],[0.7777777777777778,\"#fb9f3a\"],[0.8888888888888888,\"#fdca26\"],[1.0,\"#f0f921\"]],\"type\":\"surface\"}],\"table\":[{\"cells\":{\"fill\":{\"color\":\"#EBF0F8\"},\"line\":{\"color\":\"white\"}},\"header\":{\"fill\":{\"color\":\"#C8D4E3\"},\"line\":{\"color\":\"white\"}},\"type\":\"table\"}]},\"layout\":{\"annotationdefaults\":{\"arrowcolor\":\"#2a3f5f\",\"arrowhead\":0,\"arrowwidth\":1},\"autotypenumbers\":\"strict\",\"coloraxis\":{\"colorbar\":{\"outlinewidth\":0,\"ticks\":\"\"}},\"colorscale\":{\"diverging\":[[0,\"#8e0152\"],[0.1,\"#c51b7d\"],[0.2,\"#de77ae\"],[0.3,\"#f1b6da\"],[0.4,\"#fde0ef\"],[0.5,\"#f7f7f7\"],[0.6,\"#e6f5d0\"],[0.7,\"#b8e186\"],[0.8,\"#7fbc41\"],[0.9,\"#4d9221\"],[1,\"#276419\"]],\"sequential\":[[0.0,\"#0d0887\"],[0.1111111111111111,\"#46039f\"],[0.2222222222222222,\"#7201a8\"],[0.3333333333333333,\"#9c179e\"],[0.4444444444444444,\"#bd3786\"],[0.5555555555555556,\"#d8576b\"],[0.6666666666666666,\"#ed7953\"],[0.7777777777777778,\"#fb9f3a\"],[0.8888888888888888,\"#fdca26\"],[1.0,\"#f0f921\"]],\"sequentialminus\":[[0.0,\"#0d0887\"],[0.1111111111111111,\"#46039f\"],[0.2222222222222222,\"#7201a8\"],[0.3333333333333333,\"#9c179e\"],[0.4444444444444444,\"#bd3786\"],[0.5555555555555556,\"#d8576b\"],[0.6666666666666666,\"#ed7953\"],[0.7777777777777778,\"#fb9f3a\"],[0.8888888888888888,\"#fdca26\"],[1.0,\"#f0f921\"]]},\"colorway\":[\"#636efa\",\"#EF553B\",\"#00cc96\",\"#ab63fa\",\"#FFA15A\",\"#19d3f3\",\"#FF6692\",\"#B6E880\",\"#FF97FF\",\"#FECB52\"],\"font\":{\"color\":\"#2a3f5f\"},\"geo\":{\"bgcolor\":\"white\",\"lakecolor\":\"white\",\"landcolor\":\"#E5ECF6\",\"showlakes\":true,\"showland\":true,\"subunitcolor\":\"white\"},\"hoverlabel\":{\"align\":\"left\"},\"hovermode\":\"closest\",\"mapbox\":{\"style\":\"light\"},\"paper_bgcolor\":\"white\",\"plot_bgcolor\":\"#E5ECF6\",\"polar\":{\"angularaxis\":{\"gridcolor\":\"white\",\"linecolor\":\"white\",\"ticks\":\"\"},\"bgcolor\":\"#E5ECF6\",\"radialaxis\":{\"gridcolor\":\"white\",\"linecolor\":\"white\",\"ticks\":\"\"}},\"scene\":{\"xaxis\":{\"backgroundcolor\":\"#E5ECF6\",\"gridcolor\":\"white\",\"gridwidth\":2,\"linecolor\":\"white\",\"showbackground\":true,\"ticks\":\"\",\"zerolinecolor\":\"white\"},\"yaxis\":{\"backgroundcolor\":\"#E5ECF6\",\"gridcolor\":\"white\",\"gridwidth\":2,\"linecolor\":\"white\",\"showbackground\":true,\"ticks\":\"\",\"zerolinecolor\":\"white\"},\"zaxis\":{\"backgroundcolor\":\"#E5ECF6\",\"gridcolor\":\"white\",\"gridwidth\":2,\"linecolor\":\"white\",\"showbackground\":true,\"ticks\":\"\",\"zerolinecolor\":\"white\"}},\"shapedefaults\":{\"line\":{\"color\":\"#2a3f5f\"}},\"ternary\":{\"aaxis\":{\"gridcolor\":\"white\",\"linecolor\":\"white\",\"ticks\":\"\"},\"baxis\":{\"gridcolor\":\"white\",\"linecolor\":\"white\",\"ticks\":\"\"},\"bgcolor\":\"#E5ECF6\",\"caxis\":{\"gridcolor\":\"white\",\"linecolor\":\"white\",\"ticks\":\"\"}},\"title\":{\"x\":0.05},\"xaxis\":{\"automargin\":true,\"gridcolor\":\"white\",\"linecolor\":\"white\",\"ticks\":\"\",\"title\":{\"standoff\":15},\"zerolinecolor\":\"white\",\"zerolinewidth\":2},\"yaxis\":{\"automargin\":true,\"gridcolor\":\"white\",\"linecolor\":\"white\",\"ticks\":\"\",\"title\":{\"standoff\":15},\"zerolinecolor\":\"white\",\"zerolinewidth\":2}}},\"title\":{\"font\":{\"color\":\"#4D5663\"}},\"xaxis\":{\"gridcolor\":\"#E1E5ED\",\"showgrid\":true,\"tickfont\":{\"color\":\"#4D5663\"},\"title\":{\"font\":{\"color\":\"#4D5663\"},\"text\":\"\"},\"zerolinecolor\":\"#E1E5ED\"},\"yaxis\":{\"gridcolor\":\"#E1E5ED\",\"showgrid\":true,\"tickfont\":{\"color\":\"#4D5663\"},\"title\":{\"font\":{\"color\":\"#4D5663\"},\"text\":\"\"},\"zerolinecolor\":\"#E1E5ED\"}},                        {\"showLink\": true, \"linkText\": \"Export to plot.ly\", \"plotlyServerURL\": \"https://plot.ly\", \"responsive\": true}                    ).then(function(){\n",
       "                            \n",
       "var gd = document.getElementById('4b1bb005-b220-4948-8c49-10c93b947041');\n",
       "var x = new MutationObserver(function (mutations, observer) {{\n",
       "        var display = window.getComputedStyle(gd).display;\n",
       "        if (!display || display === 'none') {{\n",
       "            console.log([gd, 'removed!']);\n",
       "            Plotly.purge(gd);\n",
       "            observer.disconnect();\n",
       "        }}\n",
       "}});\n",
       "\n",
       "// Listen for the removal of the full notebook cells\n",
       "var notebookContainer = gd.closest('#notebook-container');\n",
       "if (notebookContainer) {{\n",
       "    x.observe(notebookContainer, {childList: true});\n",
       "}}\n",
       "\n",
       "// Listen for the clearing of the current output cell\n",
       "var outputEl = gd.closest('.output');\n",
       "if (outputEl) {{\n",
       "    x.observe(outputEl, {childList: true});\n",
       "}}\n",
       "\n",
       "                        })                };                });            </script>        </div>"
      ]
     },
     "metadata": {},
     "output_type": "display_data"
    }
   ],
   "source": [
    "df3=pd.DataFrame({'x':[1,2,3,4,5],'y':[10,20,30,20,10],'z':[500,400,300,200,100]})\n",
    "df3.iplot(kind='surface')"
   ]
  },
  {
   "cell_type": "markdown",
   "id": "68865c76",
   "metadata": {},
   "source": [
    "# Histogram Plot"
   ]
  },
  {
   "cell_type": "code",
   "execution_count": 13,
   "id": "89b9341b",
   "metadata": {},
   "outputs": [
    {
     "data": {
      "application/vnd.plotly.v1+json": {
       "config": {
        "linkText": "Export to plot.ly",
        "plotlyServerURL": "https://plot.ly",
        "showLink": true
       },
       "data": [
        {
         "histfunc": "count",
         "histnorm": "",
         "marker": {
          "color": "rgba(255, 153, 51, 1.0)",
          "line": {
           "color": "#4D5663",
           "width": 1.3
          }
         },
         "name": "A",
         "nbinsx": 50,
         "opacity": 0.8,
         "orientation": "v",
         "type": "histogram",
         "x": [
          -0.22811627589074476,
          0.6787238832591042,
          1.6515060543232125,
          -0.6604782349724839,
          -0.5196249994745574,
          0.02055969042282577,
          -0.4397107068570352,
          0.41406042035964086,
          0.4108425293363018,
          0.8645542364829347,
          0.2119146464712936,
          0.6517328492837595,
          -0.3299934644424242,
          -0.48702899121525334,
          -0.22200897985421947,
          -0.8047818862898786,
          -1.1845906796308772,
          -0.4978353907798658,
          1.621167298309641,
          0.8224618564100735,
          -1.2902079390988175,
          0.01461791408133816,
          1.1410522269583148,
          0.8280874098673555,
          2.023735414640705,
          -0.4865637083260705,
          1.0389367638584508,
          1.2276962498928554,
          -0.18944754493862276,
          -0.14976216719342267,
          0.683583165072884,
          0.3239156424744562,
          -0.0719760168952608,
          -0.6378580170038229,
          -0.15493703777823922,
          1.7894814413117488,
          2.0184945323868257,
          0.20753608984329258,
          0.1978779128445857,
          1.0659510071385676,
          0.6558923317899069,
          -0.9926693302856021,
          -1.5682107352009464,
          -0.5753024096779175,
          -0.029614920045432938,
          -2.467749324540253,
          1.5160313978127993,
          -1.0111094337666988,
          0.36344209841536307,
          0.647623158788987,
          1.4071695619594518,
          0.5351397311767255,
          -0.04656114960512062,
          2.1664962354930863,
          0.14060328416534093,
          -0.8352079111291246,
          -0.9905325268254492,
          0.3027127572771243,
          -0.6970889943202017,
          -0.17485657057263013,
          0.1868467778262092,
          -0.9286776558514568,
          -0.03202384444914497,
          1.1188291288859542,
          1.0977932423879886,
          0.3465054154720146,
          -0.033836252989438084,
          -0.524395948545605,
          -1.031014258748993,
          -1.0769206345804534,
          -0.7197159862369726,
          1.13568672086204,
          -0.006894158362355122,
          -0.1625407442294256,
          -0.004439264787613177,
          0.22346207717106653,
          -0.6338247075959175,
          0.2830031950943066,
          -0.2842757783063089,
          -1.6745075707344477,
          -0.6599566325743017,
          0.11755418565563681,
          -0.8551230708313902,
          -1.4443938044070246,
          -1.7237423856954894,
          0.09323476948011054,
          -2.0237980294421427,
          0.5902819780517904,
          0.3521336835525418,
          -0.47410642666534136,
          -1.1966471740352314,
          -0.6828607642116732,
          -1.011661714759275,
          -1.905834151795708,
          0.9973400152016139,
          0.4597725013627585,
          -0.7315311070057287,
          -0.4033761447760559,
          -0.7193598651158356,
          0.6435615542100579
         ]
        }
       ],
       "layout": {
        "barmode": "overlay",
        "legend": {
         "bgcolor": "#F5F6F9",
         "font": {
          "color": "#4D5663"
         }
        },
        "paper_bgcolor": "#F5F6F9",
        "plot_bgcolor": "#F5F6F9",
        "template": {
         "data": {
          "bar": [
           {
            "error_x": {
             "color": "#2a3f5f"
            },
            "error_y": {
             "color": "#2a3f5f"
            },
            "marker": {
             "line": {
              "color": "#E5ECF6",
              "width": 0.5
             },
             "pattern": {
              "fillmode": "overlay",
              "size": 10,
              "solidity": 0.2
             }
            },
            "type": "bar"
           }
          ],
          "barpolar": [
           {
            "marker": {
             "line": {
              "color": "#E5ECF6",
              "width": 0.5
             },
             "pattern": {
              "fillmode": "overlay",
              "size": 10,
              "solidity": 0.2
             }
            },
            "type": "barpolar"
           }
          ],
          "carpet": [
           {
            "aaxis": {
             "endlinecolor": "#2a3f5f",
             "gridcolor": "white",
             "linecolor": "white",
             "minorgridcolor": "white",
             "startlinecolor": "#2a3f5f"
            },
            "baxis": {
             "endlinecolor": "#2a3f5f",
             "gridcolor": "white",
             "linecolor": "white",
             "minorgridcolor": "white",
             "startlinecolor": "#2a3f5f"
            },
            "type": "carpet"
           }
          ],
          "choropleth": [
           {
            "colorbar": {
             "outlinewidth": 0,
             "ticks": ""
            },
            "type": "choropleth"
           }
          ],
          "contour": [
           {
            "colorbar": {
             "outlinewidth": 0,
             "ticks": ""
            },
            "colorscale": [
             [
              0,
              "#0d0887"
             ],
             [
              0.1111111111111111,
              "#46039f"
             ],
             [
              0.2222222222222222,
              "#7201a8"
             ],
             [
              0.3333333333333333,
              "#9c179e"
             ],
             [
              0.4444444444444444,
              "#bd3786"
             ],
             [
              0.5555555555555556,
              "#d8576b"
             ],
             [
              0.6666666666666666,
              "#ed7953"
             ],
             [
              0.7777777777777778,
              "#fb9f3a"
             ],
             [
              0.8888888888888888,
              "#fdca26"
             ],
             [
              1,
              "#f0f921"
             ]
            ],
            "type": "contour"
           }
          ],
          "contourcarpet": [
           {
            "colorbar": {
             "outlinewidth": 0,
             "ticks": ""
            },
            "type": "contourcarpet"
           }
          ],
          "heatmap": [
           {
            "colorbar": {
             "outlinewidth": 0,
             "ticks": ""
            },
            "colorscale": [
             [
              0,
              "#0d0887"
             ],
             [
              0.1111111111111111,
              "#46039f"
             ],
             [
              0.2222222222222222,
              "#7201a8"
             ],
             [
              0.3333333333333333,
              "#9c179e"
             ],
             [
              0.4444444444444444,
              "#bd3786"
             ],
             [
              0.5555555555555556,
              "#d8576b"
             ],
             [
              0.6666666666666666,
              "#ed7953"
             ],
             [
              0.7777777777777778,
              "#fb9f3a"
             ],
             [
              0.8888888888888888,
              "#fdca26"
             ],
             [
              1,
              "#f0f921"
             ]
            ],
            "type": "heatmap"
           }
          ],
          "heatmapgl": [
           {
            "colorbar": {
             "outlinewidth": 0,
             "ticks": ""
            },
            "colorscale": [
             [
              0,
              "#0d0887"
             ],
             [
              0.1111111111111111,
              "#46039f"
             ],
             [
              0.2222222222222222,
              "#7201a8"
             ],
             [
              0.3333333333333333,
              "#9c179e"
             ],
             [
              0.4444444444444444,
              "#bd3786"
             ],
             [
              0.5555555555555556,
              "#d8576b"
             ],
             [
              0.6666666666666666,
              "#ed7953"
             ],
             [
              0.7777777777777778,
              "#fb9f3a"
             ],
             [
              0.8888888888888888,
              "#fdca26"
             ],
             [
              1,
              "#f0f921"
             ]
            ],
            "type": "heatmapgl"
           }
          ],
          "histogram": [
           {
            "marker": {
             "pattern": {
              "fillmode": "overlay",
              "size": 10,
              "solidity": 0.2
             }
            },
            "type": "histogram"
           }
          ],
          "histogram2d": [
           {
            "colorbar": {
             "outlinewidth": 0,
             "ticks": ""
            },
            "colorscale": [
             [
              0,
              "#0d0887"
             ],
             [
              0.1111111111111111,
              "#46039f"
             ],
             [
              0.2222222222222222,
              "#7201a8"
             ],
             [
              0.3333333333333333,
              "#9c179e"
             ],
             [
              0.4444444444444444,
              "#bd3786"
             ],
             [
              0.5555555555555556,
              "#d8576b"
             ],
             [
              0.6666666666666666,
              "#ed7953"
             ],
             [
              0.7777777777777778,
              "#fb9f3a"
             ],
             [
              0.8888888888888888,
              "#fdca26"
             ],
             [
              1,
              "#f0f921"
             ]
            ],
            "type": "histogram2d"
           }
          ],
          "histogram2dcontour": [
           {
            "colorbar": {
             "outlinewidth": 0,
             "ticks": ""
            },
            "colorscale": [
             [
              0,
              "#0d0887"
             ],
             [
              0.1111111111111111,
              "#46039f"
             ],
             [
              0.2222222222222222,
              "#7201a8"
             ],
             [
              0.3333333333333333,
              "#9c179e"
             ],
             [
              0.4444444444444444,
              "#bd3786"
             ],
             [
              0.5555555555555556,
              "#d8576b"
             ],
             [
              0.6666666666666666,
              "#ed7953"
             ],
             [
              0.7777777777777778,
              "#fb9f3a"
             ],
             [
              0.8888888888888888,
              "#fdca26"
             ],
             [
              1,
              "#f0f921"
             ]
            ],
            "type": "histogram2dcontour"
           }
          ],
          "mesh3d": [
           {
            "colorbar": {
             "outlinewidth": 0,
             "ticks": ""
            },
            "type": "mesh3d"
           }
          ],
          "parcoords": [
           {
            "line": {
             "colorbar": {
              "outlinewidth": 0,
              "ticks": ""
             }
            },
            "type": "parcoords"
           }
          ],
          "pie": [
           {
            "automargin": true,
            "type": "pie"
           }
          ],
          "scatter": [
           {
            "fillpattern": {
             "fillmode": "overlay",
             "size": 10,
             "solidity": 0.2
            },
            "type": "scatter"
           }
          ],
          "scatter3d": [
           {
            "line": {
             "colorbar": {
              "outlinewidth": 0,
              "ticks": ""
             }
            },
            "marker": {
             "colorbar": {
              "outlinewidth": 0,
              "ticks": ""
             }
            },
            "type": "scatter3d"
           }
          ],
          "scattercarpet": [
           {
            "marker": {
             "colorbar": {
              "outlinewidth": 0,
              "ticks": ""
             }
            },
            "type": "scattercarpet"
           }
          ],
          "scattergeo": [
           {
            "marker": {
             "colorbar": {
              "outlinewidth": 0,
              "ticks": ""
             }
            },
            "type": "scattergeo"
           }
          ],
          "scattergl": [
           {
            "marker": {
             "colorbar": {
              "outlinewidth": 0,
              "ticks": ""
             }
            },
            "type": "scattergl"
           }
          ],
          "scattermapbox": [
           {
            "marker": {
             "colorbar": {
              "outlinewidth": 0,
              "ticks": ""
             }
            },
            "type": "scattermapbox"
           }
          ],
          "scatterpolar": [
           {
            "marker": {
             "colorbar": {
              "outlinewidth": 0,
              "ticks": ""
             }
            },
            "type": "scatterpolar"
           }
          ],
          "scatterpolargl": [
           {
            "marker": {
             "colorbar": {
              "outlinewidth": 0,
              "ticks": ""
             }
            },
            "type": "scatterpolargl"
           }
          ],
          "scatterternary": [
           {
            "marker": {
             "colorbar": {
              "outlinewidth": 0,
              "ticks": ""
             }
            },
            "type": "scatterternary"
           }
          ],
          "surface": [
           {
            "colorbar": {
             "outlinewidth": 0,
             "ticks": ""
            },
            "colorscale": [
             [
              0,
              "#0d0887"
             ],
             [
              0.1111111111111111,
              "#46039f"
             ],
             [
              0.2222222222222222,
              "#7201a8"
             ],
             [
              0.3333333333333333,
              "#9c179e"
             ],
             [
              0.4444444444444444,
              "#bd3786"
             ],
             [
              0.5555555555555556,
              "#d8576b"
             ],
             [
              0.6666666666666666,
              "#ed7953"
             ],
             [
              0.7777777777777778,
              "#fb9f3a"
             ],
             [
              0.8888888888888888,
              "#fdca26"
             ],
             [
              1,
              "#f0f921"
             ]
            ],
            "type": "surface"
           }
          ],
          "table": [
           {
            "cells": {
             "fill": {
              "color": "#EBF0F8"
             },
             "line": {
              "color": "white"
             }
            },
            "header": {
             "fill": {
              "color": "#C8D4E3"
             },
             "line": {
              "color": "white"
             }
            },
            "type": "table"
           }
          ]
         },
         "layout": {
          "annotationdefaults": {
           "arrowcolor": "#2a3f5f",
           "arrowhead": 0,
           "arrowwidth": 1
          },
          "autotypenumbers": "strict",
          "coloraxis": {
           "colorbar": {
            "outlinewidth": 0,
            "ticks": ""
           }
          },
          "colorscale": {
           "diverging": [
            [
             0,
             "#8e0152"
            ],
            [
             0.1,
             "#c51b7d"
            ],
            [
             0.2,
             "#de77ae"
            ],
            [
             0.3,
             "#f1b6da"
            ],
            [
             0.4,
             "#fde0ef"
            ],
            [
             0.5,
             "#f7f7f7"
            ],
            [
             0.6,
             "#e6f5d0"
            ],
            [
             0.7,
             "#b8e186"
            ],
            [
             0.8,
             "#7fbc41"
            ],
            [
             0.9,
             "#4d9221"
            ],
            [
             1,
             "#276419"
            ]
           ],
           "sequential": [
            [
             0,
             "#0d0887"
            ],
            [
             0.1111111111111111,
             "#46039f"
            ],
            [
             0.2222222222222222,
             "#7201a8"
            ],
            [
             0.3333333333333333,
             "#9c179e"
            ],
            [
             0.4444444444444444,
             "#bd3786"
            ],
            [
             0.5555555555555556,
             "#d8576b"
            ],
            [
             0.6666666666666666,
             "#ed7953"
            ],
            [
             0.7777777777777778,
             "#fb9f3a"
            ],
            [
             0.8888888888888888,
             "#fdca26"
            ],
            [
             1,
             "#f0f921"
            ]
           ],
           "sequentialminus": [
            [
             0,
             "#0d0887"
            ],
            [
             0.1111111111111111,
             "#46039f"
            ],
            [
             0.2222222222222222,
             "#7201a8"
            ],
            [
             0.3333333333333333,
             "#9c179e"
            ],
            [
             0.4444444444444444,
             "#bd3786"
            ],
            [
             0.5555555555555556,
             "#d8576b"
            ],
            [
             0.6666666666666666,
             "#ed7953"
            ],
            [
             0.7777777777777778,
             "#fb9f3a"
            ],
            [
             0.8888888888888888,
             "#fdca26"
            ],
            [
             1,
             "#f0f921"
            ]
           ]
          },
          "colorway": [
           "#636efa",
           "#EF553B",
           "#00cc96",
           "#ab63fa",
           "#FFA15A",
           "#19d3f3",
           "#FF6692",
           "#B6E880",
           "#FF97FF",
           "#FECB52"
          ],
          "font": {
           "color": "#2a3f5f"
          },
          "geo": {
           "bgcolor": "white",
           "lakecolor": "white",
           "landcolor": "#E5ECF6",
           "showlakes": true,
           "showland": true,
           "subunitcolor": "white"
          },
          "hoverlabel": {
           "align": "left"
          },
          "hovermode": "closest",
          "mapbox": {
           "style": "light"
          },
          "paper_bgcolor": "white",
          "plot_bgcolor": "#E5ECF6",
          "polar": {
           "angularaxis": {
            "gridcolor": "white",
            "linecolor": "white",
            "ticks": ""
           },
           "bgcolor": "#E5ECF6",
           "radialaxis": {
            "gridcolor": "white",
            "linecolor": "white",
            "ticks": ""
           }
          },
          "scene": {
           "xaxis": {
            "backgroundcolor": "#E5ECF6",
            "gridcolor": "white",
            "gridwidth": 2,
            "linecolor": "white",
            "showbackground": true,
            "ticks": "",
            "zerolinecolor": "white"
           },
           "yaxis": {
            "backgroundcolor": "#E5ECF6",
            "gridcolor": "white",
            "gridwidth": 2,
            "linecolor": "white",
            "showbackground": true,
            "ticks": "",
            "zerolinecolor": "white"
           },
           "zaxis": {
            "backgroundcolor": "#E5ECF6",
            "gridcolor": "white",
            "gridwidth": 2,
            "linecolor": "white",
            "showbackground": true,
            "ticks": "",
            "zerolinecolor": "white"
           }
          },
          "shapedefaults": {
           "line": {
            "color": "#2a3f5f"
           }
          },
          "ternary": {
           "aaxis": {
            "gridcolor": "white",
            "linecolor": "white",
            "ticks": ""
           },
           "baxis": {
            "gridcolor": "white",
            "linecolor": "white",
            "ticks": ""
           },
           "bgcolor": "#E5ECF6",
           "caxis": {
            "gridcolor": "white",
            "linecolor": "white",
            "ticks": ""
           }
          },
          "title": {
           "x": 0.05
          },
          "xaxis": {
           "automargin": true,
           "gridcolor": "white",
           "linecolor": "white",
           "ticks": "",
           "title": {
            "standoff": 15
           },
           "zerolinecolor": "white",
           "zerolinewidth": 2
          },
          "yaxis": {
           "automargin": true,
           "gridcolor": "white",
           "linecolor": "white",
           "ticks": "",
           "title": {
            "standoff": 15
           },
           "zerolinecolor": "white",
           "zerolinewidth": 2
          }
         }
        },
        "title": {
         "font": {
          "color": "#4D5663"
         }
        },
        "xaxis": {
         "gridcolor": "#E1E5ED",
         "showgrid": true,
         "tickfont": {
          "color": "#4D5663"
         },
         "title": {
          "font": {
           "color": "#4D5663"
          },
          "text": ""
         },
         "zerolinecolor": "#E1E5ED"
        },
        "yaxis": {
         "gridcolor": "#E1E5ED",
         "showgrid": true,
         "tickfont": {
          "color": "#4D5663"
         },
         "title": {
          "font": {
           "color": "#4D5663"
          },
          "text": ""
         },
         "zerolinecolor": "#E1E5ED"
        }
       }
      },
      "text/html": [
       "<div>                            <div id=\"a07f9833-b69e-4005-9718-37c927a9fa48\" class=\"plotly-graph-div\" style=\"height:525px; width:100%;\"></div>            <script type=\"text/javascript\">                require([\"plotly\"], function(Plotly) {                    window.PLOTLYENV=window.PLOTLYENV || {};\n",
       "                    window.PLOTLYENV.BASE_URL='https://plot.ly';                                    if (document.getElementById(\"a07f9833-b69e-4005-9718-37c927a9fa48\")) {                    Plotly.newPlot(                        \"a07f9833-b69e-4005-9718-37c927a9fa48\",                        [{\"histfunc\":\"count\",\"histnorm\":\"\",\"marker\":{\"color\":\"rgba(255, 153, 51, 1.0)\",\"line\":{\"color\":\"#4D5663\",\"width\":1.3}},\"name\":\"A\",\"nbinsx\":50,\"opacity\":0.8,\"orientation\":\"v\",\"x\":[-0.22811627589074476,0.6787238832591042,1.6515060543232125,-0.6604782349724839,-0.5196249994745574,0.02055969042282577,-0.4397107068570352,0.41406042035964086,0.4108425293363018,0.8645542364829347,0.2119146464712936,0.6517328492837595,-0.3299934644424242,-0.48702899121525334,-0.22200897985421947,-0.8047818862898786,-1.1845906796308772,-0.4978353907798658,1.621167298309641,0.8224618564100735,-1.2902079390988175,0.01461791408133816,1.1410522269583148,0.8280874098673555,2.023735414640705,-0.4865637083260705,1.0389367638584508,1.2276962498928554,-0.18944754493862276,-0.14976216719342267,0.683583165072884,0.3239156424744562,-0.0719760168952608,-0.6378580170038229,-0.15493703777823922,1.7894814413117488,2.0184945323868257,0.20753608984329258,0.1978779128445857,1.0659510071385676,0.6558923317899069,-0.9926693302856021,-1.5682107352009464,-0.5753024096779175,-0.029614920045432938,-2.467749324540253,1.5160313978127993,-1.0111094337666988,0.36344209841536307,0.647623158788987,1.4071695619594518,0.5351397311767255,-0.04656114960512062,2.1664962354930863,0.14060328416534093,-0.8352079111291246,-0.9905325268254492,0.3027127572771243,-0.6970889943202017,-0.17485657057263013,0.1868467778262092,-0.9286776558514568,-0.03202384444914497,1.1188291288859542,1.0977932423879886,0.3465054154720146,-0.033836252989438084,-0.524395948545605,-1.031014258748993,-1.0769206345804534,-0.7197159862369726,1.13568672086204,-0.006894158362355122,-0.1625407442294256,-0.004439264787613177,0.22346207717106653,-0.6338247075959175,0.2830031950943066,-0.2842757783063089,-1.6745075707344477,-0.6599566325743017,0.11755418565563681,-0.8551230708313902,-1.4443938044070246,-1.7237423856954894,0.09323476948011054,-2.0237980294421427,0.5902819780517904,0.3521336835525418,-0.47410642666534136,-1.1966471740352314,-0.6828607642116732,-1.011661714759275,-1.905834151795708,0.9973400152016139,0.4597725013627585,-0.7315311070057287,-0.4033761447760559,-0.7193598651158356,0.6435615542100579],\"type\":\"histogram\"}],                        {\"barmode\":\"overlay\",\"legend\":{\"bgcolor\":\"#F5F6F9\",\"font\":{\"color\":\"#4D5663\"}},\"paper_bgcolor\":\"#F5F6F9\",\"plot_bgcolor\":\"#F5F6F9\",\"template\":{\"data\":{\"barpolar\":[{\"marker\":{\"line\":{\"color\":\"#E5ECF6\",\"width\":0.5},\"pattern\":{\"fillmode\":\"overlay\",\"size\":10,\"solidity\":0.2}},\"type\":\"barpolar\"}],\"bar\":[{\"error_x\":{\"color\":\"#2a3f5f\"},\"error_y\":{\"color\":\"#2a3f5f\"},\"marker\":{\"line\":{\"color\":\"#E5ECF6\",\"width\":0.5},\"pattern\":{\"fillmode\":\"overlay\",\"size\":10,\"solidity\":0.2}},\"type\":\"bar\"}],\"carpet\":[{\"aaxis\":{\"endlinecolor\":\"#2a3f5f\",\"gridcolor\":\"white\",\"linecolor\":\"white\",\"minorgridcolor\":\"white\",\"startlinecolor\":\"#2a3f5f\"},\"baxis\":{\"endlinecolor\":\"#2a3f5f\",\"gridcolor\":\"white\",\"linecolor\":\"white\",\"minorgridcolor\":\"white\",\"startlinecolor\":\"#2a3f5f\"},\"type\":\"carpet\"}],\"choropleth\":[{\"colorbar\":{\"outlinewidth\":0,\"ticks\":\"\"},\"type\":\"choropleth\"}],\"contourcarpet\":[{\"colorbar\":{\"outlinewidth\":0,\"ticks\":\"\"},\"type\":\"contourcarpet\"}],\"contour\":[{\"colorbar\":{\"outlinewidth\":0,\"ticks\":\"\"},\"colorscale\":[[0.0,\"#0d0887\"],[0.1111111111111111,\"#46039f\"],[0.2222222222222222,\"#7201a8\"],[0.3333333333333333,\"#9c179e\"],[0.4444444444444444,\"#bd3786\"],[0.5555555555555556,\"#d8576b\"],[0.6666666666666666,\"#ed7953\"],[0.7777777777777778,\"#fb9f3a\"],[0.8888888888888888,\"#fdca26\"],[1.0,\"#f0f921\"]],\"type\":\"contour\"}],\"heatmapgl\":[{\"colorbar\":{\"outlinewidth\":0,\"ticks\":\"\"},\"colorscale\":[[0.0,\"#0d0887\"],[0.1111111111111111,\"#46039f\"],[0.2222222222222222,\"#7201a8\"],[0.3333333333333333,\"#9c179e\"],[0.4444444444444444,\"#bd3786\"],[0.5555555555555556,\"#d8576b\"],[0.6666666666666666,\"#ed7953\"],[0.7777777777777778,\"#fb9f3a\"],[0.8888888888888888,\"#fdca26\"],[1.0,\"#f0f921\"]],\"type\":\"heatmapgl\"}],\"heatmap\":[{\"colorbar\":{\"outlinewidth\":0,\"ticks\":\"\"},\"colorscale\":[[0.0,\"#0d0887\"],[0.1111111111111111,\"#46039f\"],[0.2222222222222222,\"#7201a8\"],[0.3333333333333333,\"#9c179e\"],[0.4444444444444444,\"#bd3786\"],[0.5555555555555556,\"#d8576b\"],[0.6666666666666666,\"#ed7953\"],[0.7777777777777778,\"#fb9f3a\"],[0.8888888888888888,\"#fdca26\"],[1.0,\"#f0f921\"]],\"type\":\"heatmap\"}],\"histogram2dcontour\":[{\"colorbar\":{\"outlinewidth\":0,\"ticks\":\"\"},\"colorscale\":[[0.0,\"#0d0887\"],[0.1111111111111111,\"#46039f\"],[0.2222222222222222,\"#7201a8\"],[0.3333333333333333,\"#9c179e\"],[0.4444444444444444,\"#bd3786\"],[0.5555555555555556,\"#d8576b\"],[0.6666666666666666,\"#ed7953\"],[0.7777777777777778,\"#fb9f3a\"],[0.8888888888888888,\"#fdca26\"],[1.0,\"#f0f921\"]],\"type\":\"histogram2dcontour\"}],\"histogram2d\":[{\"colorbar\":{\"outlinewidth\":0,\"ticks\":\"\"},\"colorscale\":[[0.0,\"#0d0887\"],[0.1111111111111111,\"#46039f\"],[0.2222222222222222,\"#7201a8\"],[0.3333333333333333,\"#9c179e\"],[0.4444444444444444,\"#bd3786\"],[0.5555555555555556,\"#d8576b\"],[0.6666666666666666,\"#ed7953\"],[0.7777777777777778,\"#fb9f3a\"],[0.8888888888888888,\"#fdca26\"],[1.0,\"#f0f921\"]],\"type\":\"histogram2d\"}],\"histogram\":[{\"marker\":{\"pattern\":{\"fillmode\":\"overlay\",\"size\":10,\"solidity\":0.2}},\"type\":\"histogram\"}],\"mesh3d\":[{\"colorbar\":{\"outlinewidth\":0,\"ticks\":\"\"},\"type\":\"mesh3d\"}],\"parcoords\":[{\"line\":{\"colorbar\":{\"outlinewidth\":0,\"ticks\":\"\"}},\"type\":\"parcoords\"}],\"pie\":[{\"automargin\":true,\"type\":\"pie\"}],\"scatter3d\":[{\"line\":{\"colorbar\":{\"outlinewidth\":0,\"ticks\":\"\"}},\"marker\":{\"colorbar\":{\"outlinewidth\":0,\"ticks\":\"\"}},\"type\":\"scatter3d\"}],\"scattercarpet\":[{\"marker\":{\"colorbar\":{\"outlinewidth\":0,\"ticks\":\"\"}},\"type\":\"scattercarpet\"}],\"scattergeo\":[{\"marker\":{\"colorbar\":{\"outlinewidth\":0,\"ticks\":\"\"}},\"type\":\"scattergeo\"}],\"scattergl\":[{\"marker\":{\"colorbar\":{\"outlinewidth\":0,\"ticks\":\"\"}},\"type\":\"scattergl\"}],\"scattermapbox\":[{\"marker\":{\"colorbar\":{\"outlinewidth\":0,\"ticks\":\"\"}},\"type\":\"scattermapbox\"}],\"scatterpolargl\":[{\"marker\":{\"colorbar\":{\"outlinewidth\":0,\"ticks\":\"\"}},\"type\":\"scatterpolargl\"}],\"scatterpolar\":[{\"marker\":{\"colorbar\":{\"outlinewidth\":0,\"ticks\":\"\"}},\"type\":\"scatterpolar\"}],\"scatter\":[{\"fillpattern\":{\"fillmode\":\"overlay\",\"size\":10,\"solidity\":0.2},\"type\":\"scatter\"}],\"scatterternary\":[{\"marker\":{\"colorbar\":{\"outlinewidth\":0,\"ticks\":\"\"}},\"type\":\"scatterternary\"}],\"surface\":[{\"colorbar\":{\"outlinewidth\":0,\"ticks\":\"\"},\"colorscale\":[[0.0,\"#0d0887\"],[0.1111111111111111,\"#46039f\"],[0.2222222222222222,\"#7201a8\"],[0.3333333333333333,\"#9c179e\"],[0.4444444444444444,\"#bd3786\"],[0.5555555555555556,\"#d8576b\"],[0.6666666666666666,\"#ed7953\"],[0.7777777777777778,\"#fb9f3a\"],[0.8888888888888888,\"#fdca26\"],[1.0,\"#f0f921\"]],\"type\":\"surface\"}],\"table\":[{\"cells\":{\"fill\":{\"color\":\"#EBF0F8\"},\"line\":{\"color\":\"white\"}},\"header\":{\"fill\":{\"color\":\"#C8D4E3\"},\"line\":{\"color\":\"white\"}},\"type\":\"table\"}]},\"layout\":{\"annotationdefaults\":{\"arrowcolor\":\"#2a3f5f\",\"arrowhead\":0,\"arrowwidth\":1},\"autotypenumbers\":\"strict\",\"coloraxis\":{\"colorbar\":{\"outlinewidth\":0,\"ticks\":\"\"}},\"colorscale\":{\"diverging\":[[0,\"#8e0152\"],[0.1,\"#c51b7d\"],[0.2,\"#de77ae\"],[0.3,\"#f1b6da\"],[0.4,\"#fde0ef\"],[0.5,\"#f7f7f7\"],[0.6,\"#e6f5d0\"],[0.7,\"#b8e186\"],[0.8,\"#7fbc41\"],[0.9,\"#4d9221\"],[1,\"#276419\"]],\"sequential\":[[0.0,\"#0d0887\"],[0.1111111111111111,\"#46039f\"],[0.2222222222222222,\"#7201a8\"],[0.3333333333333333,\"#9c179e\"],[0.4444444444444444,\"#bd3786\"],[0.5555555555555556,\"#d8576b\"],[0.6666666666666666,\"#ed7953\"],[0.7777777777777778,\"#fb9f3a\"],[0.8888888888888888,\"#fdca26\"],[1.0,\"#f0f921\"]],\"sequentialminus\":[[0.0,\"#0d0887\"],[0.1111111111111111,\"#46039f\"],[0.2222222222222222,\"#7201a8\"],[0.3333333333333333,\"#9c179e\"],[0.4444444444444444,\"#bd3786\"],[0.5555555555555556,\"#d8576b\"],[0.6666666666666666,\"#ed7953\"],[0.7777777777777778,\"#fb9f3a\"],[0.8888888888888888,\"#fdca26\"],[1.0,\"#f0f921\"]]},\"colorway\":[\"#636efa\",\"#EF553B\",\"#00cc96\",\"#ab63fa\",\"#FFA15A\",\"#19d3f3\",\"#FF6692\",\"#B6E880\",\"#FF97FF\",\"#FECB52\"],\"font\":{\"color\":\"#2a3f5f\"},\"geo\":{\"bgcolor\":\"white\",\"lakecolor\":\"white\",\"landcolor\":\"#E5ECF6\",\"showlakes\":true,\"showland\":true,\"subunitcolor\":\"white\"},\"hoverlabel\":{\"align\":\"left\"},\"hovermode\":\"closest\",\"mapbox\":{\"style\":\"light\"},\"paper_bgcolor\":\"white\",\"plot_bgcolor\":\"#E5ECF6\",\"polar\":{\"angularaxis\":{\"gridcolor\":\"white\",\"linecolor\":\"white\",\"ticks\":\"\"},\"bgcolor\":\"#E5ECF6\",\"radialaxis\":{\"gridcolor\":\"white\",\"linecolor\":\"white\",\"ticks\":\"\"}},\"scene\":{\"xaxis\":{\"backgroundcolor\":\"#E5ECF6\",\"gridcolor\":\"white\",\"gridwidth\":2,\"linecolor\":\"white\",\"showbackground\":true,\"ticks\":\"\",\"zerolinecolor\":\"white\"},\"yaxis\":{\"backgroundcolor\":\"#E5ECF6\",\"gridcolor\":\"white\",\"gridwidth\":2,\"linecolor\":\"white\",\"showbackground\":true,\"ticks\":\"\",\"zerolinecolor\":\"white\"},\"zaxis\":{\"backgroundcolor\":\"#E5ECF6\",\"gridcolor\":\"white\",\"gridwidth\":2,\"linecolor\":\"white\",\"showbackground\":true,\"ticks\":\"\",\"zerolinecolor\":\"white\"}},\"shapedefaults\":{\"line\":{\"color\":\"#2a3f5f\"}},\"ternary\":{\"aaxis\":{\"gridcolor\":\"white\",\"linecolor\":\"white\",\"ticks\":\"\"},\"baxis\":{\"gridcolor\":\"white\",\"linecolor\":\"white\",\"ticks\":\"\"},\"bgcolor\":\"#E5ECF6\",\"caxis\":{\"gridcolor\":\"white\",\"linecolor\":\"white\",\"ticks\":\"\"}},\"title\":{\"x\":0.05},\"xaxis\":{\"automargin\":true,\"gridcolor\":\"white\",\"linecolor\":\"white\",\"ticks\":\"\",\"title\":{\"standoff\":15},\"zerolinecolor\":\"white\",\"zerolinewidth\":2},\"yaxis\":{\"automargin\":true,\"gridcolor\":\"white\",\"linecolor\":\"white\",\"ticks\":\"\",\"title\":{\"standoff\":15},\"zerolinecolor\":\"white\",\"zerolinewidth\":2}}},\"title\":{\"font\":{\"color\":\"#4D5663\"}},\"xaxis\":{\"gridcolor\":\"#E1E5ED\",\"showgrid\":true,\"tickfont\":{\"color\":\"#4D5663\"},\"title\":{\"font\":{\"color\":\"#4D5663\"},\"text\":\"\"},\"zerolinecolor\":\"#E1E5ED\"},\"yaxis\":{\"gridcolor\":\"#E1E5ED\",\"showgrid\":true,\"tickfont\":{\"color\":\"#4D5663\"},\"title\":{\"font\":{\"color\":\"#4D5663\"},\"text\":\"\"},\"zerolinecolor\":\"#E1E5ED\"}},                        {\"showLink\": true, \"linkText\": \"Export to plot.ly\", \"plotlyServerURL\": \"https://plot.ly\", \"responsive\": true}                    ).then(function(){\n",
       "                            \n",
       "var gd = document.getElementById('a07f9833-b69e-4005-9718-37c927a9fa48');\n",
       "var x = new MutationObserver(function (mutations, observer) {{\n",
       "        var display = window.getComputedStyle(gd).display;\n",
       "        if (!display || display === 'none') {{\n",
       "            console.log([gd, 'removed!']);\n",
       "            Plotly.purge(gd);\n",
       "            observer.disconnect();\n",
       "        }}\n",
       "}});\n",
       "\n",
       "// Listen for the removal of the full notebook cells\n",
       "var notebookContainer = gd.closest('#notebook-container');\n",
       "if (notebookContainer) {{\n",
       "    x.observe(notebookContainer, {childList: true});\n",
       "}}\n",
       "\n",
       "// Listen for the clearing of the current output cell\n",
       "var outputEl = gd.closest('.output');\n",
       "if (outputEl) {{\n",
       "    x.observe(outputEl, {childList: true});\n",
       "}}\n",
       "\n",
       "                        })                };                });            </script>        </div>"
      ]
     },
     "metadata": {},
     "output_type": "display_data"
    }
   ],
   "source": [
    "df['A'].iplot(kind='hist',bins=50)"
   ]
  },
  {
   "cell_type": "code",
   "execution_count": 14,
   "id": "1fd855fe",
   "metadata": {},
   "outputs": [
    {
     "data": {
      "application/vnd.plotly.v1+json": {
       "config": {
        "linkText": "Export to plot.ly",
        "plotlyServerURL": "https://plot.ly",
        "showLink": true
       },
       "data": [
        {
         "histfunc": "count",
         "histnorm": "",
         "marker": {
          "color": "rgba(255, 153, 51, 1.0)",
          "line": {
           "color": "#4D5663",
           "width": 1.3
          }
         },
         "name": "A",
         "opacity": 0.8,
         "orientation": "v",
         "type": "histogram",
         "x": [
          -0.22811627589074476,
          0.6787238832591042,
          1.6515060543232125,
          -0.6604782349724839,
          -0.5196249994745574,
          0.02055969042282577,
          -0.4397107068570352,
          0.41406042035964086,
          0.4108425293363018,
          0.8645542364829347,
          0.2119146464712936,
          0.6517328492837595,
          -0.3299934644424242,
          -0.48702899121525334,
          -0.22200897985421947,
          -0.8047818862898786,
          -1.1845906796308772,
          -0.4978353907798658,
          1.621167298309641,
          0.8224618564100735,
          -1.2902079390988175,
          0.01461791408133816,
          1.1410522269583148,
          0.8280874098673555,
          2.023735414640705,
          -0.4865637083260705,
          1.0389367638584508,
          1.2276962498928554,
          -0.18944754493862276,
          -0.14976216719342267,
          0.683583165072884,
          0.3239156424744562,
          -0.0719760168952608,
          -0.6378580170038229,
          -0.15493703777823922,
          1.7894814413117488,
          2.0184945323868257,
          0.20753608984329258,
          0.1978779128445857,
          1.0659510071385676,
          0.6558923317899069,
          -0.9926693302856021,
          -1.5682107352009464,
          -0.5753024096779175,
          -0.029614920045432938,
          -2.467749324540253,
          1.5160313978127993,
          -1.0111094337666988,
          0.36344209841536307,
          0.647623158788987,
          1.4071695619594518,
          0.5351397311767255,
          -0.04656114960512062,
          2.1664962354930863,
          0.14060328416534093,
          -0.8352079111291246,
          -0.9905325268254492,
          0.3027127572771243,
          -0.6970889943202017,
          -0.17485657057263013,
          0.1868467778262092,
          -0.9286776558514568,
          -0.03202384444914497,
          1.1188291288859542,
          1.0977932423879886,
          0.3465054154720146,
          -0.033836252989438084,
          -0.524395948545605,
          -1.031014258748993,
          -1.0769206345804534,
          -0.7197159862369726,
          1.13568672086204,
          -0.006894158362355122,
          -0.1625407442294256,
          -0.004439264787613177,
          0.22346207717106653,
          -0.6338247075959175,
          0.2830031950943066,
          -0.2842757783063089,
          -1.6745075707344477,
          -0.6599566325743017,
          0.11755418565563681,
          -0.8551230708313902,
          -1.4443938044070246,
          -1.7237423856954894,
          0.09323476948011054,
          -2.0237980294421427,
          0.5902819780517904,
          0.3521336835525418,
          -0.47410642666534136,
          -1.1966471740352314,
          -0.6828607642116732,
          -1.011661714759275,
          -1.905834151795708,
          0.9973400152016139,
          0.4597725013627585,
          -0.7315311070057287,
          -0.4033761447760559,
          -0.7193598651158356,
          0.6435615542100579
         ]
        },
        {
         "histfunc": "count",
         "histnorm": "",
         "marker": {
          "color": "rgba(55, 128, 191, 1.0)",
          "line": {
           "color": "#4D5663",
           "width": 1.3
          }
         },
         "name": "B",
         "opacity": 0.8,
         "orientation": "v",
         "type": "histogram",
         "x": [
          0.9852938519840362,
          -0.4142711665345483,
          -0.2993862088212026,
          -1.080158167641829,
          -0.5951615936768305,
          -1.061425559875092,
          -2.7120885483534254,
          -0.03149120113084428,
          -1.5755214690475732,
          0.35761998845734294,
          0.4201604838130015,
          -1.1872547692853608,
          2.2288159685553848,
          -0.20694873379706547,
          -0.29857480676428755,
          0.30465302078098727,
          1.0883622736425371,
          -0.0833002929219233,
          -0.38598103288068203,
          -0.6178040341239334,
          0.4000253076879923,
          -0.22496101350698444,
          -0.6615503092076963,
          1.1112518007745142,
          -0.2547548208944747,
          -0.9505888187305093,
          0.5501125290824538,
          0.23886067040655298,
          0.3767793235919412,
          -1.555051768463564,
          -1.9539650845846017,
          2.068238468829256,
          -0.8857142929791774,
          -0.6360773222197956,
          0.028636021121702788,
          -2.023847184228603,
          -0.6237244217096115,
          -0.845385390133307,
          -0.7706269321010328,
          -0.04798704669675597,
          -0.7347074680924067,
          0.978796728799089,
          3.0844914729635744,
          -0.5714312651068356,
          -1.6259819149285943,
          1.1653242003578144,
          -1.2262408297083338,
          0.024679650851651188,
          1.2652123552822339,
          0.6042438676916213,
          -1.0103596451298062,
          -0.2561198417491012,
          2.0972955326499196,
          0.4931935169281666,
          1.6862523895127877,
          -0.9511409837911713,
          -0.7929340198874938,
          -0.9415624684146361,
          -0.8162447738001156,
          2.305955639896165,
          2.3533932732497136,
          -1.2371339798667005,
          -1.806957263001291,
          -0.6692886247575235,
          0.26981495743716416,
          0.7353214008885376,
          -1.9587844101207168,
          -0.08875047092515755,
          -0.5375446519047127,
          1.0306545150239066,
          -0.42317938725773774,
          -0.7853846371787755,
          0.16885879662634365,
          -0.21273402930876428,
          0.04677265239052718,
          -0.11032587082205524,
          -0.9759868080638875,
          0.37714721887378244,
          -0.040245610606096056,
          -0.3624201877979656,
          -0.7237478146887273,
          -1.136675383870532,
          -0.1762010463278863,
          1.5545539485620936,
          0.12269680380628893,
          -0.27014083531452854,
          -1.1515553777811576,
          0.5355925338371131,
          -0.08498431225411827,
          -0.14033789297750898,
          1.060065500408755,
          -1.5694109802935956,
          1.8141368208221966,
          0.15478352025223172,
          0.009957933182435623,
          1.1231976518480087,
          -0.5950752487108096,
          0.13513089474798265,
          -0.5046785342264216,
          -0.7705528646396353
         ]
        },
        {
         "histfunc": "count",
         "histnorm": "",
         "marker": {
          "color": "rgba(50, 171, 96, 1.0)",
          "line": {
           "color": "#4D5663",
           "width": 1.3
          }
         },
         "name": "C",
         "opacity": 0.8,
         "orientation": "v",
         "type": "histogram",
         "x": [
          0.549740637555539,
          1.260212332460787,
          -0.5946594830986801,
          -0.6948732218626511,
          0.9806073927395907,
          0.4683121610261346,
          -0.14818769004704696,
          0.3452122122268642,
          -1.8067691232641163,
          -1.634749788768707,
          0.034233289669643494,
          -0.28934928828013634,
          0.32812377951620214,
          0.32910794420280115,
          1.1800149358136531,
          -0.8883104448558582,
          1.7936312182763456,
          -1.5666609283533584,
          1.4935951700111614,
          1.0261130875524023,
          0.5686621646377112,
          1.195491738597137,
          1.3095645877703326,
          1.7126221351614856,
          0.20821042621572,
          -0.27245247382963683,
          2.958537074185334,
          1.1521131509256861,
          1.69688082665319,
          1.5997545873746062,
          0.06836165526771469,
          0.05095851489658768,
          -1.4062563167283229,
          0.8009205979754301,
          -2.007850998187997,
          -1.0300679042761605,
          -0.348139549205092,
          -1.043516895168186,
          1.4095532718016575,
          1.0041911259519434,
          -0.10881868601619357,
          0.10697557159210212,
          0.36064636756312696,
          1.7268526163803328,
          0.0036578654411822584,
          0.6828347123397909,
          1.1326183479954248,
          1.3874865661864886,
          -1.4670972916699903,
          1.2554137762048678,
          -0.05883706655082013,
          0.640467929128801,
          -1.5576002803382498,
          1.317810073417994,
          0.7840297996700045,
          0.11773756092765265,
          -0.8535184193794283,
          0.7521265450113909,
          -2.0219945595573225,
          0.6982664594996074,
          -0.2620284721963431,
          -1.790396731796199,
          0.08677610118195855,
          2.0392858394221696,
          0.12882730684197252,
          0.9441592452092047,
          -0.4412387464935074,
          0.4804899837716722,
          -0.27196138774531503,
          0.3117798836344818,
          1.9159999391458693,
          0.3295901499234422,
          -0.4753026306728736,
          0.8191594181634533,
          0.20911743135705846,
          3.314507374063461,
          -0.28695412412569543,
          0.9934315724042603,
          0.10427082656561551,
          0.5739208179449827,
          0.6572094223299806,
          -0.6210516174643926,
          -0.7331282059054588,
          0.40877428828802675,
          -1.231502433839762,
          -0.5966920119114699,
          0.5303734972703417,
          0.7550799210738212,
          -0.25252469721757065,
          -0.17321545632623547,
          0.34704125264602725,
          1.4002442896546903,
          -0.5411407508757214,
          -0.6556024467323619,
          0.4888717616646806,
          -0.6831645443609797,
          1.4107941387219316,
          -1.324146824510583,
          2.4098174170134476,
          1.6986283611221968
         ]
        },
        {
         "histfunc": "count",
         "histnorm": "",
         "marker": {
          "color": "rgba(128, 0, 128, 1.0)",
          "line": {
           "color": "#4D5663",
           "width": 1.3
          }
         },
         "name": "D",
         "opacity": 0.8,
         "orientation": "v",
         "type": "histogram",
         "x": [
          1.0361215242491195,
          0.6407853255491084,
          0.7063779456975104,
          1.8980826082085422,
          0.17187209395006434,
          1.1807930930152146,
          1.4961438288093272,
          -2.0446273869788087,
          1.1318022350041197,
          -1.1927329306327188,
          -0.3718357943680243,
          -1.103634637522285,
          0.68808333426337,
          -0.32682601948711265,
          -0.22521524060681247,
          -0.8974662083076845,
          0.6522682742848068,
          -0.7631185114850355,
          1.4212512473317818,
          -1.196434655579687,
          0.3376907200426193,
          -0.3972002950152537,
          -0.5455228930351891,
          -0.3423263609742087,
          -0.531908394142106,
          0.40697220160755143,
          -1.2245651337600438,
          -1.0957828536350458,
          0.44149574622144727,
          0.6671698451103586,
          -1.0434073030965116,
          1.087993748180064,
          0.8251029406890018,
          0.44954204545429655,
          -0.22719985689936456,
          -0.5422444776464004,
          -2.2324261138964956,
          0.9493595005097836,
          0.4777179691755005,
          -0.5354614446658382,
          -0.4982004714923975,
          -1.1476891696504472,
          -0.2296400044253678,
          0.9204126254454262,
          0.4175094038759765,
          1.3383812678252205,
          0.20393570092135996,
          0.3641768189742347,
          0.056298588785371646,
          1.790154924545487,
          0.35720133249961833,
          1.5064400671355258,
          -0.3019170893055426,
          -1.6578434496745653,
          0.8620146720247083,
          1.1500043106957927,
          0.2822494976777274,
          0.9566833862150375,
          -0.2685357041989318,
          -0.4884728273289955,
          1.2792079241497105,
          -0.7250228973636278,
          -1.2309532650323967,
          0.31197521426637215,
          1.0936944534891009,
          -0.32257914774238977,
          0.8932021180721614,
          1.8362910746299415,
          1.3306532682976469,
          0.7664840393967025,
          1.1502775594682741,
          1.3585620922843022,
          -0.5178200548823758,
          0.806793794387821,
          -0.09845903208504937,
          -1.4103456208172465,
          1.6151659629822908,
          0.06750180450915381,
          2.283053076806745,
          0.18240460302101436,
          -1.685931624410959,
          0.6047384305209671,
          0.6273165693400129,
          0.23627795320787906,
          -0.7447556824866209,
          -1.3722482088152015,
          0.6549064884581498,
          0.2246440447161041,
          -0.8268812754471794,
          -0.6793756327254308,
          1.76927828093296,
          0.8654601044043043,
          0.5927435118167454,
          0.10212959626793228,
          0.48969973682356716,
          -0.07640015800038846,
          0.03879598781609596,
          -0.14838855520956157,
          0.4444156340939495,
          -0.32794358382266386
         ]
        }
       ],
       "layout": {
        "barmode": "overlay",
        "legend": {
         "bgcolor": "#F5F6F9",
         "font": {
          "color": "#4D5663"
         }
        },
        "paper_bgcolor": "#F5F6F9",
        "plot_bgcolor": "#F5F6F9",
        "template": {
         "data": {
          "bar": [
           {
            "error_x": {
             "color": "#2a3f5f"
            },
            "error_y": {
             "color": "#2a3f5f"
            },
            "marker": {
             "line": {
              "color": "#E5ECF6",
              "width": 0.5
             },
             "pattern": {
              "fillmode": "overlay",
              "size": 10,
              "solidity": 0.2
             }
            },
            "type": "bar"
           }
          ],
          "barpolar": [
           {
            "marker": {
             "line": {
              "color": "#E5ECF6",
              "width": 0.5
             },
             "pattern": {
              "fillmode": "overlay",
              "size": 10,
              "solidity": 0.2
             }
            },
            "type": "barpolar"
           }
          ],
          "carpet": [
           {
            "aaxis": {
             "endlinecolor": "#2a3f5f",
             "gridcolor": "white",
             "linecolor": "white",
             "minorgridcolor": "white",
             "startlinecolor": "#2a3f5f"
            },
            "baxis": {
             "endlinecolor": "#2a3f5f",
             "gridcolor": "white",
             "linecolor": "white",
             "minorgridcolor": "white",
             "startlinecolor": "#2a3f5f"
            },
            "type": "carpet"
           }
          ],
          "choropleth": [
           {
            "colorbar": {
             "outlinewidth": 0,
             "ticks": ""
            },
            "type": "choropleth"
           }
          ],
          "contour": [
           {
            "colorbar": {
             "outlinewidth": 0,
             "ticks": ""
            },
            "colorscale": [
             [
              0,
              "#0d0887"
             ],
             [
              0.1111111111111111,
              "#46039f"
             ],
             [
              0.2222222222222222,
              "#7201a8"
             ],
             [
              0.3333333333333333,
              "#9c179e"
             ],
             [
              0.4444444444444444,
              "#bd3786"
             ],
             [
              0.5555555555555556,
              "#d8576b"
             ],
             [
              0.6666666666666666,
              "#ed7953"
             ],
             [
              0.7777777777777778,
              "#fb9f3a"
             ],
             [
              0.8888888888888888,
              "#fdca26"
             ],
             [
              1,
              "#f0f921"
             ]
            ],
            "type": "contour"
           }
          ],
          "contourcarpet": [
           {
            "colorbar": {
             "outlinewidth": 0,
             "ticks": ""
            },
            "type": "contourcarpet"
           }
          ],
          "heatmap": [
           {
            "colorbar": {
             "outlinewidth": 0,
             "ticks": ""
            },
            "colorscale": [
             [
              0,
              "#0d0887"
             ],
             [
              0.1111111111111111,
              "#46039f"
             ],
             [
              0.2222222222222222,
              "#7201a8"
             ],
             [
              0.3333333333333333,
              "#9c179e"
             ],
             [
              0.4444444444444444,
              "#bd3786"
             ],
             [
              0.5555555555555556,
              "#d8576b"
             ],
             [
              0.6666666666666666,
              "#ed7953"
             ],
             [
              0.7777777777777778,
              "#fb9f3a"
             ],
             [
              0.8888888888888888,
              "#fdca26"
             ],
             [
              1,
              "#f0f921"
             ]
            ],
            "type": "heatmap"
           }
          ],
          "heatmapgl": [
           {
            "colorbar": {
             "outlinewidth": 0,
             "ticks": ""
            },
            "colorscale": [
             [
              0,
              "#0d0887"
             ],
             [
              0.1111111111111111,
              "#46039f"
             ],
             [
              0.2222222222222222,
              "#7201a8"
             ],
             [
              0.3333333333333333,
              "#9c179e"
             ],
             [
              0.4444444444444444,
              "#bd3786"
             ],
             [
              0.5555555555555556,
              "#d8576b"
             ],
             [
              0.6666666666666666,
              "#ed7953"
             ],
             [
              0.7777777777777778,
              "#fb9f3a"
             ],
             [
              0.8888888888888888,
              "#fdca26"
             ],
             [
              1,
              "#f0f921"
             ]
            ],
            "type": "heatmapgl"
           }
          ],
          "histogram": [
           {
            "marker": {
             "pattern": {
              "fillmode": "overlay",
              "size": 10,
              "solidity": 0.2
             }
            },
            "type": "histogram"
           }
          ],
          "histogram2d": [
           {
            "colorbar": {
             "outlinewidth": 0,
             "ticks": ""
            },
            "colorscale": [
             [
              0,
              "#0d0887"
             ],
             [
              0.1111111111111111,
              "#46039f"
             ],
             [
              0.2222222222222222,
              "#7201a8"
             ],
             [
              0.3333333333333333,
              "#9c179e"
             ],
             [
              0.4444444444444444,
              "#bd3786"
             ],
             [
              0.5555555555555556,
              "#d8576b"
             ],
             [
              0.6666666666666666,
              "#ed7953"
             ],
             [
              0.7777777777777778,
              "#fb9f3a"
             ],
             [
              0.8888888888888888,
              "#fdca26"
             ],
             [
              1,
              "#f0f921"
             ]
            ],
            "type": "histogram2d"
           }
          ],
          "histogram2dcontour": [
           {
            "colorbar": {
             "outlinewidth": 0,
             "ticks": ""
            },
            "colorscale": [
             [
              0,
              "#0d0887"
             ],
             [
              0.1111111111111111,
              "#46039f"
             ],
             [
              0.2222222222222222,
              "#7201a8"
             ],
             [
              0.3333333333333333,
              "#9c179e"
             ],
             [
              0.4444444444444444,
              "#bd3786"
             ],
             [
              0.5555555555555556,
              "#d8576b"
             ],
             [
              0.6666666666666666,
              "#ed7953"
             ],
             [
              0.7777777777777778,
              "#fb9f3a"
             ],
             [
              0.8888888888888888,
              "#fdca26"
             ],
             [
              1,
              "#f0f921"
             ]
            ],
            "type": "histogram2dcontour"
           }
          ],
          "mesh3d": [
           {
            "colorbar": {
             "outlinewidth": 0,
             "ticks": ""
            },
            "type": "mesh3d"
           }
          ],
          "parcoords": [
           {
            "line": {
             "colorbar": {
              "outlinewidth": 0,
              "ticks": ""
             }
            },
            "type": "parcoords"
           }
          ],
          "pie": [
           {
            "automargin": true,
            "type": "pie"
           }
          ],
          "scatter": [
           {
            "fillpattern": {
             "fillmode": "overlay",
             "size": 10,
             "solidity": 0.2
            },
            "type": "scatter"
           }
          ],
          "scatter3d": [
           {
            "line": {
             "colorbar": {
              "outlinewidth": 0,
              "ticks": ""
             }
            },
            "marker": {
             "colorbar": {
              "outlinewidth": 0,
              "ticks": ""
             }
            },
            "type": "scatter3d"
           }
          ],
          "scattercarpet": [
           {
            "marker": {
             "colorbar": {
              "outlinewidth": 0,
              "ticks": ""
             }
            },
            "type": "scattercarpet"
           }
          ],
          "scattergeo": [
           {
            "marker": {
             "colorbar": {
              "outlinewidth": 0,
              "ticks": ""
             }
            },
            "type": "scattergeo"
           }
          ],
          "scattergl": [
           {
            "marker": {
             "colorbar": {
              "outlinewidth": 0,
              "ticks": ""
             }
            },
            "type": "scattergl"
           }
          ],
          "scattermapbox": [
           {
            "marker": {
             "colorbar": {
              "outlinewidth": 0,
              "ticks": ""
             }
            },
            "type": "scattermapbox"
           }
          ],
          "scatterpolar": [
           {
            "marker": {
             "colorbar": {
              "outlinewidth": 0,
              "ticks": ""
             }
            },
            "type": "scatterpolar"
           }
          ],
          "scatterpolargl": [
           {
            "marker": {
             "colorbar": {
              "outlinewidth": 0,
              "ticks": ""
             }
            },
            "type": "scatterpolargl"
           }
          ],
          "scatterternary": [
           {
            "marker": {
             "colorbar": {
              "outlinewidth": 0,
              "ticks": ""
             }
            },
            "type": "scatterternary"
           }
          ],
          "surface": [
           {
            "colorbar": {
             "outlinewidth": 0,
             "ticks": ""
            },
            "colorscale": [
             [
              0,
              "#0d0887"
             ],
             [
              0.1111111111111111,
              "#46039f"
             ],
             [
              0.2222222222222222,
              "#7201a8"
             ],
             [
              0.3333333333333333,
              "#9c179e"
             ],
             [
              0.4444444444444444,
              "#bd3786"
             ],
             [
              0.5555555555555556,
              "#d8576b"
             ],
             [
              0.6666666666666666,
              "#ed7953"
             ],
             [
              0.7777777777777778,
              "#fb9f3a"
             ],
             [
              0.8888888888888888,
              "#fdca26"
             ],
             [
              1,
              "#f0f921"
             ]
            ],
            "type": "surface"
           }
          ],
          "table": [
           {
            "cells": {
             "fill": {
              "color": "#EBF0F8"
             },
             "line": {
              "color": "white"
             }
            },
            "header": {
             "fill": {
              "color": "#C8D4E3"
             },
             "line": {
              "color": "white"
             }
            },
            "type": "table"
           }
          ]
         },
         "layout": {
          "annotationdefaults": {
           "arrowcolor": "#2a3f5f",
           "arrowhead": 0,
           "arrowwidth": 1
          },
          "autotypenumbers": "strict",
          "coloraxis": {
           "colorbar": {
            "outlinewidth": 0,
            "ticks": ""
           }
          },
          "colorscale": {
           "diverging": [
            [
             0,
             "#8e0152"
            ],
            [
             0.1,
             "#c51b7d"
            ],
            [
             0.2,
             "#de77ae"
            ],
            [
             0.3,
             "#f1b6da"
            ],
            [
             0.4,
             "#fde0ef"
            ],
            [
             0.5,
             "#f7f7f7"
            ],
            [
             0.6,
             "#e6f5d0"
            ],
            [
             0.7,
             "#b8e186"
            ],
            [
             0.8,
             "#7fbc41"
            ],
            [
             0.9,
             "#4d9221"
            ],
            [
             1,
             "#276419"
            ]
           ],
           "sequential": [
            [
             0,
             "#0d0887"
            ],
            [
             0.1111111111111111,
             "#46039f"
            ],
            [
             0.2222222222222222,
             "#7201a8"
            ],
            [
             0.3333333333333333,
             "#9c179e"
            ],
            [
             0.4444444444444444,
             "#bd3786"
            ],
            [
             0.5555555555555556,
             "#d8576b"
            ],
            [
             0.6666666666666666,
             "#ed7953"
            ],
            [
             0.7777777777777778,
             "#fb9f3a"
            ],
            [
             0.8888888888888888,
             "#fdca26"
            ],
            [
             1,
             "#f0f921"
            ]
           ],
           "sequentialminus": [
            [
             0,
             "#0d0887"
            ],
            [
             0.1111111111111111,
             "#46039f"
            ],
            [
             0.2222222222222222,
             "#7201a8"
            ],
            [
             0.3333333333333333,
             "#9c179e"
            ],
            [
             0.4444444444444444,
             "#bd3786"
            ],
            [
             0.5555555555555556,
             "#d8576b"
            ],
            [
             0.6666666666666666,
             "#ed7953"
            ],
            [
             0.7777777777777778,
             "#fb9f3a"
            ],
            [
             0.8888888888888888,
             "#fdca26"
            ],
            [
             1,
             "#f0f921"
            ]
           ]
          },
          "colorway": [
           "#636efa",
           "#EF553B",
           "#00cc96",
           "#ab63fa",
           "#FFA15A",
           "#19d3f3",
           "#FF6692",
           "#B6E880",
           "#FF97FF",
           "#FECB52"
          ],
          "font": {
           "color": "#2a3f5f"
          },
          "geo": {
           "bgcolor": "white",
           "lakecolor": "white",
           "landcolor": "#E5ECF6",
           "showlakes": true,
           "showland": true,
           "subunitcolor": "white"
          },
          "hoverlabel": {
           "align": "left"
          },
          "hovermode": "closest",
          "mapbox": {
           "style": "light"
          },
          "paper_bgcolor": "white",
          "plot_bgcolor": "#E5ECF6",
          "polar": {
           "angularaxis": {
            "gridcolor": "white",
            "linecolor": "white",
            "ticks": ""
           },
           "bgcolor": "#E5ECF6",
           "radialaxis": {
            "gridcolor": "white",
            "linecolor": "white",
            "ticks": ""
           }
          },
          "scene": {
           "xaxis": {
            "backgroundcolor": "#E5ECF6",
            "gridcolor": "white",
            "gridwidth": 2,
            "linecolor": "white",
            "showbackground": true,
            "ticks": "",
            "zerolinecolor": "white"
           },
           "yaxis": {
            "backgroundcolor": "#E5ECF6",
            "gridcolor": "white",
            "gridwidth": 2,
            "linecolor": "white",
            "showbackground": true,
            "ticks": "",
            "zerolinecolor": "white"
           },
           "zaxis": {
            "backgroundcolor": "#E5ECF6",
            "gridcolor": "white",
            "gridwidth": 2,
            "linecolor": "white",
            "showbackground": true,
            "ticks": "",
            "zerolinecolor": "white"
           }
          },
          "shapedefaults": {
           "line": {
            "color": "#2a3f5f"
           }
          },
          "ternary": {
           "aaxis": {
            "gridcolor": "white",
            "linecolor": "white",
            "ticks": ""
           },
           "baxis": {
            "gridcolor": "white",
            "linecolor": "white",
            "ticks": ""
           },
           "bgcolor": "#E5ECF6",
           "caxis": {
            "gridcolor": "white",
            "linecolor": "white",
            "ticks": ""
           }
          },
          "title": {
           "x": 0.05
          },
          "xaxis": {
           "automargin": true,
           "gridcolor": "white",
           "linecolor": "white",
           "ticks": "",
           "title": {
            "standoff": 15
           },
           "zerolinecolor": "white",
           "zerolinewidth": 2
          },
          "yaxis": {
           "automargin": true,
           "gridcolor": "white",
           "linecolor": "white",
           "ticks": "",
           "title": {
            "standoff": 15
           },
           "zerolinecolor": "white",
           "zerolinewidth": 2
          }
         }
        },
        "title": {
         "font": {
          "color": "#4D5663"
         }
        },
        "xaxis": {
         "gridcolor": "#E1E5ED",
         "showgrid": true,
         "tickfont": {
          "color": "#4D5663"
         },
         "title": {
          "font": {
           "color": "#4D5663"
          },
          "text": ""
         },
         "zerolinecolor": "#E1E5ED"
        },
        "yaxis": {
         "gridcolor": "#E1E5ED",
         "showgrid": true,
         "tickfont": {
          "color": "#4D5663"
         },
         "title": {
          "font": {
           "color": "#4D5663"
          },
          "text": ""
         },
         "zerolinecolor": "#E1E5ED"
        }
       }
      },
      "text/html": [
       "<div>                            <div id=\"dce3a0ec-4220-4746-a9f9-84f9ed6c5439\" class=\"plotly-graph-div\" style=\"height:525px; width:100%;\"></div>            <script type=\"text/javascript\">                require([\"plotly\"], function(Plotly) {                    window.PLOTLYENV=window.PLOTLYENV || {};\n",
       "                    window.PLOTLYENV.BASE_URL='https://plot.ly';                                    if (document.getElementById(\"dce3a0ec-4220-4746-a9f9-84f9ed6c5439\")) {                    Plotly.newPlot(                        \"dce3a0ec-4220-4746-a9f9-84f9ed6c5439\",                        [{\"histfunc\":\"count\",\"histnorm\":\"\",\"marker\":{\"color\":\"rgba(255, 153, 51, 1.0)\",\"line\":{\"color\":\"#4D5663\",\"width\":1.3}},\"name\":\"A\",\"opacity\":0.8,\"orientation\":\"v\",\"x\":[-0.22811627589074476,0.6787238832591042,1.6515060543232125,-0.6604782349724839,-0.5196249994745574,0.02055969042282577,-0.4397107068570352,0.41406042035964086,0.4108425293363018,0.8645542364829347,0.2119146464712936,0.6517328492837595,-0.3299934644424242,-0.48702899121525334,-0.22200897985421947,-0.8047818862898786,-1.1845906796308772,-0.4978353907798658,1.621167298309641,0.8224618564100735,-1.2902079390988175,0.01461791408133816,1.1410522269583148,0.8280874098673555,2.023735414640705,-0.4865637083260705,1.0389367638584508,1.2276962498928554,-0.18944754493862276,-0.14976216719342267,0.683583165072884,0.3239156424744562,-0.0719760168952608,-0.6378580170038229,-0.15493703777823922,1.7894814413117488,2.0184945323868257,0.20753608984329258,0.1978779128445857,1.0659510071385676,0.6558923317899069,-0.9926693302856021,-1.5682107352009464,-0.5753024096779175,-0.029614920045432938,-2.467749324540253,1.5160313978127993,-1.0111094337666988,0.36344209841536307,0.647623158788987,1.4071695619594518,0.5351397311767255,-0.04656114960512062,2.1664962354930863,0.14060328416534093,-0.8352079111291246,-0.9905325268254492,0.3027127572771243,-0.6970889943202017,-0.17485657057263013,0.1868467778262092,-0.9286776558514568,-0.03202384444914497,1.1188291288859542,1.0977932423879886,0.3465054154720146,-0.033836252989438084,-0.524395948545605,-1.031014258748993,-1.0769206345804534,-0.7197159862369726,1.13568672086204,-0.006894158362355122,-0.1625407442294256,-0.004439264787613177,0.22346207717106653,-0.6338247075959175,0.2830031950943066,-0.2842757783063089,-1.6745075707344477,-0.6599566325743017,0.11755418565563681,-0.8551230708313902,-1.4443938044070246,-1.7237423856954894,0.09323476948011054,-2.0237980294421427,0.5902819780517904,0.3521336835525418,-0.47410642666534136,-1.1966471740352314,-0.6828607642116732,-1.011661714759275,-1.905834151795708,0.9973400152016139,0.4597725013627585,-0.7315311070057287,-0.4033761447760559,-0.7193598651158356,0.6435615542100579],\"type\":\"histogram\"},{\"histfunc\":\"count\",\"histnorm\":\"\",\"marker\":{\"color\":\"rgba(55, 128, 191, 1.0)\",\"line\":{\"color\":\"#4D5663\",\"width\":1.3}},\"name\":\"B\",\"opacity\":0.8,\"orientation\":\"v\",\"x\":[0.9852938519840362,-0.4142711665345483,-0.2993862088212026,-1.080158167641829,-0.5951615936768305,-1.061425559875092,-2.7120885483534254,-0.03149120113084428,-1.5755214690475732,0.35761998845734294,0.4201604838130015,-1.1872547692853608,2.2288159685553848,-0.20694873379706547,-0.29857480676428755,0.30465302078098727,1.0883622736425371,-0.0833002929219233,-0.38598103288068203,-0.6178040341239334,0.4000253076879923,-0.22496101350698444,-0.6615503092076963,1.1112518007745142,-0.2547548208944747,-0.9505888187305093,0.5501125290824538,0.23886067040655298,0.3767793235919412,-1.555051768463564,-1.9539650845846017,2.068238468829256,-0.8857142929791774,-0.6360773222197956,0.028636021121702788,-2.023847184228603,-0.6237244217096115,-0.845385390133307,-0.7706269321010328,-0.04798704669675597,-0.7347074680924067,0.978796728799089,3.0844914729635744,-0.5714312651068356,-1.6259819149285943,1.1653242003578144,-1.2262408297083338,0.024679650851651188,1.2652123552822339,0.6042438676916213,-1.0103596451298062,-0.2561198417491012,2.0972955326499196,0.4931935169281666,1.6862523895127877,-0.9511409837911713,-0.7929340198874938,-0.9415624684146361,-0.8162447738001156,2.305955639896165,2.3533932732497136,-1.2371339798667005,-1.806957263001291,-0.6692886247575235,0.26981495743716416,0.7353214008885376,-1.9587844101207168,-0.08875047092515755,-0.5375446519047127,1.0306545150239066,-0.42317938725773774,-0.7853846371787755,0.16885879662634365,-0.21273402930876428,0.04677265239052718,-0.11032587082205524,-0.9759868080638875,0.37714721887378244,-0.040245610606096056,-0.3624201877979656,-0.7237478146887273,-1.136675383870532,-0.1762010463278863,1.5545539485620936,0.12269680380628893,-0.27014083531452854,-1.1515553777811576,0.5355925338371131,-0.08498431225411827,-0.14033789297750898,1.060065500408755,-1.5694109802935956,1.8141368208221966,0.15478352025223172,0.009957933182435623,1.1231976518480087,-0.5950752487108096,0.13513089474798265,-0.5046785342264216,-0.7705528646396353],\"type\":\"histogram\"},{\"histfunc\":\"count\",\"histnorm\":\"\",\"marker\":{\"color\":\"rgba(50, 171, 96, 1.0)\",\"line\":{\"color\":\"#4D5663\",\"width\":1.3}},\"name\":\"C\",\"opacity\":0.8,\"orientation\":\"v\",\"x\":[0.549740637555539,1.260212332460787,-0.5946594830986801,-0.6948732218626511,0.9806073927395907,0.4683121610261346,-0.14818769004704696,0.3452122122268642,-1.8067691232641163,-1.634749788768707,0.034233289669643494,-0.28934928828013634,0.32812377951620214,0.32910794420280115,1.1800149358136531,-0.8883104448558582,1.7936312182763456,-1.5666609283533584,1.4935951700111614,1.0261130875524023,0.5686621646377112,1.195491738597137,1.3095645877703326,1.7126221351614856,0.20821042621572,-0.27245247382963683,2.958537074185334,1.1521131509256861,1.69688082665319,1.5997545873746062,0.06836165526771469,0.05095851489658768,-1.4062563167283229,0.8009205979754301,-2.007850998187997,-1.0300679042761605,-0.348139549205092,-1.043516895168186,1.4095532718016575,1.0041911259519434,-0.10881868601619357,0.10697557159210212,0.36064636756312696,1.7268526163803328,0.0036578654411822584,0.6828347123397909,1.1326183479954248,1.3874865661864886,-1.4670972916699903,1.2554137762048678,-0.05883706655082013,0.640467929128801,-1.5576002803382498,1.317810073417994,0.7840297996700045,0.11773756092765265,-0.8535184193794283,0.7521265450113909,-2.0219945595573225,0.6982664594996074,-0.2620284721963431,-1.790396731796199,0.08677610118195855,2.0392858394221696,0.12882730684197252,0.9441592452092047,-0.4412387464935074,0.4804899837716722,-0.27196138774531503,0.3117798836344818,1.9159999391458693,0.3295901499234422,-0.4753026306728736,0.8191594181634533,0.20911743135705846,3.314507374063461,-0.28695412412569543,0.9934315724042603,0.10427082656561551,0.5739208179449827,0.6572094223299806,-0.6210516174643926,-0.7331282059054588,0.40877428828802675,-1.231502433839762,-0.5966920119114699,0.5303734972703417,0.7550799210738212,-0.25252469721757065,-0.17321545632623547,0.34704125264602725,1.4002442896546903,-0.5411407508757214,-0.6556024467323619,0.4888717616646806,-0.6831645443609797,1.4107941387219316,-1.324146824510583,2.4098174170134476,1.6986283611221968],\"type\":\"histogram\"},{\"histfunc\":\"count\",\"histnorm\":\"\",\"marker\":{\"color\":\"rgba(128, 0, 128, 1.0)\",\"line\":{\"color\":\"#4D5663\",\"width\":1.3}},\"name\":\"D\",\"opacity\":0.8,\"orientation\":\"v\",\"x\":[1.0361215242491195,0.6407853255491084,0.7063779456975104,1.8980826082085422,0.17187209395006434,1.1807930930152146,1.4961438288093272,-2.0446273869788087,1.1318022350041197,-1.1927329306327188,-0.3718357943680243,-1.103634637522285,0.68808333426337,-0.32682601948711265,-0.22521524060681247,-0.8974662083076845,0.6522682742848068,-0.7631185114850355,1.4212512473317818,-1.196434655579687,0.3376907200426193,-0.3972002950152537,-0.5455228930351891,-0.3423263609742087,-0.531908394142106,0.40697220160755143,-1.2245651337600438,-1.0957828536350458,0.44149574622144727,0.6671698451103586,-1.0434073030965116,1.087993748180064,0.8251029406890018,0.44954204545429655,-0.22719985689936456,-0.5422444776464004,-2.2324261138964956,0.9493595005097836,0.4777179691755005,-0.5354614446658382,-0.4982004714923975,-1.1476891696504472,-0.2296400044253678,0.9204126254454262,0.4175094038759765,1.3383812678252205,0.20393570092135996,0.3641768189742347,0.056298588785371646,1.790154924545487,0.35720133249961833,1.5064400671355258,-0.3019170893055426,-1.6578434496745653,0.8620146720247083,1.1500043106957927,0.2822494976777274,0.9566833862150375,-0.2685357041989318,-0.4884728273289955,1.2792079241497105,-0.7250228973636278,-1.2309532650323967,0.31197521426637215,1.0936944534891009,-0.32257914774238977,0.8932021180721614,1.8362910746299415,1.3306532682976469,0.7664840393967025,1.1502775594682741,1.3585620922843022,-0.5178200548823758,0.806793794387821,-0.09845903208504937,-1.4103456208172465,1.6151659629822908,0.06750180450915381,2.283053076806745,0.18240460302101436,-1.685931624410959,0.6047384305209671,0.6273165693400129,0.23627795320787906,-0.7447556824866209,-1.3722482088152015,0.6549064884581498,0.2246440447161041,-0.8268812754471794,-0.6793756327254308,1.76927828093296,0.8654601044043043,0.5927435118167454,0.10212959626793228,0.48969973682356716,-0.07640015800038846,0.03879598781609596,-0.14838855520956157,0.4444156340939495,-0.32794358382266386],\"type\":\"histogram\"}],                        {\"barmode\":\"overlay\",\"legend\":{\"bgcolor\":\"#F5F6F9\",\"font\":{\"color\":\"#4D5663\"}},\"paper_bgcolor\":\"#F5F6F9\",\"plot_bgcolor\":\"#F5F6F9\",\"template\":{\"data\":{\"barpolar\":[{\"marker\":{\"line\":{\"color\":\"#E5ECF6\",\"width\":0.5},\"pattern\":{\"fillmode\":\"overlay\",\"size\":10,\"solidity\":0.2}},\"type\":\"barpolar\"}],\"bar\":[{\"error_x\":{\"color\":\"#2a3f5f\"},\"error_y\":{\"color\":\"#2a3f5f\"},\"marker\":{\"line\":{\"color\":\"#E5ECF6\",\"width\":0.5},\"pattern\":{\"fillmode\":\"overlay\",\"size\":10,\"solidity\":0.2}},\"type\":\"bar\"}],\"carpet\":[{\"aaxis\":{\"endlinecolor\":\"#2a3f5f\",\"gridcolor\":\"white\",\"linecolor\":\"white\",\"minorgridcolor\":\"white\",\"startlinecolor\":\"#2a3f5f\"},\"baxis\":{\"endlinecolor\":\"#2a3f5f\",\"gridcolor\":\"white\",\"linecolor\":\"white\",\"minorgridcolor\":\"white\",\"startlinecolor\":\"#2a3f5f\"},\"type\":\"carpet\"}],\"choropleth\":[{\"colorbar\":{\"outlinewidth\":0,\"ticks\":\"\"},\"type\":\"choropleth\"}],\"contourcarpet\":[{\"colorbar\":{\"outlinewidth\":0,\"ticks\":\"\"},\"type\":\"contourcarpet\"}],\"contour\":[{\"colorbar\":{\"outlinewidth\":0,\"ticks\":\"\"},\"colorscale\":[[0.0,\"#0d0887\"],[0.1111111111111111,\"#46039f\"],[0.2222222222222222,\"#7201a8\"],[0.3333333333333333,\"#9c179e\"],[0.4444444444444444,\"#bd3786\"],[0.5555555555555556,\"#d8576b\"],[0.6666666666666666,\"#ed7953\"],[0.7777777777777778,\"#fb9f3a\"],[0.8888888888888888,\"#fdca26\"],[1.0,\"#f0f921\"]],\"type\":\"contour\"}],\"heatmapgl\":[{\"colorbar\":{\"outlinewidth\":0,\"ticks\":\"\"},\"colorscale\":[[0.0,\"#0d0887\"],[0.1111111111111111,\"#46039f\"],[0.2222222222222222,\"#7201a8\"],[0.3333333333333333,\"#9c179e\"],[0.4444444444444444,\"#bd3786\"],[0.5555555555555556,\"#d8576b\"],[0.6666666666666666,\"#ed7953\"],[0.7777777777777778,\"#fb9f3a\"],[0.8888888888888888,\"#fdca26\"],[1.0,\"#f0f921\"]],\"type\":\"heatmapgl\"}],\"heatmap\":[{\"colorbar\":{\"outlinewidth\":0,\"ticks\":\"\"},\"colorscale\":[[0.0,\"#0d0887\"],[0.1111111111111111,\"#46039f\"],[0.2222222222222222,\"#7201a8\"],[0.3333333333333333,\"#9c179e\"],[0.4444444444444444,\"#bd3786\"],[0.5555555555555556,\"#d8576b\"],[0.6666666666666666,\"#ed7953\"],[0.7777777777777778,\"#fb9f3a\"],[0.8888888888888888,\"#fdca26\"],[1.0,\"#f0f921\"]],\"type\":\"heatmap\"}],\"histogram2dcontour\":[{\"colorbar\":{\"outlinewidth\":0,\"ticks\":\"\"},\"colorscale\":[[0.0,\"#0d0887\"],[0.1111111111111111,\"#46039f\"],[0.2222222222222222,\"#7201a8\"],[0.3333333333333333,\"#9c179e\"],[0.4444444444444444,\"#bd3786\"],[0.5555555555555556,\"#d8576b\"],[0.6666666666666666,\"#ed7953\"],[0.7777777777777778,\"#fb9f3a\"],[0.8888888888888888,\"#fdca26\"],[1.0,\"#f0f921\"]],\"type\":\"histogram2dcontour\"}],\"histogram2d\":[{\"colorbar\":{\"outlinewidth\":0,\"ticks\":\"\"},\"colorscale\":[[0.0,\"#0d0887\"],[0.1111111111111111,\"#46039f\"],[0.2222222222222222,\"#7201a8\"],[0.3333333333333333,\"#9c179e\"],[0.4444444444444444,\"#bd3786\"],[0.5555555555555556,\"#d8576b\"],[0.6666666666666666,\"#ed7953\"],[0.7777777777777778,\"#fb9f3a\"],[0.8888888888888888,\"#fdca26\"],[1.0,\"#f0f921\"]],\"type\":\"histogram2d\"}],\"histogram\":[{\"marker\":{\"pattern\":{\"fillmode\":\"overlay\",\"size\":10,\"solidity\":0.2}},\"type\":\"histogram\"}],\"mesh3d\":[{\"colorbar\":{\"outlinewidth\":0,\"ticks\":\"\"},\"type\":\"mesh3d\"}],\"parcoords\":[{\"line\":{\"colorbar\":{\"outlinewidth\":0,\"ticks\":\"\"}},\"type\":\"parcoords\"}],\"pie\":[{\"automargin\":true,\"type\":\"pie\"}],\"scatter3d\":[{\"line\":{\"colorbar\":{\"outlinewidth\":0,\"ticks\":\"\"}},\"marker\":{\"colorbar\":{\"outlinewidth\":0,\"ticks\":\"\"}},\"type\":\"scatter3d\"}],\"scattercarpet\":[{\"marker\":{\"colorbar\":{\"outlinewidth\":0,\"ticks\":\"\"}},\"type\":\"scattercarpet\"}],\"scattergeo\":[{\"marker\":{\"colorbar\":{\"outlinewidth\":0,\"ticks\":\"\"}},\"type\":\"scattergeo\"}],\"scattergl\":[{\"marker\":{\"colorbar\":{\"outlinewidth\":0,\"ticks\":\"\"}},\"type\":\"scattergl\"}],\"scattermapbox\":[{\"marker\":{\"colorbar\":{\"outlinewidth\":0,\"ticks\":\"\"}},\"type\":\"scattermapbox\"}],\"scatterpolargl\":[{\"marker\":{\"colorbar\":{\"outlinewidth\":0,\"ticks\":\"\"}},\"type\":\"scatterpolargl\"}],\"scatterpolar\":[{\"marker\":{\"colorbar\":{\"outlinewidth\":0,\"ticks\":\"\"}},\"type\":\"scatterpolar\"}],\"scatter\":[{\"fillpattern\":{\"fillmode\":\"overlay\",\"size\":10,\"solidity\":0.2},\"type\":\"scatter\"}],\"scatterternary\":[{\"marker\":{\"colorbar\":{\"outlinewidth\":0,\"ticks\":\"\"}},\"type\":\"scatterternary\"}],\"surface\":[{\"colorbar\":{\"outlinewidth\":0,\"ticks\":\"\"},\"colorscale\":[[0.0,\"#0d0887\"],[0.1111111111111111,\"#46039f\"],[0.2222222222222222,\"#7201a8\"],[0.3333333333333333,\"#9c179e\"],[0.4444444444444444,\"#bd3786\"],[0.5555555555555556,\"#d8576b\"],[0.6666666666666666,\"#ed7953\"],[0.7777777777777778,\"#fb9f3a\"],[0.8888888888888888,\"#fdca26\"],[1.0,\"#f0f921\"]],\"type\":\"surface\"}],\"table\":[{\"cells\":{\"fill\":{\"color\":\"#EBF0F8\"},\"line\":{\"color\":\"white\"}},\"header\":{\"fill\":{\"color\":\"#C8D4E3\"},\"line\":{\"color\":\"white\"}},\"type\":\"table\"}]},\"layout\":{\"annotationdefaults\":{\"arrowcolor\":\"#2a3f5f\",\"arrowhead\":0,\"arrowwidth\":1},\"autotypenumbers\":\"strict\",\"coloraxis\":{\"colorbar\":{\"outlinewidth\":0,\"ticks\":\"\"}},\"colorscale\":{\"diverging\":[[0,\"#8e0152\"],[0.1,\"#c51b7d\"],[0.2,\"#de77ae\"],[0.3,\"#f1b6da\"],[0.4,\"#fde0ef\"],[0.5,\"#f7f7f7\"],[0.6,\"#e6f5d0\"],[0.7,\"#b8e186\"],[0.8,\"#7fbc41\"],[0.9,\"#4d9221\"],[1,\"#276419\"]],\"sequential\":[[0.0,\"#0d0887\"],[0.1111111111111111,\"#46039f\"],[0.2222222222222222,\"#7201a8\"],[0.3333333333333333,\"#9c179e\"],[0.4444444444444444,\"#bd3786\"],[0.5555555555555556,\"#d8576b\"],[0.6666666666666666,\"#ed7953\"],[0.7777777777777778,\"#fb9f3a\"],[0.8888888888888888,\"#fdca26\"],[1.0,\"#f0f921\"]],\"sequentialminus\":[[0.0,\"#0d0887\"],[0.1111111111111111,\"#46039f\"],[0.2222222222222222,\"#7201a8\"],[0.3333333333333333,\"#9c179e\"],[0.4444444444444444,\"#bd3786\"],[0.5555555555555556,\"#d8576b\"],[0.6666666666666666,\"#ed7953\"],[0.7777777777777778,\"#fb9f3a\"],[0.8888888888888888,\"#fdca26\"],[1.0,\"#f0f921\"]]},\"colorway\":[\"#636efa\",\"#EF553B\",\"#00cc96\",\"#ab63fa\",\"#FFA15A\",\"#19d3f3\",\"#FF6692\",\"#B6E880\",\"#FF97FF\",\"#FECB52\"],\"font\":{\"color\":\"#2a3f5f\"},\"geo\":{\"bgcolor\":\"white\",\"lakecolor\":\"white\",\"landcolor\":\"#E5ECF6\",\"showlakes\":true,\"showland\":true,\"subunitcolor\":\"white\"},\"hoverlabel\":{\"align\":\"left\"},\"hovermode\":\"closest\",\"mapbox\":{\"style\":\"light\"},\"paper_bgcolor\":\"white\",\"plot_bgcolor\":\"#E5ECF6\",\"polar\":{\"angularaxis\":{\"gridcolor\":\"white\",\"linecolor\":\"white\",\"ticks\":\"\"},\"bgcolor\":\"#E5ECF6\",\"radialaxis\":{\"gridcolor\":\"white\",\"linecolor\":\"white\",\"ticks\":\"\"}},\"scene\":{\"xaxis\":{\"backgroundcolor\":\"#E5ECF6\",\"gridcolor\":\"white\",\"gridwidth\":2,\"linecolor\":\"white\",\"showbackground\":true,\"ticks\":\"\",\"zerolinecolor\":\"white\"},\"yaxis\":{\"backgroundcolor\":\"#E5ECF6\",\"gridcolor\":\"white\",\"gridwidth\":2,\"linecolor\":\"white\",\"showbackground\":true,\"ticks\":\"\",\"zerolinecolor\":\"white\"},\"zaxis\":{\"backgroundcolor\":\"#E5ECF6\",\"gridcolor\":\"white\",\"gridwidth\":2,\"linecolor\":\"white\",\"showbackground\":true,\"ticks\":\"\",\"zerolinecolor\":\"white\"}},\"shapedefaults\":{\"line\":{\"color\":\"#2a3f5f\"}},\"ternary\":{\"aaxis\":{\"gridcolor\":\"white\",\"linecolor\":\"white\",\"ticks\":\"\"},\"baxis\":{\"gridcolor\":\"white\",\"linecolor\":\"white\",\"ticks\":\"\"},\"bgcolor\":\"#E5ECF6\",\"caxis\":{\"gridcolor\":\"white\",\"linecolor\":\"white\",\"ticks\":\"\"}},\"title\":{\"x\":0.05},\"xaxis\":{\"automargin\":true,\"gridcolor\":\"white\",\"linecolor\":\"white\",\"ticks\":\"\",\"title\":{\"standoff\":15},\"zerolinecolor\":\"white\",\"zerolinewidth\":2},\"yaxis\":{\"automargin\":true,\"gridcolor\":\"white\",\"linecolor\":\"white\",\"ticks\":\"\",\"title\":{\"standoff\":15},\"zerolinecolor\":\"white\",\"zerolinewidth\":2}}},\"title\":{\"font\":{\"color\":\"#4D5663\"}},\"xaxis\":{\"gridcolor\":\"#E1E5ED\",\"showgrid\":true,\"tickfont\":{\"color\":\"#4D5663\"},\"title\":{\"font\":{\"color\":\"#4D5663\"},\"text\":\"\"},\"zerolinecolor\":\"#E1E5ED\"},\"yaxis\":{\"gridcolor\":\"#E1E5ED\",\"showgrid\":true,\"tickfont\":{\"color\":\"#4D5663\"},\"title\":{\"font\":{\"color\":\"#4D5663\"},\"text\":\"\"},\"zerolinecolor\":\"#E1E5ED\"}},                        {\"showLink\": true, \"linkText\": \"Export to plot.ly\", \"plotlyServerURL\": \"https://plot.ly\", \"responsive\": true}                    ).then(function(){\n",
       "                            \n",
       "var gd = document.getElementById('dce3a0ec-4220-4746-a9f9-84f9ed6c5439');\n",
       "var x = new MutationObserver(function (mutations, observer) {{\n",
       "        var display = window.getComputedStyle(gd).display;\n",
       "        if (!display || display === 'none') {{\n",
       "            console.log([gd, 'removed!']);\n",
       "            Plotly.purge(gd);\n",
       "            observer.disconnect();\n",
       "        }}\n",
       "}});\n",
       "\n",
       "// Listen for the removal of the full notebook cells\n",
       "var notebookContainer = gd.closest('#notebook-container');\n",
       "if (notebookContainer) {{\n",
       "    x.observe(notebookContainer, {childList: true});\n",
       "}}\n",
       "\n",
       "// Listen for the clearing of the current output cell\n",
       "var outputEl = gd.closest('.output');\n",
       "if (outputEl) {{\n",
       "    x.observe(outputEl, {childList: true});\n",
       "}}\n",
       "\n",
       "                        })                };                });            </script>        </div>"
      ]
     },
     "metadata": {},
     "output_type": "display_data"
    }
   ],
   "source": [
    "df.iplot(kind='hist')"
   ]
  },
  {
   "cell_type": "markdown",
   "id": "603b782c",
   "metadata": {},
   "source": [
    "# Spread Plot"
   ]
  },
  {
   "cell_type": "code",
   "execution_count": 15,
   "id": "17f69da3",
   "metadata": {},
   "outputs": [
    {
     "name": "stderr",
     "output_type": "stream",
     "text": [
      "C:\\Users\\sheor\\anaconda3\\lib\\site-packages\\cufflinks\\plotlytools.py:849: FutureWarning:\n",
      "\n",
      "The pandas.np module is deprecated and will be removed from pandas in a future version. Import numpy directly instead.\n",
      "\n",
      "C:\\Users\\sheor\\anaconda3\\lib\\site-packages\\cufflinks\\plotlytools.py:850: FutureWarning:\n",
      "\n",
      "The pandas.np module is deprecated and will be removed from pandas in a future version. Import numpy directly instead.\n",
      "\n"
     ]
    },
    {
     "data": {
      "application/vnd.plotly.v1+json": {
       "config": {
        "linkText": "Export to plot.ly",
        "plotlyServerURL": "https://plot.ly",
        "showLink": true
       },
       "data": [
        {
         "line": {
          "color": "rgba(255, 153, 51, 1.0)",
          "dash": "solid",
          "shape": "linear",
          "width": 1.3
         },
         "mode": "lines",
         "name": "A",
         "text": "",
         "type": "scatter",
         "x": [
          0,
          1,
          2,
          3,
          4,
          5,
          6,
          7,
          8,
          9,
          10,
          11,
          12,
          13,
          14,
          15,
          16,
          17,
          18,
          19,
          20,
          21,
          22,
          23,
          24,
          25,
          26,
          27,
          28,
          29,
          30,
          31,
          32,
          33,
          34,
          35,
          36,
          37,
          38,
          39,
          40,
          41,
          42,
          43,
          44,
          45,
          46,
          47,
          48,
          49,
          50,
          51,
          52,
          53,
          54,
          55,
          56,
          57,
          58,
          59,
          60,
          61,
          62,
          63,
          64,
          65,
          66,
          67,
          68,
          69,
          70,
          71,
          72,
          73,
          74,
          75,
          76,
          77,
          78,
          79,
          80,
          81,
          82,
          83,
          84,
          85,
          86,
          87,
          88,
          89,
          90,
          91,
          92,
          93,
          94,
          95,
          96,
          97,
          98,
          99
         ],
         "y": [
          -0.22811627589074476,
          0.6787238832591042,
          1.6515060543232125,
          -0.6604782349724839,
          -0.5196249994745574,
          0.02055969042282577,
          -0.4397107068570352,
          0.41406042035964086,
          0.4108425293363018,
          0.8645542364829347,
          0.2119146464712936,
          0.6517328492837595,
          -0.3299934644424242,
          -0.48702899121525334,
          -0.22200897985421947,
          -0.8047818862898786,
          -1.1845906796308772,
          -0.4978353907798658,
          1.621167298309641,
          0.8224618564100735,
          -1.2902079390988175,
          0.01461791408133816,
          1.1410522269583148,
          0.8280874098673555,
          2.023735414640705,
          -0.4865637083260705,
          1.0389367638584508,
          1.2276962498928554,
          -0.18944754493862276,
          -0.14976216719342267,
          0.683583165072884,
          0.3239156424744562,
          -0.0719760168952608,
          -0.6378580170038229,
          -0.15493703777823922,
          1.7894814413117488,
          2.0184945323868257,
          0.20753608984329258,
          0.1978779128445857,
          1.0659510071385676,
          0.6558923317899069,
          -0.9926693302856021,
          -1.5682107352009464,
          -0.5753024096779175,
          -0.029614920045432938,
          -2.467749324540253,
          1.5160313978127993,
          -1.0111094337666988,
          0.36344209841536307,
          0.647623158788987,
          1.4071695619594518,
          0.5351397311767255,
          -0.04656114960512062,
          2.1664962354930863,
          0.14060328416534093,
          -0.8352079111291246,
          -0.9905325268254492,
          0.3027127572771243,
          -0.6970889943202017,
          -0.17485657057263013,
          0.1868467778262092,
          -0.9286776558514568,
          -0.03202384444914497,
          1.1188291288859542,
          1.0977932423879886,
          0.3465054154720146,
          -0.033836252989438084,
          -0.524395948545605,
          -1.031014258748993,
          -1.0769206345804534,
          -0.7197159862369726,
          1.13568672086204,
          -0.006894158362355122,
          -0.1625407442294256,
          -0.004439264787613177,
          0.22346207717106653,
          -0.6338247075959175,
          0.2830031950943066,
          -0.2842757783063089,
          -1.6745075707344477,
          -0.6599566325743017,
          0.11755418565563681,
          -0.8551230708313902,
          -1.4443938044070246,
          -1.7237423856954894,
          0.09323476948011054,
          -2.0237980294421427,
          0.5902819780517904,
          0.3521336835525418,
          -0.47410642666534136,
          -1.1966471740352314,
          -0.6828607642116732,
          -1.011661714759275,
          -1.905834151795708,
          0.9973400152016139,
          0.4597725013627585,
          -0.7315311070057287,
          -0.4033761447760559,
          -0.7193598651158356,
          0.6435615542100579
         ]
        },
        {
         "line": {
          "color": "rgba(55, 128, 191, 1.0)",
          "dash": "solid",
          "shape": "linear",
          "width": 1.3
         },
         "mode": "lines",
         "name": "B",
         "text": "",
         "type": "scatter",
         "x": [
          0,
          1,
          2,
          3,
          4,
          5,
          6,
          7,
          8,
          9,
          10,
          11,
          12,
          13,
          14,
          15,
          16,
          17,
          18,
          19,
          20,
          21,
          22,
          23,
          24,
          25,
          26,
          27,
          28,
          29,
          30,
          31,
          32,
          33,
          34,
          35,
          36,
          37,
          38,
          39,
          40,
          41,
          42,
          43,
          44,
          45,
          46,
          47,
          48,
          49,
          50,
          51,
          52,
          53,
          54,
          55,
          56,
          57,
          58,
          59,
          60,
          61,
          62,
          63,
          64,
          65,
          66,
          67,
          68,
          69,
          70,
          71,
          72,
          73,
          74,
          75,
          76,
          77,
          78,
          79,
          80,
          81,
          82,
          83,
          84,
          85,
          86,
          87,
          88,
          89,
          90,
          91,
          92,
          93,
          94,
          95,
          96,
          97,
          98,
          99
         ],
         "y": [
          0.9852938519840362,
          -0.4142711665345483,
          -0.2993862088212026,
          -1.080158167641829,
          -0.5951615936768305,
          -1.061425559875092,
          -2.7120885483534254,
          -0.03149120113084428,
          -1.5755214690475732,
          0.35761998845734294,
          0.4201604838130015,
          -1.1872547692853608,
          2.2288159685553848,
          -0.20694873379706547,
          -0.29857480676428755,
          0.30465302078098727,
          1.0883622736425371,
          -0.0833002929219233,
          -0.38598103288068203,
          -0.6178040341239334,
          0.4000253076879923,
          -0.22496101350698444,
          -0.6615503092076963,
          1.1112518007745142,
          -0.2547548208944747,
          -0.9505888187305093,
          0.5501125290824538,
          0.23886067040655298,
          0.3767793235919412,
          -1.555051768463564,
          -1.9539650845846017,
          2.068238468829256,
          -0.8857142929791774,
          -0.6360773222197956,
          0.028636021121702788,
          -2.023847184228603,
          -0.6237244217096115,
          -0.845385390133307,
          -0.7706269321010328,
          -0.04798704669675597,
          -0.7347074680924067,
          0.978796728799089,
          3.0844914729635744,
          -0.5714312651068356,
          -1.6259819149285943,
          1.1653242003578144,
          -1.2262408297083338,
          0.024679650851651188,
          1.2652123552822339,
          0.6042438676916213,
          -1.0103596451298062,
          -0.2561198417491012,
          2.0972955326499196,
          0.4931935169281666,
          1.6862523895127877,
          -0.9511409837911713,
          -0.7929340198874938,
          -0.9415624684146361,
          -0.8162447738001156,
          2.305955639896165,
          2.3533932732497136,
          -1.2371339798667005,
          -1.806957263001291,
          -0.6692886247575235,
          0.26981495743716416,
          0.7353214008885376,
          -1.9587844101207168,
          -0.08875047092515755,
          -0.5375446519047127,
          1.0306545150239066,
          -0.42317938725773774,
          -0.7853846371787755,
          0.16885879662634365,
          -0.21273402930876428,
          0.04677265239052718,
          -0.11032587082205524,
          -0.9759868080638875,
          0.37714721887378244,
          -0.040245610606096056,
          -0.3624201877979656,
          -0.7237478146887273,
          -1.136675383870532,
          -0.1762010463278863,
          1.5545539485620936,
          0.12269680380628893,
          -0.27014083531452854,
          -1.1515553777811576,
          0.5355925338371131,
          -0.08498431225411827,
          -0.14033789297750898,
          1.060065500408755,
          -1.5694109802935956,
          1.8141368208221966,
          0.15478352025223172,
          0.009957933182435623,
          1.1231976518480087,
          -0.5950752487108096,
          0.13513089474798265,
          -0.5046785342264216,
          -0.7705528646396353
         ]
        },
        {
         "connectgaps": false,
         "fill": "tozeroy",
         "line": {
          "color": "green",
          "dash": "solid",
          "shape": "linear",
          "width": 0.5
         },
         "mode": "lines",
         "name": "Spread",
         "showlegend": false,
         "type": "scatter",
         "x": [
          0,
          1,
          2,
          3,
          4,
          5,
          6,
          7,
          8,
          9,
          10,
          11,
          12,
          13,
          14,
          15,
          16,
          17,
          18,
          19,
          20,
          21,
          22,
          23,
          24,
          25,
          26,
          27,
          28,
          29,
          30,
          31,
          32,
          33,
          34,
          35,
          36,
          37,
          38,
          39,
          40,
          41,
          42,
          43,
          44,
          45,
          46,
          47,
          48,
          49,
          50,
          51,
          52,
          53,
          54,
          55,
          56,
          57,
          58,
          59,
          60,
          61,
          62,
          63,
          64,
          65,
          66,
          67,
          68,
          69,
          70,
          71,
          72,
          73,
          74,
          75,
          76,
          77,
          78,
          79,
          80,
          81,
          82,
          83,
          84,
          85,
          86,
          87,
          88,
          89,
          90,
          91,
          92,
          93,
          94,
          95,
          96,
          97,
          98,
          99
         ],
         "xaxis": "x2",
         "y": [
          "",
          1.0929950497936525,
          1.9508922631444152,
          0.4196799326693451,
          0.0755365942022731,
          1.0819852502979177,
          2.27237784149639,
          0.44555162149048516,
          1.986363998383875,
          0.5069342480255918,
          "",
          1.8389876185691203,
          "",
          "",
          0.07656582691006808,
          "",
          "",
          "",
          2.007148331190323,
          1.4402658905340069,
          "",
          0.2395789275883226,
          1.802602536166011,
          "",
          2.27849023553518,
          0.4640251104044388,
          0.488824234775997,
          0.9888355794863024,
          "",
          1.4052896012701415,
          2.6375482496574856,
          "",
          0.8137382760839166,
          "",
          "",
          3.813328625540352,
          2.642218954096437,
          1.0529214799765996,
          0.9685048449456185,
          1.1139380538353236,
          1.3905997998823136,
          "",
          "",
          "",
          1.5963669948831614,
          "",
          2.7422722275211333,
          "",
          "",
          0.04337929109736571,
          2.417529207089258,
          0.7912595729258267,
          "",
          1.6733027185649196,
          "",
          0.11593307266204667,
          "",
          1.2442752256917604,
          0.11915577947991396,
          "",
          "",
          0.3084563240152437,
          1.774933418552146,
          1.7881177536434776,
          0.8279782849508244,
          "",
          1.9249481571312788,
          "",
          "",
          "",
          "",
          1.9210713580408156,
          "",
          0.05019328507933868,
          "",
          0.3337879479931218,
          0.34216210046797,
          "",
          "",
          "",
          0.06379118211442558,
          1.2542295695261687,
          "",
          "",
          "",
          0.3633756047946391,
          "",
          0.05468944421467725,
          0.4371179958066601,
          "",
          "",
          0.8865502160819224,
          "",
          "",
          0.9873820820191782,
          "",
          "",
          "",
          "",
          1.4141144188496932
         ],
         "yaxis": "y2"
        },
        {
         "connectgaps": false,
         "fill": "tozeroy",
         "line": {
          "color": "red",
          "dash": "solid",
          "shape": "linear",
          "width": 0.5
         },
         "mode": "lines",
         "name": "Spread",
         "showlegend": false,
         "type": "scatter",
         "x": [
          0,
          1,
          2,
          3,
          4,
          5,
          6,
          7,
          8,
          9,
          10,
          11,
          12,
          13,
          14,
          15,
          16,
          17,
          18,
          19,
          20,
          21,
          22,
          23,
          24,
          25,
          26,
          27,
          28,
          29,
          30,
          31,
          32,
          33,
          34,
          35,
          36,
          37,
          38,
          39,
          40,
          41,
          42,
          43,
          44,
          45,
          46,
          47,
          48,
          49,
          50,
          51,
          52,
          53,
          54,
          55,
          56,
          57,
          58,
          59,
          60,
          61,
          62,
          63,
          64,
          65,
          66,
          67,
          68,
          69,
          70,
          71,
          72,
          73,
          74,
          75,
          76,
          77,
          78,
          79,
          80,
          81,
          82,
          83,
          84,
          85,
          86,
          87,
          88,
          89,
          90,
          91,
          92,
          93,
          94,
          95,
          96,
          97,
          98,
          99
         ],
         "xaxis": "x2",
         "y": [
          -1.2134101278747809,
          "",
          "",
          "",
          "",
          "",
          "",
          "",
          "",
          "",
          -0.20824583734170787,
          "",
          -2.558809432997809,
          -0.2800802574181879,
          "",
          -1.1094349070708658,
          -2.272952953273414,
          -0.4145350978579425,
          "",
          "",
          -1.6902332467868098,
          "",
          "",
          -0.2831643909071587,
          "",
          "",
          "",
          "",
          -0.566226868530564,
          "",
          "",
          -1.7443228263547996,
          "",
          -0.0017806947840273146,
          -0.18357305889994202,
          "",
          "",
          "",
          "",
          "",
          "",
          -1.971466059084691,
          -4.652702208164521,
          -0.0038711445710818415,
          "",
          -3.6330735248980672,
          "",
          -1.03578908461835,
          -0.9017702568668708,
          "",
          "",
          "",
          -2.1438566822550404,
          "",
          -1.5456491053474468,
          "",
          -0.19759850693795544,
          "",
          "",
          -2.480812210468795,
          -2.1665464954235043,
          "",
          "",
          "",
          "",
          -0.388815985416523,
          "",
          -0.4356454776204475,
          -0.4934696068442803,
          -2.1075751496043598,
          -0.2965365989792349,
          "",
          -0.17575295498869878,
          "",
          -0.05121191717814035,
          "",
          "",
          -0.09414402377947584,
          -0.24403016770021285,
          -1.312087382936482,
          "",
          "",
          -0.6789220245035039,
          -2.9989477529691184,
          -1.8464391895017784,
          "",
          -0.8722426516609851,
          "",
          "",
          -0.3337685336878324,
          -2.2567126744439863,
          "",
          -2.8257985355814714,
          -2.0606176720479397,
          "",
          -0.6634251504852502,
          -0.13645585829491902,
          -0.5385070395240386,
          -0.214681330889414,
          ""
         ],
         "yaxis": "y2"
        }
       ],
       "layout": {
        "hovermode": "x",
        "legend": {
         "bgcolor": "#F5F6F9",
         "font": {
          "color": "#4D5663"
         }
        },
        "paper_bgcolor": "#F5F6F9",
        "plot_bgcolor": "#F5F6F9",
        "template": {
         "data": {
          "bar": [
           {
            "error_x": {
             "color": "#2a3f5f"
            },
            "error_y": {
             "color": "#2a3f5f"
            },
            "marker": {
             "line": {
              "color": "#E5ECF6",
              "width": 0.5
             },
             "pattern": {
              "fillmode": "overlay",
              "size": 10,
              "solidity": 0.2
             }
            },
            "type": "bar"
           }
          ],
          "barpolar": [
           {
            "marker": {
             "line": {
              "color": "#E5ECF6",
              "width": 0.5
             },
             "pattern": {
              "fillmode": "overlay",
              "size": 10,
              "solidity": 0.2
             }
            },
            "type": "barpolar"
           }
          ],
          "carpet": [
           {
            "aaxis": {
             "endlinecolor": "#2a3f5f",
             "gridcolor": "white",
             "linecolor": "white",
             "minorgridcolor": "white",
             "startlinecolor": "#2a3f5f"
            },
            "baxis": {
             "endlinecolor": "#2a3f5f",
             "gridcolor": "white",
             "linecolor": "white",
             "minorgridcolor": "white",
             "startlinecolor": "#2a3f5f"
            },
            "type": "carpet"
           }
          ],
          "choropleth": [
           {
            "colorbar": {
             "outlinewidth": 0,
             "ticks": ""
            },
            "type": "choropleth"
           }
          ],
          "contour": [
           {
            "colorbar": {
             "outlinewidth": 0,
             "ticks": ""
            },
            "colorscale": [
             [
              0,
              "#0d0887"
             ],
             [
              0.1111111111111111,
              "#46039f"
             ],
             [
              0.2222222222222222,
              "#7201a8"
             ],
             [
              0.3333333333333333,
              "#9c179e"
             ],
             [
              0.4444444444444444,
              "#bd3786"
             ],
             [
              0.5555555555555556,
              "#d8576b"
             ],
             [
              0.6666666666666666,
              "#ed7953"
             ],
             [
              0.7777777777777778,
              "#fb9f3a"
             ],
             [
              0.8888888888888888,
              "#fdca26"
             ],
             [
              1,
              "#f0f921"
             ]
            ],
            "type": "contour"
           }
          ],
          "contourcarpet": [
           {
            "colorbar": {
             "outlinewidth": 0,
             "ticks": ""
            },
            "type": "contourcarpet"
           }
          ],
          "heatmap": [
           {
            "colorbar": {
             "outlinewidth": 0,
             "ticks": ""
            },
            "colorscale": [
             [
              0,
              "#0d0887"
             ],
             [
              0.1111111111111111,
              "#46039f"
             ],
             [
              0.2222222222222222,
              "#7201a8"
             ],
             [
              0.3333333333333333,
              "#9c179e"
             ],
             [
              0.4444444444444444,
              "#bd3786"
             ],
             [
              0.5555555555555556,
              "#d8576b"
             ],
             [
              0.6666666666666666,
              "#ed7953"
             ],
             [
              0.7777777777777778,
              "#fb9f3a"
             ],
             [
              0.8888888888888888,
              "#fdca26"
             ],
             [
              1,
              "#f0f921"
             ]
            ],
            "type": "heatmap"
           }
          ],
          "heatmapgl": [
           {
            "colorbar": {
             "outlinewidth": 0,
             "ticks": ""
            },
            "colorscale": [
             [
              0,
              "#0d0887"
             ],
             [
              0.1111111111111111,
              "#46039f"
             ],
             [
              0.2222222222222222,
              "#7201a8"
             ],
             [
              0.3333333333333333,
              "#9c179e"
             ],
             [
              0.4444444444444444,
              "#bd3786"
             ],
             [
              0.5555555555555556,
              "#d8576b"
             ],
             [
              0.6666666666666666,
              "#ed7953"
             ],
             [
              0.7777777777777778,
              "#fb9f3a"
             ],
             [
              0.8888888888888888,
              "#fdca26"
             ],
             [
              1,
              "#f0f921"
             ]
            ],
            "type": "heatmapgl"
           }
          ],
          "histogram": [
           {
            "marker": {
             "pattern": {
              "fillmode": "overlay",
              "size": 10,
              "solidity": 0.2
             }
            },
            "type": "histogram"
           }
          ],
          "histogram2d": [
           {
            "colorbar": {
             "outlinewidth": 0,
             "ticks": ""
            },
            "colorscale": [
             [
              0,
              "#0d0887"
             ],
             [
              0.1111111111111111,
              "#46039f"
             ],
             [
              0.2222222222222222,
              "#7201a8"
             ],
             [
              0.3333333333333333,
              "#9c179e"
             ],
             [
              0.4444444444444444,
              "#bd3786"
             ],
             [
              0.5555555555555556,
              "#d8576b"
             ],
             [
              0.6666666666666666,
              "#ed7953"
             ],
             [
              0.7777777777777778,
              "#fb9f3a"
             ],
             [
              0.8888888888888888,
              "#fdca26"
             ],
             [
              1,
              "#f0f921"
             ]
            ],
            "type": "histogram2d"
           }
          ],
          "histogram2dcontour": [
           {
            "colorbar": {
             "outlinewidth": 0,
             "ticks": ""
            },
            "colorscale": [
             [
              0,
              "#0d0887"
             ],
             [
              0.1111111111111111,
              "#46039f"
             ],
             [
              0.2222222222222222,
              "#7201a8"
             ],
             [
              0.3333333333333333,
              "#9c179e"
             ],
             [
              0.4444444444444444,
              "#bd3786"
             ],
             [
              0.5555555555555556,
              "#d8576b"
             ],
             [
              0.6666666666666666,
              "#ed7953"
             ],
             [
              0.7777777777777778,
              "#fb9f3a"
             ],
             [
              0.8888888888888888,
              "#fdca26"
             ],
             [
              1,
              "#f0f921"
             ]
            ],
            "type": "histogram2dcontour"
           }
          ],
          "mesh3d": [
           {
            "colorbar": {
             "outlinewidth": 0,
             "ticks": ""
            },
            "type": "mesh3d"
           }
          ],
          "parcoords": [
           {
            "line": {
             "colorbar": {
              "outlinewidth": 0,
              "ticks": ""
             }
            },
            "type": "parcoords"
           }
          ],
          "pie": [
           {
            "automargin": true,
            "type": "pie"
           }
          ],
          "scatter": [
           {
            "fillpattern": {
             "fillmode": "overlay",
             "size": 10,
             "solidity": 0.2
            },
            "type": "scatter"
           }
          ],
          "scatter3d": [
           {
            "line": {
             "colorbar": {
              "outlinewidth": 0,
              "ticks": ""
             }
            },
            "marker": {
             "colorbar": {
              "outlinewidth": 0,
              "ticks": ""
             }
            },
            "type": "scatter3d"
           }
          ],
          "scattercarpet": [
           {
            "marker": {
             "colorbar": {
              "outlinewidth": 0,
              "ticks": ""
             }
            },
            "type": "scattercarpet"
           }
          ],
          "scattergeo": [
           {
            "marker": {
             "colorbar": {
              "outlinewidth": 0,
              "ticks": ""
             }
            },
            "type": "scattergeo"
           }
          ],
          "scattergl": [
           {
            "marker": {
             "colorbar": {
              "outlinewidth": 0,
              "ticks": ""
             }
            },
            "type": "scattergl"
           }
          ],
          "scattermapbox": [
           {
            "marker": {
             "colorbar": {
              "outlinewidth": 0,
              "ticks": ""
             }
            },
            "type": "scattermapbox"
           }
          ],
          "scatterpolar": [
           {
            "marker": {
             "colorbar": {
              "outlinewidth": 0,
              "ticks": ""
             }
            },
            "type": "scatterpolar"
           }
          ],
          "scatterpolargl": [
           {
            "marker": {
             "colorbar": {
              "outlinewidth": 0,
              "ticks": ""
             }
            },
            "type": "scatterpolargl"
           }
          ],
          "scatterternary": [
           {
            "marker": {
             "colorbar": {
              "outlinewidth": 0,
              "ticks": ""
             }
            },
            "type": "scatterternary"
           }
          ],
          "surface": [
           {
            "colorbar": {
             "outlinewidth": 0,
             "ticks": ""
            },
            "colorscale": [
             [
              0,
              "#0d0887"
             ],
             [
              0.1111111111111111,
              "#46039f"
             ],
             [
              0.2222222222222222,
              "#7201a8"
             ],
             [
              0.3333333333333333,
              "#9c179e"
             ],
             [
              0.4444444444444444,
              "#bd3786"
             ],
             [
              0.5555555555555556,
              "#d8576b"
             ],
             [
              0.6666666666666666,
              "#ed7953"
             ],
             [
              0.7777777777777778,
              "#fb9f3a"
             ],
             [
              0.8888888888888888,
              "#fdca26"
             ],
             [
              1,
              "#f0f921"
             ]
            ],
            "type": "surface"
           }
          ],
          "table": [
           {
            "cells": {
             "fill": {
              "color": "#EBF0F8"
             },
             "line": {
              "color": "white"
             }
            },
            "header": {
             "fill": {
              "color": "#C8D4E3"
             },
             "line": {
              "color": "white"
             }
            },
            "type": "table"
           }
          ]
         },
         "layout": {
          "annotationdefaults": {
           "arrowcolor": "#2a3f5f",
           "arrowhead": 0,
           "arrowwidth": 1
          },
          "autotypenumbers": "strict",
          "coloraxis": {
           "colorbar": {
            "outlinewidth": 0,
            "ticks": ""
           }
          },
          "colorscale": {
           "diverging": [
            [
             0,
             "#8e0152"
            ],
            [
             0.1,
             "#c51b7d"
            ],
            [
             0.2,
             "#de77ae"
            ],
            [
             0.3,
             "#f1b6da"
            ],
            [
             0.4,
             "#fde0ef"
            ],
            [
             0.5,
             "#f7f7f7"
            ],
            [
             0.6,
             "#e6f5d0"
            ],
            [
             0.7,
             "#b8e186"
            ],
            [
             0.8,
             "#7fbc41"
            ],
            [
             0.9,
             "#4d9221"
            ],
            [
             1,
             "#276419"
            ]
           ],
           "sequential": [
            [
             0,
             "#0d0887"
            ],
            [
             0.1111111111111111,
             "#46039f"
            ],
            [
             0.2222222222222222,
             "#7201a8"
            ],
            [
             0.3333333333333333,
             "#9c179e"
            ],
            [
             0.4444444444444444,
             "#bd3786"
            ],
            [
             0.5555555555555556,
             "#d8576b"
            ],
            [
             0.6666666666666666,
             "#ed7953"
            ],
            [
             0.7777777777777778,
             "#fb9f3a"
            ],
            [
             0.8888888888888888,
             "#fdca26"
            ],
            [
             1,
             "#f0f921"
            ]
           ],
           "sequentialminus": [
            [
             0,
             "#0d0887"
            ],
            [
             0.1111111111111111,
             "#46039f"
            ],
            [
             0.2222222222222222,
             "#7201a8"
            ],
            [
             0.3333333333333333,
             "#9c179e"
            ],
            [
             0.4444444444444444,
             "#bd3786"
            ],
            [
             0.5555555555555556,
             "#d8576b"
            ],
            [
             0.6666666666666666,
             "#ed7953"
            ],
            [
             0.7777777777777778,
             "#fb9f3a"
            ],
            [
             0.8888888888888888,
             "#fdca26"
            ],
            [
             1,
             "#f0f921"
            ]
           ]
          },
          "colorway": [
           "#636efa",
           "#EF553B",
           "#00cc96",
           "#ab63fa",
           "#FFA15A",
           "#19d3f3",
           "#FF6692",
           "#B6E880",
           "#FF97FF",
           "#FECB52"
          ],
          "font": {
           "color": "#2a3f5f"
          },
          "geo": {
           "bgcolor": "white",
           "lakecolor": "white",
           "landcolor": "#E5ECF6",
           "showlakes": true,
           "showland": true,
           "subunitcolor": "white"
          },
          "hoverlabel": {
           "align": "left"
          },
          "hovermode": "closest",
          "mapbox": {
           "style": "light"
          },
          "paper_bgcolor": "white",
          "plot_bgcolor": "#E5ECF6",
          "polar": {
           "angularaxis": {
            "gridcolor": "white",
            "linecolor": "white",
            "ticks": ""
           },
           "bgcolor": "#E5ECF6",
           "radialaxis": {
            "gridcolor": "white",
            "linecolor": "white",
            "ticks": ""
           }
          },
          "scene": {
           "xaxis": {
            "backgroundcolor": "#E5ECF6",
            "gridcolor": "white",
            "gridwidth": 2,
            "linecolor": "white",
            "showbackground": true,
            "ticks": "",
            "zerolinecolor": "white"
           },
           "yaxis": {
            "backgroundcolor": "#E5ECF6",
            "gridcolor": "white",
            "gridwidth": 2,
            "linecolor": "white",
            "showbackground": true,
            "ticks": "",
            "zerolinecolor": "white"
           },
           "zaxis": {
            "backgroundcolor": "#E5ECF6",
            "gridcolor": "white",
            "gridwidth": 2,
            "linecolor": "white",
            "showbackground": true,
            "ticks": "",
            "zerolinecolor": "white"
           }
          },
          "shapedefaults": {
           "line": {
            "color": "#2a3f5f"
           }
          },
          "ternary": {
           "aaxis": {
            "gridcolor": "white",
            "linecolor": "white",
            "ticks": ""
           },
           "baxis": {
            "gridcolor": "white",
            "linecolor": "white",
            "ticks": ""
           },
           "bgcolor": "#E5ECF6",
           "caxis": {
            "gridcolor": "white",
            "linecolor": "white",
            "ticks": ""
           }
          },
          "title": {
           "x": 0.05
          },
          "xaxis": {
           "automargin": true,
           "gridcolor": "white",
           "linecolor": "white",
           "ticks": "",
           "title": {
            "standoff": 15
           },
           "zerolinecolor": "white",
           "zerolinewidth": 2
          },
          "yaxis": {
           "automargin": true,
           "gridcolor": "white",
           "linecolor": "white",
           "ticks": "",
           "title": {
            "standoff": 15
           },
           "zerolinecolor": "white",
           "zerolinewidth": 2
          }
         }
        },
        "title": {
         "font": {
          "color": "#4D5663"
         }
        },
        "xaxis": {
         "gridcolor": "#E1E5ED",
         "showgrid": true,
         "tickfont": {
          "color": "#4D5663"
         },
         "title": {
          "font": {
           "color": "#4D5663"
          },
          "text": ""
         },
         "zerolinecolor": "#E1E5ED"
        },
        "xaxis2": {
         "anchor": "y2",
         "gridcolor": "#E1E5ED",
         "showgrid": true,
         "showticklabels": false,
         "tickfont": {
          "color": "#4D5663"
         },
         "title": {
          "font": {
           "color": "#4D5663"
          },
          "text": ""
         },
         "zerolinecolor": "#E1E5ED"
        },
        "yaxis": {
         "domain": [
          0.3,
          1
         ],
         "gridcolor": "#E1E5ED",
         "showgrid": true,
         "tickfont": {
          "color": "#4D5663"
         },
         "title": {
          "font": {
           "color": "#4D5663"
          },
          "text": ""
         },
         "zerolinecolor": "#E1E5ED"
        },
        "yaxis2": {
         "domain": [
          0,
          0.25
         ],
         "gridcolor": "#E1E5ED",
         "showgrid": true,
         "tickfont": {
          "color": "#4D5663"
         },
         "title": {
          "font": {
           "color": "#4D5663"
          },
          "text": "Spread"
         },
         "zerolinecolor": "#E1E5ED"
        }
       }
      },
      "text/html": [
       "<div>                            <div id=\"45dc72db-2d58-453c-8c91-0a05002a61bd\" class=\"plotly-graph-div\" style=\"height:525px; width:100%;\"></div>            <script type=\"text/javascript\">                require([\"plotly\"], function(Plotly) {                    window.PLOTLYENV=window.PLOTLYENV || {};\n",
       "                    window.PLOTLYENV.BASE_URL='https://plot.ly';                                    if (document.getElementById(\"45dc72db-2d58-453c-8c91-0a05002a61bd\")) {                    Plotly.newPlot(                        \"45dc72db-2d58-453c-8c91-0a05002a61bd\",                        [{\"line\":{\"color\":\"rgba(255, 153, 51, 1.0)\",\"dash\":\"solid\",\"shape\":\"linear\",\"width\":1.3},\"mode\":\"lines\",\"name\":\"A\",\"text\":\"\",\"x\":[0,1,2,3,4,5,6,7,8,9,10,11,12,13,14,15,16,17,18,19,20,21,22,23,24,25,26,27,28,29,30,31,32,33,34,35,36,37,38,39,40,41,42,43,44,45,46,47,48,49,50,51,52,53,54,55,56,57,58,59,60,61,62,63,64,65,66,67,68,69,70,71,72,73,74,75,76,77,78,79,80,81,82,83,84,85,86,87,88,89,90,91,92,93,94,95,96,97,98,99],\"y\":[-0.22811627589074476,0.6787238832591042,1.6515060543232125,-0.6604782349724839,-0.5196249994745574,0.02055969042282577,-0.4397107068570352,0.41406042035964086,0.4108425293363018,0.8645542364829347,0.2119146464712936,0.6517328492837595,-0.3299934644424242,-0.48702899121525334,-0.22200897985421947,-0.8047818862898786,-1.1845906796308772,-0.4978353907798658,1.621167298309641,0.8224618564100735,-1.2902079390988175,0.01461791408133816,1.1410522269583148,0.8280874098673555,2.023735414640705,-0.4865637083260705,1.0389367638584508,1.2276962498928554,-0.18944754493862276,-0.14976216719342267,0.683583165072884,0.3239156424744562,-0.0719760168952608,-0.6378580170038229,-0.15493703777823922,1.7894814413117488,2.0184945323868257,0.20753608984329258,0.1978779128445857,1.0659510071385676,0.6558923317899069,-0.9926693302856021,-1.5682107352009464,-0.5753024096779175,-0.029614920045432938,-2.467749324540253,1.5160313978127993,-1.0111094337666988,0.36344209841536307,0.647623158788987,1.4071695619594518,0.5351397311767255,-0.04656114960512062,2.1664962354930863,0.14060328416534093,-0.8352079111291246,-0.9905325268254492,0.3027127572771243,-0.6970889943202017,-0.17485657057263013,0.1868467778262092,-0.9286776558514568,-0.03202384444914497,1.1188291288859542,1.0977932423879886,0.3465054154720146,-0.033836252989438084,-0.524395948545605,-1.031014258748993,-1.0769206345804534,-0.7197159862369726,1.13568672086204,-0.006894158362355122,-0.1625407442294256,-0.004439264787613177,0.22346207717106653,-0.6338247075959175,0.2830031950943066,-0.2842757783063089,-1.6745075707344477,-0.6599566325743017,0.11755418565563681,-0.8551230708313902,-1.4443938044070246,-1.7237423856954894,0.09323476948011054,-2.0237980294421427,0.5902819780517904,0.3521336835525418,-0.47410642666534136,-1.1966471740352314,-0.6828607642116732,-1.011661714759275,-1.905834151795708,0.9973400152016139,0.4597725013627585,-0.7315311070057287,-0.4033761447760559,-0.7193598651158356,0.6435615542100579],\"type\":\"scatter\"},{\"line\":{\"color\":\"rgba(55, 128, 191, 1.0)\",\"dash\":\"solid\",\"shape\":\"linear\",\"width\":1.3},\"mode\":\"lines\",\"name\":\"B\",\"text\":\"\",\"x\":[0,1,2,3,4,5,6,7,8,9,10,11,12,13,14,15,16,17,18,19,20,21,22,23,24,25,26,27,28,29,30,31,32,33,34,35,36,37,38,39,40,41,42,43,44,45,46,47,48,49,50,51,52,53,54,55,56,57,58,59,60,61,62,63,64,65,66,67,68,69,70,71,72,73,74,75,76,77,78,79,80,81,82,83,84,85,86,87,88,89,90,91,92,93,94,95,96,97,98,99],\"y\":[0.9852938519840362,-0.4142711665345483,-0.2993862088212026,-1.080158167641829,-0.5951615936768305,-1.061425559875092,-2.7120885483534254,-0.03149120113084428,-1.5755214690475732,0.35761998845734294,0.4201604838130015,-1.1872547692853608,2.2288159685553848,-0.20694873379706547,-0.29857480676428755,0.30465302078098727,1.0883622736425371,-0.0833002929219233,-0.38598103288068203,-0.6178040341239334,0.4000253076879923,-0.22496101350698444,-0.6615503092076963,1.1112518007745142,-0.2547548208944747,-0.9505888187305093,0.5501125290824538,0.23886067040655298,0.3767793235919412,-1.555051768463564,-1.9539650845846017,2.068238468829256,-0.8857142929791774,-0.6360773222197956,0.028636021121702788,-2.023847184228603,-0.6237244217096115,-0.845385390133307,-0.7706269321010328,-0.04798704669675597,-0.7347074680924067,0.978796728799089,3.0844914729635744,-0.5714312651068356,-1.6259819149285943,1.1653242003578144,-1.2262408297083338,0.024679650851651188,1.2652123552822339,0.6042438676916213,-1.0103596451298062,-0.2561198417491012,2.0972955326499196,0.4931935169281666,1.6862523895127877,-0.9511409837911713,-0.7929340198874938,-0.9415624684146361,-0.8162447738001156,2.305955639896165,2.3533932732497136,-1.2371339798667005,-1.806957263001291,-0.6692886247575235,0.26981495743716416,0.7353214008885376,-1.9587844101207168,-0.08875047092515755,-0.5375446519047127,1.0306545150239066,-0.42317938725773774,-0.7853846371787755,0.16885879662634365,-0.21273402930876428,0.04677265239052718,-0.11032587082205524,-0.9759868080638875,0.37714721887378244,-0.040245610606096056,-0.3624201877979656,-0.7237478146887273,-1.136675383870532,-0.1762010463278863,1.5545539485620936,0.12269680380628893,-0.27014083531452854,-1.1515553777811576,0.5355925338371131,-0.08498431225411827,-0.14033789297750898,1.060065500408755,-1.5694109802935956,1.8141368208221966,0.15478352025223172,0.009957933182435623,1.1231976518480087,-0.5950752487108096,0.13513089474798265,-0.5046785342264216,-0.7705528646396353],\"type\":\"scatter\"},{\"connectgaps\":false,\"fill\":\"tozeroy\",\"line\":{\"color\":\"green\",\"dash\":\"solid\",\"shape\":\"linear\",\"width\":0.5},\"mode\":\"lines\",\"name\":\"Spread\",\"showlegend\":false,\"x\":[0,1,2,3,4,5,6,7,8,9,10,11,12,13,14,15,16,17,18,19,20,21,22,23,24,25,26,27,28,29,30,31,32,33,34,35,36,37,38,39,40,41,42,43,44,45,46,47,48,49,50,51,52,53,54,55,56,57,58,59,60,61,62,63,64,65,66,67,68,69,70,71,72,73,74,75,76,77,78,79,80,81,82,83,84,85,86,87,88,89,90,91,92,93,94,95,96,97,98,99],\"xaxis\":\"x2\",\"y\":[\"\",1.0929950497936525,1.9508922631444152,0.4196799326693451,0.0755365942022731,1.0819852502979177,2.27237784149639,0.44555162149048516,1.986363998383875,0.5069342480255918,\"\",1.8389876185691203,\"\",\"\",0.07656582691006808,\"\",\"\",\"\",2.007148331190323,1.4402658905340069,\"\",0.2395789275883226,1.802602536166011,\"\",2.27849023553518,0.4640251104044388,0.488824234775997,0.9888355794863024,\"\",1.4052896012701415,2.6375482496574856,\"\",0.8137382760839166,\"\",\"\",3.813328625540352,2.642218954096437,1.0529214799765996,0.9685048449456185,1.1139380538353236,1.3905997998823136,\"\",\"\",\"\",1.5963669948831614,\"\",2.7422722275211333,\"\",\"\",0.04337929109736571,2.417529207089258,0.7912595729258267,\"\",1.6733027185649196,\"\",0.11593307266204667,\"\",1.2442752256917604,0.11915577947991396,\"\",\"\",0.3084563240152437,1.774933418552146,1.7881177536434776,0.8279782849508244,\"\",1.9249481571312788,\"\",\"\",\"\",\"\",1.9210713580408156,\"\",0.05019328507933868,\"\",0.3337879479931218,0.34216210046797,\"\",\"\",\"\",0.06379118211442558,1.2542295695261687,\"\",\"\",\"\",0.3633756047946391,\"\",0.05468944421467725,0.4371179958066601,\"\",\"\",0.8865502160819224,\"\",\"\",0.9873820820191782,\"\",\"\",\"\",\"\",1.4141144188496932],\"yaxis\":\"y2\",\"type\":\"scatter\"},{\"connectgaps\":false,\"fill\":\"tozeroy\",\"line\":{\"color\":\"red\",\"dash\":\"solid\",\"shape\":\"linear\",\"width\":0.5},\"mode\":\"lines\",\"name\":\"Spread\",\"showlegend\":false,\"x\":[0,1,2,3,4,5,6,7,8,9,10,11,12,13,14,15,16,17,18,19,20,21,22,23,24,25,26,27,28,29,30,31,32,33,34,35,36,37,38,39,40,41,42,43,44,45,46,47,48,49,50,51,52,53,54,55,56,57,58,59,60,61,62,63,64,65,66,67,68,69,70,71,72,73,74,75,76,77,78,79,80,81,82,83,84,85,86,87,88,89,90,91,92,93,94,95,96,97,98,99],\"xaxis\":\"x2\",\"y\":[-1.2134101278747809,\"\",\"\",\"\",\"\",\"\",\"\",\"\",\"\",\"\",-0.20824583734170787,\"\",-2.558809432997809,-0.2800802574181879,\"\",-1.1094349070708658,-2.272952953273414,-0.4145350978579425,\"\",\"\",-1.6902332467868098,\"\",\"\",-0.2831643909071587,\"\",\"\",\"\",\"\",-0.566226868530564,\"\",\"\",-1.7443228263547996,\"\",-0.0017806947840273146,-0.18357305889994202,\"\",\"\",\"\",\"\",\"\",\"\",-1.971466059084691,-4.652702208164521,-0.0038711445710818415,\"\",-3.6330735248980672,\"\",-1.03578908461835,-0.9017702568668708,\"\",\"\",\"\",-2.1438566822550404,\"\",-1.5456491053474468,\"\",-0.19759850693795544,\"\",\"\",-2.480812210468795,-2.1665464954235043,\"\",\"\",\"\",\"\",-0.388815985416523,\"\",-0.4356454776204475,-0.4934696068442803,-2.1075751496043598,-0.2965365989792349,\"\",-0.17575295498869878,\"\",-0.05121191717814035,\"\",\"\",-0.09414402377947584,-0.24403016770021285,-1.312087382936482,\"\",\"\",-0.6789220245035039,-2.9989477529691184,-1.8464391895017784,\"\",-0.8722426516609851,\"\",\"\",-0.3337685336878324,-2.2567126744439863,\"\",-2.8257985355814714,-2.0606176720479397,\"\",-0.6634251504852502,-0.13645585829491902,-0.5385070395240386,-0.214681330889414,\"\"],\"yaxis\":\"y2\",\"type\":\"scatter\"}],                        {\"hovermode\":\"x\",\"legend\":{\"bgcolor\":\"#F5F6F9\",\"font\":{\"color\":\"#4D5663\"}},\"paper_bgcolor\":\"#F5F6F9\",\"plot_bgcolor\":\"#F5F6F9\",\"template\":{\"data\":{\"barpolar\":[{\"marker\":{\"line\":{\"color\":\"#E5ECF6\",\"width\":0.5},\"pattern\":{\"fillmode\":\"overlay\",\"size\":10,\"solidity\":0.2}},\"type\":\"barpolar\"}],\"bar\":[{\"error_x\":{\"color\":\"#2a3f5f\"},\"error_y\":{\"color\":\"#2a3f5f\"},\"marker\":{\"line\":{\"color\":\"#E5ECF6\",\"width\":0.5},\"pattern\":{\"fillmode\":\"overlay\",\"size\":10,\"solidity\":0.2}},\"type\":\"bar\"}],\"carpet\":[{\"aaxis\":{\"endlinecolor\":\"#2a3f5f\",\"gridcolor\":\"white\",\"linecolor\":\"white\",\"minorgridcolor\":\"white\",\"startlinecolor\":\"#2a3f5f\"},\"baxis\":{\"endlinecolor\":\"#2a3f5f\",\"gridcolor\":\"white\",\"linecolor\":\"white\",\"minorgridcolor\":\"white\",\"startlinecolor\":\"#2a3f5f\"},\"type\":\"carpet\"}],\"choropleth\":[{\"colorbar\":{\"outlinewidth\":0,\"ticks\":\"\"},\"type\":\"choropleth\"}],\"contourcarpet\":[{\"colorbar\":{\"outlinewidth\":0,\"ticks\":\"\"},\"type\":\"contourcarpet\"}],\"contour\":[{\"colorbar\":{\"outlinewidth\":0,\"ticks\":\"\"},\"colorscale\":[[0.0,\"#0d0887\"],[0.1111111111111111,\"#46039f\"],[0.2222222222222222,\"#7201a8\"],[0.3333333333333333,\"#9c179e\"],[0.4444444444444444,\"#bd3786\"],[0.5555555555555556,\"#d8576b\"],[0.6666666666666666,\"#ed7953\"],[0.7777777777777778,\"#fb9f3a\"],[0.8888888888888888,\"#fdca26\"],[1.0,\"#f0f921\"]],\"type\":\"contour\"}],\"heatmapgl\":[{\"colorbar\":{\"outlinewidth\":0,\"ticks\":\"\"},\"colorscale\":[[0.0,\"#0d0887\"],[0.1111111111111111,\"#46039f\"],[0.2222222222222222,\"#7201a8\"],[0.3333333333333333,\"#9c179e\"],[0.4444444444444444,\"#bd3786\"],[0.5555555555555556,\"#d8576b\"],[0.6666666666666666,\"#ed7953\"],[0.7777777777777778,\"#fb9f3a\"],[0.8888888888888888,\"#fdca26\"],[1.0,\"#f0f921\"]],\"type\":\"heatmapgl\"}],\"heatmap\":[{\"colorbar\":{\"outlinewidth\":0,\"ticks\":\"\"},\"colorscale\":[[0.0,\"#0d0887\"],[0.1111111111111111,\"#46039f\"],[0.2222222222222222,\"#7201a8\"],[0.3333333333333333,\"#9c179e\"],[0.4444444444444444,\"#bd3786\"],[0.5555555555555556,\"#d8576b\"],[0.6666666666666666,\"#ed7953\"],[0.7777777777777778,\"#fb9f3a\"],[0.8888888888888888,\"#fdca26\"],[1.0,\"#f0f921\"]],\"type\":\"heatmap\"}],\"histogram2dcontour\":[{\"colorbar\":{\"outlinewidth\":0,\"ticks\":\"\"},\"colorscale\":[[0.0,\"#0d0887\"],[0.1111111111111111,\"#46039f\"],[0.2222222222222222,\"#7201a8\"],[0.3333333333333333,\"#9c179e\"],[0.4444444444444444,\"#bd3786\"],[0.5555555555555556,\"#d8576b\"],[0.6666666666666666,\"#ed7953\"],[0.7777777777777778,\"#fb9f3a\"],[0.8888888888888888,\"#fdca26\"],[1.0,\"#f0f921\"]],\"type\":\"histogram2dcontour\"}],\"histogram2d\":[{\"colorbar\":{\"outlinewidth\":0,\"ticks\":\"\"},\"colorscale\":[[0.0,\"#0d0887\"],[0.1111111111111111,\"#46039f\"],[0.2222222222222222,\"#7201a8\"],[0.3333333333333333,\"#9c179e\"],[0.4444444444444444,\"#bd3786\"],[0.5555555555555556,\"#d8576b\"],[0.6666666666666666,\"#ed7953\"],[0.7777777777777778,\"#fb9f3a\"],[0.8888888888888888,\"#fdca26\"],[1.0,\"#f0f921\"]],\"type\":\"histogram2d\"}],\"histogram\":[{\"marker\":{\"pattern\":{\"fillmode\":\"overlay\",\"size\":10,\"solidity\":0.2}},\"type\":\"histogram\"}],\"mesh3d\":[{\"colorbar\":{\"outlinewidth\":0,\"ticks\":\"\"},\"type\":\"mesh3d\"}],\"parcoords\":[{\"line\":{\"colorbar\":{\"outlinewidth\":0,\"ticks\":\"\"}},\"type\":\"parcoords\"}],\"pie\":[{\"automargin\":true,\"type\":\"pie\"}],\"scatter3d\":[{\"line\":{\"colorbar\":{\"outlinewidth\":0,\"ticks\":\"\"}},\"marker\":{\"colorbar\":{\"outlinewidth\":0,\"ticks\":\"\"}},\"type\":\"scatter3d\"}],\"scattercarpet\":[{\"marker\":{\"colorbar\":{\"outlinewidth\":0,\"ticks\":\"\"}},\"type\":\"scattercarpet\"}],\"scattergeo\":[{\"marker\":{\"colorbar\":{\"outlinewidth\":0,\"ticks\":\"\"}},\"type\":\"scattergeo\"}],\"scattergl\":[{\"marker\":{\"colorbar\":{\"outlinewidth\":0,\"ticks\":\"\"}},\"type\":\"scattergl\"}],\"scattermapbox\":[{\"marker\":{\"colorbar\":{\"outlinewidth\":0,\"ticks\":\"\"}},\"type\":\"scattermapbox\"}],\"scatterpolargl\":[{\"marker\":{\"colorbar\":{\"outlinewidth\":0,\"ticks\":\"\"}},\"type\":\"scatterpolargl\"}],\"scatterpolar\":[{\"marker\":{\"colorbar\":{\"outlinewidth\":0,\"ticks\":\"\"}},\"type\":\"scatterpolar\"}],\"scatter\":[{\"fillpattern\":{\"fillmode\":\"overlay\",\"size\":10,\"solidity\":0.2},\"type\":\"scatter\"}],\"scatterternary\":[{\"marker\":{\"colorbar\":{\"outlinewidth\":0,\"ticks\":\"\"}},\"type\":\"scatterternary\"}],\"surface\":[{\"colorbar\":{\"outlinewidth\":0,\"ticks\":\"\"},\"colorscale\":[[0.0,\"#0d0887\"],[0.1111111111111111,\"#46039f\"],[0.2222222222222222,\"#7201a8\"],[0.3333333333333333,\"#9c179e\"],[0.4444444444444444,\"#bd3786\"],[0.5555555555555556,\"#d8576b\"],[0.6666666666666666,\"#ed7953\"],[0.7777777777777778,\"#fb9f3a\"],[0.8888888888888888,\"#fdca26\"],[1.0,\"#f0f921\"]],\"type\":\"surface\"}],\"table\":[{\"cells\":{\"fill\":{\"color\":\"#EBF0F8\"},\"line\":{\"color\":\"white\"}},\"header\":{\"fill\":{\"color\":\"#C8D4E3\"},\"line\":{\"color\":\"white\"}},\"type\":\"table\"}]},\"layout\":{\"annotationdefaults\":{\"arrowcolor\":\"#2a3f5f\",\"arrowhead\":0,\"arrowwidth\":1},\"autotypenumbers\":\"strict\",\"coloraxis\":{\"colorbar\":{\"outlinewidth\":0,\"ticks\":\"\"}},\"colorscale\":{\"diverging\":[[0,\"#8e0152\"],[0.1,\"#c51b7d\"],[0.2,\"#de77ae\"],[0.3,\"#f1b6da\"],[0.4,\"#fde0ef\"],[0.5,\"#f7f7f7\"],[0.6,\"#e6f5d0\"],[0.7,\"#b8e186\"],[0.8,\"#7fbc41\"],[0.9,\"#4d9221\"],[1,\"#276419\"]],\"sequential\":[[0.0,\"#0d0887\"],[0.1111111111111111,\"#46039f\"],[0.2222222222222222,\"#7201a8\"],[0.3333333333333333,\"#9c179e\"],[0.4444444444444444,\"#bd3786\"],[0.5555555555555556,\"#d8576b\"],[0.6666666666666666,\"#ed7953\"],[0.7777777777777778,\"#fb9f3a\"],[0.8888888888888888,\"#fdca26\"],[1.0,\"#f0f921\"]],\"sequentialminus\":[[0.0,\"#0d0887\"],[0.1111111111111111,\"#46039f\"],[0.2222222222222222,\"#7201a8\"],[0.3333333333333333,\"#9c179e\"],[0.4444444444444444,\"#bd3786\"],[0.5555555555555556,\"#d8576b\"],[0.6666666666666666,\"#ed7953\"],[0.7777777777777778,\"#fb9f3a\"],[0.8888888888888888,\"#fdca26\"],[1.0,\"#f0f921\"]]},\"colorway\":[\"#636efa\",\"#EF553B\",\"#00cc96\",\"#ab63fa\",\"#FFA15A\",\"#19d3f3\",\"#FF6692\",\"#B6E880\",\"#FF97FF\",\"#FECB52\"],\"font\":{\"color\":\"#2a3f5f\"},\"geo\":{\"bgcolor\":\"white\",\"lakecolor\":\"white\",\"landcolor\":\"#E5ECF6\",\"showlakes\":true,\"showland\":true,\"subunitcolor\":\"white\"},\"hoverlabel\":{\"align\":\"left\"},\"hovermode\":\"closest\",\"mapbox\":{\"style\":\"light\"},\"paper_bgcolor\":\"white\",\"plot_bgcolor\":\"#E5ECF6\",\"polar\":{\"angularaxis\":{\"gridcolor\":\"white\",\"linecolor\":\"white\",\"ticks\":\"\"},\"bgcolor\":\"#E5ECF6\",\"radialaxis\":{\"gridcolor\":\"white\",\"linecolor\":\"white\",\"ticks\":\"\"}},\"scene\":{\"xaxis\":{\"backgroundcolor\":\"#E5ECF6\",\"gridcolor\":\"white\",\"gridwidth\":2,\"linecolor\":\"white\",\"showbackground\":true,\"ticks\":\"\",\"zerolinecolor\":\"white\"},\"yaxis\":{\"backgroundcolor\":\"#E5ECF6\",\"gridcolor\":\"white\",\"gridwidth\":2,\"linecolor\":\"white\",\"showbackground\":true,\"ticks\":\"\",\"zerolinecolor\":\"white\"},\"zaxis\":{\"backgroundcolor\":\"#E5ECF6\",\"gridcolor\":\"white\",\"gridwidth\":2,\"linecolor\":\"white\",\"showbackground\":true,\"ticks\":\"\",\"zerolinecolor\":\"white\"}},\"shapedefaults\":{\"line\":{\"color\":\"#2a3f5f\"}},\"ternary\":{\"aaxis\":{\"gridcolor\":\"white\",\"linecolor\":\"white\",\"ticks\":\"\"},\"baxis\":{\"gridcolor\":\"white\",\"linecolor\":\"white\",\"ticks\":\"\"},\"bgcolor\":\"#E5ECF6\",\"caxis\":{\"gridcolor\":\"white\",\"linecolor\":\"white\",\"ticks\":\"\"}},\"title\":{\"x\":0.05},\"xaxis\":{\"automargin\":true,\"gridcolor\":\"white\",\"linecolor\":\"white\",\"ticks\":\"\",\"title\":{\"standoff\":15},\"zerolinecolor\":\"white\",\"zerolinewidth\":2},\"yaxis\":{\"automargin\":true,\"gridcolor\":\"white\",\"linecolor\":\"white\",\"ticks\":\"\",\"title\":{\"standoff\":15},\"zerolinecolor\":\"white\",\"zerolinewidth\":2}}},\"title\":{\"font\":{\"color\":\"#4D5663\"}},\"xaxis\":{\"gridcolor\":\"#E1E5ED\",\"showgrid\":true,\"tickfont\":{\"color\":\"#4D5663\"},\"title\":{\"font\":{\"color\":\"#4D5663\"},\"text\":\"\"},\"zerolinecolor\":\"#E1E5ED\"},\"yaxis\":{\"domain\":[0.3,1],\"gridcolor\":\"#E1E5ED\",\"showgrid\":true,\"tickfont\":{\"color\":\"#4D5663\"},\"title\":{\"font\":{\"color\":\"#4D5663\"},\"text\":\"\"},\"zerolinecolor\":\"#E1E5ED\"},\"yaxis2\":{\"domain\":[0,0.25],\"gridcolor\":\"#E1E5ED\",\"showgrid\":true,\"tickfont\":{\"color\":\"#4D5663\"},\"title\":{\"font\":{\"color\":\"#4D5663\"},\"text\":\"Spread\"},\"zerolinecolor\":\"#E1E5ED\"},\"xaxis2\":{\"anchor\":\"y2\",\"gridcolor\":\"#E1E5ED\",\"showgrid\":true,\"showticklabels\":false,\"tickfont\":{\"color\":\"#4D5663\"},\"title\":{\"font\":{\"color\":\"#4D5663\"},\"text\":\"\"},\"zerolinecolor\":\"#E1E5ED\"}},                        {\"showLink\": true, \"linkText\": \"Export to plot.ly\", \"plotlyServerURL\": \"https://plot.ly\", \"responsive\": true}                    ).then(function(){\n",
       "                            \n",
       "var gd = document.getElementById('45dc72db-2d58-453c-8c91-0a05002a61bd');\n",
       "var x = new MutationObserver(function (mutations, observer) {{\n",
       "        var display = window.getComputedStyle(gd).display;\n",
       "        if (!display || display === 'none') {{\n",
       "            console.log([gd, 'removed!']);\n",
       "            Plotly.purge(gd);\n",
       "            observer.disconnect();\n",
       "        }}\n",
       "}});\n",
       "\n",
       "// Listen for the removal of the full notebook cells\n",
       "var notebookContainer = gd.closest('#notebook-container');\n",
       "if (notebookContainer) {{\n",
       "    x.observe(notebookContainer, {childList: true});\n",
       "}}\n",
       "\n",
       "// Listen for the clearing of the current output cell\n",
       "var outputEl = gd.closest('.output');\n",
       "if (outputEl) {{\n",
       "    x.observe(outputEl, {childList: true});\n",
       "}}\n",
       "\n",
       "                        })                };                });            </script>        </div>"
      ]
     },
     "metadata": {},
     "output_type": "display_data"
    }
   ],
   "source": [
    "df[['A','B']].iplot(kind='spread')"
   ]
  },
  {
   "cell_type": "markdown",
   "id": "0a3fda61",
   "metadata": {},
   "source": [
    "# Bubble Plot"
   ]
  },
  {
   "cell_type": "code",
   "execution_count": 16,
   "id": "20b7480a",
   "metadata": {},
   "outputs": [
    {
     "data": {
      "application/vnd.plotly.v1+json": {
       "config": {
        "linkText": "Export to plot.ly",
        "plotlyServerURL": "https://plot.ly",
        "showLink": true
       },
       "data": [
        {
         "marker": {
          "color": [
           "rgb(255, 153, 51)",
           "rgb(55, 128, 191)",
           "rgb(50, 171, 96)",
           "rgb(128, 0, 128)",
           "rgb(219, 64, 82)",
           "rgb(0, 128, 128)",
           "rgb(255, 255, 51)",
           "rgb(128, 128, 0)",
           "rgb(251, 128, 114)",
           "rgb(128, 177, 211)"
          ],
          "line": {
           "width": 1.3
          },
          "size": [
           60,
           73,
           38,
           36,
           68,
           58,
           47,
           56,
           16,
           19,
           50,
           44,
           56,
           56,
           72,
           33,
           83,
           20,
           77,
           69,
           60,
           72,
           74,
           81,
           53,
           44,
           105,
           71,
           81,
           79,
           51,
           50,
           23,
           64,
           12,
           30,
           43,
           30,
           76,
           68,
           47,
           51,
           56,
           82,
           49,
           62,
           71,
           75,
           22,
           73,
           48,
           61,
           20,
           74,
           64,
           52,
           33,
           63,
           12,
           62,
           44,
           16,
           51,
           88,
           52,
           67,
           41,
           58,
           44,
           55,
           85,
           56,
           40,
           65,
           53,
           111,
           44,
           68,
           51,
           60,
           62,
           38,
           36,
           57,
           26,
           38,
           59,
           64,
           45,
           46,
           56,
           76,
           39,
           37,
           59,
           37,
           76,
           25,
           95,
           81
          ],
          "symbol": "circle"
         },
         "mode": "markers",
         "text": "",
         "type": "scatter",
         "x": [
          -0.22811627589074476,
          0.6787238832591042,
          1.6515060543232125,
          -0.6604782349724839,
          -0.5196249994745574,
          0.02055969042282577,
          -0.4397107068570352,
          0.41406042035964086,
          0.4108425293363018,
          0.8645542364829347,
          0.2119146464712936,
          0.6517328492837595,
          -0.3299934644424242,
          -0.48702899121525334,
          -0.22200897985421947,
          -0.8047818862898786,
          -1.1845906796308772,
          -0.4978353907798658,
          1.621167298309641,
          0.8224618564100735,
          -1.2902079390988175,
          0.01461791408133816,
          1.1410522269583148,
          0.8280874098673555,
          2.023735414640705,
          -0.4865637083260705,
          1.0389367638584508,
          1.2276962498928554,
          -0.18944754493862276,
          -0.14976216719342267,
          0.683583165072884,
          0.3239156424744562,
          -0.0719760168952608,
          -0.6378580170038229,
          -0.15493703777823922,
          1.7894814413117488,
          2.0184945323868257,
          0.20753608984329258,
          0.1978779128445857,
          1.0659510071385676,
          0.6558923317899069,
          -0.9926693302856021,
          -1.5682107352009464,
          -0.5753024096779175,
          -0.029614920045432938,
          -2.467749324540253,
          1.5160313978127993,
          -1.0111094337666988,
          0.36344209841536307,
          0.647623158788987,
          1.4071695619594518,
          0.5351397311767255,
          -0.04656114960512062,
          2.1664962354930863,
          0.14060328416534093,
          -0.8352079111291246,
          -0.9905325268254492,
          0.3027127572771243,
          -0.6970889943202017,
          -0.17485657057263013,
          0.1868467778262092,
          -0.9286776558514568,
          -0.03202384444914497,
          1.1188291288859542,
          1.0977932423879886,
          0.3465054154720146,
          -0.033836252989438084,
          -0.524395948545605,
          -1.031014258748993,
          -1.0769206345804534,
          -0.7197159862369726,
          1.13568672086204,
          -0.006894158362355122,
          -0.1625407442294256,
          -0.004439264787613177,
          0.22346207717106653,
          -0.6338247075959175,
          0.2830031950943066,
          -0.2842757783063089,
          -1.6745075707344477,
          -0.6599566325743017,
          0.11755418565563681,
          -0.8551230708313902,
          -1.4443938044070246,
          -1.7237423856954894,
          0.09323476948011054,
          -2.0237980294421427,
          0.5902819780517904,
          0.3521336835525418,
          -0.47410642666534136,
          -1.1966471740352314,
          -0.6828607642116732,
          -1.011661714759275,
          -1.905834151795708,
          0.9973400152016139,
          0.4597725013627585,
          -0.7315311070057287,
          -0.4033761447760559,
          -0.7193598651158356,
          0.6435615542100579
         ],
         "y": [
          0.9852938519840362,
          -0.4142711665345483,
          -0.2993862088212026,
          -1.080158167641829,
          -0.5951615936768305,
          -1.061425559875092,
          -2.7120885483534254,
          -0.03149120113084428,
          -1.5755214690475732,
          0.35761998845734294,
          0.4201604838130015,
          -1.1872547692853608,
          2.2288159685553848,
          -0.20694873379706547,
          -0.29857480676428755,
          0.30465302078098727,
          1.0883622736425371,
          -0.0833002929219233,
          -0.38598103288068203,
          -0.6178040341239334,
          0.4000253076879923,
          -0.22496101350698444,
          -0.6615503092076963,
          1.1112518007745142,
          -0.2547548208944747,
          -0.9505888187305093,
          0.5501125290824538,
          0.23886067040655298,
          0.3767793235919412,
          -1.555051768463564,
          -1.9539650845846017,
          2.068238468829256,
          -0.8857142929791774,
          -0.6360773222197956,
          0.028636021121702788,
          -2.023847184228603,
          -0.6237244217096115,
          -0.845385390133307,
          -0.7706269321010328,
          -0.04798704669675597,
          -0.7347074680924067,
          0.978796728799089,
          3.0844914729635744,
          -0.5714312651068356,
          -1.6259819149285943,
          1.1653242003578144,
          -1.2262408297083338,
          0.024679650851651188,
          1.2652123552822339,
          0.6042438676916213,
          -1.0103596451298062,
          -0.2561198417491012,
          2.0972955326499196,
          0.4931935169281666,
          1.6862523895127877,
          -0.9511409837911713,
          -0.7929340198874938,
          -0.9415624684146361,
          -0.8162447738001156,
          2.305955639896165,
          2.3533932732497136,
          -1.2371339798667005,
          -1.806957263001291,
          -0.6692886247575235,
          0.26981495743716416,
          0.7353214008885376,
          -1.9587844101207168,
          -0.08875047092515755,
          -0.5375446519047127,
          1.0306545150239066,
          -0.42317938725773774,
          -0.7853846371787755,
          0.16885879662634365,
          -0.21273402930876428,
          0.04677265239052718,
          -0.11032587082205524,
          -0.9759868080638875,
          0.37714721887378244,
          -0.040245610606096056,
          -0.3624201877979656,
          -0.7237478146887273,
          -1.136675383870532,
          -0.1762010463278863,
          1.5545539485620936,
          0.12269680380628893,
          -0.27014083531452854,
          -1.1515553777811576,
          0.5355925338371131,
          -0.08498431225411827,
          -0.14033789297750898,
          1.060065500408755,
          -1.5694109802935956,
          1.8141368208221966,
          0.15478352025223172,
          0.009957933182435623,
          1.1231976518480087,
          -0.5950752487108096,
          0.13513089474798265,
          -0.5046785342264216,
          -0.7705528646396353
         ]
        }
       ],
       "layout": {
        "legend": {
         "bgcolor": "#F5F6F9",
         "font": {
          "color": "#4D5663"
         }
        },
        "paper_bgcolor": "#F5F6F9",
        "plot_bgcolor": "#F5F6F9",
        "template": {
         "data": {
          "bar": [
           {
            "error_x": {
             "color": "#2a3f5f"
            },
            "error_y": {
             "color": "#2a3f5f"
            },
            "marker": {
             "line": {
              "color": "#E5ECF6",
              "width": 0.5
             },
             "pattern": {
              "fillmode": "overlay",
              "size": 10,
              "solidity": 0.2
             }
            },
            "type": "bar"
           }
          ],
          "barpolar": [
           {
            "marker": {
             "line": {
              "color": "#E5ECF6",
              "width": 0.5
             },
             "pattern": {
              "fillmode": "overlay",
              "size": 10,
              "solidity": 0.2
             }
            },
            "type": "barpolar"
           }
          ],
          "carpet": [
           {
            "aaxis": {
             "endlinecolor": "#2a3f5f",
             "gridcolor": "white",
             "linecolor": "white",
             "minorgridcolor": "white",
             "startlinecolor": "#2a3f5f"
            },
            "baxis": {
             "endlinecolor": "#2a3f5f",
             "gridcolor": "white",
             "linecolor": "white",
             "minorgridcolor": "white",
             "startlinecolor": "#2a3f5f"
            },
            "type": "carpet"
           }
          ],
          "choropleth": [
           {
            "colorbar": {
             "outlinewidth": 0,
             "ticks": ""
            },
            "type": "choropleth"
           }
          ],
          "contour": [
           {
            "colorbar": {
             "outlinewidth": 0,
             "ticks": ""
            },
            "colorscale": [
             [
              0,
              "#0d0887"
             ],
             [
              0.1111111111111111,
              "#46039f"
             ],
             [
              0.2222222222222222,
              "#7201a8"
             ],
             [
              0.3333333333333333,
              "#9c179e"
             ],
             [
              0.4444444444444444,
              "#bd3786"
             ],
             [
              0.5555555555555556,
              "#d8576b"
             ],
             [
              0.6666666666666666,
              "#ed7953"
             ],
             [
              0.7777777777777778,
              "#fb9f3a"
             ],
             [
              0.8888888888888888,
              "#fdca26"
             ],
             [
              1,
              "#f0f921"
             ]
            ],
            "type": "contour"
           }
          ],
          "contourcarpet": [
           {
            "colorbar": {
             "outlinewidth": 0,
             "ticks": ""
            },
            "type": "contourcarpet"
           }
          ],
          "heatmap": [
           {
            "colorbar": {
             "outlinewidth": 0,
             "ticks": ""
            },
            "colorscale": [
             [
              0,
              "#0d0887"
             ],
             [
              0.1111111111111111,
              "#46039f"
             ],
             [
              0.2222222222222222,
              "#7201a8"
             ],
             [
              0.3333333333333333,
              "#9c179e"
             ],
             [
              0.4444444444444444,
              "#bd3786"
             ],
             [
              0.5555555555555556,
              "#d8576b"
             ],
             [
              0.6666666666666666,
              "#ed7953"
             ],
             [
              0.7777777777777778,
              "#fb9f3a"
             ],
             [
              0.8888888888888888,
              "#fdca26"
             ],
             [
              1,
              "#f0f921"
             ]
            ],
            "type": "heatmap"
           }
          ],
          "heatmapgl": [
           {
            "colorbar": {
             "outlinewidth": 0,
             "ticks": ""
            },
            "colorscale": [
             [
              0,
              "#0d0887"
             ],
             [
              0.1111111111111111,
              "#46039f"
             ],
             [
              0.2222222222222222,
              "#7201a8"
             ],
             [
              0.3333333333333333,
              "#9c179e"
             ],
             [
              0.4444444444444444,
              "#bd3786"
             ],
             [
              0.5555555555555556,
              "#d8576b"
             ],
             [
              0.6666666666666666,
              "#ed7953"
             ],
             [
              0.7777777777777778,
              "#fb9f3a"
             ],
             [
              0.8888888888888888,
              "#fdca26"
             ],
             [
              1,
              "#f0f921"
             ]
            ],
            "type": "heatmapgl"
           }
          ],
          "histogram": [
           {
            "marker": {
             "pattern": {
              "fillmode": "overlay",
              "size": 10,
              "solidity": 0.2
             }
            },
            "type": "histogram"
           }
          ],
          "histogram2d": [
           {
            "colorbar": {
             "outlinewidth": 0,
             "ticks": ""
            },
            "colorscale": [
             [
              0,
              "#0d0887"
             ],
             [
              0.1111111111111111,
              "#46039f"
             ],
             [
              0.2222222222222222,
              "#7201a8"
             ],
             [
              0.3333333333333333,
              "#9c179e"
             ],
             [
              0.4444444444444444,
              "#bd3786"
             ],
             [
              0.5555555555555556,
              "#d8576b"
             ],
             [
              0.6666666666666666,
              "#ed7953"
             ],
             [
              0.7777777777777778,
              "#fb9f3a"
             ],
             [
              0.8888888888888888,
              "#fdca26"
             ],
             [
              1,
              "#f0f921"
             ]
            ],
            "type": "histogram2d"
           }
          ],
          "histogram2dcontour": [
           {
            "colorbar": {
             "outlinewidth": 0,
             "ticks": ""
            },
            "colorscale": [
             [
              0,
              "#0d0887"
             ],
             [
              0.1111111111111111,
              "#46039f"
             ],
             [
              0.2222222222222222,
              "#7201a8"
             ],
             [
              0.3333333333333333,
              "#9c179e"
             ],
             [
              0.4444444444444444,
              "#bd3786"
             ],
             [
              0.5555555555555556,
              "#d8576b"
             ],
             [
              0.6666666666666666,
              "#ed7953"
             ],
             [
              0.7777777777777778,
              "#fb9f3a"
             ],
             [
              0.8888888888888888,
              "#fdca26"
             ],
             [
              1,
              "#f0f921"
             ]
            ],
            "type": "histogram2dcontour"
           }
          ],
          "mesh3d": [
           {
            "colorbar": {
             "outlinewidth": 0,
             "ticks": ""
            },
            "type": "mesh3d"
           }
          ],
          "parcoords": [
           {
            "line": {
             "colorbar": {
              "outlinewidth": 0,
              "ticks": ""
             }
            },
            "type": "parcoords"
           }
          ],
          "pie": [
           {
            "automargin": true,
            "type": "pie"
           }
          ],
          "scatter": [
           {
            "fillpattern": {
             "fillmode": "overlay",
             "size": 10,
             "solidity": 0.2
            },
            "type": "scatter"
           }
          ],
          "scatter3d": [
           {
            "line": {
             "colorbar": {
              "outlinewidth": 0,
              "ticks": ""
             }
            },
            "marker": {
             "colorbar": {
              "outlinewidth": 0,
              "ticks": ""
             }
            },
            "type": "scatter3d"
           }
          ],
          "scattercarpet": [
           {
            "marker": {
             "colorbar": {
              "outlinewidth": 0,
              "ticks": ""
             }
            },
            "type": "scattercarpet"
           }
          ],
          "scattergeo": [
           {
            "marker": {
             "colorbar": {
              "outlinewidth": 0,
              "ticks": ""
             }
            },
            "type": "scattergeo"
           }
          ],
          "scattergl": [
           {
            "marker": {
             "colorbar": {
              "outlinewidth": 0,
              "ticks": ""
             }
            },
            "type": "scattergl"
           }
          ],
          "scattermapbox": [
           {
            "marker": {
             "colorbar": {
              "outlinewidth": 0,
              "ticks": ""
             }
            },
            "type": "scattermapbox"
           }
          ],
          "scatterpolar": [
           {
            "marker": {
             "colorbar": {
              "outlinewidth": 0,
              "ticks": ""
             }
            },
            "type": "scatterpolar"
           }
          ],
          "scatterpolargl": [
           {
            "marker": {
             "colorbar": {
              "outlinewidth": 0,
              "ticks": ""
             }
            },
            "type": "scatterpolargl"
           }
          ],
          "scatterternary": [
           {
            "marker": {
             "colorbar": {
              "outlinewidth": 0,
              "ticks": ""
             }
            },
            "type": "scatterternary"
           }
          ],
          "surface": [
           {
            "colorbar": {
             "outlinewidth": 0,
             "ticks": ""
            },
            "colorscale": [
             [
              0,
              "#0d0887"
             ],
             [
              0.1111111111111111,
              "#46039f"
             ],
             [
              0.2222222222222222,
              "#7201a8"
             ],
             [
              0.3333333333333333,
              "#9c179e"
             ],
             [
              0.4444444444444444,
              "#bd3786"
             ],
             [
              0.5555555555555556,
              "#d8576b"
             ],
             [
              0.6666666666666666,
              "#ed7953"
             ],
             [
              0.7777777777777778,
              "#fb9f3a"
             ],
             [
              0.8888888888888888,
              "#fdca26"
             ],
             [
              1,
              "#f0f921"
             ]
            ],
            "type": "surface"
           }
          ],
          "table": [
           {
            "cells": {
             "fill": {
              "color": "#EBF0F8"
             },
             "line": {
              "color": "white"
             }
            },
            "header": {
             "fill": {
              "color": "#C8D4E3"
             },
             "line": {
              "color": "white"
             }
            },
            "type": "table"
           }
          ]
         },
         "layout": {
          "annotationdefaults": {
           "arrowcolor": "#2a3f5f",
           "arrowhead": 0,
           "arrowwidth": 1
          },
          "autotypenumbers": "strict",
          "coloraxis": {
           "colorbar": {
            "outlinewidth": 0,
            "ticks": ""
           }
          },
          "colorscale": {
           "diverging": [
            [
             0,
             "#8e0152"
            ],
            [
             0.1,
             "#c51b7d"
            ],
            [
             0.2,
             "#de77ae"
            ],
            [
             0.3,
             "#f1b6da"
            ],
            [
             0.4,
             "#fde0ef"
            ],
            [
             0.5,
             "#f7f7f7"
            ],
            [
             0.6,
             "#e6f5d0"
            ],
            [
             0.7,
             "#b8e186"
            ],
            [
             0.8,
             "#7fbc41"
            ],
            [
             0.9,
             "#4d9221"
            ],
            [
             1,
             "#276419"
            ]
           ],
           "sequential": [
            [
             0,
             "#0d0887"
            ],
            [
             0.1111111111111111,
             "#46039f"
            ],
            [
             0.2222222222222222,
             "#7201a8"
            ],
            [
             0.3333333333333333,
             "#9c179e"
            ],
            [
             0.4444444444444444,
             "#bd3786"
            ],
            [
             0.5555555555555556,
             "#d8576b"
            ],
            [
             0.6666666666666666,
             "#ed7953"
            ],
            [
             0.7777777777777778,
             "#fb9f3a"
            ],
            [
             0.8888888888888888,
             "#fdca26"
            ],
            [
             1,
             "#f0f921"
            ]
           ],
           "sequentialminus": [
            [
             0,
             "#0d0887"
            ],
            [
             0.1111111111111111,
             "#46039f"
            ],
            [
             0.2222222222222222,
             "#7201a8"
            ],
            [
             0.3333333333333333,
             "#9c179e"
            ],
            [
             0.4444444444444444,
             "#bd3786"
            ],
            [
             0.5555555555555556,
             "#d8576b"
            ],
            [
             0.6666666666666666,
             "#ed7953"
            ],
            [
             0.7777777777777778,
             "#fb9f3a"
            ],
            [
             0.8888888888888888,
             "#fdca26"
            ],
            [
             1,
             "#f0f921"
            ]
           ]
          },
          "colorway": [
           "#636efa",
           "#EF553B",
           "#00cc96",
           "#ab63fa",
           "#FFA15A",
           "#19d3f3",
           "#FF6692",
           "#B6E880",
           "#FF97FF",
           "#FECB52"
          ],
          "font": {
           "color": "#2a3f5f"
          },
          "geo": {
           "bgcolor": "white",
           "lakecolor": "white",
           "landcolor": "#E5ECF6",
           "showlakes": true,
           "showland": true,
           "subunitcolor": "white"
          },
          "hoverlabel": {
           "align": "left"
          },
          "hovermode": "closest",
          "mapbox": {
           "style": "light"
          },
          "paper_bgcolor": "white",
          "plot_bgcolor": "#E5ECF6",
          "polar": {
           "angularaxis": {
            "gridcolor": "white",
            "linecolor": "white",
            "ticks": ""
           },
           "bgcolor": "#E5ECF6",
           "radialaxis": {
            "gridcolor": "white",
            "linecolor": "white",
            "ticks": ""
           }
          },
          "scene": {
           "xaxis": {
            "backgroundcolor": "#E5ECF6",
            "gridcolor": "white",
            "gridwidth": 2,
            "linecolor": "white",
            "showbackground": true,
            "ticks": "",
            "zerolinecolor": "white"
           },
           "yaxis": {
            "backgroundcolor": "#E5ECF6",
            "gridcolor": "white",
            "gridwidth": 2,
            "linecolor": "white",
            "showbackground": true,
            "ticks": "",
            "zerolinecolor": "white"
           },
           "zaxis": {
            "backgroundcolor": "#E5ECF6",
            "gridcolor": "white",
            "gridwidth": 2,
            "linecolor": "white",
            "showbackground": true,
            "ticks": "",
            "zerolinecolor": "white"
           }
          },
          "shapedefaults": {
           "line": {
            "color": "#2a3f5f"
           }
          },
          "ternary": {
           "aaxis": {
            "gridcolor": "white",
            "linecolor": "white",
            "ticks": ""
           },
           "baxis": {
            "gridcolor": "white",
            "linecolor": "white",
            "ticks": ""
           },
           "bgcolor": "#E5ECF6",
           "caxis": {
            "gridcolor": "white",
            "linecolor": "white",
            "ticks": ""
           }
          },
          "title": {
           "x": 0.05
          },
          "xaxis": {
           "automargin": true,
           "gridcolor": "white",
           "linecolor": "white",
           "ticks": "",
           "title": {
            "standoff": 15
           },
           "zerolinecolor": "white",
           "zerolinewidth": 2
          },
          "yaxis": {
           "automargin": true,
           "gridcolor": "white",
           "linecolor": "white",
           "ticks": "",
           "title": {
            "standoff": 15
           },
           "zerolinecolor": "white",
           "zerolinewidth": 2
          }
         }
        },
        "title": {
         "font": {
          "color": "#4D5663"
         }
        },
        "xaxis": {
         "gridcolor": "#E1E5ED",
         "showgrid": true,
         "tickfont": {
          "color": "#4D5663"
         },
         "title": {
          "font": {
           "color": "#4D5663"
          },
          "text": ""
         },
         "zerolinecolor": "#E1E5ED"
        },
        "yaxis": {
         "gridcolor": "#E1E5ED",
         "showgrid": true,
         "tickfont": {
          "color": "#4D5663"
         },
         "title": {
          "font": {
           "color": "#4D5663"
          },
          "text": ""
         },
         "zerolinecolor": "#E1E5ED"
        }
       }
      },
      "text/html": [
       "<div>                            <div id=\"9adae6d6-af71-4515-ab3d-2d93264f9e1a\" class=\"plotly-graph-div\" style=\"height:525px; width:100%;\"></div>            <script type=\"text/javascript\">                require([\"plotly\"], function(Plotly) {                    window.PLOTLYENV=window.PLOTLYENV || {};\n",
       "                    window.PLOTLYENV.BASE_URL='https://plot.ly';                                    if (document.getElementById(\"9adae6d6-af71-4515-ab3d-2d93264f9e1a\")) {                    Plotly.newPlot(                        \"9adae6d6-af71-4515-ab3d-2d93264f9e1a\",                        [{\"marker\":{\"color\":[\"rgb(255, 153, 51)\",\"rgb(55, 128, 191)\",\"rgb(50, 171, 96)\",\"rgb(128, 0, 128)\",\"rgb(219, 64, 82)\",\"rgb(0, 128, 128)\",\"rgb(255, 255, 51)\",\"rgb(128, 128, 0)\",\"rgb(251, 128, 114)\",\"rgb(128, 177, 211)\"],\"line\":{\"width\":1.3},\"size\":[60,73,38,36,68,58,47,56,16,19,50,44,56,56,72,33,83,20,77,69,60,72,74,81,53,44,105,71,81,79,51,50,23,64,12,30,43,30,76,68,47,51,56,82,49,62,71,75,22,73,48,61,20,74,64,52,33,63,12,62,44,16,51,88,52,67,41,58,44,55,85,56,40,65,53,111,44,68,51,60,62,38,36,57,26,38,59,64,45,46,56,76,39,37,59,37,76,25,95,81],\"symbol\":\"circle\"},\"mode\":\"markers\",\"text\":\"\",\"x\":[-0.22811627589074476,0.6787238832591042,1.6515060543232125,-0.6604782349724839,-0.5196249994745574,0.02055969042282577,-0.4397107068570352,0.41406042035964086,0.4108425293363018,0.8645542364829347,0.2119146464712936,0.6517328492837595,-0.3299934644424242,-0.48702899121525334,-0.22200897985421947,-0.8047818862898786,-1.1845906796308772,-0.4978353907798658,1.621167298309641,0.8224618564100735,-1.2902079390988175,0.01461791408133816,1.1410522269583148,0.8280874098673555,2.023735414640705,-0.4865637083260705,1.0389367638584508,1.2276962498928554,-0.18944754493862276,-0.14976216719342267,0.683583165072884,0.3239156424744562,-0.0719760168952608,-0.6378580170038229,-0.15493703777823922,1.7894814413117488,2.0184945323868257,0.20753608984329258,0.1978779128445857,1.0659510071385676,0.6558923317899069,-0.9926693302856021,-1.5682107352009464,-0.5753024096779175,-0.029614920045432938,-2.467749324540253,1.5160313978127993,-1.0111094337666988,0.36344209841536307,0.647623158788987,1.4071695619594518,0.5351397311767255,-0.04656114960512062,2.1664962354930863,0.14060328416534093,-0.8352079111291246,-0.9905325268254492,0.3027127572771243,-0.6970889943202017,-0.17485657057263013,0.1868467778262092,-0.9286776558514568,-0.03202384444914497,1.1188291288859542,1.0977932423879886,0.3465054154720146,-0.033836252989438084,-0.524395948545605,-1.031014258748993,-1.0769206345804534,-0.7197159862369726,1.13568672086204,-0.006894158362355122,-0.1625407442294256,-0.004439264787613177,0.22346207717106653,-0.6338247075959175,0.2830031950943066,-0.2842757783063089,-1.6745075707344477,-0.6599566325743017,0.11755418565563681,-0.8551230708313902,-1.4443938044070246,-1.7237423856954894,0.09323476948011054,-2.0237980294421427,0.5902819780517904,0.3521336835525418,-0.47410642666534136,-1.1966471740352314,-0.6828607642116732,-1.011661714759275,-1.905834151795708,0.9973400152016139,0.4597725013627585,-0.7315311070057287,-0.4033761447760559,-0.7193598651158356,0.6435615542100579],\"y\":[0.9852938519840362,-0.4142711665345483,-0.2993862088212026,-1.080158167641829,-0.5951615936768305,-1.061425559875092,-2.7120885483534254,-0.03149120113084428,-1.5755214690475732,0.35761998845734294,0.4201604838130015,-1.1872547692853608,2.2288159685553848,-0.20694873379706547,-0.29857480676428755,0.30465302078098727,1.0883622736425371,-0.0833002929219233,-0.38598103288068203,-0.6178040341239334,0.4000253076879923,-0.22496101350698444,-0.6615503092076963,1.1112518007745142,-0.2547548208944747,-0.9505888187305093,0.5501125290824538,0.23886067040655298,0.3767793235919412,-1.555051768463564,-1.9539650845846017,2.068238468829256,-0.8857142929791774,-0.6360773222197956,0.028636021121702788,-2.023847184228603,-0.6237244217096115,-0.845385390133307,-0.7706269321010328,-0.04798704669675597,-0.7347074680924067,0.978796728799089,3.0844914729635744,-0.5714312651068356,-1.6259819149285943,1.1653242003578144,-1.2262408297083338,0.024679650851651188,1.2652123552822339,0.6042438676916213,-1.0103596451298062,-0.2561198417491012,2.0972955326499196,0.4931935169281666,1.6862523895127877,-0.9511409837911713,-0.7929340198874938,-0.9415624684146361,-0.8162447738001156,2.305955639896165,2.3533932732497136,-1.2371339798667005,-1.806957263001291,-0.6692886247575235,0.26981495743716416,0.7353214008885376,-1.9587844101207168,-0.08875047092515755,-0.5375446519047127,1.0306545150239066,-0.42317938725773774,-0.7853846371787755,0.16885879662634365,-0.21273402930876428,0.04677265239052718,-0.11032587082205524,-0.9759868080638875,0.37714721887378244,-0.040245610606096056,-0.3624201877979656,-0.7237478146887273,-1.136675383870532,-0.1762010463278863,1.5545539485620936,0.12269680380628893,-0.27014083531452854,-1.1515553777811576,0.5355925338371131,-0.08498431225411827,-0.14033789297750898,1.060065500408755,-1.5694109802935956,1.8141368208221966,0.15478352025223172,0.009957933182435623,1.1231976518480087,-0.5950752487108096,0.13513089474798265,-0.5046785342264216,-0.7705528646396353],\"type\":\"scatter\"}],                        {\"legend\":{\"bgcolor\":\"#F5F6F9\",\"font\":{\"color\":\"#4D5663\"}},\"paper_bgcolor\":\"#F5F6F9\",\"plot_bgcolor\":\"#F5F6F9\",\"template\":{\"data\":{\"barpolar\":[{\"marker\":{\"line\":{\"color\":\"#E5ECF6\",\"width\":0.5},\"pattern\":{\"fillmode\":\"overlay\",\"size\":10,\"solidity\":0.2}},\"type\":\"barpolar\"}],\"bar\":[{\"error_x\":{\"color\":\"#2a3f5f\"},\"error_y\":{\"color\":\"#2a3f5f\"},\"marker\":{\"line\":{\"color\":\"#E5ECF6\",\"width\":0.5},\"pattern\":{\"fillmode\":\"overlay\",\"size\":10,\"solidity\":0.2}},\"type\":\"bar\"}],\"carpet\":[{\"aaxis\":{\"endlinecolor\":\"#2a3f5f\",\"gridcolor\":\"white\",\"linecolor\":\"white\",\"minorgridcolor\":\"white\",\"startlinecolor\":\"#2a3f5f\"},\"baxis\":{\"endlinecolor\":\"#2a3f5f\",\"gridcolor\":\"white\",\"linecolor\":\"white\",\"minorgridcolor\":\"white\",\"startlinecolor\":\"#2a3f5f\"},\"type\":\"carpet\"}],\"choropleth\":[{\"colorbar\":{\"outlinewidth\":0,\"ticks\":\"\"},\"type\":\"choropleth\"}],\"contourcarpet\":[{\"colorbar\":{\"outlinewidth\":0,\"ticks\":\"\"},\"type\":\"contourcarpet\"}],\"contour\":[{\"colorbar\":{\"outlinewidth\":0,\"ticks\":\"\"},\"colorscale\":[[0.0,\"#0d0887\"],[0.1111111111111111,\"#46039f\"],[0.2222222222222222,\"#7201a8\"],[0.3333333333333333,\"#9c179e\"],[0.4444444444444444,\"#bd3786\"],[0.5555555555555556,\"#d8576b\"],[0.6666666666666666,\"#ed7953\"],[0.7777777777777778,\"#fb9f3a\"],[0.8888888888888888,\"#fdca26\"],[1.0,\"#f0f921\"]],\"type\":\"contour\"}],\"heatmapgl\":[{\"colorbar\":{\"outlinewidth\":0,\"ticks\":\"\"},\"colorscale\":[[0.0,\"#0d0887\"],[0.1111111111111111,\"#46039f\"],[0.2222222222222222,\"#7201a8\"],[0.3333333333333333,\"#9c179e\"],[0.4444444444444444,\"#bd3786\"],[0.5555555555555556,\"#d8576b\"],[0.6666666666666666,\"#ed7953\"],[0.7777777777777778,\"#fb9f3a\"],[0.8888888888888888,\"#fdca26\"],[1.0,\"#f0f921\"]],\"type\":\"heatmapgl\"}],\"heatmap\":[{\"colorbar\":{\"outlinewidth\":0,\"ticks\":\"\"},\"colorscale\":[[0.0,\"#0d0887\"],[0.1111111111111111,\"#46039f\"],[0.2222222222222222,\"#7201a8\"],[0.3333333333333333,\"#9c179e\"],[0.4444444444444444,\"#bd3786\"],[0.5555555555555556,\"#d8576b\"],[0.6666666666666666,\"#ed7953\"],[0.7777777777777778,\"#fb9f3a\"],[0.8888888888888888,\"#fdca26\"],[1.0,\"#f0f921\"]],\"type\":\"heatmap\"}],\"histogram2dcontour\":[{\"colorbar\":{\"outlinewidth\":0,\"ticks\":\"\"},\"colorscale\":[[0.0,\"#0d0887\"],[0.1111111111111111,\"#46039f\"],[0.2222222222222222,\"#7201a8\"],[0.3333333333333333,\"#9c179e\"],[0.4444444444444444,\"#bd3786\"],[0.5555555555555556,\"#d8576b\"],[0.6666666666666666,\"#ed7953\"],[0.7777777777777778,\"#fb9f3a\"],[0.8888888888888888,\"#fdca26\"],[1.0,\"#f0f921\"]],\"type\":\"histogram2dcontour\"}],\"histogram2d\":[{\"colorbar\":{\"outlinewidth\":0,\"ticks\":\"\"},\"colorscale\":[[0.0,\"#0d0887\"],[0.1111111111111111,\"#46039f\"],[0.2222222222222222,\"#7201a8\"],[0.3333333333333333,\"#9c179e\"],[0.4444444444444444,\"#bd3786\"],[0.5555555555555556,\"#d8576b\"],[0.6666666666666666,\"#ed7953\"],[0.7777777777777778,\"#fb9f3a\"],[0.8888888888888888,\"#fdca26\"],[1.0,\"#f0f921\"]],\"type\":\"histogram2d\"}],\"histogram\":[{\"marker\":{\"pattern\":{\"fillmode\":\"overlay\",\"size\":10,\"solidity\":0.2}},\"type\":\"histogram\"}],\"mesh3d\":[{\"colorbar\":{\"outlinewidth\":0,\"ticks\":\"\"},\"type\":\"mesh3d\"}],\"parcoords\":[{\"line\":{\"colorbar\":{\"outlinewidth\":0,\"ticks\":\"\"}},\"type\":\"parcoords\"}],\"pie\":[{\"automargin\":true,\"type\":\"pie\"}],\"scatter3d\":[{\"line\":{\"colorbar\":{\"outlinewidth\":0,\"ticks\":\"\"}},\"marker\":{\"colorbar\":{\"outlinewidth\":0,\"ticks\":\"\"}},\"type\":\"scatter3d\"}],\"scattercarpet\":[{\"marker\":{\"colorbar\":{\"outlinewidth\":0,\"ticks\":\"\"}},\"type\":\"scattercarpet\"}],\"scattergeo\":[{\"marker\":{\"colorbar\":{\"outlinewidth\":0,\"ticks\":\"\"}},\"type\":\"scattergeo\"}],\"scattergl\":[{\"marker\":{\"colorbar\":{\"outlinewidth\":0,\"ticks\":\"\"}},\"type\":\"scattergl\"}],\"scattermapbox\":[{\"marker\":{\"colorbar\":{\"outlinewidth\":0,\"ticks\":\"\"}},\"type\":\"scattermapbox\"}],\"scatterpolargl\":[{\"marker\":{\"colorbar\":{\"outlinewidth\":0,\"ticks\":\"\"}},\"type\":\"scatterpolargl\"}],\"scatterpolar\":[{\"marker\":{\"colorbar\":{\"outlinewidth\":0,\"ticks\":\"\"}},\"type\":\"scatterpolar\"}],\"scatter\":[{\"fillpattern\":{\"fillmode\":\"overlay\",\"size\":10,\"solidity\":0.2},\"type\":\"scatter\"}],\"scatterternary\":[{\"marker\":{\"colorbar\":{\"outlinewidth\":0,\"ticks\":\"\"}},\"type\":\"scatterternary\"}],\"surface\":[{\"colorbar\":{\"outlinewidth\":0,\"ticks\":\"\"},\"colorscale\":[[0.0,\"#0d0887\"],[0.1111111111111111,\"#46039f\"],[0.2222222222222222,\"#7201a8\"],[0.3333333333333333,\"#9c179e\"],[0.4444444444444444,\"#bd3786\"],[0.5555555555555556,\"#d8576b\"],[0.6666666666666666,\"#ed7953\"],[0.7777777777777778,\"#fb9f3a\"],[0.8888888888888888,\"#fdca26\"],[1.0,\"#f0f921\"]],\"type\":\"surface\"}],\"table\":[{\"cells\":{\"fill\":{\"color\":\"#EBF0F8\"},\"line\":{\"color\":\"white\"}},\"header\":{\"fill\":{\"color\":\"#C8D4E3\"},\"line\":{\"color\":\"white\"}},\"type\":\"table\"}]},\"layout\":{\"annotationdefaults\":{\"arrowcolor\":\"#2a3f5f\",\"arrowhead\":0,\"arrowwidth\":1},\"autotypenumbers\":\"strict\",\"coloraxis\":{\"colorbar\":{\"outlinewidth\":0,\"ticks\":\"\"}},\"colorscale\":{\"diverging\":[[0,\"#8e0152\"],[0.1,\"#c51b7d\"],[0.2,\"#de77ae\"],[0.3,\"#f1b6da\"],[0.4,\"#fde0ef\"],[0.5,\"#f7f7f7\"],[0.6,\"#e6f5d0\"],[0.7,\"#b8e186\"],[0.8,\"#7fbc41\"],[0.9,\"#4d9221\"],[1,\"#276419\"]],\"sequential\":[[0.0,\"#0d0887\"],[0.1111111111111111,\"#46039f\"],[0.2222222222222222,\"#7201a8\"],[0.3333333333333333,\"#9c179e\"],[0.4444444444444444,\"#bd3786\"],[0.5555555555555556,\"#d8576b\"],[0.6666666666666666,\"#ed7953\"],[0.7777777777777778,\"#fb9f3a\"],[0.8888888888888888,\"#fdca26\"],[1.0,\"#f0f921\"]],\"sequentialminus\":[[0.0,\"#0d0887\"],[0.1111111111111111,\"#46039f\"],[0.2222222222222222,\"#7201a8\"],[0.3333333333333333,\"#9c179e\"],[0.4444444444444444,\"#bd3786\"],[0.5555555555555556,\"#d8576b\"],[0.6666666666666666,\"#ed7953\"],[0.7777777777777778,\"#fb9f3a\"],[0.8888888888888888,\"#fdca26\"],[1.0,\"#f0f921\"]]},\"colorway\":[\"#636efa\",\"#EF553B\",\"#00cc96\",\"#ab63fa\",\"#FFA15A\",\"#19d3f3\",\"#FF6692\",\"#B6E880\",\"#FF97FF\",\"#FECB52\"],\"font\":{\"color\":\"#2a3f5f\"},\"geo\":{\"bgcolor\":\"white\",\"lakecolor\":\"white\",\"landcolor\":\"#E5ECF6\",\"showlakes\":true,\"showland\":true,\"subunitcolor\":\"white\"},\"hoverlabel\":{\"align\":\"left\"},\"hovermode\":\"closest\",\"mapbox\":{\"style\":\"light\"},\"paper_bgcolor\":\"white\",\"plot_bgcolor\":\"#E5ECF6\",\"polar\":{\"angularaxis\":{\"gridcolor\":\"white\",\"linecolor\":\"white\",\"ticks\":\"\"},\"bgcolor\":\"#E5ECF6\",\"radialaxis\":{\"gridcolor\":\"white\",\"linecolor\":\"white\",\"ticks\":\"\"}},\"scene\":{\"xaxis\":{\"backgroundcolor\":\"#E5ECF6\",\"gridcolor\":\"white\",\"gridwidth\":2,\"linecolor\":\"white\",\"showbackground\":true,\"ticks\":\"\",\"zerolinecolor\":\"white\"},\"yaxis\":{\"backgroundcolor\":\"#E5ECF6\",\"gridcolor\":\"white\",\"gridwidth\":2,\"linecolor\":\"white\",\"showbackground\":true,\"ticks\":\"\",\"zerolinecolor\":\"white\"},\"zaxis\":{\"backgroundcolor\":\"#E5ECF6\",\"gridcolor\":\"white\",\"gridwidth\":2,\"linecolor\":\"white\",\"showbackground\":true,\"ticks\":\"\",\"zerolinecolor\":\"white\"}},\"shapedefaults\":{\"line\":{\"color\":\"#2a3f5f\"}},\"ternary\":{\"aaxis\":{\"gridcolor\":\"white\",\"linecolor\":\"white\",\"ticks\":\"\"},\"baxis\":{\"gridcolor\":\"white\",\"linecolor\":\"white\",\"ticks\":\"\"},\"bgcolor\":\"#E5ECF6\",\"caxis\":{\"gridcolor\":\"white\",\"linecolor\":\"white\",\"ticks\":\"\"}},\"title\":{\"x\":0.05},\"xaxis\":{\"automargin\":true,\"gridcolor\":\"white\",\"linecolor\":\"white\",\"ticks\":\"\",\"title\":{\"standoff\":15},\"zerolinecolor\":\"white\",\"zerolinewidth\":2},\"yaxis\":{\"automargin\":true,\"gridcolor\":\"white\",\"linecolor\":\"white\",\"ticks\":\"\",\"title\":{\"standoff\":15},\"zerolinecolor\":\"white\",\"zerolinewidth\":2}}},\"title\":{\"font\":{\"color\":\"#4D5663\"}},\"xaxis\":{\"gridcolor\":\"#E1E5ED\",\"showgrid\":true,\"tickfont\":{\"color\":\"#4D5663\"},\"title\":{\"font\":{\"color\":\"#4D5663\"},\"text\":\"\"},\"zerolinecolor\":\"#E1E5ED\"},\"yaxis\":{\"gridcolor\":\"#E1E5ED\",\"showgrid\":true,\"tickfont\":{\"color\":\"#4D5663\"},\"title\":{\"font\":{\"color\":\"#4D5663\"},\"text\":\"\"},\"zerolinecolor\":\"#E1E5ED\"}},                        {\"showLink\": true, \"linkText\": \"Export to plot.ly\", \"plotlyServerURL\": \"https://plot.ly\", \"responsive\": true}                    ).then(function(){\n",
       "                            \n",
       "var gd = document.getElementById('9adae6d6-af71-4515-ab3d-2d93264f9e1a');\n",
       "var x = new MutationObserver(function (mutations, observer) {{\n",
       "        var display = window.getComputedStyle(gd).display;\n",
       "        if (!display || display === 'none') {{\n",
       "            console.log([gd, 'removed!']);\n",
       "            Plotly.purge(gd);\n",
       "            observer.disconnect();\n",
       "        }}\n",
       "}});\n",
       "\n",
       "// Listen for the removal of the full notebook cells\n",
       "var notebookContainer = gd.closest('#notebook-container');\n",
       "if (notebookContainer) {{\n",
       "    x.observe(notebookContainer, {childList: true});\n",
       "}}\n",
       "\n",
       "// Listen for the clearing of the current output cell\n",
       "var outputEl = gd.closest('.output');\n",
       "if (outputEl) {{\n",
       "    x.observe(outputEl, {childList: true});\n",
       "}}\n",
       "\n",
       "                        })                };                });            </script>        </div>"
      ]
     },
     "metadata": {},
     "output_type": "display_data"
    }
   ],
   "source": [
    "df.iplot(kind='bubble',x='A',y='B',size='C')"
   ]
  },
  {
   "cell_type": "markdown",
   "id": "1754d789",
   "metadata": {},
   "source": [
    "# Scatter Matrix"
   ]
  },
  {
   "cell_type": "code",
   "execution_count": 17,
   "id": "41545684",
   "metadata": {},
   "outputs": [
    {
     "data": {
      "application/vnd.plotly.v1+json": {
       "config": {
        "linkText": "Export to plot.ly",
        "plotlyServerURL": "https://plot.ly",
        "showLink": true
       },
       "data": [
        {
         "histfunc": "count",
         "histnorm": "",
         "marker": {
          "color": "rgba(255, 153, 51, 1.0)",
          "line": {
           "color": "#4D5663",
           "width": 1.3
          }
         },
         "name": "A",
         "nbinsx": 10,
         "opacity": 0.8,
         "orientation": "v",
         "type": "histogram",
         "x": [
          -0.22811627589074476,
          0.6787238832591042,
          1.6515060543232125,
          -0.6604782349724839,
          -0.5196249994745574,
          0.02055969042282577,
          -0.4397107068570352,
          0.41406042035964086,
          0.4108425293363018,
          0.8645542364829347,
          0.2119146464712936,
          0.6517328492837595,
          -0.3299934644424242,
          -0.48702899121525334,
          -0.22200897985421947,
          -0.8047818862898786,
          -1.1845906796308772,
          -0.4978353907798658,
          1.621167298309641,
          0.8224618564100735,
          -1.2902079390988175,
          0.01461791408133816,
          1.1410522269583148,
          0.8280874098673555,
          2.023735414640705,
          -0.4865637083260705,
          1.0389367638584508,
          1.2276962498928554,
          -0.18944754493862276,
          -0.14976216719342267,
          0.683583165072884,
          0.3239156424744562,
          -0.0719760168952608,
          -0.6378580170038229,
          -0.15493703777823922,
          1.7894814413117488,
          2.0184945323868257,
          0.20753608984329258,
          0.1978779128445857,
          1.0659510071385676,
          0.6558923317899069,
          -0.9926693302856021,
          -1.5682107352009464,
          -0.5753024096779175,
          -0.029614920045432938,
          -2.467749324540253,
          1.5160313978127993,
          -1.0111094337666988,
          0.36344209841536307,
          0.647623158788987,
          1.4071695619594518,
          0.5351397311767255,
          -0.04656114960512062,
          2.1664962354930863,
          0.14060328416534093,
          -0.8352079111291246,
          -0.9905325268254492,
          0.3027127572771243,
          -0.6970889943202017,
          -0.17485657057263013,
          0.1868467778262092,
          -0.9286776558514568,
          -0.03202384444914497,
          1.1188291288859542,
          1.0977932423879886,
          0.3465054154720146,
          -0.033836252989438084,
          -0.524395948545605,
          -1.031014258748993,
          -1.0769206345804534,
          -0.7197159862369726,
          1.13568672086204,
          -0.006894158362355122,
          -0.1625407442294256,
          -0.004439264787613177,
          0.22346207717106653,
          -0.6338247075959175,
          0.2830031950943066,
          -0.2842757783063089,
          -1.6745075707344477,
          -0.6599566325743017,
          0.11755418565563681,
          -0.8551230708313902,
          -1.4443938044070246,
          -1.7237423856954894,
          0.09323476948011054,
          -2.0237980294421427,
          0.5902819780517904,
          0.3521336835525418,
          -0.47410642666534136,
          -1.1966471740352314,
          -0.6828607642116732,
          -1.011661714759275,
          -1.905834151795708,
          0.9973400152016139,
          0.4597725013627585,
          -0.7315311070057287,
          -0.4033761447760559,
          -0.7193598651158356,
          0.6435615542100579
         ],
         "xaxis": "x",
         "yaxis": "y"
        },
        {
         "line": {
          "color": "rgba(128, 128, 128, 1.0)",
          "dash": "solid",
          "shape": "linear",
          "width": 1.3
         },
         "marker": {
          "size": 2,
          "symbol": "circle"
         },
         "mode": "markers",
         "name": "A",
         "text": "",
         "type": "scatter",
         "x": [
          0.9852938519840362,
          -0.4142711665345483,
          -0.2993862088212026,
          -1.080158167641829,
          -0.5951615936768305,
          -1.061425559875092,
          -2.7120885483534254,
          -0.03149120113084428,
          -1.5755214690475732,
          0.35761998845734294,
          0.4201604838130015,
          -1.1872547692853608,
          2.2288159685553848,
          -0.20694873379706547,
          -0.29857480676428755,
          0.30465302078098727,
          1.0883622736425371,
          -0.0833002929219233,
          -0.38598103288068203,
          -0.6178040341239334,
          0.4000253076879923,
          -0.22496101350698444,
          -0.6615503092076963,
          1.1112518007745142,
          -0.2547548208944747,
          -0.9505888187305093,
          0.5501125290824538,
          0.23886067040655298,
          0.3767793235919412,
          -1.555051768463564,
          -1.9539650845846017,
          2.068238468829256,
          -0.8857142929791774,
          -0.6360773222197956,
          0.028636021121702788,
          -2.023847184228603,
          -0.6237244217096115,
          -0.845385390133307,
          -0.7706269321010328,
          -0.04798704669675597,
          -0.7347074680924067,
          0.978796728799089,
          3.0844914729635744,
          -0.5714312651068356,
          -1.6259819149285943,
          1.1653242003578144,
          -1.2262408297083338,
          0.024679650851651188,
          1.2652123552822339,
          0.6042438676916213,
          -1.0103596451298062,
          -0.2561198417491012,
          2.0972955326499196,
          0.4931935169281666,
          1.6862523895127877,
          -0.9511409837911713,
          -0.7929340198874938,
          -0.9415624684146361,
          -0.8162447738001156,
          2.305955639896165,
          2.3533932732497136,
          -1.2371339798667005,
          -1.806957263001291,
          -0.6692886247575235,
          0.26981495743716416,
          0.7353214008885376,
          -1.9587844101207168,
          -0.08875047092515755,
          -0.5375446519047127,
          1.0306545150239066,
          -0.42317938725773774,
          -0.7853846371787755,
          0.16885879662634365,
          -0.21273402930876428,
          0.04677265239052718,
          -0.11032587082205524,
          -0.9759868080638875,
          0.37714721887378244,
          -0.040245610606096056,
          -0.3624201877979656,
          -0.7237478146887273,
          -1.136675383870532,
          -0.1762010463278863,
          1.5545539485620936,
          0.12269680380628893,
          -0.27014083531452854,
          -1.1515553777811576,
          0.5355925338371131,
          -0.08498431225411827,
          -0.14033789297750898,
          1.060065500408755,
          -1.5694109802935956,
          1.8141368208221966,
          0.15478352025223172,
          0.009957933182435623,
          1.1231976518480087,
          -0.5950752487108096,
          0.13513089474798265,
          -0.5046785342264216,
          -0.7705528646396353
         ],
         "xaxis": "x2",
         "y": [
          -0.22811627589074476,
          0.6787238832591042,
          1.6515060543232125,
          -0.6604782349724839,
          -0.5196249994745574,
          0.02055969042282577,
          -0.4397107068570352,
          0.41406042035964086,
          0.4108425293363018,
          0.8645542364829347,
          0.2119146464712936,
          0.6517328492837595,
          -0.3299934644424242,
          -0.48702899121525334,
          -0.22200897985421947,
          -0.8047818862898786,
          -1.1845906796308772,
          -0.4978353907798658,
          1.621167298309641,
          0.8224618564100735,
          -1.2902079390988175,
          0.01461791408133816,
          1.1410522269583148,
          0.8280874098673555,
          2.023735414640705,
          -0.4865637083260705,
          1.0389367638584508,
          1.2276962498928554,
          -0.18944754493862276,
          -0.14976216719342267,
          0.683583165072884,
          0.3239156424744562,
          -0.0719760168952608,
          -0.6378580170038229,
          -0.15493703777823922,
          1.7894814413117488,
          2.0184945323868257,
          0.20753608984329258,
          0.1978779128445857,
          1.0659510071385676,
          0.6558923317899069,
          -0.9926693302856021,
          -1.5682107352009464,
          -0.5753024096779175,
          -0.029614920045432938,
          -2.467749324540253,
          1.5160313978127993,
          -1.0111094337666988,
          0.36344209841536307,
          0.647623158788987,
          1.4071695619594518,
          0.5351397311767255,
          -0.04656114960512062,
          2.1664962354930863,
          0.14060328416534093,
          -0.8352079111291246,
          -0.9905325268254492,
          0.3027127572771243,
          -0.6970889943202017,
          -0.17485657057263013,
          0.1868467778262092,
          -0.9286776558514568,
          -0.03202384444914497,
          1.1188291288859542,
          1.0977932423879886,
          0.3465054154720146,
          -0.033836252989438084,
          -0.524395948545605,
          -1.031014258748993,
          -1.0769206345804534,
          -0.7197159862369726,
          1.13568672086204,
          -0.006894158362355122,
          -0.1625407442294256,
          -0.004439264787613177,
          0.22346207717106653,
          -0.6338247075959175,
          0.2830031950943066,
          -0.2842757783063089,
          -1.6745075707344477,
          -0.6599566325743017,
          0.11755418565563681,
          -0.8551230708313902,
          -1.4443938044070246,
          -1.7237423856954894,
          0.09323476948011054,
          -2.0237980294421427,
          0.5902819780517904,
          0.3521336835525418,
          -0.47410642666534136,
          -1.1966471740352314,
          -0.6828607642116732,
          -1.011661714759275,
          -1.905834151795708,
          0.9973400152016139,
          0.4597725013627585,
          -0.7315311070057287,
          -0.4033761447760559,
          -0.7193598651158356,
          0.6435615542100579
         ],
         "yaxis": "y2"
        },
        {
         "line": {
          "color": "rgba(128, 128, 128, 1.0)",
          "dash": "solid",
          "shape": "linear",
          "width": 1.3
         },
         "marker": {
          "size": 2,
          "symbol": "circle"
         },
         "mode": "markers",
         "name": "A",
         "text": "",
         "type": "scatter",
         "x": [
          0.549740637555539,
          1.260212332460787,
          -0.5946594830986801,
          -0.6948732218626511,
          0.9806073927395907,
          0.4683121610261346,
          -0.14818769004704696,
          0.3452122122268642,
          -1.8067691232641163,
          -1.634749788768707,
          0.034233289669643494,
          -0.28934928828013634,
          0.32812377951620214,
          0.32910794420280115,
          1.1800149358136531,
          -0.8883104448558582,
          1.7936312182763456,
          -1.5666609283533584,
          1.4935951700111614,
          1.0261130875524023,
          0.5686621646377112,
          1.195491738597137,
          1.3095645877703326,
          1.7126221351614856,
          0.20821042621572,
          -0.27245247382963683,
          2.958537074185334,
          1.1521131509256861,
          1.69688082665319,
          1.5997545873746062,
          0.06836165526771469,
          0.05095851489658768,
          -1.4062563167283229,
          0.8009205979754301,
          -2.007850998187997,
          -1.0300679042761605,
          -0.348139549205092,
          -1.043516895168186,
          1.4095532718016575,
          1.0041911259519434,
          -0.10881868601619357,
          0.10697557159210212,
          0.36064636756312696,
          1.7268526163803328,
          0.0036578654411822584,
          0.6828347123397909,
          1.1326183479954248,
          1.3874865661864886,
          -1.4670972916699903,
          1.2554137762048678,
          -0.05883706655082013,
          0.640467929128801,
          -1.5576002803382498,
          1.317810073417994,
          0.7840297996700045,
          0.11773756092765265,
          -0.8535184193794283,
          0.7521265450113909,
          -2.0219945595573225,
          0.6982664594996074,
          -0.2620284721963431,
          -1.790396731796199,
          0.08677610118195855,
          2.0392858394221696,
          0.12882730684197252,
          0.9441592452092047,
          -0.4412387464935074,
          0.4804899837716722,
          -0.27196138774531503,
          0.3117798836344818,
          1.9159999391458693,
          0.3295901499234422,
          -0.4753026306728736,
          0.8191594181634533,
          0.20911743135705846,
          3.314507374063461,
          -0.28695412412569543,
          0.9934315724042603,
          0.10427082656561551,
          0.5739208179449827,
          0.6572094223299806,
          -0.6210516174643926,
          -0.7331282059054588,
          0.40877428828802675,
          -1.231502433839762,
          -0.5966920119114699,
          0.5303734972703417,
          0.7550799210738212,
          -0.25252469721757065,
          -0.17321545632623547,
          0.34704125264602725,
          1.4002442896546903,
          -0.5411407508757214,
          -0.6556024467323619,
          0.4888717616646806,
          -0.6831645443609797,
          1.4107941387219316,
          -1.324146824510583,
          2.4098174170134476,
          1.6986283611221968
         ],
         "xaxis": "x3",
         "y": [
          -0.22811627589074476,
          0.6787238832591042,
          1.6515060543232125,
          -0.6604782349724839,
          -0.5196249994745574,
          0.02055969042282577,
          -0.4397107068570352,
          0.41406042035964086,
          0.4108425293363018,
          0.8645542364829347,
          0.2119146464712936,
          0.6517328492837595,
          -0.3299934644424242,
          -0.48702899121525334,
          -0.22200897985421947,
          -0.8047818862898786,
          -1.1845906796308772,
          -0.4978353907798658,
          1.621167298309641,
          0.8224618564100735,
          -1.2902079390988175,
          0.01461791408133816,
          1.1410522269583148,
          0.8280874098673555,
          2.023735414640705,
          -0.4865637083260705,
          1.0389367638584508,
          1.2276962498928554,
          -0.18944754493862276,
          -0.14976216719342267,
          0.683583165072884,
          0.3239156424744562,
          -0.0719760168952608,
          -0.6378580170038229,
          -0.15493703777823922,
          1.7894814413117488,
          2.0184945323868257,
          0.20753608984329258,
          0.1978779128445857,
          1.0659510071385676,
          0.6558923317899069,
          -0.9926693302856021,
          -1.5682107352009464,
          -0.5753024096779175,
          -0.029614920045432938,
          -2.467749324540253,
          1.5160313978127993,
          -1.0111094337666988,
          0.36344209841536307,
          0.647623158788987,
          1.4071695619594518,
          0.5351397311767255,
          -0.04656114960512062,
          2.1664962354930863,
          0.14060328416534093,
          -0.8352079111291246,
          -0.9905325268254492,
          0.3027127572771243,
          -0.6970889943202017,
          -0.17485657057263013,
          0.1868467778262092,
          -0.9286776558514568,
          -0.03202384444914497,
          1.1188291288859542,
          1.0977932423879886,
          0.3465054154720146,
          -0.033836252989438084,
          -0.524395948545605,
          -1.031014258748993,
          -1.0769206345804534,
          -0.7197159862369726,
          1.13568672086204,
          -0.006894158362355122,
          -0.1625407442294256,
          -0.004439264787613177,
          0.22346207717106653,
          -0.6338247075959175,
          0.2830031950943066,
          -0.2842757783063089,
          -1.6745075707344477,
          -0.6599566325743017,
          0.11755418565563681,
          -0.8551230708313902,
          -1.4443938044070246,
          -1.7237423856954894,
          0.09323476948011054,
          -2.0237980294421427,
          0.5902819780517904,
          0.3521336835525418,
          -0.47410642666534136,
          -1.1966471740352314,
          -0.6828607642116732,
          -1.011661714759275,
          -1.905834151795708,
          0.9973400152016139,
          0.4597725013627585,
          -0.7315311070057287,
          -0.4033761447760559,
          -0.7193598651158356,
          0.6435615542100579
         ],
         "yaxis": "y3"
        },
        {
         "line": {
          "color": "rgba(128, 128, 128, 1.0)",
          "dash": "solid",
          "shape": "linear",
          "width": 1.3
         },
         "marker": {
          "size": 2,
          "symbol": "circle"
         },
         "mode": "markers",
         "name": "A",
         "text": "",
         "type": "scatter",
         "x": [
          1.0361215242491195,
          0.6407853255491084,
          0.7063779456975104,
          1.8980826082085422,
          0.17187209395006434,
          1.1807930930152146,
          1.4961438288093272,
          -2.0446273869788087,
          1.1318022350041197,
          -1.1927329306327188,
          -0.3718357943680243,
          -1.103634637522285,
          0.68808333426337,
          -0.32682601948711265,
          -0.22521524060681247,
          -0.8974662083076845,
          0.6522682742848068,
          -0.7631185114850355,
          1.4212512473317818,
          -1.196434655579687,
          0.3376907200426193,
          -0.3972002950152537,
          -0.5455228930351891,
          -0.3423263609742087,
          -0.531908394142106,
          0.40697220160755143,
          -1.2245651337600438,
          -1.0957828536350458,
          0.44149574622144727,
          0.6671698451103586,
          -1.0434073030965116,
          1.087993748180064,
          0.8251029406890018,
          0.44954204545429655,
          -0.22719985689936456,
          -0.5422444776464004,
          -2.2324261138964956,
          0.9493595005097836,
          0.4777179691755005,
          -0.5354614446658382,
          -0.4982004714923975,
          -1.1476891696504472,
          -0.2296400044253678,
          0.9204126254454262,
          0.4175094038759765,
          1.3383812678252205,
          0.20393570092135996,
          0.3641768189742347,
          0.056298588785371646,
          1.790154924545487,
          0.35720133249961833,
          1.5064400671355258,
          -0.3019170893055426,
          -1.6578434496745653,
          0.8620146720247083,
          1.1500043106957927,
          0.2822494976777274,
          0.9566833862150375,
          -0.2685357041989318,
          -0.4884728273289955,
          1.2792079241497105,
          -0.7250228973636278,
          -1.2309532650323967,
          0.31197521426637215,
          1.0936944534891009,
          -0.32257914774238977,
          0.8932021180721614,
          1.8362910746299415,
          1.3306532682976469,
          0.7664840393967025,
          1.1502775594682741,
          1.3585620922843022,
          -0.5178200548823758,
          0.806793794387821,
          -0.09845903208504937,
          -1.4103456208172465,
          1.6151659629822908,
          0.06750180450915381,
          2.283053076806745,
          0.18240460302101436,
          -1.685931624410959,
          0.6047384305209671,
          0.6273165693400129,
          0.23627795320787906,
          -0.7447556824866209,
          -1.3722482088152015,
          0.6549064884581498,
          0.2246440447161041,
          -0.8268812754471794,
          -0.6793756327254308,
          1.76927828093296,
          0.8654601044043043,
          0.5927435118167454,
          0.10212959626793228,
          0.48969973682356716,
          -0.07640015800038846,
          0.03879598781609596,
          -0.14838855520956157,
          0.4444156340939495,
          -0.32794358382266386
         ],
         "xaxis": "x4",
         "y": [
          -0.22811627589074476,
          0.6787238832591042,
          1.6515060543232125,
          -0.6604782349724839,
          -0.5196249994745574,
          0.02055969042282577,
          -0.4397107068570352,
          0.41406042035964086,
          0.4108425293363018,
          0.8645542364829347,
          0.2119146464712936,
          0.6517328492837595,
          -0.3299934644424242,
          -0.48702899121525334,
          -0.22200897985421947,
          -0.8047818862898786,
          -1.1845906796308772,
          -0.4978353907798658,
          1.621167298309641,
          0.8224618564100735,
          -1.2902079390988175,
          0.01461791408133816,
          1.1410522269583148,
          0.8280874098673555,
          2.023735414640705,
          -0.4865637083260705,
          1.0389367638584508,
          1.2276962498928554,
          -0.18944754493862276,
          -0.14976216719342267,
          0.683583165072884,
          0.3239156424744562,
          -0.0719760168952608,
          -0.6378580170038229,
          -0.15493703777823922,
          1.7894814413117488,
          2.0184945323868257,
          0.20753608984329258,
          0.1978779128445857,
          1.0659510071385676,
          0.6558923317899069,
          -0.9926693302856021,
          -1.5682107352009464,
          -0.5753024096779175,
          -0.029614920045432938,
          -2.467749324540253,
          1.5160313978127993,
          -1.0111094337666988,
          0.36344209841536307,
          0.647623158788987,
          1.4071695619594518,
          0.5351397311767255,
          -0.04656114960512062,
          2.1664962354930863,
          0.14060328416534093,
          -0.8352079111291246,
          -0.9905325268254492,
          0.3027127572771243,
          -0.6970889943202017,
          -0.17485657057263013,
          0.1868467778262092,
          -0.9286776558514568,
          -0.03202384444914497,
          1.1188291288859542,
          1.0977932423879886,
          0.3465054154720146,
          -0.033836252989438084,
          -0.524395948545605,
          -1.031014258748993,
          -1.0769206345804534,
          -0.7197159862369726,
          1.13568672086204,
          -0.006894158362355122,
          -0.1625407442294256,
          -0.004439264787613177,
          0.22346207717106653,
          -0.6338247075959175,
          0.2830031950943066,
          -0.2842757783063089,
          -1.6745075707344477,
          -0.6599566325743017,
          0.11755418565563681,
          -0.8551230708313902,
          -1.4443938044070246,
          -1.7237423856954894,
          0.09323476948011054,
          -2.0237980294421427,
          0.5902819780517904,
          0.3521336835525418,
          -0.47410642666534136,
          -1.1966471740352314,
          -0.6828607642116732,
          -1.011661714759275,
          -1.905834151795708,
          0.9973400152016139,
          0.4597725013627585,
          -0.7315311070057287,
          -0.4033761447760559,
          -0.7193598651158356,
          0.6435615542100579
         ],
         "yaxis": "y4"
        },
        {
         "line": {
          "color": "rgba(128, 128, 128, 1.0)",
          "dash": "solid",
          "shape": "linear",
          "width": 1.3
         },
         "marker": {
          "size": 2,
          "symbol": "circle"
         },
         "mode": "markers",
         "name": "B",
         "text": "",
         "type": "scatter",
         "x": [
          -0.22811627589074476,
          0.6787238832591042,
          1.6515060543232125,
          -0.6604782349724839,
          -0.5196249994745574,
          0.02055969042282577,
          -0.4397107068570352,
          0.41406042035964086,
          0.4108425293363018,
          0.8645542364829347,
          0.2119146464712936,
          0.6517328492837595,
          -0.3299934644424242,
          -0.48702899121525334,
          -0.22200897985421947,
          -0.8047818862898786,
          -1.1845906796308772,
          -0.4978353907798658,
          1.621167298309641,
          0.8224618564100735,
          -1.2902079390988175,
          0.01461791408133816,
          1.1410522269583148,
          0.8280874098673555,
          2.023735414640705,
          -0.4865637083260705,
          1.0389367638584508,
          1.2276962498928554,
          -0.18944754493862276,
          -0.14976216719342267,
          0.683583165072884,
          0.3239156424744562,
          -0.0719760168952608,
          -0.6378580170038229,
          -0.15493703777823922,
          1.7894814413117488,
          2.0184945323868257,
          0.20753608984329258,
          0.1978779128445857,
          1.0659510071385676,
          0.6558923317899069,
          -0.9926693302856021,
          -1.5682107352009464,
          -0.5753024096779175,
          -0.029614920045432938,
          -2.467749324540253,
          1.5160313978127993,
          -1.0111094337666988,
          0.36344209841536307,
          0.647623158788987,
          1.4071695619594518,
          0.5351397311767255,
          -0.04656114960512062,
          2.1664962354930863,
          0.14060328416534093,
          -0.8352079111291246,
          -0.9905325268254492,
          0.3027127572771243,
          -0.6970889943202017,
          -0.17485657057263013,
          0.1868467778262092,
          -0.9286776558514568,
          -0.03202384444914497,
          1.1188291288859542,
          1.0977932423879886,
          0.3465054154720146,
          -0.033836252989438084,
          -0.524395948545605,
          -1.031014258748993,
          -1.0769206345804534,
          -0.7197159862369726,
          1.13568672086204,
          -0.006894158362355122,
          -0.1625407442294256,
          -0.004439264787613177,
          0.22346207717106653,
          -0.6338247075959175,
          0.2830031950943066,
          -0.2842757783063089,
          -1.6745075707344477,
          -0.6599566325743017,
          0.11755418565563681,
          -0.8551230708313902,
          -1.4443938044070246,
          -1.7237423856954894,
          0.09323476948011054,
          -2.0237980294421427,
          0.5902819780517904,
          0.3521336835525418,
          -0.47410642666534136,
          -1.1966471740352314,
          -0.6828607642116732,
          -1.011661714759275,
          -1.905834151795708,
          0.9973400152016139,
          0.4597725013627585,
          -0.7315311070057287,
          -0.4033761447760559,
          -0.7193598651158356,
          0.6435615542100579
         ],
         "xaxis": "x5",
         "y": [
          0.9852938519840362,
          -0.4142711665345483,
          -0.2993862088212026,
          -1.080158167641829,
          -0.5951615936768305,
          -1.061425559875092,
          -2.7120885483534254,
          -0.03149120113084428,
          -1.5755214690475732,
          0.35761998845734294,
          0.4201604838130015,
          -1.1872547692853608,
          2.2288159685553848,
          -0.20694873379706547,
          -0.29857480676428755,
          0.30465302078098727,
          1.0883622736425371,
          -0.0833002929219233,
          -0.38598103288068203,
          -0.6178040341239334,
          0.4000253076879923,
          -0.22496101350698444,
          -0.6615503092076963,
          1.1112518007745142,
          -0.2547548208944747,
          -0.9505888187305093,
          0.5501125290824538,
          0.23886067040655298,
          0.3767793235919412,
          -1.555051768463564,
          -1.9539650845846017,
          2.068238468829256,
          -0.8857142929791774,
          -0.6360773222197956,
          0.028636021121702788,
          -2.023847184228603,
          -0.6237244217096115,
          -0.845385390133307,
          -0.7706269321010328,
          -0.04798704669675597,
          -0.7347074680924067,
          0.978796728799089,
          3.0844914729635744,
          -0.5714312651068356,
          -1.6259819149285943,
          1.1653242003578144,
          -1.2262408297083338,
          0.024679650851651188,
          1.2652123552822339,
          0.6042438676916213,
          -1.0103596451298062,
          -0.2561198417491012,
          2.0972955326499196,
          0.4931935169281666,
          1.6862523895127877,
          -0.9511409837911713,
          -0.7929340198874938,
          -0.9415624684146361,
          -0.8162447738001156,
          2.305955639896165,
          2.3533932732497136,
          -1.2371339798667005,
          -1.806957263001291,
          -0.6692886247575235,
          0.26981495743716416,
          0.7353214008885376,
          -1.9587844101207168,
          -0.08875047092515755,
          -0.5375446519047127,
          1.0306545150239066,
          -0.42317938725773774,
          -0.7853846371787755,
          0.16885879662634365,
          -0.21273402930876428,
          0.04677265239052718,
          -0.11032587082205524,
          -0.9759868080638875,
          0.37714721887378244,
          -0.040245610606096056,
          -0.3624201877979656,
          -0.7237478146887273,
          -1.136675383870532,
          -0.1762010463278863,
          1.5545539485620936,
          0.12269680380628893,
          -0.27014083531452854,
          -1.1515553777811576,
          0.5355925338371131,
          -0.08498431225411827,
          -0.14033789297750898,
          1.060065500408755,
          -1.5694109802935956,
          1.8141368208221966,
          0.15478352025223172,
          0.009957933182435623,
          1.1231976518480087,
          -0.5950752487108096,
          0.13513089474798265,
          -0.5046785342264216,
          -0.7705528646396353
         ],
         "yaxis": "y5"
        },
        {
         "histfunc": "count",
         "histnorm": "",
         "marker": {
          "color": "rgba(55, 128, 191, 1.0)",
          "line": {
           "color": "#4D5663",
           "width": 1.3
          }
         },
         "name": "B",
         "nbinsx": 10,
         "opacity": 0.8,
         "orientation": "v",
         "type": "histogram",
         "x": [
          0.9852938519840362,
          -0.4142711665345483,
          -0.2993862088212026,
          -1.080158167641829,
          -0.5951615936768305,
          -1.061425559875092,
          -2.7120885483534254,
          -0.03149120113084428,
          -1.5755214690475732,
          0.35761998845734294,
          0.4201604838130015,
          -1.1872547692853608,
          2.2288159685553848,
          -0.20694873379706547,
          -0.29857480676428755,
          0.30465302078098727,
          1.0883622736425371,
          -0.0833002929219233,
          -0.38598103288068203,
          -0.6178040341239334,
          0.4000253076879923,
          -0.22496101350698444,
          -0.6615503092076963,
          1.1112518007745142,
          -0.2547548208944747,
          -0.9505888187305093,
          0.5501125290824538,
          0.23886067040655298,
          0.3767793235919412,
          -1.555051768463564,
          -1.9539650845846017,
          2.068238468829256,
          -0.8857142929791774,
          -0.6360773222197956,
          0.028636021121702788,
          -2.023847184228603,
          -0.6237244217096115,
          -0.845385390133307,
          -0.7706269321010328,
          -0.04798704669675597,
          -0.7347074680924067,
          0.978796728799089,
          3.0844914729635744,
          -0.5714312651068356,
          -1.6259819149285943,
          1.1653242003578144,
          -1.2262408297083338,
          0.024679650851651188,
          1.2652123552822339,
          0.6042438676916213,
          -1.0103596451298062,
          -0.2561198417491012,
          2.0972955326499196,
          0.4931935169281666,
          1.6862523895127877,
          -0.9511409837911713,
          -0.7929340198874938,
          -0.9415624684146361,
          -0.8162447738001156,
          2.305955639896165,
          2.3533932732497136,
          -1.2371339798667005,
          -1.806957263001291,
          -0.6692886247575235,
          0.26981495743716416,
          0.7353214008885376,
          -1.9587844101207168,
          -0.08875047092515755,
          -0.5375446519047127,
          1.0306545150239066,
          -0.42317938725773774,
          -0.7853846371787755,
          0.16885879662634365,
          -0.21273402930876428,
          0.04677265239052718,
          -0.11032587082205524,
          -0.9759868080638875,
          0.37714721887378244,
          -0.040245610606096056,
          -0.3624201877979656,
          -0.7237478146887273,
          -1.136675383870532,
          -0.1762010463278863,
          1.5545539485620936,
          0.12269680380628893,
          -0.27014083531452854,
          -1.1515553777811576,
          0.5355925338371131,
          -0.08498431225411827,
          -0.14033789297750898,
          1.060065500408755,
          -1.5694109802935956,
          1.8141368208221966,
          0.15478352025223172,
          0.009957933182435623,
          1.1231976518480087,
          -0.5950752487108096,
          0.13513089474798265,
          -0.5046785342264216,
          -0.7705528646396353
         ],
         "xaxis": "x6",
         "yaxis": "y6"
        },
        {
         "line": {
          "color": "rgba(128, 128, 128, 1.0)",
          "dash": "solid",
          "shape": "linear",
          "width": 1.3
         },
         "marker": {
          "size": 2,
          "symbol": "circle"
         },
         "mode": "markers",
         "name": "B",
         "text": "",
         "type": "scatter",
         "x": [
          0.549740637555539,
          1.260212332460787,
          -0.5946594830986801,
          -0.6948732218626511,
          0.9806073927395907,
          0.4683121610261346,
          -0.14818769004704696,
          0.3452122122268642,
          -1.8067691232641163,
          -1.634749788768707,
          0.034233289669643494,
          -0.28934928828013634,
          0.32812377951620214,
          0.32910794420280115,
          1.1800149358136531,
          -0.8883104448558582,
          1.7936312182763456,
          -1.5666609283533584,
          1.4935951700111614,
          1.0261130875524023,
          0.5686621646377112,
          1.195491738597137,
          1.3095645877703326,
          1.7126221351614856,
          0.20821042621572,
          -0.27245247382963683,
          2.958537074185334,
          1.1521131509256861,
          1.69688082665319,
          1.5997545873746062,
          0.06836165526771469,
          0.05095851489658768,
          -1.4062563167283229,
          0.8009205979754301,
          -2.007850998187997,
          -1.0300679042761605,
          -0.348139549205092,
          -1.043516895168186,
          1.4095532718016575,
          1.0041911259519434,
          -0.10881868601619357,
          0.10697557159210212,
          0.36064636756312696,
          1.7268526163803328,
          0.0036578654411822584,
          0.6828347123397909,
          1.1326183479954248,
          1.3874865661864886,
          -1.4670972916699903,
          1.2554137762048678,
          -0.05883706655082013,
          0.640467929128801,
          -1.5576002803382498,
          1.317810073417994,
          0.7840297996700045,
          0.11773756092765265,
          -0.8535184193794283,
          0.7521265450113909,
          -2.0219945595573225,
          0.6982664594996074,
          -0.2620284721963431,
          -1.790396731796199,
          0.08677610118195855,
          2.0392858394221696,
          0.12882730684197252,
          0.9441592452092047,
          -0.4412387464935074,
          0.4804899837716722,
          -0.27196138774531503,
          0.3117798836344818,
          1.9159999391458693,
          0.3295901499234422,
          -0.4753026306728736,
          0.8191594181634533,
          0.20911743135705846,
          3.314507374063461,
          -0.28695412412569543,
          0.9934315724042603,
          0.10427082656561551,
          0.5739208179449827,
          0.6572094223299806,
          -0.6210516174643926,
          -0.7331282059054588,
          0.40877428828802675,
          -1.231502433839762,
          -0.5966920119114699,
          0.5303734972703417,
          0.7550799210738212,
          -0.25252469721757065,
          -0.17321545632623547,
          0.34704125264602725,
          1.4002442896546903,
          -0.5411407508757214,
          -0.6556024467323619,
          0.4888717616646806,
          -0.6831645443609797,
          1.4107941387219316,
          -1.324146824510583,
          2.4098174170134476,
          1.6986283611221968
         ],
         "xaxis": "x7",
         "y": [
          0.9852938519840362,
          -0.4142711665345483,
          -0.2993862088212026,
          -1.080158167641829,
          -0.5951615936768305,
          -1.061425559875092,
          -2.7120885483534254,
          -0.03149120113084428,
          -1.5755214690475732,
          0.35761998845734294,
          0.4201604838130015,
          -1.1872547692853608,
          2.2288159685553848,
          -0.20694873379706547,
          -0.29857480676428755,
          0.30465302078098727,
          1.0883622736425371,
          -0.0833002929219233,
          -0.38598103288068203,
          -0.6178040341239334,
          0.4000253076879923,
          -0.22496101350698444,
          -0.6615503092076963,
          1.1112518007745142,
          -0.2547548208944747,
          -0.9505888187305093,
          0.5501125290824538,
          0.23886067040655298,
          0.3767793235919412,
          -1.555051768463564,
          -1.9539650845846017,
          2.068238468829256,
          -0.8857142929791774,
          -0.6360773222197956,
          0.028636021121702788,
          -2.023847184228603,
          -0.6237244217096115,
          -0.845385390133307,
          -0.7706269321010328,
          -0.04798704669675597,
          -0.7347074680924067,
          0.978796728799089,
          3.0844914729635744,
          -0.5714312651068356,
          -1.6259819149285943,
          1.1653242003578144,
          -1.2262408297083338,
          0.024679650851651188,
          1.2652123552822339,
          0.6042438676916213,
          -1.0103596451298062,
          -0.2561198417491012,
          2.0972955326499196,
          0.4931935169281666,
          1.6862523895127877,
          -0.9511409837911713,
          -0.7929340198874938,
          -0.9415624684146361,
          -0.8162447738001156,
          2.305955639896165,
          2.3533932732497136,
          -1.2371339798667005,
          -1.806957263001291,
          -0.6692886247575235,
          0.26981495743716416,
          0.7353214008885376,
          -1.9587844101207168,
          -0.08875047092515755,
          -0.5375446519047127,
          1.0306545150239066,
          -0.42317938725773774,
          -0.7853846371787755,
          0.16885879662634365,
          -0.21273402930876428,
          0.04677265239052718,
          -0.11032587082205524,
          -0.9759868080638875,
          0.37714721887378244,
          -0.040245610606096056,
          -0.3624201877979656,
          -0.7237478146887273,
          -1.136675383870532,
          -0.1762010463278863,
          1.5545539485620936,
          0.12269680380628893,
          -0.27014083531452854,
          -1.1515553777811576,
          0.5355925338371131,
          -0.08498431225411827,
          -0.14033789297750898,
          1.060065500408755,
          -1.5694109802935956,
          1.8141368208221966,
          0.15478352025223172,
          0.009957933182435623,
          1.1231976518480087,
          -0.5950752487108096,
          0.13513089474798265,
          -0.5046785342264216,
          -0.7705528646396353
         ],
         "yaxis": "y7"
        },
        {
         "line": {
          "color": "rgba(128, 128, 128, 1.0)",
          "dash": "solid",
          "shape": "linear",
          "width": 1.3
         },
         "marker": {
          "size": 2,
          "symbol": "circle"
         },
         "mode": "markers",
         "name": "B",
         "text": "",
         "type": "scatter",
         "x": [
          1.0361215242491195,
          0.6407853255491084,
          0.7063779456975104,
          1.8980826082085422,
          0.17187209395006434,
          1.1807930930152146,
          1.4961438288093272,
          -2.0446273869788087,
          1.1318022350041197,
          -1.1927329306327188,
          -0.3718357943680243,
          -1.103634637522285,
          0.68808333426337,
          -0.32682601948711265,
          -0.22521524060681247,
          -0.8974662083076845,
          0.6522682742848068,
          -0.7631185114850355,
          1.4212512473317818,
          -1.196434655579687,
          0.3376907200426193,
          -0.3972002950152537,
          -0.5455228930351891,
          -0.3423263609742087,
          -0.531908394142106,
          0.40697220160755143,
          -1.2245651337600438,
          -1.0957828536350458,
          0.44149574622144727,
          0.6671698451103586,
          -1.0434073030965116,
          1.087993748180064,
          0.8251029406890018,
          0.44954204545429655,
          -0.22719985689936456,
          -0.5422444776464004,
          -2.2324261138964956,
          0.9493595005097836,
          0.4777179691755005,
          -0.5354614446658382,
          -0.4982004714923975,
          -1.1476891696504472,
          -0.2296400044253678,
          0.9204126254454262,
          0.4175094038759765,
          1.3383812678252205,
          0.20393570092135996,
          0.3641768189742347,
          0.056298588785371646,
          1.790154924545487,
          0.35720133249961833,
          1.5064400671355258,
          -0.3019170893055426,
          -1.6578434496745653,
          0.8620146720247083,
          1.1500043106957927,
          0.2822494976777274,
          0.9566833862150375,
          -0.2685357041989318,
          -0.4884728273289955,
          1.2792079241497105,
          -0.7250228973636278,
          -1.2309532650323967,
          0.31197521426637215,
          1.0936944534891009,
          -0.32257914774238977,
          0.8932021180721614,
          1.8362910746299415,
          1.3306532682976469,
          0.7664840393967025,
          1.1502775594682741,
          1.3585620922843022,
          -0.5178200548823758,
          0.806793794387821,
          -0.09845903208504937,
          -1.4103456208172465,
          1.6151659629822908,
          0.06750180450915381,
          2.283053076806745,
          0.18240460302101436,
          -1.685931624410959,
          0.6047384305209671,
          0.6273165693400129,
          0.23627795320787906,
          -0.7447556824866209,
          -1.3722482088152015,
          0.6549064884581498,
          0.2246440447161041,
          -0.8268812754471794,
          -0.6793756327254308,
          1.76927828093296,
          0.8654601044043043,
          0.5927435118167454,
          0.10212959626793228,
          0.48969973682356716,
          -0.07640015800038846,
          0.03879598781609596,
          -0.14838855520956157,
          0.4444156340939495,
          -0.32794358382266386
         ],
         "xaxis": "x8",
         "y": [
          0.9852938519840362,
          -0.4142711665345483,
          -0.2993862088212026,
          -1.080158167641829,
          -0.5951615936768305,
          -1.061425559875092,
          -2.7120885483534254,
          -0.03149120113084428,
          -1.5755214690475732,
          0.35761998845734294,
          0.4201604838130015,
          -1.1872547692853608,
          2.2288159685553848,
          -0.20694873379706547,
          -0.29857480676428755,
          0.30465302078098727,
          1.0883622736425371,
          -0.0833002929219233,
          -0.38598103288068203,
          -0.6178040341239334,
          0.4000253076879923,
          -0.22496101350698444,
          -0.6615503092076963,
          1.1112518007745142,
          -0.2547548208944747,
          -0.9505888187305093,
          0.5501125290824538,
          0.23886067040655298,
          0.3767793235919412,
          -1.555051768463564,
          -1.9539650845846017,
          2.068238468829256,
          -0.8857142929791774,
          -0.6360773222197956,
          0.028636021121702788,
          -2.023847184228603,
          -0.6237244217096115,
          -0.845385390133307,
          -0.7706269321010328,
          -0.04798704669675597,
          -0.7347074680924067,
          0.978796728799089,
          3.0844914729635744,
          -0.5714312651068356,
          -1.6259819149285943,
          1.1653242003578144,
          -1.2262408297083338,
          0.024679650851651188,
          1.2652123552822339,
          0.6042438676916213,
          -1.0103596451298062,
          -0.2561198417491012,
          2.0972955326499196,
          0.4931935169281666,
          1.6862523895127877,
          -0.9511409837911713,
          -0.7929340198874938,
          -0.9415624684146361,
          -0.8162447738001156,
          2.305955639896165,
          2.3533932732497136,
          -1.2371339798667005,
          -1.806957263001291,
          -0.6692886247575235,
          0.26981495743716416,
          0.7353214008885376,
          -1.9587844101207168,
          -0.08875047092515755,
          -0.5375446519047127,
          1.0306545150239066,
          -0.42317938725773774,
          -0.7853846371787755,
          0.16885879662634365,
          -0.21273402930876428,
          0.04677265239052718,
          -0.11032587082205524,
          -0.9759868080638875,
          0.37714721887378244,
          -0.040245610606096056,
          -0.3624201877979656,
          -0.7237478146887273,
          -1.136675383870532,
          -0.1762010463278863,
          1.5545539485620936,
          0.12269680380628893,
          -0.27014083531452854,
          -1.1515553777811576,
          0.5355925338371131,
          -0.08498431225411827,
          -0.14033789297750898,
          1.060065500408755,
          -1.5694109802935956,
          1.8141368208221966,
          0.15478352025223172,
          0.009957933182435623,
          1.1231976518480087,
          -0.5950752487108096,
          0.13513089474798265,
          -0.5046785342264216,
          -0.7705528646396353
         ],
         "yaxis": "y8"
        },
        {
         "line": {
          "color": "rgba(128, 128, 128, 1.0)",
          "dash": "solid",
          "shape": "linear",
          "width": 1.3
         },
         "marker": {
          "size": 2,
          "symbol": "circle"
         },
         "mode": "markers",
         "name": "C",
         "text": "",
         "type": "scatter",
         "x": [
          -0.22811627589074476,
          0.6787238832591042,
          1.6515060543232125,
          -0.6604782349724839,
          -0.5196249994745574,
          0.02055969042282577,
          -0.4397107068570352,
          0.41406042035964086,
          0.4108425293363018,
          0.8645542364829347,
          0.2119146464712936,
          0.6517328492837595,
          -0.3299934644424242,
          -0.48702899121525334,
          -0.22200897985421947,
          -0.8047818862898786,
          -1.1845906796308772,
          -0.4978353907798658,
          1.621167298309641,
          0.8224618564100735,
          -1.2902079390988175,
          0.01461791408133816,
          1.1410522269583148,
          0.8280874098673555,
          2.023735414640705,
          -0.4865637083260705,
          1.0389367638584508,
          1.2276962498928554,
          -0.18944754493862276,
          -0.14976216719342267,
          0.683583165072884,
          0.3239156424744562,
          -0.0719760168952608,
          -0.6378580170038229,
          -0.15493703777823922,
          1.7894814413117488,
          2.0184945323868257,
          0.20753608984329258,
          0.1978779128445857,
          1.0659510071385676,
          0.6558923317899069,
          -0.9926693302856021,
          -1.5682107352009464,
          -0.5753024096779175,
          -0.029614920045432938,
          -2.467749324540253,
          1.5160313978127993,
          -1.0111094337666988,
          0.36344209841536307,
          0.647623158788987,
          1.4071695619594518,
          0.5351397311767255,
          -0.04656114960512062,
          2.1664962354930863,
          0.14060328416534093,
          -0.8352079111291246,
          -0.9905325268254492,
          0.3027127572771243,
          -0.6970889943202017,
          -0.17485657057263013,
          0.1868467778262092,
          -0.9286776558514568,
          -0.03202384444914497,
          1.1188291288859542,
          1.0977932423879886,
          0.3465054154720146,
          -0.033836252989438084,
          -0.524395948545605,
          -1.031014258748993,
          -1.0769206345804534,
          -0.7197159862369726,
          1.13568672086204,
          -0.006894158362355122,
          -0.1625407442294256,
          -0.004439264787613177,
          0.22346207717106653,
          -0.6338247075959175,
          0.2830031950943066,
          -0.2842757783063089,
          -1.6745075707344477,
          -0.6599566325743017,
          0.11755418565563681,
          -0.8551230708313902,
          -1.4443938044070246,
          -1.7237423856954894,
          0.09323476948011054,
          -2.0237980294421427,
          0.5902819780517904,
          0.3521336835525418,
          -0.47410642666534136,
          -1.1966471740352314,
          -0.6828607642116732,
          -1.011661714759275,
          -1.905834151795708,
          0.9973400152016139,
          0.4597725013627585,
          -0.7315311070057287,
          -0.4033761447760559,
          -0.7193598651158356,
          0.6435615542100579
         ],
         "xaxis": "x9",
         "y": [
          0.549740637555539,
          1.260212332460787,
          -0.5946594830986801,
          -0.6948732218626511,
          0.9806073927395907,
          0.4683121610261346,
          -0.14818769004704696,
          0.3452122122268642,
          -1.8067691232641163,
          -1.634749788768707,
          0.034233289669643494,
          -0.28934928828013634,
          0.32812377951620214,
          0.32910794420280115,
          1.1800149358136531,
          -0.8883104448558582,
          1.7936312182763456,
          -1.5666609283533584,
          1.4935951700111614,
          1.0261130875524023,
          0.5686621646377112,
          1.195491738597137,
          1.3095645877703326,
          1.7126221351614856,
          0.20821042621572,
          -0.27245247382963683,
          2.958537074185334,
          1.1521131509256861,
          1.69688082665319,
          1.5997545873746062,
          0.06836165526771469,
          0.05095851489658768,
          -1.4062563167283229,
          0.8009205979754301,
          -2.007850998187997,
          -1.0300679042761605,
          -0.348139549205092,
          -1.043516895168186,
          1.4095532718016575,
          1.0041911259519434,
          -0.10881868601619357,
          0.10697557159210212,
          0.36064636756312696,
          1.7268526163803328,
          0.0036578654411822584,
          0.6828347123397909,
          1.1326183479954248,
          1.3874865661864886,
          -1.4670972916699903,
          1.2554137762048678,
          -0.05883706655082013,
          0.640467929128801,
          -1.5576002803382498,
          1.317810073417994,
          0.7840297996700045,
          0.11773756092765265,
          -0.8535184193794283,
          0.7521265450113909,
          -2.0219945595573225,
          0.6982664594996074,
          -0.2620284721963431,
          -1.790396731796199,
          0.08677610118195855,
          2.0392858394221696,
          0.12882730684197252,
          0.9441592452092047,
          -0.4412387464935074,
          0.4804899837716722,
          -0.27196138774531503,
          0.3117798836344818,
          1.9159999391458693,
          0.3295901499234422,
          -0.4753026306728736,
          0.8191594181634533,
          0.20911743135705846,
          3.314507374063461,
          -0.28695412412569543,
          0.9934315724042603,
          0.10427082656561551,
          0.5739208179449827,
          0.6572094223299806,
          -0.6210516174643926,
          -0.7331282059054588,
          0.40877428828802675,
          -1.231502433839762,
          -0.5966920119114699,
          0.5303734972703417,
          0.7550799210738212,
          -0.25252469721757065,
          -0.17321545632623547,
          0.34704125264602725,
          1.4002442896546903,
          -0.5411407508757214,
          -0.6556024467323619,
          0.4888717616646806,
          -0.6831645443609797,
          1.4107941387219316,
          -1.324146824510583,
          2.4098174170134476,
          1.6986283611221968
         ],
         "yaxis": "y9"
        },
        {
         "line": {
          "color": "rgba(128, 128, 128, 1.0)",
          "dash": "solid",
          "shape": "linear",
          "width": 1.3
         },
         "marker": {
          "size": 2,
          "symbol": "circle"
         },
         "mode": "markers",
         "name": "C",
         "text": "",
         "type": "scatter",
         "x": [
          0.9852938519840362,
          -0.4142711665345483,
          -0.2993862088212026,
          -1.080158167641829,
          -0.5951615936768305,
          -1.061425559875092,
          -2.7120885483534254,
          -0.03149120113084428,
          -1.5755214690475732,
          0.35761998845734294,
          0.4201604838130015,
          -1.1872547692853608,
          2.2288159685553848,
          -0.20694873379706547,
          -0.29857480676428755,
          0.30465302078098727,
          1.0883622736425371,
          -0.0833002929219233,
          -0.38598103288068203,
          -0.6178040341239334,
          0.4000253076879923,
          -0.22496101350698444,
          -0.6615503092076963,
          1.1112518007745142,
          -0.2547548208944747,
          -0.9505888187305093,
          0.5501125290824538,
          0.23886067040655298,
          0.3767793235919412,
          -1.555051768463564,
          -1.9539650845846017,
          2.068238468829256,
          -0.8857142929791774,
          -0.6360773222197956,
          0.028636021121702788,
          -2.023847184228603,
          -0.6237244217096115,
          -0.845385390133307,
          -0.7706269321010328,
          -0.04798704669675597,
          -0.7347074680924067,
          0.978796728799089,
          3.0844914729635744,
          -0.5714312651068356,
          -1.6259819149285943,
          1.1653242003578144,
          -1.2262408297083338,
          0.024679650851651188,
          1.2652123552822339,
          0.6042438676916213,
          -1.0103596451298062,
          -0.2561198417491012,
          2.0972955326499196,
          0.4931935169281666,
          1.6862523895127877,
          -0.9511409837911713,
          -0.7929340198874938,
          -0.9415624684146361,
          -0.8162447738001156,
          2.305955639896165,
          2.3533932732497136,
          -1.2371339798667005,
          -1.806957263001291,
          -0.6692886247575235,
          0.26981495743716416,
          0.7353214008885376,
          -1.9587844101207168,
          -0.08875047092515755,
          -0.5375446519047127,
          1.0306545150239066,
          -0.42317938725773774,
          -0.7853846371787755,
          0.16885879662634365,
          -0.21273402930876428,
          0.04677265239052718,
          -0.11032587082205524,
          -0.9759868080638875,
          0.37714721887378244,
          -0.040245610606096056,
          -0.3624201877979656,
          -0.7237478146887273,
          -1.136675383870532,
          -0.1762010463278863,
          1.5545539485620936,
          0.12269680380628893,
          -0.27014083531452854,
          -1.1515553777811576,
          0.5355925338371131,
          -0.08498431225411827,
          -0.14033789297750898,
          1.060065500408755,
          -1.5694109802935956,
          1.8141368208221966,
          0.15478352025223172,
          0.009957933182435623,
          1.1231976518480087,
          -0.5950752487108096,
          0.13513089474798265,
          -0.5046785342264216,
          -0.7705528646396353
         ],
         "xaxis": "x10",
         "y": [
          0.549740637555539,
          1.260212332460787,
          -0.5946594830986801,
          -0.6948732218626511,
          0.9806073927395907,
          0.4683121610261346,
          -0.14818769004704696,
          0.3452122122268642,
          -1.8067691232641163,
          -1.634749788768707,
          0.034233289669643494,
          -0.28934928828013634,
          0.32812377951620214,
          0.32910794420280115,
          1.1800149358136531,
          -0.8883104448558582,
          1.7936312182763456,
          -1.5666609283533584,
          1.4935951700111614,
          1.0261130875524023,
          0.5686621646377112,
          1.195491738597137,
          1.3095645877703326,
          1.7126221351614856,
          0.20821042621572,
          -0.27245247382963683,
          2.958537074185334,
          1.1521131509256861,
          1.69688082665319,
          1.5997545873746062,
          0.06836165526771469,
          0.05095851489658768,
          -1.4062563167283229,
          0.8009205979754301,
          -2.007850998187997,
          -1.0300679042761605,
          -0.348139549205092,
          -1.043516895168186,
          1.4095532718016575,
          1.0041911259519434,
          -0.10881868601619357,
          0.10697557159210212,
          0.36064636756312696,
          1.7268526163803328,
          0.0036578654411822584,
          0.6828347123397909,
          1.1326183479954248,
          1.3874865661864886,
          -1.4670972916699903,
          1.2554137762048678,
          -0.05883706655082013,
          0.640467929128801,
          -1.5576002803382498,
          1.317810073417994,
          0.7840297996700045,
          0.11773756092765265,
          -0.8535184193794283,
          0.7521265450113909,
          -2.0219945595573225,
          0.6982664594996074,
          -0.2620284721963431,
          -1.790396731796199,
          0.08677610118195855,
          2.0392858394221696,
          0.12882730684197252,
          0.9441592452092047,
          -0.4412387464935074,
          0.4804899837716722,
          -0.27196138774531503,
          0.3117798836344818,
          1.9159999391458693,
          0.3295901499234422,
          -0.4753026306728736,
          0.8191594181634533,
          0.20911743135705846,
          3.314507374063461,
          -0.28695412412569543,
          0.9934315724042603,
          0.10427082656561551,
          0.5739208179449827,
          0.6572094223299806,
          -0.6210516174643926,
          -0.7331282059054588,
          0.40877428828802675,
          -1.231502433839762,
          -0.5966920119114699,
          0.5303734972703417,
          0.7550799210738212,
          -0.25252469721757065,
          -0.17321545632623547,
          0.34704125264602725,
          1.4002442896546903,
          -0.5411407508757214,
          -0.6556024467323619,
          0.4888717616646806,
          -0.6831645443609797,
          1.4107941387219316,
          -1.324146824510583,
          2.4098174170134476,
          1.6986283611221968
         ],
         "yaxis": "y10"
        },
        {
         "histfunc": "count",
         "histnorm": "",
         "marker": {
          "color": "rgba(50, 171, 96, 1.0)",
          "line": {
           "color": "#4D5663",
           "width": 1.3
          }
         },
         "name": "C",
         "nbinsx": 10,
         "opacity": 0.8,
         "orientation": "v",
         "type": "histogram",
         "x": [
          0.549740637555539,
          1.260212332460787,
          -0.5946594830986801,
          -0.6948732218626511,
          0.9806073927395907,
          0.4683121610261346,
          -0.14818769004704696,
          0.3452122122268642,
          -1.8067691232641163,
          -1.634749788768707,
          0.034233289669643494,
          -0.28934928828013634,
          0.32812377951620214,
          0.32910794420280115,
          1.1800149358136531,
          -0.8883104448558582,
          1.7936312182763456,
          -1.5666609283533584,
          1.4935951700111614,
          1.0261130875524023,
          0.5686621646377112,
          1.195491738597137,
          1.3095645877703326,
          1.7126221351614856,
          0.20821042621572,
          -0.27245247382963683,
          2.958537074185334,
          1.1521131509256861,
          1.69688082665319,
          1.5997545873746062,
          0.06836165526771469,
          0.05095851489658768,
          -1.4062563167283229,
          0.8009205979754301,
          -2.007850998187997,
          -1.0300679042761605,
          -0.348139549205092,
          -1.043516895168186,
          1.4095532718016575,
          1.0041911259519434,
          -0.10881868601619357,
          0.10697557159210212,
          0.36064636756312696,
          1.7268526163803328,
          0.0036578654411822584,
          0.6828347123397909,
          1.1326183479954248,
          1.3874865661864886,
          -1.4670972916699903,
          1.2554137762048678,
          -0.05883706655082013,
          0.640467929128801,
          -1.5576002803382498,
          1.317810073417994,
          0.7840297996700045,
          0.11773756092765265,
          -0.8535184193794283,
          0.7521265450113909,
          -2.0219945595573225,
          0.6982664594996074,
          -0.2620284721963431,
          -1.790396731796199,
          0.08677610118195855,
          2.0392858394221696,
          0.12882730684197252,
          0.9441592452092047,
          -0.4412387464935074,
          0.4804899837716722,
          -0.27196138774531503,
          0.3117798836344818,
          1.9159999391458693,
          0.3295901499234422,
          -0.4753026306728736,
          0.8191594181634533,
          0.20911743135705846,
          3.314507374063461,
          -0.28695412412569543,
          0.9934315724042603,
          0.10427082656561551,
          0.5739208179449827,
          0.6572094223299806,
          -0.6210516174643926,
          -0.7331282059054588,
          0.40877428828802675,
          -1.231502433839762,
          -0.5966920119114699,
          0.5303734972703417,
          0.7550799210738212,
          -0.25252469721757065,
          -0.17321545632623547,
          0.34704125264602725,
          1.4002442896546903,
          -0.5411407508757214,
          -0.6556024467323619,
          0.4888717616646806,
          -0.6831645443609797,
          1.4107941387219316,
          -1.324146824510583,
          2.4098174170134476,
          1.6986283611221968
         ],
         "xaxis": "x11",
         "yaxis": "y11"
        },
        {
         "line": {
          "color": "rgba(128, 128, 128, 1.0)",
          "dash": "solid",
          "shape": "linear",
          "width": 1.3
         },
         "marker": {
          "size": 2,
          "symbol": "circle"
         },
         "mode": "markers",
         "name": "C",
         "text": "",
         "type": "scatter",
         "x": [
          1.0361215242491195,
          0.6407853255491084,
          0.7063779456975104,
          1.8980826082085422,
          0.17187209395006434,
          1.1807930930152146,
          1.4961438288093272,
          -2.0446273869788087,
          1.1318022350041197,
          -1.1927329306327188,
          -0.3718357943680243,
          -1.103634637522285,
          0.68808333426337,
          -0.32682601948711265,
          -0.22521524060681247,
          -0.8974662083076845,
          0.6522682742848068,
          -0.7631185114850355,
          1.4212512473317818,
          -1.196434655579687,
          0.3376907200426193,
          -0.3972002950152537,
          -0.5455228930351891,
          -0.3423263609742087,
          -0.531908394142106,
          0.40697220160755143,
          -1.2245651337600438,
          -1.0957828536350458,
          0.44149574622144727,
          0.6671698451103586,
          -1.0434073030965116,
          1.087993748180064,
          0.8251029406890018,
          0.44954204545429655,
          -0.22719985689936456,
          -0.5422444776464004,
          -2.2324261138964956,
          0.9493595005097836,
          0.4777179691755005,
          -0.5354614446658382,
          -0.4982004714923975,
          -1.1476891696504472,
          -0.2296400044253678,
          0.9204126254454262,
          0.4175094038759765,
          1.3383812678252205,
          0.20393570092135996,
          0.3641768189742347,
          0.056298588785371646,
          1.790154924545487,
          0.35720133249961833,
          1.5064400671355258,
          -0.3019170893055426,
          -1.6578434496745653,
          0.8620146720247083,
          1.1500043106957927,
          0.2822494976777274,
          0.9566833862150375,
          -0.2685357041989318,
          -0.4884728273289955,
          1.2792079241497105,
          -0.7250228973636278,
          -1.2309532650323967,
          0.31197521426637215,
          1.0936944534891009,
          -0.32257914774238977,
          0.8932021180721614,
          1.8362910746299415,
          1.3306532682976469,
          0.7664840393967025,
          1.1502775594682741,
          1.3585620922843022,
          -0.5178200548823758,
          0.806793794387821,
          -0.09845903208504937,
          -1.4103456208172465,
          1.6151659629822908,
          0.06750180450915381,
          2.283053076806745,
          0.18240460302101436,
          -1.685931624410959,
          0.6047384305209671,
          0.6273165693400129,
          0.23627795320787906,
          -0.7447556824866209,
          -1.3722482088152015,
          0.6549064884581498,
          0.2246440447161041,
          -0.8268812754471794,
          -0.6793756327254308,
          1.76927828093296,
          0.8654601044043043,
          0.5927435118167454,
          0.10212959626793228,
          0.48969973682356716,
          -0.07640015800038846,
          0.03879598781609596,
          -0.14838855520956157,
          0.4444156340939495,
          -0.32794358382266386
         ],
         "xaxis": "x12",
         "y": [
          0.549740637555539,
          1.260212332460787,
          -0.5946594830986801,
          -0.6948732218626511,
          0.9806073927395907,
          0.4683121610261346,
          -0.14818769004704696,
          0.3452122122268642,
          -1.8067691232641163,
          -1.634749788768707,
          0.034233289669643494,
          -0.28934928828013634,
          0.32812377951620214,
          0.32910794420280115,
          1.1800149358136531,
          -0.8883104448558582,
          1.7936312182763456,
          -1.5666609283533584,
          1.4935951700111614,
          1.0261130875524023,
          0.5686621646377112,
          1.195491738597137,
          1.3095645877703326,
          1.7126221351614856,
          0.20821042621572,
          -0.27245247382963683,
          2.958537074185334,
          1.1521131509256861,
          1.69688082665319,
          1.5997545873746062,
          0.06836165526771469,
          0.05095851489658768,
          -1.4062563167283229,
          0.8009205979754301,
          -2.007850998187997,
          -1.0300679042761605,
          -0.348139549205092,
          -1.043516895168186,
          1.4095532718016575,
          1.0041911259519434,
          -0.10881868601619357,
          0.10697557159210212,
          0.36064636756312696,
          1.7268526163803328,
          0.0036578654411822584,
          0.6828347123397909,
          1.1326183479954248,
          1.3874865661864886,
          -1.4670972916699903,
          1.2554137762048678,
          -0.05883706655082013,
          0.640467929128801,
          -1.5576002803382498,
          1.317810073417994,
          0.7840297996700045,
          0.11773756092765265,
          -0.8535184193794283,
          0.7521265450113909,
          -2.0219945595573225,
          0.6982664594996074,
          -0.2620284721963431,
          -1.790396731796199,
          0.08677610118195855,
          2.0392858394221696,
          0.12882730684197252,
          0.9441592452092047,
          -0.4412387464935074,
          0.4804899837716722,
          -0.27196138774531503,
          0.3117798836344818,
          1.9159999391458693,
          0.3295901499234422,
          -0.4753026306728736,
          0.8191594181634533,
          0.20911743135705846,
          3.314507374063461,
          -0.28695412412569543,
          0.9934315724042603,
          0.10427082656561551,
          0.5739208179449827,
          0.6572094223299806,
          -0.6210516174643926,
          -0.7331282059054588,
          0.40877428828802675,
          -1.231502433839762,
          -0.5966920119114699,
          0.5303734972703417,
          0.7550799210738212,
          -0.25252469721757065,
          -0.17321545632623547,
          0.34704125264602725,
          1.4002442896546903,
          -0.5411407508757214,
          -0.6556024467323619,
          0.4888717616646806,
          -0.6831645443609797,
          1.4107941387219316,
          -1.324146824510583,
          2.4098174170134476,
          1.6986283611221968
         ],
         "yaxis": "y12"
        },
        {
         "line": {
          "color": "rgba(128, 128, 128, 1.0)",
          "dash": "solid",
          "shape": "linear",
          "width": 1.3
         },
         "marker": {
          "size": 2,
          "symbol": "circle"
         },
         "mode": "markers",
         "name": "D",
         "text": "",
         "type": "scatter",
         "x": [
          -0.22811627589074476,
          0.6787238832591042,
          1.6515060543232125,
          -0.6604782349724839,
          -0.5196249994745574,
          0.02055969042282577,
          -0.4397107068570352,
          0.41406042035964086,
          0.4108425293363018,
          0.8645542364829347,
          0.2119146464712936,
          0.6517328492837595,
          -0.3299934644424242,
          -0.48702899121525334,
          -0.22200897985421947,
          -0.8047818862898786,
          -1.1845906796308772,
          -0.4978353907798658,
          1.621167298309641,
          0.8224618564100735,
          -1.2902079390988175,
          0.01461791408133816,
          1.1410522269583148,
          0.8280874098673555,
          2.023735414640705,
          -0.4865637083260705,
          1.0389367638584508,
          1.2276962498928554,
          -0.18944754493862276,
          -0.14976216719342267,
          0.683583165072884,
          0.3239156424744562,
          -0.0719760168952608,
          -0.6378580170038229,
          -0.15493703777823922,
          1.7894814413117488,
          2.0184945323868257,
          0.20753608984329258,
          0.1978779128445857,
          1.0659510071385676,
          0.6558923317899069,
          -0.9926693302856021,
          -1.5682107352009464,
          -0.5753024096779175,
          -0.029614920045432938,
          -2.467749324540253,
          1.5160313978127993,
          -1.0111094337666988,
          0.36344209841536307,
          0.647623158788987,
          1.4071695619594518,
          0.5351397311767255,
          -0.04656114960512062,
          2.1664962354930863,
          0.14060328416534093,
          -0.8352079111291246,
          -0.9905325268254492,
          0.3027127572771243,
          -0.6970889943202017,
          -0.17485657057263013,
          0.1868467778262092,
          -0.9286776558514568,
          -0.03202384444914497,
          1.1188291288859542,
          1.0977932423879886,
          0.3465054154720146,
          -0.033836252989438084,
          -0.524395948545605,
          -1.031014258748993,
          -1.0769206345804534,
          -0.7197159862369726,
          1.13568672086204,
          -0.006894158362355122,
          -0.1625407442294256,
          -0.004439264787613177,
          0.22346207717106653,
          -0.6338247075959175,
          0.2830031950943066,
          -0.2842757783063089,
          -1.6745075707344477,
          -0.6599566325743017,
          0.11755418565563681,
          -0.8551230708313902,
          -1.4443938044070246,
          -1.7237423856954894,
          0.09323476948011054,
          -2.0237980294421427,
          0.5902819780517904,
          0.3521336835525418,
          -0.47410642666534136,
          -1.1966471740352314,
          -0.6828607642116732,
          -1.011661714759275,
          -1.905834151795708,
          0.9973400152016139,
          0.4597725013627585,
          -0.7315311070057287,
          -0.4033761447760559,
          -0.7193598651158356,
          0.6435615542100579
         ],
         "xaxis": "x13",
         "y": [
          1.0361215242491195,
          0.6407853255491084,
          0.7063779456975104,
          1.8980826082085422,
          0.17187209395006434,
          1.1807930930152146,
          1.4961438288093272,
          -2.0446273869788087,
          1.1318022350041197,
          -1.1927329306327188,
          -0.3718357943680243,
          -1.103634637522285,
          0.68808333426337,
          -0.32682601948711265,
          -0.22521524060681247,
          -0.8974662083076845,
          0.6522682742848068,
          -0.7631185114850355,
          1.4212512473317818,
          -1.196434655579687,
          0.3376907200426193,
          -0.3972002950152537,
          -0.5455228930351891,
          -0.3423263609742087,
          -0.531908394142106,
          0.40697220160755143,
          -1.2245651337600438,
          -1.0957828536350458,
          0.44149574622144727,
          0.6671698451103586,
          -1.0434073030965116,
          1.087993748180064,
          0.8251029406890018,
          0.44954204545429655,
          -0.22719985689936456,
          -0.5422444776464004,
          -2.2324261138964956,
          0.9493595005097836,
          0.4777179691755005,
          -0.5354614446658382,
          -0.4982004714923975,
          -1.1476891696504472,
          -0.2296400044253678,
          0.9204126254454262,
          0.4175094038759765,
          1.3383812678252205,
          0.20393570092135996,
          0.3641768189742347,
          0.056298588785371646,
          1.790154924545487,
          0.35720133249961833,
          1.5064400671355258,
          -0.3019170893055426,
          -1.6578434496745653,
          0.8620146720247083,
          1.1500043106957927,
          0.2822494976777274,
          0.9566833862150375,
          -0.2685357041989318,
          -0.4884728273289955,
          1.2792079241497105,
          -0.7250228973636278,
          -1.2309532650323967,
          0.31197521426637215,
          1.0936944534891009,
          -0.32257914774238977,
          0.8932021180721614,
          1.8362910746299415,
          1.3306532682976469,
          0.7664840393967025,
          1.1502775594682741,
          1.3585620922843022,
          -0.5178200548823758,
          0.806793794387821,
          -0.09845903208504937,
          -1.4103456208172465,
          1.6151659629822908,
          0.06750180450915381,
          2.283053076806745,
          0.18240460302101436,
          -1.685931624410959,
          0.6047384305209671,
          0.6273165693400129,
          0.23627795320787906,
          -0.7447556824866209,
          -1.3722482088152015,
          0.6549064884581498,
          0.2246440447161041,
          -0.8268812754471794,
          -0.6793756327254308,
          1.76927828093296,
          0.8654601044043043,
          0.5927435118167454,
          0.10212959626793228,
          0.48969973682356716,
          -0.07640015800038846,
          0.03879598781609596,
          -0.14838855520956157,
          0.4444156340939495,
          -0.32794358382266386
         ],
         "yaxis": "y13"
        },
        {
         "line": {
          "color": "rgba(128, 128, 128, 1.0)",
          "dash": "solid",
          "shape": "linear",
          "width": 1.3
         },
         "marker": {
          "size": 2,
          "symbol": "circle"
         },
         "mode": "markers",
         "name": "D",
         "text": "",
         "type": "scatter",
         "x": [
          0.9852938519840362,
          -0.4142711665345483,
          -0.2993862088212026,
          -1.080158167641829,
          -0.5951615936768305,
          -1.061425559875092,
          -2.7120885483534254,
          -0.03149120113084428,
          -1.5755214690475732,
          0.35761998845734294,
          0.4201604838130015,
          -1.1872547692853608,
          2.2288159685553848,
          -0.20694873379706547,
          -0.29857480676428755,
          0.30465302078098727,
          1.0883622736425371,
          -0.0833002929219233,
          -0.38598103288068203,
          -0.6178040341239334,
          0.4000253076879923,
          -0.22496101350698444,
          -0.6615503092076963,
          1.1112518007745142,
          -0.2547548208944747,
          -0.9505888187305093,
          0.5501125290824538,
          0.23886067040655298,
          0.3767793235919412,
          -1.555051768463564,
          -1.9539650845846017,
          2.068238468829256,
          -0.8857142929791774,
          -0.6360773222197956,
          0.028636021121702788,
          -2.023847184228603,
          -0.6237244217096115,
          -0.845385390133307,
          -0.7706269321010328,
          -0.04798704669675597,
          -0.7347074680924067,
          0.978796728799089,
          3.0844914729635744,
          -0.5714312651068356,
          -1.6259819149285943,
          1.1653242003578144,
          -1.2262408297083338,
          0.024679650851651188,
          1.2652123552822339,
          0.6042438676916213,
          -1.0103596451298062,
          -0.2561198417491012,
          2.0972955326499196,
          0.4931935169281666,
          1.6862523895127877,
          -0.9511409837911713,
          -0.7929340198874938,
          -0.9415624684146361,
          -0.8162447738001156,
          2.305955639896165,
          2.3533932732497136,
          -1.2371339798667005,
          -1.806957263001291,
          -0.6692886247575235,
          0.26981495743716416,
          0.7353214008885376,
          -1.9587844101207168,
          -0.08875047092515755,
          -0.5375446519047127,
          1.0306545150239066,
          -0.42317938725773774,
          -0.7853846371787755,
          0.16885879662634365,
          -0.21273402930876428,
          0.04677265239052718,
          -0.11032587082205524,
          -0.9759868080638875,
          0.37714721887378244,
          -0.040245610606096056,
          -0.3624201877979656,
          -0.7237478146887273,
          -1.136675383870532,
          -0.1762010463278863,
          1.5545539485620936,
          0.12269680380628893,
          -0.27014083531452854,
          -1.1515553777811576,
          0.5355925338371131,
          -0.08498431225411827,
          -0.14033789297750898,
          1.060065500408755,
          -1.5694109802935956,
          1.8141368208221966,
          0.15478352025223172,
          0.009957933182435623,
          1.1231976518480087,
          -0.5950752487108096,
          0.13513089474798265,
          -0.5046785342264216,
          -0.7705528646396353
         ],
         "xaxis": "x14",
         "y": [
          1.0361215242491195,
          0.6407853255491084,
          0.7063779456975104,
          1.8980826082085422,
          0.17187209395006434,
          1.1807930930152146,
          1.4961438288093272,
          -2.0446273869788087,
          1.1318022350041197,
          -1.1927329306327188,
          -0.3718357943680243,
          -1.103634637522285,
          0.68808333426337,
          -0.32682601948711265,
          -0.22521524060681247,
          -0.8974662083076845,
          0.6522682742848068,
          -0.7631185114850355,
          1.4212512473317818,
          -1.196434655579687,
          0.3376907200426193,
          -0.3972002950152537,
          -0.5455228930351891,
          -0.3423263609742087,
          -0.531908394142106,
          0.40697220160755143,
          -1.2245651337600438,
          -1.0957828536350458,
          0.44149574622144727,
          0.6671698451103586,
          -1.0434073030965116,
          1.087993748180064,
          0.8251029406890018,
          0.44954204545429655,
          -0.22719985689936456,
          -0.5422444776464004,
          -2.2324261138964956,
          0.9493595005097836,
          0.4777179691755005,
          -0.5354614446658382,
          -0.4982004714923975,
          -1.1476891696504472,
          -0.2296400044253678,
          0.9204126254454262,
          0.4175094038759765,
          1.3383812678252205,
          0.20393570092135996,
          0.3641768189742347,
          0.056298588785371646,
          1.790154924545487,
          0.35720133249961833,
          1.5064400671355258,
          -0.3019170893055426,
          -1.6578434496745653,
          0.8620146720247083,
          1.1500043106957927,
          0.2822494976777274,
          0.9566833862150375,
          -0.2685357041989318,
          -0.4884728273289955,
          1.2792079241497105,
          -0.7250228973636278,
          -1.2309532650323967,
          0.31197521426637215,
          1.0936944534891009,
          -0.32257914774238977,
          0.8932021180721614,
          1.8362910746299415,
          1.3306532682976469,
          0.7664840393967025,
          1.1502775594682741,
          1.3585620922843022,
          -0.5178200548823758,
          0.806793794387821,
          -0.09845903208504937,
          -1.4103456208172465,
          1.6151659629822908,
          0.06750180450915381,
          2.283053076806745,
          0.18240460302101436,
          -1.685931624410959,
          0.6047384305209671,
          0.6273165693400129,
          0.23627795320787906,
          -0.7447556824866209,
          -1.3722482088152015,
          0.6549064884581498,
          0.2246440447161041,
          -0.8268812754471794,
          -0.6793756327254308,
          1.76927828093296,
          0.8654601044043043,
          0.5927435118167454,
          0.10212959626793228,
          0.48969973682356716,
          -0.07640015800038846,
          0.03879598781609596,
          -0.14838855520956157,
          0.4444156340939495,
          -0.32794358382266386
         ],
         "yaxis": "y14"
        },
        {
         "line": {
          "color": "rgba(128, 128, 128, 1.0)",
          "dash": "solid",
          "shape": "linear",
          "width": 1.3
         },
         "marker": {
          "size": 2,
          "symbol": "circle"
         },
         "mode": "markers",
         "name": "D",
         "text": "",
         "type": "scatter",
         "x": [
          0.549740637555539,
          1.260212332460787,
          -0.5946594830986801,
          -0.6948732218626511,
          0.9806073927395907,
          0.4683121610261346,
          -0.14818769004704696,
          0.3452122122268642,
          -1.8067691232641163,
          -1.634749788768707,
          0.034233289669643494,
          -0.28934928828013634,
          0.32812377951620214,
          0.32910794420280115,
          1.1800149358136531,
          -0.8883104448558582,
          1.7936312182763456,
          -1.5666609283533584,
          1.4935951700111614,
          1.0261130875524023,
          0.5686621646377112,
          1.195491738597137,
          1.3095645877703326,
          1.7126221351614856,
          0.20821042621572,
          -0.27245247382963683,
          2.958537074185334,
          1.1521131509256861,
          1.69688082665319,
          1.5997545873746062,
          0.06836165526771469,
          0.05095851489658768,
          -1.4062563167283229,
          0.8009205979754301,
          -2.007850998187997,
          -1.0300679042761605,
          -0.348139549205092,
          -1.043516895168186,
          1.4095532718016575,
          1.0041911259519434,
          -0.10881868601619357,
          0.10697557159210212,
          0.36064636756312696,
          1.7268526163803328,
          0.0036578654411822584,
          0.6828347123397909,
          1.1326183479954248,
          1.3874865661864886,
          -1.4670972916699903,
          1.2554137762048678,
          -0.05883706655082013,
          0.640467929128801,
          -1.5576002803382498,
          1.317810073417994,
          0.7840297996700045,
          0.11773756092765265,
          -0.8535184193794283,
          0.7521265450113909,
          -2.0219945595573225,
          0.6982664594996074,
          -0.2620284721963431,
          -1.790396731796199,
          0.08677610118195855,
          2.0392858394221696,
          0.12882730684197252,
          0.9441592452092047,
          -0.4412387464935074,
          0.4804899837716722,
          -0.27196138774531503,
          0.3117798836344818,
          1.9159999391458693,
          0.3295901499234422,
          -0.4753026306728736,
          0.8191594181634533,
          0.20911743135705846,
          3.314507374063461,
          -0.28695412412569543,
          0.9934315724042603,
          0.10427082656561551,
          0.5739208179449827,
          0.6572094223299806,
          -0.6210516174643926,
          -0.7331282059054588,
          0.40877428828802675,
          -1.231502433839762,
          -0.5966920119114699,
          0.5303734972703417,
          0.7550799210738212,
          -0.25252469721757065,
          -0.17321545632623547,
          0.34704125264602725,
          1.4002442896546903,
          -0.5411407508757214,
          -0.6556024467323619,
          0.4888717616646806,
          -0.6831645443609797,
          1.4107941387219316,
          -1.324146824510583,
          2.4098174170134476,
          1.6986283611221968
         ],
         "xaxis": "x15",
         "y": [
          1.0361215242491195,
          0.6407853255491084,
          0.7063779456975104,
          1.8980826082085422,
          0.17187209395006434,
          1.1807930930152146,
          1.4961438288093272,
          -2.0446273869788087,
          1.1318022350041197,
          -1.1927329306327188,
          -0.3718357943680243,
          -1.103634637522285,
          0.68808333426337,
          -0.32682601948711265,
          -0.22521524060681247,
          -0.8974662083076845,
          0.6522682742848068,
          -0.7631185114850355,
          1.4212512473317818,
          -1.196434655579687,
          0.3376907200426193,
          -0.3972002950152537,
          -0.5455228930351891,
          -0.3423263609742087,
          -0.531908394142106,
          0.40697220160755143,
          -1.2245651337600438,
          -1.0957828536350458,
          0.44149574622144727,
          0.6671698451103586,
          -1.0434073030965116,
          1.087993748180064,
          0.8251029406890018,
          0.44954204545429655,
          -0.22719985689936456,
          -0.5422444776464004,
          -2.2324261138964956,
          0.9493595005097836,
          0.4777179691755005,
          -0.5354614446658382,
          -0.4982004714923975,
          -1.1476891696504472,
          -0.2296400044253678,
          0.9204126254454262,
          0.4175094038759765,
          1.3383812678252205,
          0.20393570092135996,
          0.3641768189742347,
          0.056298588785371646,
          1.790154924545487,
          0.35720133249961833,
          1.5064400671355258,
          -0.3019170893055426,
          -1.6578434496745653,
          0.8620146720247083,
          1.1500043106957927,
          0.2822494976777274,
          0.9566833862150375,
          -0.2685357041989318,
          -0.4884728273289955,
          1.2792079241497105,
          -0.7250228973636278,
          -1.2309532650323967,
          0.31197521426637215,
          1.0936944534891009,
          -0.32257914774238977,
          0.8932021180721614,
          1.8362910746299415,
          1.3306532682976469,
          0.7664840393967025,
          1.1502775594682741,
          1.3585620922843022,
          -0.5178200548823758,
          0.806793794387821,
          -0.09845903208504937,
          -1.4103456208172465,
          1.6151659629822908,
          0.06750180450915381,
          2.283053076806745,
          0.18240460302101436,
          -1.685931624410959,
          0.6047384305209671,
          0.6273165693400129,
          0.23627795320787906,
          -0.7447556824866209,
          -1.3722482088152015,
          0.6549064884581498,
          0.2246440447161041,
          -0.8268812754471794,
          -0.6793756327254308,
          1.76927828093296,
          0.8654601044043043,
          0.5927435118167454,
          0.10212959626793228,
          0.48969973682356716,
          -0.07640015800038846,
          0.03879598781609596,
          -0.14838855520956157,
          0.4444156340939495,
          -0.32794358382266386
         ],
         "yaxis": "y15"
        },
        {
         "histfunc": "count",
         "histnorm": "",
         "marker": {
          "color": "rgba(128, 0, 128, 1.0)",
          "line": {
           "color": "#4D5663",
           "width": 1.3
          }
         },
         "name": "D",
         "nbinsx": 10,
         "opacity": 0.8,
         "orientation": "v",
         "type": "histogram",
         "x": [
          1.0361215242491195,
          0.6407853255491084,
          0.7063779456975104,
          1.8980826082085422,
          0.17187209395006434,
          1.1807930930152146,
          1.4961438288093272,
          -2.0446273869788087,
          1.1318022350041197,
          -1.1927329306327188,
          -0.3718357943680243,
          -1.103634637522285,
          0.68808333426337,
          -0.32682601948711265,
          -0.22521524060681247,
          -0.8974662083076845,
          0.6522682742848068,
          -0.7631185114850355,
          1.4212512473317818,
          -1.196434655579687,
          0.3376907200426193,
          -0.3972002950152537,
          -0.5455228930351891,
          -0.3423263609742087,
          -0.531908394142106,
          0.40697220160755143,
          -1.2245651337600438,
          -1.0957828536350458,
          0.44149574622144727,
          0.6671698451103586,
          -1.0434073030965116,
          1.087993748180064,
          0.8251029406890018,
          0.44954204545429655,
          -0.22719985689936456,
          -0.5422444776464004,
          -2.2324261138964956,
          0.9493595005097836,
          0.4777179691755005,
          -0.5354614446658382,
          -0.4982004714923975,
          -1.1476891696504472,
          -0.2296400044253678,
          0.9204126254454262,
          0.4175094038759765,
          1.3383812678252205,
          0.20393570092135996,
          0.3641768189742347,
          0.056298588785371646,
          1.790154924545487,
          0.35720133249961833,
          1.5064400671355258,
          -0.3019170893055426,
          -1.6578434496745653,
          0.8620146720247083,
          1.1500043106957927,
          0.2822494976777274,
          0.9566833862150375,
          -0.2685357041989318,
          -0.4884728273289955,
          1.2792079241497105,
          -0.7250228973636278,
          -1.2309532650323967,
          0.31197521426637215,
          1.0936944534891009,
          -0.32257914774238977,
          0.8932021180721614,
          1.8362910746299415,
          1.3306532682976469,
          0.7664840393967025,
          1.1502775594682741,
          1.3585620922843022,
          -0.5178200548823758,
          0.806793794387821,
          -0.09845903208504937,
          -1.4103456208172465,
          1.6151659629822908,
          0.06750180450915381,
          2.283053076806745,
          0.18240460302101436,
          -1.685931624410959,
          0.6047384305209671,
          0.6273165693400129,
          0.23627795320787906,
          -0.7447556824866209,
          -1.3722482088152015,
          0.6549064884581498,
          0.2246440447161041,
          -0.8268812754471794,
          -0.6793756327254308,
          1.76927828093296,
          0.8654601044043043,
          0.5927435118167454,
          0.10212959626793228,
          0.48969973682356716,
          -0.07640015800038846,
          0.03879598781609596,
          -0.14838855520956157,
          0.4444156340939495,
          -0.32794358382266386
         ],
         "xaxis": "x16",
         "yaxis": "y16"
        }
       ],
       "layout": {
        "bargap": 0.02,
        "legend": {
         "bgcolor": "#F5F6F9",
         "font": {
          "color": "#4D5663"
         }
        },
        "paper_bgcolor": "#F5F6F9",
        "plot_bgcolor": "#F5F6F9",
        "showlegend": false,
        "template": {
         "data": {
          "bar": [
           {
            "error_x": {
             "color": "#2a3f5f"
            },
            "error_y": {
             "color": "#2a3f5f"
            },
            "marker": {
             "line": {
              "color": "#E5ECF6",
              "width": 0.5
             },
             "pattern": {
              "fillmode": "overlay",
              "size": 10,
              "solidity": 0.2
             }
            },
            "type": "bar"
           }
          ],
          "barpolar": [
           {
            "marker": {
             "line": {
              "color": "#E5ECF6",
              "width": 0.5
             },
             "pattern": {
              "fillmode": "overlay",
              "size": 10,
              "solidity": 0.2
             }
            },
            "type": "barpolar"
           }
          ],
          "carpet": [
           {
            "aaxis": {
             "endlinecolor": "#2a3f5f",
             "gridcolor": "white",
             "linecolor": "white",
             "minorgridcolor": "white",
             "startlinecolor": "#2a3f5f"
            },
            "baxis": {
             "endlinecolor": "#2a3f5f",
             "gridcolor": "white",
             "linecolor": "white",
             "minorgridcolor": "white",
             "startlinecolor": "#2a3f5f"
            },
            "type": "carpet"
           }
          ],
          "choropleth": [
           {
            "colorbar": {
             "outlinewidth": 0,
             "ticks": ""
            },
            "type": "choropleth"
           }
          ],
          "contour": [
           {
            "colorbar": {
             "outlinewidth": 0,
             "ticks": ""
            },
            "colorscale": [
             [
              0,
              "#0d0887"
             ],
             [
              0.1111111111111111,
              "#46039f"
             ],
             [
              0.2222222222222222,
              "#7201a8"
             ],
             [
              0.3333333333333333,
              "#9c179e"
             ],
             [
              0.4444444444444444,
              "#bd3786"
             ],
             [
              0.5555555555555556,
              "#d8576b"
             ],
             [
              0.6666666666666666,
              "#ed7953"
             ],
             [
              0.7777777777777778,
              "#fb9f3a"
             ],
             [
              0.8888888888888888,
              "#fdca26"
             ],
             [
              1,
              "#f0f921"
             ]
            ],
            "type": "contour"
           }
          ],
          "contourcarpet": [
           {
            "colorbar": {
             "outlinewidth": 0,
             "ticks": ""
            },
            "type": "contourcarpet"
           }
          ],
          "heatmap": [
           {
            "colorbar": {
             "outlinewidth": 0,
             "ticks": ""
            },
            "colorscale": [
             [
              0,
              "#0d0887"
             ],
             [
              0.1111111111111111,
              "#46039f"
             ],
             [
              0.2222222222222222,
              "#7201a8"
             ],
             [
              0.3333333333333333,
              "#9c179e"
             ],
             [
              0.4444444444444444,
              "#bd3786"
             ],
             [
              0.5555555555555556,
              "#d8576b"
             ],
             [
              0.6666666666666666,
              "#ed7953"
             ],
             [
              0.7777777777777778,
              "#fb9f3a"
             ],
             [
              0.8888888888888888,
              "#fdca26"
             ],
             [
              1,
              "#f0f921"
             ]
            ],
            "type": "heatmap"
           }
          ],
          "heatmapgl": [
           {
            "colorbar": {
             "outlinewidth": 0,
             "ticks": ""
            },
            "colorscale": [
             [
              0,
              "#0d0887"
             ],
             [
              0.1111111111111111,
              "#46039f"
             ],
             [
              0.2222222222222222,
              "#7201a8"
             ],
             [
              0.3333333333333333,
              "#9c179e"
             ],
             [
              0.4444444444444444,
              "#bd3786"
             ],
             [
              0.5555555555555556,
              "#d8576b"
             ],
             [
              0.6666666666666666,
              "#ed7953"
             ],
             [
              0.7777777777777778,
              "#fb9f3a"
             ],
             [
              0.8888888888888888,
              "#fdca26"
             ],
             [
              1,
              "#f0f921"
             ]
            ],
            "type": "heatmapgl"
           }
          ],
          "histogram": [
           {
            "marker": {
             "pattern": {
              "fillmode": "overlay",
              "size": 10,
              "solidity": 0.2
             }
            },
            "type": "histogram"
           }
          ],
          "histogram2d": [
           {
            "colorbar": {
             "outlinewidth": 0,
             "ticks": ""
            },
            "colorscale": [
             [
              0,
              "#0d0887"
             ],
             [
              0.1111111111111111,
              "#46039f"
             ],
             [
              0.2222222222222222,
              "#7201a8"
             ],
             [
              0.3333333333333333,
              "#9c179e"
             ],
             [
              0.4444444444444444,
              "#bd3786"
             ],
             [
              0.5555555555555556,
              "#d8576b"
             ],
             [
              0.6666666666666666,
              "#ed7953"
             ],
             [
              0.7777777777777778,
              "#fb9f3a"
             ],
             [
              0.8888888888888888,
              "#fdca26"
             ],
             [
              1,
              "#f0f921"
             ]
            ],
            "type": "histogram2d"
           }
          ],
          "histogram2dcontour": [
           {
            "colorbar": {
             "outlinewidth": 0,
             "ticks": ""
            },
            "colorscale": [
             [
              0,
              "#0d0887"
             ],
             [
              0.1111111111111111,
              "#46039f"
             ],
             [
              0.2222222222222222,
              "#7201a8"
             ],
             [
              0.3333333333333333,
              "#9c179e"
             ],
             [
              0.4444444444444444,
              "#bd3786"
             ],
             [
              0.5555555555555556,
              "#d8576b"
             ],
             [
              0.6666666666666666,
              "#ed7953"
             ],
             [
              0.7777777777777778,
              "#fb9f3a"
             ],
             [
              0.8888888888888888,
              "#fdca26"
             ],
             [
              1,
              "#f0f921"
             ]
            ],
            "type": "histogram2dcontour"
           }
          ],
          "mesh3d": [
           {
            "colorbar": {
             "outlinewidth": 0,
             "ticks": ""
            },
            "type": "mesh3d"
           }
          ],
          "parcoords": [
           {
            "line": {
             "colorbar": {
              "outlinewidth": 0,
              "ticks": ""
             }
            },
            "type": "parcoords"
           }
          ],
          "pie": [
           {
            "automargin": true,
            "type": "pie"
           }
          ],
          "scatter": [
           {
            "fillpattern": {
             "fillmode": "overlay",
             "size": 10,
             "solidity": 0.2
            },
            "type": "scatter"
           }
          ],
          "scatter3d": [
           {
            "line": {
             "colorbar": {
              "outlinewidth": 0,
              "ticks": ""
             }
            },
            "marker": {
             "colorbar": {
              "outlinewidth": 0,
              "ticks": ""
             }
            },
            "type": "scatter3d"
           }
          ],
          "scattercarpet": [
           {
            "marker": {
             "colorbar": {
              "outlinewidth": 0,
              "ticks": ""
             }
            },
            "type": "scattercarpet"
           }
          ],
          "scattergeo": [
           {
            "marker": {
             "colorbar": {
              "outlinewidth": 0,
              "ticks": ""
             }
            },
            "type": "scattergeo"
           }
          ],
          "scattergl": [
           {
            "marker": {
             "colorbar": {
              "outlinewidth": 0,
              "ticks": ""
             }
            },
            "type": "scattergl"
           }
          ],
          "scattermapbox": [
           {
            "marker": {
             "colorbar": {
              "outlinewidth": 0,
              "ticks": ""
             }
            },
            "type": "scattermapbox"
           }
          ],
          "scatterpolar": [
           {
            "marker": {
             "colorbar": {
              "outlinewidth": 0,
              "ticks": ""
             }
            },
            "type": "scatterpolar"
           }
          ],
          "scatterpolargl": [
           {
            "marker": {
             "colorbar": {
              "outlinewidth": 0,
              "ticks": ""
             }
            },
            "type": "scatterpolargl"
           }
          ],
          "scatterternary": [
           {
            "marker": {
             "colorbar": {
              "outlinewidth": 0,
              "ticks": ""
             }
            },
            "type": "scatterternary"
           }
          ],
          "surface": [
           {
            "colorbar": {
             "outlinewidth": 0,
             "ticks": ""
            },
            "colorscale": [
             [
              0,
              "#0d0887"
             ],
             [
              0.1111111111111111,
              "#46039f"
             ],
             [
              0.2222222222222222,
              "#7201a8"
             ],
             [
              0.3333333333333333,
              "#9c179e"
             ],
             [
              0.4444444444444444,
              "#bd3786"
             ],
             [
              0.5555555555555556,
              "#d8576b"
             ],
             [
              0.6666666666666666,
              "#ed7953"
             ],
             [
              0.7777777777777778,
              "#fb9f3a"
             ],
             [
              0.8888888888888888,
              "#fdca26"
             ],
             [
              1,
              "#f0f921"
             ]
            ],
            "type": "surface"
           }
          ],
          "table": [
           {
            "cells": {
             "fill": {
              "color": "#EBF0F8"
             },
             "line": {
              "color": "white"
             }
            },
            "header": {
             "fill": {
              "color": "#C8D4E3"
             },
             "line": {
              "color": "white"
             }
            },
            "type": "table"
           }
          ]
         },
         "layout": {
          "annotationdefaults": {
           "arrowcolor": "#2a3f5f",
           "arrowhead": 0,
           "arrowwidth": 1
          },
          "autotypenumbers": "strict",
          "coloraxis": {
           "colorbar": {
            "outlinewidth": 0,
            "ticks": ""
           }
          },
          "colorscale": {
           "diverging": [
            [
             0,
             "#8e0152"
            ],
            [
             0.1,
             "#c51b7d"
            ],
            [
             0.2,
             "#de77ae"
            ],
            [
             0.3,
             "#f1b6da"
            ],
            [
             0.4,
             "#fde0ef"
            ],
            [
             0.5,
             "#f7f7f7"
            ],
            [
             0.6,
             "#e6f5d0"
            ],
            [
             0.7,
             "#b8e186"
            ],
            [
             0.8,
             "#7fbc41"
            ],
            [
             0.9,
             "#4d9221"
            ],
            [
             1,
             "#276419"
            ]
           ],
           "sequential": [
            [
             0,
             "#0d0887"
            ],
            [
             0.1111111111111111,
             "#46039f"
            ],
            [
             0.2222222222222222,
             "#7201a8"
            ],
            [
             0.3333333333333333,
             "#9c179e"
            ],
            [
             0.4444444444444444,
             "#bd3786"
            ],
            [
             0.5555555555555556,
             "#d8576b"
            ],
            [
             0.6666666666666666,
             "#ed7953"
            ],
            [
             0.7777777777777778,
             "#fb9f3a"
            ],
            [
             0.8888888888888888,
             "#fdca26"
            ],
            [
             1,
             "#f0f921"
            ]
           ],
           "sequentialminus": [
            [
             0,
             "#0d0887"
            ],
            [
             0.1111111111111111,
             "#46039f"
            ],
            [
             0.2222222222222222,
             "#7201a8"
            ],
            [
             0.3333333333333333,
             "#9c179e"
            ],
            [
             0.4444444444444444,
             "#bd3786"
            ],
            [
             0.5555555555555556,
             "#d8576b"
            ],
            [
             0.6666666666666666,
             "#ed7953"
            ],
            [
             0.7777777777777778,
             "#fb9f3a"
            ],
            [
             0.8888888888888888,
             "#fdca26"
            ],
            [
             1,
             "#f0f921"
            ]
           ]
          },
          "colorway": [
           "#636efa",
           "#EF553B",
           "#00cc96",
           "#ab63fa",
           "#FFA15A",
           "#19d3f3",
           "#FF6692",
           "#B6E880",
           "#FF97FF",
           "#FECB52"
          ],
          "font": {
           "color": "#2a3f5f"
          },
          "geo": {
           "bgcolor": "white",
           "lakecolor": "white",
           "landcolor": "#E5ECF6",
           "showlakes": true,
           "showland": true,
           "subunitcolor": "white"
          },
          "hoverlabel": {
           "align": "left"
          },
          "hovermode": "closest",
          "mapbox": {
           "style": "light"
          },
          "paper_bgcolor": "white",
          "plot_bgcolor": "#E5ECF6",
          "polar": {
           "angularaxis": {
            "gridcolor": "white",
            "linecolor": "white",
            "ticks": ""
           },
           "bgcolor": "#E5ECF6",
           "radialaxis": {
            "gridcolor": "white",
            "linecolor": "white",
            "ticks": ""
           }
          },
          "scene": {
           "xaxis": {
            "backgroundcolor": "#E5ECF6",
            "gridcolor": "white",
            "gridwidth": 2,
            "linecolor": "white",
            "showbackground": true,
            "ticks": "",
            "zerolinecolor": "white"
           },
           "yaxis": {
            "backgroundcolor": "#E5ECF6",
            "gridcolor": "white",
            "gridwidth": 2,
            "linecolor": "white",
            "showbackground": true,
            "ticks": "",
            "zerolinecolor": "white"
           },
           "zaxis": {
            "backgroundcolor": "#E5ECF6",
            "gridcolor": "white",
            "gridwidth": 2,
            "linecolor": "white",
            "showbackground": true,
            "ticks": "",
            "zerolinecolor": "white"
           }
          },
          "shapedefaults": {
           "line": {
            "color": "#2a3f5f"
           }
          },
          "ternary": {
           "aaxis": {
            "gridcolor": "white",
            "linecolor": "white",
            "ticks": ""
           },
           "baxis": {
            "gridcolor": "white",
            "linecolor": "white",
            "ticks": ""
           },
           "bgcolor": "#E5ECF6",
           "caxis": {
            "gridcolor": "white",
            "linecolor": "white",
            "ticks": ""
           }
          },
          "title": {
           "x": 0.05
          },
          "xaxis": {
           "automargin": true,
           "gridcolor": "white",
           "linecolor": "white",
           "ticks": "",
           "title": {
            "standoff": 15
           },
           "zerolinecolor": "white",
           "zerolinewidth": 2
          },
          "yaxis": {
           "automargin": true,
           "gridcolor": "white",
           "linecolor": "white",
           "ticks": "",
           "title": {
            "standoff": 15
           },
           "zerolinecolor": "white",
           "zerolinewidth": 2
          }
         }
        },
        "title": {
         "font": {
          "color": "#4D5663"
         }
        },
        "xaxis": {
         "anchor": "y",
         "domain": [
          0,
          0.2125
         ],
         "gridcolor": "#E1E5ED",
         "showgrid": false,
         "tickfont": {
          "color": "#4D5663"
         },
         "title": {
          "font": {
           "color": "#4D5663"
          },
          "text": ""
         },
         "zerolinecolor": "#E1E5ED"
        },
        "xaxis10": {
         "anchor": "y10",
         "domain": [
          0.2625,
          0.475
         ],
         "gridcolor": "#E1E5ED",
         "showgrid": false,
         "tickfont": {
          "color": "#4D5663"
         },
         "title": {
          "font": {
           "color": "#4D5663"
          },
          "text": ""
         },
         "zerolinecolor": "#E1E5ED"
        },
        "xaxis11": {
         "anchor": "y11",
         "domain": [
          0.525,
          0.7375
         ],
         "gridcolor": "#E1E5ED",
         "showgrid": false,
         "tickfont": {
          "color": "#4D5663"
         },
         "title": {
          "font": {
           "color": "#4D5663"
          },
          "text": ""
         },
         "zerolinecolor": "#E1E5ED"
        },
        "xaxis12": {
         "anchor": "y12",
         "domain": [
          0.7875,
          1
         ],
         "gridcolor": "#E1E5ED",
         "showgrid": false,
         "tickfont": {
          "color": "#4D5663"
         },
         "title": {
          "font": {
           "color": "#4D5663"
          },
          "text": ""
         },
         "zerolinecolor": "#E1E5ED"
        },
        "xaxis13": {
         "anchor": "y13",
         "domain": [
          0,
          0.2125
         ],
         "gridcolor": "#E1E5ED",
         "showgrid": false,
         "tickfont": {
          "color": "#4D5663"
         },
         "title": {
          "font": {
           "color": "#4D5663"
          },
          "text": ""
         },
         "zerolinecolor": "#E1E5ED"
        },
        "xaxis14": {
         "anchor": "y14",
         "domain": [
          0.2625,
          0.475
         ],
         "gridcolor": "#E1E5ED",
         "showgrid": false,
         "tickfont": {
          "color": "#4D5663"
         },
         "title": {
          "font": {
           "color": "#4D5663"
          },
          "text": ""
         },
         "zerolinecolor": "#E1E5ED"
        },
        "xaxis15": {
         "anchor": "y15",
         "domain": [
          0.525,
          0.7375
         ],
         "gridcolor": "#E1E5ED",
         "showgrid": false,
         "tickfont": {
          "color": "#4D5663"
         },
         "title": {
          "font": {
           "color": "#4D5663"
          },
          "text": ""
         },
         "zerolinecolor": "#E1E5ED"
        },
        "xaxis16": {
         "anchor": "y16",
         "domain": [
          0.7875,
          1
         ],
         "gridcolor": "#E1E5ED",
         "showgrid": false,
         "tickfont": {
          "color": "#4D5663"
         },
         "title": {
          "font": {
           "color": "#4D5663"
          },
          "text": ""
         },
         "zerolinecolor": "#E1E5ED"
        },
        "xaxis2": {
         "anchor": "y2",
         "domain": [
          0.2625,
          0.475
         ],
         "gridcolor": "#E1E5ED",
         "showgrid": false,
         "tickfont": {
          "color": "#4D5663"
         },
         "title": {
          "font": {
           "color": "#4D5663"
          },
          "text": ""
         },
         "zerolinecolor": "#E1E5ED"
        },
        "xaxis3": {
         "anchor": "y3",
         "domain": [
          0.525,
          0.7375
         ],
         "gridcolor": "#E1E5ED",
         "showgrid": false,
         "tickfont": {
          "color": "#4D5663"
         },
         "title": {
          "font": {
           "color": "#4D5663"
          },
          "text": ""
         },
         "zerolinecolor": "#E1E5ED"
        },
        "xaxis4": {
         "anchor": "y4",
         "domain": [
          0.7875,
          1
         ],
         "gridcolor": "#E1E5ED",
         "showgrid": false,
         "tickfont": {
          "color": "#4D5663"
         },
         "title": {
          "font": {
           "color": "#4D5663"
          },
          "text": ""
         },
         "zerolinecolor": "#E1E5ED"
        },
        "xaxis5": {
         "anchor": "y5",
         "domain": [
          0,
          0.2125
         ],
         "gridcolor": "#E1E5ED",
         "showgrid": false,
         "tickfont": {
          "color": "#4D5663"
         },
         "title": {
          "font": {
           "color": "#4D5663"
          },
          "text": ""
         },
         "zerolinecolor": "#E1E5ED"
        },
        "xaxis6": {
         "anchor": "y6",
         "domain": [
          0.2625,
          0.475
         ],
         "gridcolor": "#E1E5ED",
         "showgrid": false,
         "tickfont": {
          "color": "#4D5663"
         },
         "title": {
          "font": {
           "color": "#4D5663"
          },
          "text": ""
         },
         "zerolinecolor": "#E1E5ED"
        },
        "xaxis7": {
         "anchor": "y7",
         "domain": [
          0.525,
          0.7375
         ],
         "gridcolor": "#E1E5ED",
         "showgrid": false,
         "tickfont": {
          "color": "#4D5663"
         },
         "title": {
          "font": {
           "color": "#4D5663"
          },
          "text": ""
         },
         "zerolinecolor": "#E1E5ED"
        },
        "xaxis8": {
         "anchor": "y8",
         "domain": [
          0.7875,
          1
         ],
         "gridcolor": "#E1E5ED",
         "showgrid": false,
         "tickfont": {
          "color": "#4D5663"
         },
         "title": {
          "font": {
           "color": "#4D5663"
          },
          "text": ""
         },
         "zerolinecolor": "#E1E5ED"
        },
        "xaxis9": {
         "anchor": "y9",
         "domain": [
          0,
          0.2125
         ],
         "gridcolor": "#E1E5ED",
         "showgrid": false,
         "tickfont": {
          "color": "#4D5663"
         },
         "title": {
          "font": {
           "color": "#4D5663"
          },
          "text": ""
         },
         "zerolinecolor": "#E1E5ED"
        },
        "yaxis": {
         "anchor": "x",
         "domain": [
          0.8025,
          1
         ],
         "gridcolor": "#E1E5ED",
         "showgrid": false,
         "tickfont": {
          "color": "#4D5663"
         },
         "title": {
          "font": {
           "color": "#4D5663"
          },
          "text": ""
         },
         "zerolinecolor": "#E1E5ED"
        },
        "yaxis10": {
         "anchor": "x10",
         "domain": [
          0.2675,
          0.465
         ],
         "gridcolor": "#E1E5ED",
         "showgrid": false,
         "tickfont": {
          "color": "#4D5663"
         },
         "title": {
          "font": {
           "color": "#4D5663"
          },
          "text": ""
         },
         "zerolinecolor": "#E1E5ED"
        },
        "yaxis11": {
         "anchor": "x11",
         "domain": [
          0.2675,
          0.465
         ],
         "gridcolor": "#E1E5ED",
         "showgrid": false,
         "tickfont": {
          "color": "#4D5663"
         },
         "title": {
          "font": {
           "color": "#4D5663"
          },
          "text": ""
         },
         "zerolinecolor": "#E1E5ED"
        },
        "yaxis12": {
         "anchor": "x12",
         "domain": [
          0.2675,
          0.465
         ],
         "gridcolor": "#E1E5ED",
         "showgrid": false,
         "tickfont": {
          "color": "#4D5663"
         },
         "title": {
          "font": {
           "color": "#4D5663"
          },
          "text": ""
         },
         "zerolinecolor": "#E1E5ED"
        },
        "yaxis13": {
         "anchor": "x13",
         "domain": [
          0,
          0.1975
         ],
         "gridcolor": "#E1E5ED",
         "showgrid": false,
         "tickfont": {
          "color": "#4D5663"
         },
         "title": {
          "font": {
           "color": "#4D5663"
          },
          "text": ""
         },
         "zerolinecolor": "#E1E5ED"
        },
        "yaxis14": {
         "anchor": "x14",
         "domain": [
          0,
          0.1975
         ],
         "gridcolor": "#E1E5ED",
         "showgrid": false,
         "tickfont": {
          "color": "#4D5663"
         },
         "title": {
          "font": {
           "color": "#4D5663"
          },
          "text": ""
         },
         "zerolinecolor": "#E1E5ED"
        },
        "yaxis15": {
         "anchor": "x15",
         "domain": [
          0,
          0.1975
         ],
         "gridcolor": "#E1E5ED",
         "showgrid": false,
         "tickfont": {
          "color": "#4D5663"
         },
         "title": {
          "font": {
           "color": "#4D5663"
          },
          "text": ""
         },
         "zerolinecolor": "#E1E5ED"
        },
        "yaxis16": {
         "anchor": "x16",
         "domain": [
          0,
          0.1975
         ],
         "gridcolor": "#E1E5ED",
         "showgrid": false,
         "tickfont": {
          "color": "#4D5663"
         },
         "title": {
          "font": {
           "color": "#4D5663"
          },
          "text": ""
         },
         "zerolinecolor": "#E1E5ED"
        },
        "yaxis2": {
         "anchor": "x2",
         "domain": [
          0.8025,
          1
         ],
         "gridcolor": "#E1E5ED",
         "showgrid": false,
         "tickfont": {
          "color": "#4D5663"
         },
         "title": {
          "font": {
           "color": "#4D5663"
          },
          "text": ""
         },
         "zerolinecolor": "#E1E5ED"
        },
        "yaxis3": {
         "anchor": "x3",
         "domain": [
          0.8025,
          1
         ],
         "gridcolor": "#E1E5ED",
         "showgrid": false,
         "tickfont": {
          "color": "#4D5663"
         },
         "title": {
          "font": {
           "color": "#4D5663"
          },
          "text": ""
         },
         "zerolinecolor": "#E1E5ED"
        },
        "yaxis4": {
         "anchor": "x4",
         "domain": [
          0.8025,
          1
         ],
         "gridcolor": "#E1E5ED",
         "showgrid": false,
         "tickfont": {
          "color": "#4D5663"
         },
         "title": {
          "font": {
           "color": "#4D5663"
          },
          "text": ""
         },
         "zerolinecolor": "#E1E5ED"
        },
        "yaxis5": {
         "anchor": "x5",
         "domain": [
          0.535,
          0.7325
         ],
         "gridcolor": "#E1E5ED",
         "showgrid": false,
         "tickfont": {
          "color": "#4D5663"
         },
         "title": {
          "font": {
           "color": "#4D5663"
          },
          "text": ""
         },
         "zerolinecolor": "#E1E5ED"
        },
        "yaxis6": {
         "anchor": "x6",
         "domain": [
          0.535,
          0.7325
         ],
         "gridcolor": "#E1E5ED",
         "showgrid": false,
         "tickfont": {
          "color": "#4D5663"
         },
         "title": {
          "font": {
           "color": "#4D5663"
          },
          "text": ""
         },
         "zerolinecolor": "#E1E5ED"
        },
        "yaxis7": {
         "anchor": "x7",
         "domain": [
          0.535,
          0.7325
         ],
         "gridcolor": "#E1E5ED",
         "showgrid": false,
         "tickfont": {
          "color": "#4D5663"
         },
         "title": {
          "font": {
           "color": "#4D5663"
          },
          "text": ""
         },
         "zerolinecolor": "#E1E5ED"
        },
        "yaxis8": {
         "anchor": "x8",
         "domain": [
          0.535,
          0.7325
         ],
         "gridcolor": "#E1E5ED",
         "showgrid": false,
         "tickfont": {
          "color": "#4D5663"
         },
         "title": {
          "font": {
           "color": "#4D5663"
          },
          "text": ""
         },
         "zerolinecolor": "#E1E5ED"
        },
        "yaxis9": {
         "anchor": "x9",
         "domain": [
          0.2675,
          0.465
         ],
         "gridcolor": "#E1E5ED",
         "showgrid": false,
         "tickfont": {
          "color": "#4D5663"
         },
         "title": {
          "font": {
           "color": "#4D5663"
          },
          "text": ""
         },
         "zerolinecolor": "#E1E5ED"
        }
       }
      },
      "text/html": [
       "<div>                            <div id=\"2984df5a-45f0-4042-96be-5b30944ed350\" class=\"plotly-graph-div\" style=\"height:525px; width:100%;\"></div>            <script type=\"text/javascript\">                require([\"plotly\"], function(Plotly) {                    window.PLOTLYENV=window.PLOTLYENV || {};\n",
       "                    window.PLOTLYENV.BASE_URL='https://plot.ly';                                    if (document.getElementById(\"2984df5a-45f0-4042-96be-5b30944ed350\")) {                    Plotly.newPlot(                        \"2984df5a-45f0-4042-96be-5b30944ed350\",                        [{\"histfunc\":\"count\",\"histnorm\":\"\",\"marker\":{\"color\":\"rgba(255, 153, 51, 1.0)\",\"line\":{\"color\":\"#4D5663\",\"width\":1.3}},\"name\":\"A\",\"nbinsx\":10,\"opacity\":0.8,\"orientation\":\"v\",\"x\":[-0.22811627589074476,0.6787238832591042,1.6515060543232125,-0.6604782349724839,-0.5196249994745574,0.02055969042282577,-0.4397107068570352,0.41406042035964086,0.4108425293363018,0.8645542364829347,0.2119146464712936,0.6517328492837595,-0.3299934644424242,-0.48702899121525334,-0.22200897985421947,-0.8047818862898786,-1.1845906796308772,-0.4978353907798658,1.621167298309641,0.8224618564100735,-1.2902079390988175,0.01461791408133816,1.1410522269583148,0.8280874098673555,2.023735414640705,-0.4865637083260705,1.0389367638584508,1.2276962498928554,-0.18944754493862276,-0.14976216719342267,0.683583165072884,0.3239156424744562,-0.0719760168952608,-0.6378580170038229,-0.15493703777823922,1.7894814413117488,2.0184945323868257,0.20753608984329258,0.1978779128445857,1.0659510071385676,0.6558923317899069,-0.9926693302856021,-1.5682107352009464,-0.5753024096779175,-0.029614920045432938,-2.467749324540253,1.5160313978127993,-1.0111094337666988,0.36344209841536307,0.647623158788987,1.4071695619594518,0.5351397311767255,-0.04656114960512062,2.1664962354930863,0.14060328416534093,-0.8352079111291246,-0.9905325268254492,0.3027127572771243,-0.6970889943202017,-0.17485657057263013,0.1868467778262092,-0.9286776558514568,-0.03202384444914497,1.1188291288859542,1.0977932423879886,0.3465054154720146,-0.033836252989438084,-0.524395948545605,-1.031014258748993,-1.0769206345804534,-0.7197159862369726,1.13568672086204,-0.006894158362355122,-0.1625407442294256,-0.004439264787613177,0.22346207717106653,-0.6338247075959175,0.2830031950943066,-0.2842757783063089,-1.6745075707344477,-0.6599566325743017,0.11755418565563681,-0.8551230708313902,-1.4443938044070246,-1.7237423856954894,0.09323476948011054,-2.0237980294421427,0.5902819780517904,0.3521336835525418,-0.47410642666534136,-1.1966471740352314,-0.6828607642116732,-1.011661714759275,-1.905834151795708,0.9973400152016139,0.4597725013627585,-0.7315311070057287,-0.4033761447760559,-0.7193598651158356,0.6435615542100579],\"xaxis\":\"x\",\"yaxis\":\"y\",\"type\":\"histogram\"},{\"line\":{\"color\":\"rgba(128, 128, 128, 1.0)\",\"dash\":\"solid\",\"shape\":\"linear\",\"width\":1.3},\"marker\":{\"size\":2,\"symbol\":\"circle\"},\"mode\":\"markers\",\"name\":\"A\",\"text\":\"\",\"x\":[0.9852938519840362,-0.4142711665345483,-0.2993862088212026,-1.080158167641829,-0.5951615936768305,-1.061425559875092,-2.7120885483534254,-0.03149120113084428,-1.5755214690475732,0.35761998845734294,0.4201604838130015,-1.1872547692853608,2.2288159685553848,-0.20694873379706547,-0.29857480676428755,0.30465302078098727,1.0883622736425371,-0.0833002929219233,-0.38598103288068203,-0.6178040341239334,0.4000253076879923,-0.22496101350698444,-0.6615503092076963,1.1112518007745142,-0.2547548208944747,-0.9505888187305093,0.5501125290824538,0.23886067040655298,0.3767793235919412,-1.555051768463564,-1.9539650845846017,2.068238468829256,-0.8857142929791774,-0.6360773222197956,0.028636021121702788,-2.023847184228603,-0.6237244217096115,-0.845385390133307,-0.7706269321010328,-0.04798704669675597,-0.7347074680924067,0.978796728799089,3.0844914729635744,-0.5714312651068356,-1.6259819149285943,1.1653242003578144,-1.2262408297083338,0.024679650851651188,1.2652123552822339,0.6042438676916213,-1.0103596451298062,-0.2561198417491012,2.0972955326499196,0.4931935169281666,1.6862523895127877,-0.9511409837911713,-0.7929340198874938,-0.9415624684146361,-0.8162447738001156,2.305955639896165,2.3533932732497136,-1.2371339798667005,-1.806957263001291,-0.6692886247575235,0.26981495743716416,0.7353214008885376,-1.9587844101207168,-0.08875047092515755,-0.5375446519047127,1.0306545150239066,-0.42317938725773774,-0.7853846371787755,0.16885879662634365,-0.21273402930876428,0.04677265239052718,-0.11032587082205524,-0.9759868080638875,0.37714721887378244,-0.040245610606096056,-0.3624201877979656,-0.7237478146887273,-1.136675383870532,-0.1762010463278863,1.5545539485620936,0.12269680380628893,-0.27014083531452854,-1.1515553777811576,0.5355925338371131,-0.08498431225411827,-0.14033789297750898,1.060065500408755,-1.5694109802935956,1.8141368208221966,0.15478352025223172,0.009957933182435623,1.1231976518480087,-0.5950752487108096,0.13513089474798265,-0.5046785342264216,-0.7705528646396353],\"xaxis\":\"x2\",\"y\":[-0.22811627589074476,0.6787238832591042,1.6515060543232125,-0.6604782349724839,-0.5196249994745574,0.02055969042282577,-0.4397107068570352,0.41406042035964086,0.4108425293363018,0.8645542364829347,0.2119146464712936,0.6517328492837595,-0.3299934644424242,-0.48702899121525334,-0.22200897985421947,-0.8047818862898786,-1.1845906796308772,-0.4978353907798658,1.621167298309641,0.8224618564100735,-1.2902079390988175,0.01461791408133816,1.1410522269583148,0.8280874098673555,2.023735414640705,-0.4865637083260705,1.0389367638584508,1.2276962498928554,-0.18944754493862276,-0.14976216719342267,0.683583165072884,0.3239156424744562,-0.0719760168952608,-0.6378580170038229,-0.15493703777823922,1.7894814413117488,2.0184945323868257,0.20753608984329258,0.1978779128445857,1.0659510071385676,0.6558923317899069,-0.9926693302856021,-1.5682107352009464,-0.5753024096779175,-0.029614920045432938,-2.467749324540253,1.5160313978127993,-1.0111094337666988,0.36344209841536307,0.647623158788987,1.4071695619594518,0.5351397311767255,-0.04656114960512062,2.1664962354930863,0.14060328416534093,-0.8352079111291246,-0.9905325268254492,0.3027127572771243,-0.6970889943202017,-0.17485657057263013,0.1868467778262092,-0.9286776558514568,-0.03202384444914497,1.1188291288859542,1.0977932423879886,0.3465054154720146,-0.033836252989438084,-0.524395948545605,-1.031014258748993,-1.0769206345804534,-0.7197159862369726,1.13568672086204,-0.006894158362355122,-0.1625407442294256,-0.004439264787613177,0.22346207717106653,-0.6338247075959175,0.2830031950943066,-0.2842757783063089,-1.6745075707344477,-0.6599566325743017,0.11755418565563681,-0.8551230708313902,-1.4443938044070246,-1.7237423856954894,0.09323476948011054,-2.0237980294421427,0.5902819780517904,0.3521336835525418,-0.47410642666534136,-1.1966471740352314,-0.6828607642116732,-1.011661714759275,-1.905834151795708,0.9973400152016139,0.4597725013627585,-0.7315311070057287,-0.4033761447760559,-0.7193598651158356,0.6435615542100579],\"yaxis\":\"y2\",\"type\":\"scatter\"},{\"line\":{\"color\":\"rgba(128, 128, 128, 1.0)\",\"dash\":\"solid\",\"shape\":\"linear\",\"width\":1.3},\"marker\":{\"size\":2,\"symbol\":\"circle\"},\"mode\":\"markers\",\"name\":\"A\",\"text\":\"\",\"x\":[0.549740637555539,1.260212332460787,-0.5946594830986801,-0.6948732218626511,0.9806073927395907,0.4683121610261346,-0.14818769004704696,0.3452122122268642,-1.8067691232641163,-1.634749788768707,0.034233289669643494,-0.28934928828013634,0.32812377951620214,0.32910794420280115,1.1800149358136531,-0.8883104448558582,1.7936312182763456,-1.5666609283533584,1.4935951700111614,1.0261130875524023,0.5686621646377112,1.195491738597137,1.3095645877703326,1.7126221351614856,0.20821042621572,-0.27245247382963683,2.958537074185334,1.1521131509256861,1.69688082665319,1.5997545873746062,0.06836165526771469,0.05095851489658768,-1.4062563167283229,0.8009205979754301,-2.007850998187997,-1.0300679042761605,-0.348139549205092,-1.043516895168186,1.4095532718016575,1.0041911259519434,-0.10881868601619357,0.10697557159210212,0.36064636756312696,1.7268526163803328,0.0036578654411822584,0.6828347123397909,1.1326183479954248,1.3874865661864886,-1.4670972916699903,1.2554137762048678,-0.05883706655082013,0.640467929128801,-1.5576002803382498,1.317810073417994,0.7840297996700045,0.11773756092765265,-0.8535184193794283,0.7521265450113909,-2.0219945595573225,0.6982664594996074,-0.2620284721963431,-1.790396731796199,0.08677610118195855,2.0392858394221696,0.12882730684197252,0.9441592452092047,-0.4412387464935074,0.4804899837716722,-0.27196138774531503,0.3117798836344818,1.9159999391458693,0.3295901499234422,-0.4753026306728736,0.8191594181634533,0.20911743135705846,3.314507374063461,-0.28695412412569543,0.9934315724042603,0.10427082656561551,0.5739208179449827,0.6572094223299806,-0.6210516174643926,-0.7331282059054588,0.40877428828802675,-1.231502433839762,-0.5966920119114699,0.5303734972703417,0.7550799210738212,-0.25252469721757065,-0.17321545632623547,0.34704125264602725,1.4002442896546903,-0.5411407508757214,-0.6556024467323619,0.4888717616646806,-0.6831645443609797,1.4107941387219316,-1.324146824510583,2.4098174170134476,1.6986283611221968],\"xaxis\":\"x3\",\"y\":[-0.22811627589074476,0.6787238832591042,1.6515060543232125,-0.6604782349724839,-0.5196249994745574,0.02055969042282577,-0.4397107068570352,0.41406042035964086,0.4108425293363018,0.8645542364829347,0.2119146464712936,0.6517328492837595,-0.3299934644424242,-0.48702899121525334,-0.22200897985421947,-0.8047818862898786,-1.1845906796308772,-0.4978353907798658,1.621167298309641,0.8224618564100735,-1.2902079390988175,0.01461791408133816,1.1410522269583148,0.8280874098673555,2.023735414640705,-0.4865637083260705,1.0389367638584508,1.2276962498928554,-0.18944754493862276,-0.14976216719342267,0.683583165072884,0.3239156424744562,-0.0719760168952608,-0.6378580170038229,-0.15493703777823922,1.7894814413117488,2.0184945323868257,0.20753608984329258,0.1978779128445857,1.0659510071385676,0.6558923317899069,-0.9926693302856021,-1.5682107352009464,-0.5753024096779175,-0.029614920045432938,-2.467749324540253,1.5160313978127993,-1.0111094337666988,0.36344209841536307,0.647623158788987,1.4071695619594518,0.5351397311767255,-0.04656114960512062,2.1664962354930863,0.14060328416534093,-0.8352079111291246,-0.9905325268254492,0.3027127572771243,-0.6970889943202017,-0.17485657057263013,0.1868467778262092,-0.9286776558514568,-0.03202384444914497,1.1188291288859542,1.0977932423879886,0.3465054154720146,-0.033836252989438084,-0.524395948545605,-1.031014258748993,-1.0769206345804534,-0.7197159862369726,1.13568672086204,-0.006894158362355122,-0.1625407442294256,-0.004439264787613177,0.22346207717106653,-0.6338247075959175,0.2830031950943066,-0.2842757783063089,-1.6745075707344477,-0.6599566325743017,0.11755418565563681,-0.8551230708313902,-1.4443938044070246,-1.7237423856954894,0.09323476948011054,-2.0237980294421427,0.5902819780517904,0.3521336835525418,-0.47410642666534136,-1.1966471740352314,-0.6828607642116732,-1.011661714759275,-1.905834151795708,0.9973400152016139,0.4597725013627585,-0.7315311070057287,-0.4033761447760559,-0.7193598651158356,0.6435615542100579],\"yaxis\":\"y3\",\"type\":\"scatter\"},{\"line\":{\"color\":\"rgba(128, 128, 128, 1.0)\",\"dash\":\"solid\",\"shape\":\"linear\",\"width\":1.3},\"marker\":{\"size\":2,\"symbol\":\"circle\"},\"mode\":\"markers\",\"name\":\"A\",\"text\":\"\",\"x\":[1.0361215242491195,0.6407853255491084,0.7063779456975104,1.8980826082085422,0.17187209395006434,1.1807930930152146,1.4961438288093272,-2.0446273869788087,1.1318022350041197,-1.1927329306327188,-0.3718357943680243,-1.103634637522285,0.68808333426337,-0.32682601948711265,-0.22521524060681247,-0.8974662083076845,0.6522682742848068,-0.7631185114850355,1.4212512473317818,-1.196434655579687,0.3376907200426193,-0.3972002950152537,-0.5455228930351891,-0.3423263609742087,-0.531908394142106,0.40697220160755143,-1.2245651337600438,-1.0957828536350458,0.44149574622144727,0.6671698451103586,-1.0434073030965116,1.087993748180064,0.8251029406890018,0.44954204545429655,-0.22719985689936456,-0.5422444776464004,-2.2324261138964956,0.9493595005097836,0.4777179691755005,-0.5354614446658382,-0.4982004714923975,-1.1476891696504472,-0.2296400044253678,0.9204126254454262,0.4175094038759765,1.3383812678252205,0.20393570092135996,0.3641768189742347,0.056298588785371646,1.790154924545487,0.35720133249961833,1.5064400671355258,-0.3019170893055426,-1.6578434496745653,0.8620146720247083,1.1500043106957927,0.2822494976777274,0.9566833862150375,-0.2685357041989318,-0.4884728273289955,1.2792079241497105,-0.7250228973636278,-1.2309532650323967,0.31197521426637215,1.0936944534891009,-0.32257914774238977,0.8932021180721614,1.8362910746299415,1.3306532682976469,0.7664840393967025,1.1502775594682741,1.3585620922843022,-0.5178200548823758,0.806793794387821,-0.09845903208504937,-1.4103456208172465,1.6151659629822908,0.06750180450915381,2.283053076806745,0.18240460302101436,-1.685931624410959,0.6047384305209671,0.6273165693400129,0.23627795320787906,-0.7447556824866209,-1.3722482088152015,0.6549064884581498,0.2246440447161041,-0.8268812754471794,-0.6793756327254308,1.76927828093296,0.8654601044043043,0.5927435118167454,0.10212959626793228,0.48969973682356716,-0.07640015800038846,0.03879598781609596,-0.14838855520956157,0.4444156340939495,-0.32794358382266386],\"xaxis\":\"x4\",\"y\":[-0.22811627589074476,0.6787238832591042,1.6515060543232125,-0.6604782349724839,-0.5196249994745574,0.02055969042282577,-0.4397107068570352,0.41406042035964086,0.4108425293363018,0.8645542364829347,0.2119146464712936,0.6517328492837595,-0.3299934644424242,-0.48702899121525334,-0.22200897985421947,-0.8047818862898786,-1.1845906796308772,-0.4978353907798658,1.621167298309641,0.8224618564100735,-1.2902079390988175,0.01461791408133816,1.1410522269583148,0.8280874098673555,2.023735414640705,-0.4865637083260705,1.0389367638584508,1.2276962498928554,-0.18944754493862276,-0.14976216719342267,0.683583165072884,0.3239156424744562,-0.0719760168952608,-0.6378580170038229,-0.15493703777823922,1.7894814413117488,2.0184945323868257,0.20753608984329258,0.1978779128445857,1.0659510071385676,0.6558923317899069,-0.9926693302856021,-1.5682107352009464,-0.5753024096779175,-0.029614920045432938,-2.467749324540253,1.5160313978127993,-1.0111094337666988,0.36344209841536307,0.647623158788987,1.4071695619594518,0.5351397311767255,-0.04656114960512062,2.1664962354930863,0.14060328416534093,-0.8352079111291246,-0.9905325268254492,0.3027127572771243,-0.6970889943202017,-0.17485657057263013,0.1868467778262092,-0.9286776558514568,-0.03202384444914497,1.1188291288859542,1.0977932423879886,0.3465054154720146,-0.033836252989438084,-0.524395948545605,-1.031014258748993,-1.0769206345804534,-0.7197159862369726,1.13568672086204,-0.006894158362355122,-0.1625407442294256,-0.004439264787613177,0.22346207717106653,-0.6338247075959175,0.2830031950943066,-0.2842757783063089,-1.6745075707344477,-0.6599566325743017,0.11755418565563681,-0.8551230708313902,-1.4443938044070246,-1.7237423856954894,0.09323476948011054,-2.0237980294421427,0.5902819780517904,0.3521336835525418,-0.47410642666534136,-1.1966471740352314,-0.6828607642116732,-1.011661714759275,-1.905834151795708,0.9973400152016139,0.4597725013627585,-0.7315311070057287,-0.4033761447760559,-0.7193598651158356,0.6435615542100579],\"yaxis\":\"y4\",\"type\":\"scatter\"},{\"line\":{\"color\":\"rgba(128, 128, 128, 1.0)\",\"dash\":\"solid\",\"shape\":\"linear\",\"width\":1.3},\"marker\":{\"size\":2,\"symbol\":\"circle\"},\"mode\":\"markers\",\"name\":\"B\",\"text\":\"\",\"x\":[-0.22811627589074476,0.6787238832591042,1.6515060543232125,-0.6604782349724839,-0.5196249994745574,0.02055969042282577,-0.4397107068570352,0.41406042035964086,0.4108425293363018,0.8645542364829347,0.2119146464712936,0.6517328492837595,-0.3299934644424242,-0.48702899121525334,-0.22200897985421947,-0.8047818862898786,-1.1845906796308772,-0.4978353907798658,1.621167298309641,0.8224618564100735,-1.2902079390988175,0.01461791408133816,1.1410522269583148,0.8280874098673555,2.023735414640705,-0.4865637083260705,1.0389367638584508,1.2276962498928554,-0.18944754493862276,-0.14976216719342267,0.683583165072884,0.3239156424744562,-0.0719760168952608,-0.6378580170038229,-0.15493703777823922,1.7894814413117488,2.0184945323868257,0.20753608984329258,0.1978779128445857,1.0659510071385676,0.6558923317899069,-0.9926693302856021,-1.5682107352009464,-0.5753024096779175,-0.029614920045432938,-2.467749324540253,1.5160313978127993,-1.0111094337666988,0.36344209841536307,0.647623158788987,1.4071695619594518,0.5351397311767255,-0.04656114960512062,2.1664962354930863,0.14060328416534093,-0.8352079111291246,-0.9905325268254492,0.3027127572771243,-0.6970889943202017,-0.17485657057263013,0.1868467778262092,-0.9286776558514568,-0.03202384444914497,1.1188291288859542,1.0977932423879886,0.3465054154720146,-0.033836252989438084,-0.524395948545605,-1.031014258748993,-1.0769206345804534,-0.7197159862369726,1.13568672086204,-0.006894158362355122,-0.1625407442294256,-0.004439264787613177,0.22346207717106653,-0.6338247075959175,0.2830031950943066,-0.2842757783063089,-1.6745075707344477,-0.6599566325743017,0.11755418565563681,-0.8551230708313902,-1.4443938044070246,-1.7237423856954894,0.09323476948011054,-2.0237980294421427,0.5902819780517904,0.3521336835525418,-0.47410642666534136,-1.1966471740352314,-0.6828607642116732,-1.011661714759275,-1.905834151795708,0.9973400152016139,0.4597725013627585,-0.7315311070057287,-0.4033761447760559,-0.7193598651158356,0.6435615542100579],\"xaxis\":\"x5\",\"y\":[0.9852938519840362,-0.4142711665345483,-0.2993862088212026,-1.080158167641829,-0.5951615936768305,-1.061425559875092,-2.7120885483534254,-0.03149120113084428,-1.5755214690475732,0.35761998845734294,0.4201604838130015,-1.1872547692853608,2.2288159685553848,-0.20694873379706547,-0.29857480676428755,0.30465302078098727,1.0883622736425371,-0.0833002929219233,-0.38598103288068203,-0.6178040341239334,0.4000253076879923,-0.22496101350698444,-0.6615503092076963,1.1112518007745142,-0.2547548208944747,-0.9505888187305093,0.5501125290824538,0.23886067040655298,0.3767793235919412,-1.555051768463564,-1.9539650845846017,2.068238468829256,-0.8857142929791774,-0.6360773222197956,0.028636021121702788,-2.023847184228603,-0.6237244217096115,-0.845385390133307,-0.7706269321010328,-0.04798704669675597,-0.7347074680924067,0.978796728799089,3.0844914729635744,-0.5714312651068356,-1.6259819149285943,1.1653242003578144,-1.2262408297083338,0.024679650851651188,1.2652123552822339,0.6042438676916213,-1.0103596451298062,-0.2561198417491012,2.0972955326499196,0.4931935169281666,1.6862523895127877,-0.9511409837911713,-0.7929340198874938,-0.9415624684146361,-0.8162447738001156,2.305955639896165,2.3533932732497136,-1.2371339798667005,-1.806957263001291,-0.6692886247575235,0.26981495743716416,0.7353214008885376,-1.9587844101207168,-0.08875047092515755,-0.5375446519047127,1.0306545150239066,-0.42317938725773774,-0.7853846371787755,0.16885879662634365,-0.21273402930876428,0.04677265239052718,-0.11032587082205524,-0.9759868080638875,0.37714721887378244,-0.040245610606096056,-0.3624201877979656,-0.7237478146887273,-1.136675383870532,-0.1762010463278863,1.5545539485620936,0.12269680380628893,-0.27014083531452854,-1.1515553777811576,0.5355925338371131,-0.08498431225411827,-0.14033789297750898,1.060065500408755,-1.5694109802935956,1.8141368208221966,0.15478352025223172,0.009957933182435623,1.1231976518480087,-0.5950752487108096,0.13513089474798265,-0.5046785342264216,-0.7705528646396353],\"yaxis\":\"y5\",\"type\":\"scatter\"},{\"histfunc\":\"count\",\"histnorm\":\"\",\"marker\":{\"color\":\"rgba(55, 128, 191, 1.0)\",\"line\":{\"color\":\"#4D5663\",\"width\":1.3}},\"name\":\"B\",\"nbinsx\":10,\"opacity\":0.8,\"orientation\":\"v\",\"x\":[0.9852938519840362,-0.4142711665345483,-0.2993862088212026,-1.080158167641829,-0.5951615936768305,-1.061425559875092,-2.7120885483534254,-0.03149120113084428,-1.5755214690475732,0.35761998845734294,0.4201604838130015,-1.1872547692853608,2.2288159685553848,-0.20694873379706547,-0.29857480676428755,0.30465302078098727,1.0883622736425371,-0.0833002929219233,-0.38598103288068203,-0.6178040341239334,0.4000253076879923,-0.22496101350698444,-0.6615503092076963,1.1112518007745142,-0.2547548208944747,-0.9505888187305093,0.5501125290824538,0.23886067040655298,0.3767793235919412,-1.555051768463564,-1.9539650845846017,2.068238468829256,-0.8857142929791774,-0.6360773222197956,0.028636021121702788,-2.023847184228603,-0.6237244217096115,-0.845385390133307,-0.7706269321010328,-0.04798704669675597,-0.7347074680924067,0.978796728799089,3.0844914729635744,-0.5714312651068356,-1.6259819149285943,1.1653242003578144,-1.2262408297083338,0.024679650851651188,1.2652123552822339,0.6042438676916213,-1.0103596451298062,-0.2561198417491012,2.0972955326499196,0.4931935169281666,1.6862523895127877,-0.9511409837911713,-0.7929340198874938,-0.9415624684146361,-0.8162447738001156,2.305955639896165,2.3533932732497136,-1.2371339798667005,-1.806957263001291,-0.6692886247575235,0.26981495743716416,0.7353214008885376,-1.9587844101207168,-0.08875047092515755,-0.5375446519047127,1.0306545150239066,-0.42317938725773774,-0.7853846371787755,0.16885879662634365,-0.21273402930876428,0.04677265239052718,-0.11032587082205524,-0.9759868080638875,0.37714721887378244,-0.040245610606096056,-0.3624201877979656,-0.7237478146887273,-1.136675383870532,-0.1762010463278863,1.5545539485620936,0.12269680380628893,-0.27014083531452854,-1.1515553777811576,0.5355925338371131,-0.08498431225411827,-0.14033789297750898,1.060065500408755,-1.5694109802935956,1.8141368208221966,0.15478352025223172,0.009957933182435623,1.1231976518480087,-0.5950752487108096,0.13513089474798265,-0.5046785342264216,-0.7705528646396353],\"xaxis\":\"x6\",\"yaxis\":\"y6\",\"type\":\"histogram\"},{\"line\":{\"color\":\"rgba(128, 128, 128, 1.0)\",\"dash\":\"solid\",\"shape\":\"linear\",\"width\":1.3},\"marker\":{\"size\":2,\"symbol\":\"circle\"},\"mode\":\"markers\",\"name\":\"B\",\"text\":\"\",\"x\":[0.549740637555539,1.260212332460787,-0.5946594830986801,-0.6948732218626511,0.9806073927395907,0.4683121610261346,-0.14818769004704696,0.3452122122268642,-1.8067691232641163,-1.634749788768707,0.034233289669643494,-0.28934928828013634,0.32812377951620214,0.32910794420280115,1.1800149358136531,-0.8883104448558582,1.7936312182763456,-1.5666609283533584,1.4935951700111614,1.0261130875524023,0.5686621646377112,1.195491738597137,1.3095645877703326,1.7126221351614856,0.20821042621572,-0.27245247382963683,2.958537074185334,1.1521131509256861,1.69688082665319,1.5997545873746062,0.06836165526771469,0.05095851489658768,-1.4062563167283229,0.8009205979754301,-2.007850998187997,-1.0300679042761605,-0.348139549205092,-1.043516895168186,1.4095532718016575,1.0041911259519434,-0.10881868601619357,0.10697557159210212,0.36064636756312696,1.7268526163803328,0.0036578654411822584,0.6828347123397909,1.1326183479954248,1.3874865661864886,-1.4670972916699903,1.2554137762048678,-0.05883706655082013,0.640467929128801,-1.5576002803382498,1.317810073417994,0.7840297996700045,0.11773756092765265,-0.8535184193794283,0.7521265450113909,-2.0219945595573225,0.6982664594996074,-0.2620284721963431,-1.790396731796199,0.08677610118195855,2.0392858394221696,0.12882730684197252,0.9441592452092047,-0.4412387464935074,0.4804899837716722,-0.27196138774531503,0.3117798836344818,1.9159999391458693,0.3295901499234422,-0.4753026306728736,0.8191594181634533,0.20911743135705846,3.314507374063461,-0.28695412412569543,0.9934315724042603,0.10427082656561551,0.5739208179449827,0.6572094223299806,-0.6210516174643926,-0.7331282059054588,0.40877428828802675,-1.231502433839762,-0.5966920119114699,0.5303734972703417,0.7550799210738212,-0.25252469721757065,-0.17321545632623547,0.34704125264602725,1.4002442896546903,-0.5411407508757214,-0.6556024467323619,0.4888717616646806,-0.6831645443609797,1.4107941387219316,-1.324146824510583,2.4098174170134476,1.6986283611221968],\"xaxis\":\"x7\",\"y\":[0.9852938519840362,-0.4142711665345483,-0.2993862088212026,-1.080158167641829,-0.5951615936768305,-1.061425559875092,-2.7120885483534254,-0.03149120113084428,-1.5755214690475732,0.35761998845734294,0.4201604838130015,-1.1872547692853608,2.2288159685553848,-0.20694873379706547,-0.29857480676428755,0.30465302078098727,1.0883622736425371,-0.0833002929219233,-0.38598103288068203,-0.6178040341239334,0.4000253076879923,-0.22496101350698444,-0.6615503092076963,1.1112518007745142,-0.2547548208944747,-0.9505888187305093,0.5501125290824538,0.23886067040655298,0.3767793235919412,-1.555051768463564,-1.9539650845846017,2.068238468829256,-0.8857142929791774,-0.6360773222197956,0.028636021121702788,-2.023847184228603,-0.6237244217096115,-0.845385390133307,-0.7706269321010328,-0.04798704669675597,-0.7347074680924067,0.978796728799089,3.0844914729635744,-0.5714312651068356,-1.6259819149285943,1.1653242003578144,-1.2262408297083338,0.024679650851651188,1.2652123552822339,0.6042438676916213,-1.0103596451298062,-0.2561198417491012,2.0972955326499196,0.4931935169281666,1.6862523895127877,-0.9511409837911713,-0.7929340198874938,-0.9415624684146361,-0.8162447738001156,2.305955639896165,2.3533932732497136,-1.2371339798667005,-1.806957263001291,-0.6692886247575235,0.26981495743716416,0.7353214008885376,-1.9587844101207168,-0.08875047092515755,-0.5375446519047127,1.0306545150239066,-0.42317938725773774,-0.7853846371787755,0.16885879662634365,-0.21273402930876428,0.04677265239052718,-0.11032587082205524,-0.9759868080638875,0.37714721887378244,-0.040245610606096056,-0.3624201877979656,-0.7237478146887273,-1.136675383870532,-0.1762010463278863,1.5545539485620936,0.12269680380628893,-0.27014083531452854,-1.1515553777811576,0.5355925338371131,-0.08498431225411827,-0.14033789297750898,1.060065500408755,-1.5694109802935956,1.8141368208221966,0.15478352025223172,0.009957933182435623,1.1231976518480087,-0.5950752487108096,0.13513089474798265,-0.5046785342264216,-0.7705528646396353],\"yaxis\":\"y7\",\"type\":\"scatter\"},{\"line\":{\"color\":\"rgba(128, 128, 128, 1.0)\",\"dash\":\"solid\",\"shape\":\"linear\",\"width\":1.3},\"marker\":{\"size\":2,\"symbol\":\"circle\"},\"mode\":\"markers\",\"name\":\"B\",\"text\":\"\",\"x\":[1.0361215242491195,0.6407853255491084,0.7063779456975104,1.8980826082085422,0.17187209395006434,1.1807930930152146,1.4961438288093272,-2.0446273869788087,1.1318022350041197,-1.1927329306327188,-0.3718357943680243,-1.103634637522285,0.68808333426337,-0.32682601948711265,-0.22521524060681247,-0.8974662083076845,0.6522682742848068,-0.7631185114850355,1.4212512473317818,-1.196434655579687,0.3376907200426193,-0.3972002950152537,-0.5455228930351891,-0.3423263609742087,-0.531908394142106,0.40697220160755143,-1.2245651337600438,-1.0957828536350458,0.44149574622144727,0.6671698451103586,-1.0434073030965116,1.087993748180064,0.8251029406890018,0.44954204545429655,-0.22719985689936456,-0.5422444776464004,-2.2324261138964956,0.9493595005097836,0.4777179691755005,-0.5354614446658382,-0.4982004714923975,-1.1476891696504472,-0.2296400044253678,0.9204126254454262,0.4175094038759765,1.3383812678252205,0.20393570092135996,0.3641768189742347,0.056298588785371646,1.790154924545487,0.35720133249961833,1.5064400671355258,-0.3019170893055426,-1.6578434496745653,0.8620146720247083,1.1500043106957927,0.2822494976777274,0.9566833862150375,-0.2685357041989318,-0.4884728273289955,1.2792079241497105,-0.7250228973636278,-1.2309532650323967,0.31197521426637215,1.0936944534891009,-0.32257914774238977,0.8932021180721614,1.8362910746299415,1.3306532682976469,0.7664840393967025,1.1502775594682741,1.3585620922843022,-0.5178200548823758,0.806793794387821,-0.09845903208504937,-1.4103456208172465,1.6151659629822908,0.06750180450915381,2.283053076806745,0.18240460302101436,-1.685931624410959,0.6047384305209671,0.6273165693400129,0.23627795320787906,-0.7447556824866209,-1.3722482088152015,0.6549064884581498,0.2246440447161041,-0.8268812754471794,-0.6793756327254308,1.76927828093296,0.8654601044043043,0.5927435118167454,0.10212959626793228,0.48969973682356716,-0.07640015800038846,0.03879598781609596,-0.14838855520956157,0.4444156340939495,-0.32794358382266386],\"xaxis\":\"x8\",\"y\":[0.9852938519840362,-0.4142711665345483,-0.2993862088212026,-1.080158167641829,-0.5951615936768305,-1.061425559875092,-2.7120885483534254,-0.03149120113084428,-1.5755214690475732,0.35761998845734294,0.4201604838130015,-1.1872547692853608,2.2288159685553848,-0.20694873379706547,-0.29857480676428755,0.30465302078098727,1.0883622736425371,-0.0833002929219233,-0.38598103288068203,-0.6178040341239334,0.4000253076879923,-0.22496101350698444,-0.6615503092076963,1.1112518007745142,-0.2547548208944747,-0.9505888187305093,0.5501125290824538,0.23886067040655298,0.3767793235919412,-1.555051768463564,-1.9539650845846017,2.068238468829256,-0.8857142929791774,-0.6360773222197956,0.028636021121702788,-2.023847184228603,-0.6237244217096115,-0.845385390133307,-0.7706269321010328,-0.04798704669675597,-0.7347074680924067,0.978796728799089,3.0844914729635744,-0.5714312651068356,-1.6259819149285943,1.1653242003578144,-1.2262408297083338,0.024679650851651188,1.2652123552822339,0.6042438676916213,-1.0103596451298062,-0.2561198417491012,2.0972955326499196,0.4931935169281666,1.6862523895127877,-0.9511409837911713,-0.7929340198874938,-0.9415624684146361,-0.8162447738001156,2.305955639896165,2.3533932732497136,-1.2371339798667005,-1.806957263001291,-0.6692886247575235,0.26981495743716416,0.7353214008885376,-1.9587844101207168,-0.08875047092515755,-0.5375446519047127,1.0306545150239066,-0.42317938725773774,-0.7853846371787755,0.16885879662634365,-0.21273402930876428,0.04677265239052718,-0.11032587082205524,-0.9759868080638875,0.37714721887378244,-0.040245610606096056,-0.3624201877979656,-0.7237478146887273,-1.136675383870532,-0.1762010463278863,1.5545539485620936,0.12269680380628893,-0.27014083531452854,-1.1515553777811576,0.5355925338371131,-0.08498431225411827,-0.14033789297750898,1.060065500408755,-1.5694109802935956,1.8141368208221966,0.15478352025223172,0.009957933182435623,1.1231976518480087,-0.5950752487108096,0.13513089474798265,-0.5046785342264216,-0.7705528646396353],\"yaxis\":\"y8\",\"type\":\"scatter\"},{\"line\":{\"color\":\"rgba(128, 128, 128, 1.0)\",\"dash\":\"solid\",\"shape\":\"linear\",\"width\":1.3},\"marker\":{\"size\":2,\"symbol\":\"circle\"},\"mode\":\"markers\",\"name\":\"C\",\"text\":\"\",\"x\":[-0.22811627589074476,0.6787238832591042,1.6515060543232125,-0.6604782349724839,-0.5196249994745574,0.02055969042282577,-0.4397107068570352,0.41406042035964086,0.4108425293363018,0.8645542364829347,0.2119146464712936,0.6517328492837595,-0.3299934644424242,-0.48702899121525334,-0.22200897985421947,-0.8047818862898786,-1.1845906796308772,-0.4978353907798658,1.621167298309641,0.8224618564100735,-1.2902079390988175,0.01461791408133816,1.1410522269583148,0.8280874098673555,2.023735414640705,-0.4865637083260705,1.0389367638584508,1.2276962498928554,-0.18944754493862276,-0.14976216719342267,0.683583165072884,0.3239156424744562,-0.0719760168952608,-0.6378580170038229,-0.15493703777823922,1.7894814413117488,2.0184945323868257,0.20753608984329258,0.1978779128445857,1.0659510071385676,0.6558923317899069,-0.9926693302856021,-1.5682107352009464,-0.5753024096779175,-0.029614920045432938,-2.467749324540253,1.5160313978127993,-1.0111094337666988,0.36344209841536307,0.647623158788987,1.4071695619594518,0.5351397311767255,-0.04656114960512062,2.1664962354930863,0.14060328416534093,-0.8352079111291246,-0.9905325268254492,0.3027127572771243,-0.6970889943202017,-0.17485657057263013,0.1868467778262092,-0.9286776558514568,-0.03202384444914497,1.1188291288859542,1.0977932423879886,0.3465054154720146,-0.033836252989438084,-0.524395948545605,-1.031014258748993,-1.0769206345804534,-0.7197159862369726,1.13568672086204,-0.006894158362355122,-0.1625407442294256,-0.004439264787613177,0.22346207717106653,-0.6338247075959175,0.2830031950943066,-0.2842757783063089,-1.6745075707344477,-0.6599566325743017,0.11755418565563681,-0.8551230708313902,-1.4443938044070246,-1.7237423856954894,0.09323476948011054,-2.0237980294421427,0.5902819780517904,0.3521336835525418,-0.47410642666534136,-1.1966471740352314,-0.6828607642116732,-1.011661714759275,-1.905834151795708,0.9973400152016139,0.4597725013627585,-0.7315311070057287,-0.4033761447760559,-0.7193598651158356,0.6435615542100579],\"xaxis\":\"x9\",\"y\":[0.549740637555539,1.260212332460787,-0.5946594830986801,-0.6948732218626511,0.9806073927395907,0.4683121610261346,-0.14818769004704696,0.3452122122268642,-1.8067691232641163,-1.634749788768707,0.034233289669643494,-0.28934928828013634,0.32812377951620214,0.32910794420280115,1.1800149358136531,-0.8883104448558582,1.7936312182763456,-1.5666609283533584,1.4935951700111614,1.0261130875524023,0.5686621646377112,1.195491738597137,1.3095645877703326,1.7126221351614856,0.20821042621572,-0.27245247382963683,2.958537074185334,1.1521131509256861,1.69688082665319,1.5997545873746062,0.06836165526771469,0.05095851489658768,-1.4062563167283229,0.8009205979754301,-2.007850998187997,-1.0300679042761605,-0.348139549205092,-1.043516895168186,1.4095532718016575,1.0041911259519434,-0.10881868601619357,0.10697557159210212,0.36064636756312696,1.7268526163803328,0.0036578654411822584,0.6828347123397909,1.1326183479954248,1.3874865661864886,-1.4670972916699903,1.2554137762048678,-0.05883706655082013,0.640467929128801,-1.5576002803382498,1.317810073417994,0.7840297996700045,0.11773756092765265,-0.8535184193794283,0.7521265450113909,-2.0219945595573225,0.6982664594996074,-0.2620284721963431,-1.790396731796199,0.08677610118195855,2.0392858394221696,0.12882730684197252,0.9441592452092047,-0.4412387464935074,0.4804899837716722,-0.27196138774531503,0.3117798836344818,1.9159999391458693,0.3295901499234422,-0.4753026306728736,0.8191594181634533,0.20911743135705846,3.314507374063461,-0.28695412412569543,0.9934315724042603,0.10427082656561551,0.5739208179449827,0.6572094223299806,-0.6210516174643926,-0.7331282059054588,0.40877428828802675,-1.231502433839762,-0.5966920119114699,0.5303734972703417,0.7550799210738212,-0.25252469721757065,-0.17321545632623547,0.34704125264602725,1.4002442896546903,-0.5411407508757214,-0.6556024467323619,0.4888717616646806,-0.6831645443609797,1.4107941387219316,-1.324146824510583,2.4098174170134476,1.6986283611221968],\"yaxis\":\"y9\",\"type\":\"scatter\"},{\"line\":{\"color\":\"rgba(128, 128, 128, 1.0)\",\"dash\":\"solid\",\"shape\":\"linear\",\"width\":1.3},\"marker\":{\"size\":2,\"symbol\":\"circle\"},\"mode\":\"markers\",\"name\":\"C\",\"text\":\"\",\"x\":[0.9852938519840362,-0.4142711665345483,-0.2993862088212026,-1.080158167641829,-0.5951615936768305,-1.061425559875092,-2.7120885483534254,-0.03149120113084428,-1.5755214690475732,0.35761998845734294,0.4201604838130015,-1.1872547692853608,2.2288159685553848,-0.20694873379706547,-0.29857480676428755,0.30465302078098727,1.0883622736425371,-0.0833002929219233,-0.38598103288068203,-0.6178040341239334,0.4000253076879923,-0.22496101350698444,-0.6615503092076963,1.1112518007745142,-0.2547548208944747,-0.9505888187305093,0.5501125290824538,0.23886067040655298,0.3767793235919412,-1.555051768463564,-1.9539650845846017,2.068238468829256,-0.8857142929791774,-0.6360773222197956,0.028636021121702788,-2.023847184228603,-0.6237244217096115,-0.845385390133307,-0.7706269321010328,-0.04798704669675597,-0.7347074680924067,0.978796728799089,3.0844914729635744,-0.5714312651068356,-1.6259819149285943,1.1653242003578144,-1.2262408297083338,0.024679650851651188,1.2652123552822339,0.6042438676916213,-1.0103596451298062,-0.2561198417491012,2.0972955326499196,0.4931935169281666,1.6862523895127877,-0.9511409837911713,-0.7929340198874938,-0.9415624684146361,-0.8162447738001156,2.305955639896165,2.3533932732497136,-1.2371339798667005,-1.806957263001291,-0.6692886247575235,0.26981495743716416,0.7353214008885376,-1.9587844101207168,-0.08875047092515755,-0.5375446519047127,1.0306545150239066,-0.42317938725773774,-0.7853846371787755,0.16885879662634365,-0.21273402930876428,0.04677265239052718,-0.11032587082205524,-0.9759868080638875,0.37714721887378244,-0.040245610606096056,-0.3624201877979656,-0.7237478146887273,-1.136675383870532,-0.1762010463278863,1.5545539485620936,0.12269680380628893,-0.27014083531452854,-1.1515553777811576,0.5355925338371131,-0.08498431225411827,-0.14033789297750898,1.060065500408755,-1.5694109802935956,1.8141368208221966,0.15478352025223172,0.009957933182435623,1.1231976518480087,-0.5950752487108096,0.13513089474798265,-0.5046785342264216,-0.7705528646396353],\"xaxis\":\"x10\",\"y\":[0.549740637555539,1.260212332460787,-0.5946594830986801,-0.6948732218626511,0.9806073927395907,0.4683121610261346,-0.14818769004704696,0.3452122122268642,-1.8067691232641163,-1.634749788768707,0.034233289669643494,-0.28934928828013634,0.32812377951620214,0.32910794420280115,1.1800149358136531,-0.8883104448558582,1.7936312182763456,-1.5666609283533584,1.4935951700111614,1.0261130875524023,0.5686621646377112,1.195491738597137,1.3095645877703326,1.7126221351614856,0.20821042621572,-0.27245247382963683,2.958537074185334,1.1521131509256861,1.69688082665319,1.5997545873746062,0.06836165526771469,0.05095851489658768,-1.4062563167283229,0.8009205979754301,-2.007850998187997,-1.0300679042761605,-0.348139549205092,-1.043516895168186,1.4095532718016575,1.0041911259519434,-0.10881868601619357,0.10697557159210212,0.36064636756312696,1.7268526163803328,0.0036578654411822584,0.6828347123397909,1.1326183479954248,1.3874865661864886,-1.4670972916699903,1.2554137762048678,-0.05883706655082013,0.640467929128801,-1.5576002803382498,1.317810073417994,0.7840297996700045,0.11773756092765265,-0.8535184193794283,0.7521265450113909,-2.0219945595573225,0.6982664594996074,-0.2620284721963431,-1.790396731796199,0.08677610118195855,2.0392858394221696,0.12882730684197252,0.9441592452092047,-0.4412387464935074,0.4804899837716722,-0.27196138774531503,0.3117798836344818,1.9159999391458693,0.3295901499234422,-0.4753026306728736,0.8191594181634533,0.20911743135705846,3.314507374063461,-0.28695412412569543,0.9934315724042603,0.10427082656561551,0.5739208179449827,0.6572094223299806,-0.6210516174643926,-0.7331282059054588,0.40877428828802675,-1.231502433839762,-0.5966920119114699,0.5303734972703417,0.7550799210738212,-0.25252469721757065,-0.17321545632623547,0.34704125264602725,1.4002442896546903,-0.5411407508757214,-0.6556024467323619,0.4888717616646806,-0.6831645443609797,1.4107941387219316,-1.324146824510583,2.4098174170134476,1.6986283611221968],\"yaxis\":\"y10\",\"type\":\"scatter\"},{\"histfunc\":\"count\",\"histnorm\":\"\",\"marker\":{\"color\":\"rgba(50, 171, 96, 1.0)\",\"line\":{\"color\":\"#4D5663\",\"width\":1.3}},\"name\":\"C\",\"nbinsx\":10,\"opacity\":0.8,\"orientation\":\"v\",\"x\":[0.549740637555539,1.260212332460787,-0.5946594830986801,-0.6948732218626511,0.9806073927395907,0.4683121610261346,-0.14818769004704696,0.3452122122268642,-1.8067691232641163,-1.634749788768707,0.034233289669643494,-0.28934928828013634,0.32812377951620214,0.32910794420280115,1.1800149358136531,-0.8883104448558582,1.7936312182763456,-1.5666609283533584,1.4935951700111614,1.0261130875524023,0.5686621646377112,1.195491738597137,1.3095645877703326,1.7126221351614856,0.20821042621572,-0.27245247382963683,2.958537074185334,1.1521131509256861,1.69688082665319,1.5997545873746062,0.06836165526771469,0.05095851489658768,-1.4062563167283229,0.8009205979754301,-2.007850998187997,-1.0300679042761605,-0.348139549205092,-1.043516895168186,1.4095532718016575,1.0041911259519434,-0.10881868601619357,0.10697557159210212,0.36064636756312696,1.7268526163803328,0.0036578654411822584,0.6828347123397909,1.1326183479954248,1.3874865661864886,-1.4670972916699903,1.2554137762048678,-0.05883706655082013,0.640467929128801,-1.5576002803382498,1.317810073417994,0.7840297996700045,0.11773756092765265,-0.8535184193794283,0.7521265450113909,-2.0219945595573225,0.6982664594996074,-0.2620284721963431,-1.790396731796199,0.08677610118195855,2.0392858394221696,0.12882730684197252,0.9441592452092047,-0.4412387464935074,0.4804899837716722,-0.27196138774531503,0.3117798836344818,1.9159999391458693,0.3295901499234422,-0.4753026306728736,0.8191594181634533,0.20911743135705846,3.314507374063461,-0.28695412412569543,0.9934315724042603,0.10427082656561551,0.5739208179449827,0.6572094223299806,-0.6210516174643926,-0.7331282059054588,0.40877428828802675,-1.231502433839762,-0.5966920119114699,0.5303734972703417,0.7550799210738212,-0.25252469721757065,-0.17321545632623547,0.34704125264602725,1.4002442896546903,-0.5411407508757214,-0.6556024467323619,0.4888717616646806,-0.6831645443609797,1.4107941387219316,-1.324146824510583,2.4098174170134476,1.6986283611221968],\"xaxis\":\"x11\",\"yaxis\":\"y11\",\"type\":\"histogram\"},{\"line\":{\"color\":\"rgba(128, 128, 128, 1.0)\",\"dash\":\"solid\",\"shape\":\"linear\",\"width\":1.3},\"marker\":{\"size\":2,\"symbol\":\"circle\"},\"mode\":\"markers\",\"name\":\"C\",\"text\":\"\",\"x\":[1.0361215242491195,0.6407853255491084,0.7063779456975104,1.8980826082085422,0.17187209395006434,1.1807930930152146,1.4961438288093272,-2.0446273869788087,1.1318022350041197,-1.1927329306327188,-0.3718357943680243,-1.103634637522285,0.68808333426337,-0.32682601948711265,-0.22521524060681247,-0.8974662083076845,0.6522682742848068,-0.7631185114850355,1.4212512473317818,-1.196434655579687,0.3376907200426193,-0.3972002950152537,-0.5455228930351891,-0.3423263609742087,-0.531908394142106,0.40697220160755143,-1.2245651337600438,-1.0957828536350458,0.44149574622144727,0.6671698451103586,-1.0434073030965116,1.087993748180064,0.8251029406890018,0.44954204545429655,-0.22719985689936456,-0.5422444776464004,-2.2324261138964956,0.9493595005097836,0.4777179691755005,-0.5354614446658382,-0.4982004714923975,-1.1476891696504472,-0.2296400044253678,0.9204126254454262,0.4175094038759765,1.3383812678252205,0.20393570092135996,0.3641768189742347,0.056298588785371646,1.790154924545487,0.35720133249961833,1.5064400671355258,-0.3019170893055426,-1.6578434496745653,0.8620146720247083,1.1500043106957927,0.2822494976777274,0.9566833862150375,-0.2685357041989318,-0.4884728273289955,1.2792079241497105,-0.7250228973636278,-1.2309532650323967,0.31197521426637215,1.0936944534891009,-0.32257914774238977,0.8932021180721614,1.8362910746299415,1.3306532682976469,0.7664840393967025,1.1502775594682741,1.3585620922843022,-0.5178200548823758,0.806793794387821,-0.09845903208504937,-1.4103456208172465,1.6151659629822908,0.06750180450915381,2.283053076806745,0.18240460302101436,-1.685931624410959,0.6047384305209671,0.6273165693400129,0.23627795320787906,-0.7447556824866209,-1.3722482088152015,0.6549064884581498,0.2246440447161041,-0.8268812754471794,-0.6793756327254308,1.76927828093296,0.8654601044043043,0.5927435118167454,0.10212959626793228,0.48969973682356716,-0.07640015800038846,0.03879598781609596,-0.14838855520956157,0.4444156340939495,-0.32794358382266386],\"xaxis\":\"x12\",\"y\":[0.549740637555539,1.260212332460787,-0.5946594830986801,-0.6948732218626511,0.9806073927395907,0.4683121610261346,-0.14818769004704696,0.3452122122268642,-1.8067691232641163,-1.634749788768707,0.034233289669643494,-0.28934928828013634,0.32812377951620214,0.32910794420280115,1.1800149358136531,-0.8883104448558582,1.7936312182763456,-1.5666609283533584,1.4935951700111614,1.0261130875524023,0.5686621646377112,1.195491738597137,1.3095645877703326,1.7126221351614856,0.20821042621572,-0.27245247382963683,2.958537074185334,1.1521131509256861,1.69688082665319,1.5997545873746062,0.06836165526771469,0.05095851489658768,-1.4062563167283229,0.8009205979754301,-2.007850998187997,-1.0300679042761605,-0.348139549205092,-1.043516895168186,1.4095532718016575,1.0041911259519434,-0.10881868601619357,0.10697557159210212,0.36064636756312696,1.7268526163803328,0.0036578654411822584,0.6828347123397909,1.1326183479954248,1.3874865661864886,-1.4670972916699903,1.2554137762048678,-0.05883706655082013,0.640467929128801,-1.5576002803382498,1.317810073417994,0.7840297996700045,0.11773756092765265,-0.8535184193794283,0.7521265450113909,-2.0219945595573225,0.6982664594996074,-0.2620284721963431,-1.790396731796199,0.08677610118195855,2.0392858394221696,0.12882730684197252,0.9441592452092047,-0.4412387464935074,0.4804899837716722,-0.27196138774531503,0.3117798836344818,1.9159999391458693,0.3295901499234422,-0.4753026306728736,0.8191594181634533,0.20911743135705846,3.314507374063461,-0.28695412412569543,0.9934315724042603,0.10427082656561551,0.5739208179449827,0.6572094223299806,-0.6210516174643926,-0.7331282059054588,0.40877428828802675,-1.231502433839762,-0.5966920119114699,0.5303734972703417,0.7550799210738212,-0.25252469721757065,-0.17321545632623547,0.34704125264602725,1.4002442896546903,-0.5411407508757214,-0.6556024467323619,0.4888717616646806,-0.6831645443609797,1.4107941387219316,-1.324146824510583,2.4098174170134476,1.6986283611221968],\"yaxis\":\"y12\",\"type\":\"scatter\"},{\"line\":{\"color\":\"rgba(128, 128, 128, 1.0)\",\"dash\":\"solid\",\"shape\":\"linear\",\"width\":1.3},\"marker\":{\"size\":2,\"symbol\":\"circle\"},\"mode\":\"markers\",\"name\":\"D\",\"text\":\"\",\"x\":[-0.22811627589074476,0.6787238832591042,1.6515060543232125,-0.6604782349724839,-0.5196249994745574,0.02055969042282577,-0.4397107068570352,0.41406042035964086,0.4108425293363018,0.8645542364829347,0.2119146464712936,0.6517328492837595,-0.3299934644424242,-0.48702899121525334,-0.22200897985421947,-0.8047818862898786,-1.1845906796308772,-0.4978353907798658,1.621167298309641,0.8224618564100735,-1.2902079390988175,0.01461791408133816,1.1410522269583148,0.8280874098673555,2.023735414640705,-0.4865637083260705,1.0389367638584508,1.2276962498928554,-0.18944754493862276,-0.14976216719342267,0.683583165072884,0.3239156424744562,-0.0719760168952608,-0.6378580170038229,-0.15493703777823922,1.7894814413117488,2.0184945323868257,0.20753608984329258,0.1978779128445857,1.0659510071385676,0.6558923317899069,-0.9926693302856021,-1.5682107352009464,-0.5753024096779175,-0.029614920045432938,-2.467749324540253,1.5160313978127993,-1.0111094337666988,0.36344209841536307,0.647623158788987,1.4071695619594518,0.5351397311767255,-0.04656114960512062,2.1664962354930863,0.14060328416534093,-0.8352079111291246,-0.9905325268254492,0.3027127572771243,-0.6970889943202017,-0.17485657057263013,0.1868467778262092,-0.9286776558514568,-0.03202384444914497,1.1188291288859542,1.0977932423879886,0.3465054154720146,-0.033836252989438084,-0.524395948545605,-1.031014258748993,-1.0769206345804534,-0.7197159862369726,1.13568672086204,-0.006894158362355122,-0.1625407442294256,-0.004439264787613177,0.22346207717106653,-0.6338247075959175,0.2830031950943066,-0.2842757783063089,-1.6745075707344477,-0.6599566325743017,0.11755418565563681,-0.8551230708313902,-1.4443938044070246,-1.7237423856954894,0.09323476948011054,-2.0237980294421427,0.5902819780517904,0.3521336835525418,-0.47410642666534136,-1.1966471740352314,-0.6828607642116732,-1.011661714759275,-1.905834151795708,0.9973400152016139,0.4597725013627585,-0.7315311070057287,-0.4033761447760559,-0.7193598651158356,0.6435615542100579],\"xaxis\":\"x13\",\"y\":[1.0361215242491195,0.6407853255491084,0.7063779456975104,1.8980826082085422,0.17187209395006434,1.1807930930152146,1.4961438288093272,-2.0446273869788087,1.1318022350041197,-1.1927329306327188,-0.3718357943680243,-1.103634637522285,0.68808333426337,-0.32682601948711265,-0.22521524060681247,-0.8974662083076845,0.6522682742848068,-0.7631185114850355,1.4212512473317818,-1.196434655579687,0.3376907200426193,-0.3972002950152537,-0.5455228930351891,-0.3423263609742087,-0.531908394142106,0.40697220160755143,-1.2245651337600438,-1.0957828536350458,0.44149574622144727,0.6671698451103586,-1.0434073030965116,1.087993748180064,0.8251029406890018,0.44954204545429655,-0.22719985689936456,-0.5422444776464004,-2.2324261138964956,0.9493595005097836,0.4777179691755005,-0.5354614446658382,-0.4982004714923975,-1.1476891696504472,-0.2296400044253678,0.9204126254454262,0.4175094038759765,1.3383812678252205,0.20393570092135996,0.3641768189742347,0.056298588785371646,1.790154924545487,0.35720133249961833,1.5064400671355258,-0.3019170893055426,-1.6578434496745653,0.8620146720247083,1.1500043106957927,0.2822494976777274,0.9566833862150375,-0.2685357041989318,-0.4884728273289955,1.2792079241497105,-0.7250228973636278,-1.2309532650323967,0.31197521426637215,1.0936944534891009,-0.32257914774238977,0.8932021180721614,1.8362910746299415,1.3306532682976469,0.7664840393967025,1.1502775594682741,1.3585620922843022,-0.5178200548823758,0.806793794387821,-0.09845903208504937,-1.4103456208172465,1.6151659629822908,0.06750180450915381,2.283053076806745,0.18240460302101436,-1.685931624410959,0.6047384305209671,0.6273165693400129,0.23627795320787906,-0.7447556824866209,-1.3722482088152015,0.6549064884581498,0.2246440447161041,-0.8268812754471794,-0.6793756327254308,1.76927828093296,0.8654601044043043,0.5927435118167454,0.10212959626793228,0.48969973682356716,-0.07640015800038846,0.03879598781609596,-0.14838855520956157,0.4444156340939495,-0.32794358382266386],\"yaxis\":\"y13\",\"type\":\"scatter\"},{\"line\":{\"color\":\"rgba(128, 128, 128, 1.0)\",\"dash\":\"solid\",\"shape\":\"linear\",\"width\":1.3},\"marker\":{\"size\":2,\"symbol\":\"circle\"},\"mode\":\"markers\",\"name\":\"D\",\"text\":\"\",\"x\":[0.9852938519840362,-0.4142711665345483,-0.2993862088212026,-1.080158167641829,-0.5951615936768305,-1.061425559875092,-2.7120885483534254,-0.03149120113084428,-1.5755214690475732,0.35761998845734294,0.4201604838130015,-1.1872547692853608,2.2288159685553848,-0.20694873379706547,-0.29857480676428755,0.30465302078098727,1.0883622736425371,-0.0833002929219233,-0.38598103288068203,-0.6178040341239334,0.4000253076879923,-0.22496101350698444,-0.6615503092076963,1.1112518007745142,-0.2547548208944747,-0.9505888187305093,0.5501125290824538,0.23886067040655298,0.3767793235919412,-1.555051768463564,-1.9539650845846017,2.068238468829256,-0.8857142929791774,-0.6360773222197956,0.028636021121702788,-2.023847184228603,-0.6237244217096115,-0.845385390133307,-0.7706269321010328,-0.04798704669675597,-0.7347074680924067,0.978796728799089,3.0844914729635744,-0.5714312651068356,-1.6259819149285943,1.1653242003578144,-1.2262408297083338,0.024679650851651188,1.2652123552822339,0.6042438676916213,-1.0103596451298062,-0.2561198417491012,2.0972955326499196,0.4931935169281666,1.6862523895127877,-0.9511409837911713,-0.7929340198874938,-0.9415624684146361,-0.8162447738001156,2.305955639896165,2.3533932732497136,-1.2371339798667005,-1.806957263001291,-0.6692886247575235,0.26981495743716416,0.7353214008885376,-1.9587844101207168,-0.08875047092515755,-0.5375446519047127,1.0306545150239066,-0.42317938725773774,-0.7853846371787755,0.16885879662634365,-0.21273402930876428,0.04677265239052718,-0.11032587082205524,-0.9759868080638875,0.37714721887378244,-0.040245610606096056,-0.3624201877979656,-0.7237478146887273,-1.136675383870532,-0.1762010463278863,1.5545539485620936,0.12269680380628893,-0.27014083531452854,-1.1515553777811576,0.5355925338371131,-0.08498431225411827,-0.14033789297750898,1.060065500408755,-1.5694109802935956,1.8141368208221966,0.15478352025223172,0.009957933182435623,1.1231976518480087,-0.5950752487108096,0.13513089474798265,-0.5046785342264216,-0.7705528646396353],\"xaxis\":\"x14\",\"y\":[1.0361215242491195,0.6407853255491084,0.7063779456975104,1.8980826082085422,0.17187209395006434,1.1807930930152146,1.4961438288093272,-2.0446273869788087,1.1318022350041197,-1.1927329306327188,-0.3718357943680243,-1.103634637522285,0.68808333426337,-0.32682601948711265,-0.22521524060681247,-0.8974662083076845,0.6522682742848068,-0.7631185114850355,1.4212512473317818,-1.196434655579687,0.3376907200426193,-0.3972002950152537,-0.5455228930351891,-0.3423263609742087,-0.531908394142106,0.40697220160755143,-1.2245651337600438,-1.0957828536350458,0.44149574622144727,0.6671698451103586,-1.0434073030965116,1.087993748180064,0.8251029406890018,0.44954204545429655,-0.22719985689936456,-0.5422444776464004,-2.2324261138964956,0.9493595005097836,0.4777179691755005,-0.5354614446658382,-0.4982004714923975,-1.1476891696504472,-0.2296400044253678,0.9204126254454262,0.4175094038759765,1.3383812678252205,0.20393570092135996,0.3641768189742347,0.056298588785371646,1.790154924545487,0.35720133249961833,1.5064400671355258,-0.3019170893055426,-1.6578434496745653,0.8620146720247083,1.1500043106957927,0.2822494976777274,0.9566833862150375,-0.2685357041989318,-0.4884728273289955,1.2792079241497105,-0.7250228973636278,-1.2309532650323967,0.31197521426637215,1.0936944534891009,-0.32257914774238977,0.8932021180721614,1.8362910746299415,1.3306532682976469,0.7664840393967025,1.1502775594682741,1.3585620922843022,-0.5178200548823758,0.806793794387821,-0.09845903208504937,-1.4103456208172465,1.6151659629822908,0.06750180450915381,2.283053076806745,0.18240460302101436,-1.685931624410959,0.6047384305209671,0.6273165693400129,0.23627795320787906,-0.7447556824866209,-1.3722482088152015,0.6549064884581498,0.2246440447161041,-0.8268812754471794,-0.6793756327254308,1.76927828093296,0.8654601044043043,0.5927435118167454,0.10212959626793228,0.48969973682356716,-0.07640015800038846,0.03879598781609596,-0.14838855520956157,0.4444156340939495,-0.32794358382266386],\"yaxis\":\"y14\",\"type\":\"scatter\"},{\"line\":{\"color\":\"rgba(128, 128, 128, 1.0)\",\"dash\":\"solid\",\"shape\":\"linear\",\"width\":1.3},\"marker\":{\"size\":2,\"symbol\":\"circle\"},\"mode\":\"markers\",\"name\":\"D\",\"text\":\"\",\"x\":[0.549740637555539,1.260212332460787,-0.5946594830986801,-0.6948732218626511,0.9806073927395907,0.4683121610261346,-0.14818769004704696,0.3452122122268642,-1.8067691232641163,-1.634749788768707,0.034233289669643494,-0.28934928828013634,0.32812377951620214,0.32910794420280115,1.1800149358136531,-0.8883104448558582,1.7936312182763456,-1.5666609283533584,1.4935951700111614,1.0261130875524023,0.5686621646377112,1.195491738597137,1.3095645877703326,1.7126221351614856,0.20821042621572,-0.27245247382963683,2.958537074185334,1.1521131509256861,1.69688082665319,1.5997545873746062,0.06836165526771469,0.05095851489658768,-1.4062563167283229,0.8009205979754301,-2.007850998187997,-1.0300679042761605,-0.348139549205092,-1.043516895168186,1.4095532718016575,1.0041911259519434,-0.10881868601619357,0.10697557159210212,0.36064636756312696,1.7268526163803328,0.0036578654411822584,0.6828347123397909,1.1326183479954248,1.3874865661864886,-1.4670972916699903,1.2554137762048678,-0.05883706655082013,0.640467929128801,-1.5576002803382498,1.317810073417994,0.7840297996700045,0.11773756092765265,-0.8535184193794283,0.7521265450113909,-2.0219945595573225,0.6982664594996074,-0.2620284721963431,-1.790396731796199,0.08677610118195855,2.0392858394221696,0.12882730684197252,0.9441592452092047,-0.4412387464935074,0.4804899837716722,-0.27196138774531503,0.3117798836344818,1.9159999391458693,0.3295901499234422,-0.4753026306728736,0.8191594181634533,0.20911743135705846,3.314507374063461,-0.28695412412569543,0.9934315724042603,0.10427082656561551,0.5739208179449827,0.6572094223299806,-0.6210516174643926,-0.7331282059054588,0.40877428828802675,-1.231502433839762,-0.5966920119114699,0.5303734972703417,0.7550799210738212,-0.25252469721757065,-0.17321545632623547,0.34704125264602725,1.4002442896546903,-0.5411407508757214,-0.6556024467323619,0.4888717616646806,-0.6831645443609797,1.4107941387219316,-1.324146824510583,2.4098174170134476,1.6986283611221968],\"xaxis\":\"x15\",\"y\":[1.0361215242491195,0.6407853255491084,0.7063779456975104,1.8980826082085422,0.17187209395006434,1.1807930930152146,1.4961438288093272,-2.0446273869788087,1.1318022350041197,-1.1927329306327188,-0.3718357943680243,-1.103634637522285,0.68808333426337,-0.32682601948711265,-0.22521524060681247,-0.8974662083076845,0.6522682742848068,-0.7631185114850355,1.4212512473317818,-1.196434655579687,0.3376907200426193,-0.3972002950152537,-0.5455228930351891,-0.3423263609742087,-0.531908394142106,0.40697220160755143,-1.2245651337600438,-1.0957828536350458,0.44149574622144727,0.6671698451103586,-1.0434073030965116,1.087993748180064,0.8251029406890018,0.44954204545429655,-0.22719985689936456,-0.5422444776464004,-2.2324261138964956,0.9493595005097836,0.4777179691755005,-0.5354614446658382,-0.4982004714923975,-1.1476891696504472,-0.2296400044253678,0.9204126254454262,0.4175094038759765,1.3383812678252205,0.20393570092135996,0.3641768189742347,0.056298588785371646,1.790154924545487,0.35720133249961833,1.5064400671355258,-0.3019170893055426,-1.6578434496745653,0.8620146720247083,1.1500043106957927,0.2822494976777274,0.9566833862150375,-0.2685357041989318,-0.4884728273289955,1.2792079241497105,-0.7250228973636278,-1.2309532650323967,0.31197521426637215,1.0936944534891009,-0.32257914774238977,0.8932021180721614,1.8362910746299415,1.3306532682976469,0.7664840393967025,1.1502775594682741,1.3585620922843022,-0.5178200548823758,0.806793794387821,-0.09845903208504937,-1.4103456208172465,1.6151659629822908,0.06750180450915381,2.283053076806745,0.18240460302101436,-1.685931624410959,0.6047384305209671,0.6273165693400129,0.23627795320787906,-0.7447556824866209,-1.3722482088152015,0.6549064884581498,0.2246440447161041,-0.8268812754471794,-0.6793756327254308,1.76927828093296,0.8654601044043043,0.5927435118167454,0.10212959626793228,0.48969973682356716,-0.07640015800038846,0.03879598781609596,-0.14838855520956157,0.4444156340939495,-0.32794358382266386],\"yaxis\":\"y15\",\"type\":\"scatter\"},{\"histfunc\":\"count\",\"histnorm\":\"\",\"marker\":{\"color\":\"rgba(128, 0, 128, 1.0)\",\"line\":{\"color\":\"#4D5663\",\"width\":1.3}},\"name\":\"D\",\"nbinsx\":10,\"opacity\":0.8,\"orientation\":\"v\",\"x\":[1.0361215242491195,0.6407853255491084,0.7063779456975104,1.8980826082085422,0.17187209395006434,1.1807930930152146,1.4961438288093272,-2.0446273869788087,1.1318022350041197,-1.1927329306327188,-0.3718357943680243,-1.103634637522285,0.68808333426337,-0.32682601948711265,-0.22521524060681247,-0.8974662083076845,0.6522682742848068,-0.7631185114850355,1.4212512473317818,-1.196434655579687,0.3376907200426193,-0.3972002950152537,-0.5455228930351891,-0.3423263609742087,-0.531908394142106,0.40697220160755143,-1.2245651337600438,-1.0957828536350458,0.44149574622144727,0.6671698451103586,-1.0434073030965116,1.087993748180064,0.8251029406890018,0.44954204545429655,-0.22719985689936456,-0.5422444776464004,-2.2324261138964956,0.9493595005097836,0.4777179691755005,-0.5354614446658382,-0.4982004714923975,-1.1476891696504472,-0.2296400044253678,0.9204126254454262,0.4175094038759765,1.3383812678252205,0.20393570092135996,0.3641768189742347,0.056298588785371646,1.790154924545487,0.35720133249961833,1.5064400671355258,-0.3019170893055426,-1.6578434496745653,0.8620146720247083,1.1500043106957927,0.2822494976777274,0.9566833862150375,-0.2685357041989318,-0.4884728273289955,1.2792079241497105,-0.7250228973636278,-1.2309532650323967,0.31197521426637215,1.0936944534891009,-0.32257914774238977,0.8932021180721614,1.8362910746299415,1.3306532682976469,0.7664840393967025,1.1502775594682741,1.3585620922843022,-0.5178200548823758,0.806793794387821,-0.09845903208504937,-1.4103456208172465,1.6151659629822908,0.06750180450915381,2.283053076806745,0.18240460302101436,-1.685931624410959,0.6047384305209671,0.6273165693400129,0.23627795320787906,-0.7447556824866209,-1.3722482088152015,0.6549064884581498,0.2246440447161041,-0.8268812754471794,-0.6793756327254308,1.76927828093296,0.8654601044043043,0.5927435118167454,0.10212959626793228,0.48969973682356716,-0.07640015800038846,0.03879598781609596,-0.14838855520956157,0.4444156340939495,-0.32794358382266386],\"xaxis\":\"x16\",\"yaxis\":\"y16\",\"type\":\"histogram\"}],                        {\"bargap\":0.02,\"legend\":{\"bgcolor\":\"#F5F6F9\",\"font\":{\"color\":\"#4D5663\"}},\"paper_bgcolor\":\"#F5F6F9\",\"plot_bgcolor\":\"#F5F6F9\",\"showlegend\":false,\"template\":{\"data\":{\"barpolar\":[{\"marker\":{\"line\":{\"color\":\"#E5ECF6\",\"width\":0.5},\"pattern\":{\"fillmode\":\"overlay\",\"size\":10,\"solidity\":0.2}},\"type\":\"barpolar\"}],\"bar\":[{\"error_x\":{\"color\":\"#2a3f5f\"},\"error_y\":{\"color\":\"#2a3f5f\"},\"marker\":{\"line\":{\"color\":\"#E5ECF6\",\"width\":0.5},\"pattern\":{\"fillmode\":\"overlay\",\"size\":10,\"solidity\":0.2}},\"type\":\"bar\"}],\"carpet\":[{\"aaxis\":{\"endlinecolor\":\"#2a3f5f\",\"gridcolor\":\"white\",\"linecolor\":\"white\",\"minorgridcolor\":\"white\",\"startlinecolor\":\"#2a3f5f\"},\"baxis\":{\"endlinecolor\":\"#2a3f5f\",\"gridcolor\":\"white\",\"linecolor\":\"white\",\"minorgridcolor\":\"white\",\"startlinecolor\":\"#2a3f5f\"},\"type\":\"carpet\"}],\"choropleth\":[{\"colorbar\":{\"outlinewidth\":0,\"ticks\":\"\"},\"type\":\"choropleth\"}],\"contourcarpet\":[{\"colorbar\":{\"outlinewidth\":0,\"ticks\":\"\"},\"type\":\"contourcarpet\"}],\"contour\":[{\"colorbar\":{\"outlinewidth\":0,\"ticks\":\"\"},\"colorscale\":[[0.0,\"#0d0887\"],[0.1111111111111111,\"#46039f\"],[0.2222222222222222,\"#7201a8\"],[0.3333333333333333,\"#9c179e\"],[0.4444444444444444,\"#bd3786\"],[0.5555555555555556,\"#d8576b\"],[0.6666666666666666,\"#ed7953\"],[0.7777777777777778,\"#fb9f3a\"],[0.8888888888888888,\"#fdca26\"],[1.0,\"#f0f921\"]],\"type\":\"contour\"}],\"heatmapgl\":[{\"colorbar\":{\"outlinewidth\":0,\"ticks\":\"\"},\"colorscale\":[[0.0,\"#0d0887\"],[0.1111111111111111,\"#46039f\"],[0.2222222222222222,\"#7201a8\"],[0.3333333333333333,\"#9c179e\"],[0.4444444444444444,\"#bd3786\"],[0.5555555555555556,\"#d8576b\"],[0.6666666666666666,\"#ed7953\"],[0.7777777777777778,\"#fb9f3a\"],[0.8888888888888888,\"#fdca26\"],[1.0,\"#f0f921\"]],\"type\":\"heatmapgl\"}],\"heatmap\":[{\"colorbar\":{\"outlinewidth\":0,\"ticks\":\"\"},\"colorscale\":[[0.0,\"#0d0887\"],[0.1111111111111111,\"#46039f\"],[0.2222222222222222,\"#7201a8\"],[0.3333333333333333,\"#9c179e\"],[0.4444444444444444,\"#bd3786\"],[0.5555555555555556,\"#d8576b\"],[0.6666666666666666,\"#ed7953\"],[0.7777777777777778,\"#fb9f3a\"],[0.8888888888888888,\"#fdca26\"],[1.0,\"#f0f921\"]],\"type\":\"heatmap\"}],\"histogram2dcontour\":[{\"colorbar\":{\"outlinewidth\":0,\"ticks\":\"\"},\"colorscale\":[[0.0,\"#0d0887\"],[0.1111111111111111,\"#46039f\"],[0.2222222222222222,\"#7201a8\"],[0.3333333333333333,\"#9c179e\"],[0.4444444444444444,\"#bd3786\"],[0.5555555555555556,\"#d8576b\"],[0.6666666666666666,\"#ed7953\"],[0.7777777777777778,\"#fb9f3a\"],[0.8888888888888888,\"#fdca26\"],[1.0,\"#f0f921\"]],\"type\":\"histogram2dcontour\"}],\"histogram2d\":[{\"colorbar\":{\"outlinewidth\":0,\"ticks\":\"\"},\"colorscale\":[[0.0,\"#0d0887\"],[0.1111111111111111,\"#46039f\"],[0.2222222222222222,\"#7201a8\"],[0.3333333333333333,\"#9c179e\"],[0.4444444444444444,\"#bd3786\"],[0.5555555555555556,\"#d8576b\"],[0.6666666666666666,\"#ed7953\"],[0.7777777777777778,\"#fb9f3a\"],[0.8888888888888888,\"#fdca26\"],[1.0,\"#f0f921\"]],\"type\":\"histogram2d\"}],\"histogram\":[{\"marker\":{\"pattern\":{\"fillmode\":\"overlay\",\"size\":10,\"solidity\":0.2}},\"type\":\"histogram\"}],\"mesh3d\":[{\"colorbar\":{\"outlinewidth\":0,\"ticks\":\"\"},\"type\":\"mesh3d\"}],\"parcoords\":[{\"line\":{\"colorbar\":{\"outlinewidth\":0,\"ticks\":\"\"}},\"type\":\"parcoords\"}],\"pie\":[{\"automargin\":true,\"type\":\"pie\"}],\"scatter3d\":[{\"line\":{\"colorbar\":{\"outlinewidth\":0,\"ticks\":\"\"}},\"marker\":{\"colorbar\":{\"outlinewidth\":0,\"ticks\":\"\"}},\"type\":\"scatter3d\"}],\"scattercarpet\":[{\"marker\":{\"colorbar\":{\"outlinewidth\":0,\"ticks\":\"\"}},\"type\":\"scattercarpet\"}],\"scattergeo\":[{\"marker\":{\"colorbar\":{\"outlinewidth\":0,\"ticks\":\"\"}},\"type\":\"scattergeo\"}],\"scattergl\":[{\"marker\":{\"colorbar\":{\"outlinewidth\":0,\"ticks\":\"\"}},\"type\":\"scattergl\"}],\"scattermapbox\":[{\"marker\":{\"colorbar\":{\"outlinewidth\":0,\"ticks\":\"\"}},\"type\":\"scattermapbox\"}],\"scatterpolargl\":[{\"marker\":{\"colorbar\":{\"outlinewidth\":0,\"ticks\":\"\"}},\"type\":\"scatterpolargl\"}],\"scatterpolar\":[{\"marker\":{\"colorbar\":{\"outlinewidth\":0,\"ticks\":\"\"}},\"type\":\"scatterpolar\"}],\"scatter\":[{\"fillpattern\":{\"fillmode\":\"overlay\",\"size\":10,\"solidity\":0.2},\"type\":\"scatter\"}],\"scatterternary\":[{\"marker\":{\"colorbar\":{\"outlinewidth\":0,\"ticks\":\"\"}},\"type\":\"scatterternary\"}],\"surface\":[{\"colorbar\":{\"outlinewidth\":0,\"ticks\":\"\"},\"colorscale\":[[0.0,\"#0d0887\"],[0.1111111111111111,\"#46039f\"],[0.2222222222222222,\"#7201a8\"],[0.3333333333333333,\"#9c179e\"],[0.4444444444444444,\"#bd3786\"],[0.5555555555555556,\"#d8576b\"],[0.6666666666666666,\"#ed7953\"],[0.7777777777777778,\"#fb9f3a\"],[0.8888888888888888,\"#fdca26\"],[1.0,\"#f0f921\"]],\"type\":\"surface\"}],\"table\":[{\"cells\":{\"fill\":{\"color\":\"#EBF0F8\"},\"line\":{\"color\":\"white\"}},\"header\":{\"fill\":{\"color\":\"#C8D4E3\"},\"line\":{\"color\":\"white\"}},\"type\":\"table\"}]},\"layout\":{\"annotationdefaults\":{\"arrowcolor\":\"#2a3f5f\",\"arrowhead\":0,\"arrowwidth\":1},\"autotypenumbers\":\"strict\",\"coloraxis\":{\"colorbar\":{\"outlinewidth\":0,\"ticks\":\"\"}},\"colorscale\":{\"diverging\":[[0,\"#8e0152\"],[0.1,\"#c51b7d\"],[0.2,\"#de77ae\"],[0.3,\"#f1b6da\"],[0.4,\"#fde0ef\"],[0.5,\"#f7f7f7\"],[0.6,\"#e6f5d0\"],[0.7,\"#b8e186\"],[0.8,\"#7fbc41\"],[0.9,\"#4d9221\"],[1,\"#276419\"]],\"sequential\":[[0.0,\"#0d0887\"],[0.1111111111111111,\"#46039f\"],[0.2222222222222222,\"#7201a8\"],[0.3333333333333333,\"#9c179e\"],[0.4444444444444444,\"#bd3786\"],[0.5555555555555556,\"#d8576b\"],[0.6666666666666666,\"#ed7953\"],[0.7777777777777778,\"#fb9f3a\"],[0.8888888888888888,\"#fdca26\"],[1.0,\"#f0f921\"]],\"sequentialminus\":[[0.0,\"#0d0887\"],[0.1111111111111111,\"#46039f\"],[0.2222222222222222,\"#7201a8\"],[0.3333333333333333,\"#9c179e\"],[0.4444444444444444,\"#bd3786\"],[0.5555555555555556,\"#d8576b\"],[0.6666666666666666,\"#ed7953\"],[0.7777777777777778,\"#fb9f3a\"],[0.8888888888888888,\"#fdca26\"],[1.0,\"#f0f921\"]]},\"colorway\":[\"#636efa\",\"#EF553B\",\"#00cc96\",\"#ab63fa\",\"#FFA15A\",\"#19d3f3\",\"#FF6692\",\"#B6E880\",\"#FF97FF\",\"#FECB52\"],\"font\":{\"color\":\"#2a3f5f\"},\"geo\":{\"bgcolor\":\"white\",\"lakecolor\":\"white\",\"landcolor\":\"#E5ECF6\",\"showlakes\":true,\"showland\":true,\"subunitcolor\":\"white\"},\"hoverlabel\":{\"align\":\"left\"},\"hovermode\":\"closest\",\"mapbox\":{\"style\":\"light\"},\"paper_bgcolor\":\"white\",\"plot_bgcolor\":\"#E5ECF6\",\"polar\":{\"angularaxis\":{\"gridcolor\":\"white\",\"linecolor\":\"white\",\"ticks\":\"\"},\"bgcolor\":\"#E5ECF6\",\"radialaxis\":{\"gridcolor\":\"white\",\"linecolor\":\"white\",\"ticks\":\"\"}},\"scene\":{\"xaxis\":{\"backgroundcolor\":\"#E5ECF6\",\"gridcolor\":\"white\",\"gridwidth\":2,\"linecolor\":\"white\",\"showbackground\":true,\"ticks\":\"\",\"zerolinecolor\":\"white\"},\"yaxis\":{\"backgroundcolor\":\"#E5ECF6\",\"gridcolor\":\"white\",\"gridwidth\":2,\"linecolor\":\"white\",\"showbackground\":true,\"ticks\":\"\",\"zerolinecolor\":\"white\"},\"zaxis\":{\"backgroundcolor\":\"#E5ECF6\",\"gridcolor\":\"white\",\"gridwidth\":2,\"linecolor\":\"white\",\"showbackground\":true,\"ticks\":\"\",\"zerolinecolor\":\"white\"}},\"shapedefaults\":{\"line\":{\"color\":\"#2a3f5f\"}},\"ternary\":{\"aaxis\":{\"gridcolor\":\"white\",\"linecolor\":\"white\",\"ticks\":\"\"},\"baxis\":{\"gridcolor\":\"white\",\"linecolor\":\"white\",\"ticks\":\"\"},\"bgcolor\":\"#E5ECF6\",\"caxis\":{\"gridcolor\":\"white\",\"linecolor\":\"white\",\"ticks\":\"\"}},\"title\":{\"x\":0.05},\"xaxis\":{\"automargin\":true,\"gridcolor\":\"white\",\"linecolor\":\"white\",\"ticks\":\"\",\"title\":{\"standoff\":15},\"zerolinecolor\":\"white\",\"zerolinewidth\":2},\"yaxis\":{\"automargin\":true,\"gridcolor\":\"white\",\"linecolor\":\"white\",\"ticks\":\"\",\"title\":{\"standoff\":15},\"zerolinecolor\":\"white\",\"zerolinewidth\":2}}},\"title\":{\"font\":{\"color\":\"#4D5663\"}},\"xaxis\":{\"anchor\":\"y\",\"domain\":[0.0,0.2125],\"gridcolor\":\"#E1E5ED\",\"showgrid\":false,\"tickfont\":{\"color\":\"#4D5663\"},\"title\":{\"font\":{\"color\":\"#4D5663\"},\"text\":\"\"},\"zerolinecolor\":\"#E1E5ED\"},\"yaxis\":{\"anchor\":\"x\",\"domain\":[0.8025,1.0],\"gridcolor\":\"#E1E5ED\",\"showgrid\":false,\"tickfont\":{\"color\":\"#4D5663\"},\"title\":{\"font\":{\"color\":\"#4D5663\"},\"text\":\"\"},\"zerolinecolor\":\"#E1E5ED\"},\"xaxis2\":{\"anchor\":\"y2\",\"domain\":[0.2625,0.475],\"gridcolor\":\"#E1E5ED\",\"showgrid\":false,\"tickfont\":{\"color\":\"#4D5663\"},\"title\":{\"font\":{\"color\":\"#4D5663\"},\"text\":\"\"},\"zerolinecolor\":\"#E1E5ED\"},\"yaxis2\":{\"anchor\":\"x2\",\"domain\":[0.8025,1.0],\"gridcolor\":\"#E1E5ED\",\"showgrid\":false,\"tickfont\":{\"color\":\"#4D5663\"},\"title\":{\"font\":{\"color\":\"#4D5663\"},\"text\":\"\"},\"zerolinecolor\":\"#E1E5ED\"},\"xaxis3\":{\"anchor\":\"y3\",\"domain\":[0.525,0.7375],\"gridcolor\":\"#E1E5ED\",\"showgrid\":false,\"tickfont\":{\"color\":\"#4D5663\"},\"title\":{\"font\":{\"color\":\"#4D5663\"},\"text\":\"\"},\"zerolinecolor\":\"#E1E5ED\"},\"yaxis3\":{\"anchor\":\"x3\",\"domain\":[0.8025,1.0],\"gridcolor\":\"#E1E5ED\",\"showgrid\":false,\"tickfont\":{\"color\":\"#4D5663\"},\"title\":{\"font\":{\"color\":\"#4D5663\"},\"text\":\"\"},\"zerolinecolor\":\"#E1E5ED\"},\"xaxis4\":{\"anchor\":\"y4\",\"domain\":[0.7875,1.0],\"gridcolor\":\"#E1E5ED\",\"showgrid\":false,\"tickfont\":{\"color\":\"#4D5663\"},\"title\":{\"font\":{\"color\":\"#4D5663\"},\"text\":\"\"},\"zerolinecolor\":\"#E1E5ED\"},\"yaxis4\":{\"anchor\":\"x4\",\"domain\":[0.8025,1.0],\"gridcolor\":\"#E1E5ED\",\"showgrid\":false,\"tickfont\":{\"color\":\"#4D5663\"},\"title\":{\"font\":{\"color\":\"#4D5663\"},\"text\":\"\"},\"zerolinecolor\":\"#E1E5ED\"},\"xaxis5\":{\"anchor\":\"y5\",\"domain\":[0.0,0.2125],\"gridcolor\":\"#E1E5ED\",\"showgrid\":false,\"tickfont\":{\"color\":\"#4D5663\"},\"title\":{\"font\":{\"color\":\"#4D5663\"},\"text\":\"\"},\"zerolinecolor\":\"#E1E5ED\"},\"yaxis5\":{\"anchor\":\"x5\",\"domain\":[0.535,0.7325],\"gridcolor\":\"#E1E5ED\",\"showgrid\":false,\"tickfont\":{\"color\":\"#4D5663\"},\"title\":{\"font\":{\"color\":\"#4D5663\"},\"text\":\"\"},\"zerolinecolor\":\"#E1E5ED\"},\"xaxis6\":{\"anchor\":\"y6\",\"domain\":[0.2625,0.475],\"gridcolor\":\"#E1E5ED\",\"showgrid\":false,\"tickfont\":{\"color\":\"#4D5663\"},\"title\":{\"font\":{\"color\":\"#4D5663\"},\"text\":\"\"},\"zerolinecolor\":\"#E1E5ED\"},\"yaxis6\":{\"anchor\":\"x6\",\"domain\":[0.535,0.7325],\"gridcolor\":\"#E1E5ED\",\"showgrid\":false,\"tickfont\":{\"color\":\"#4D5663\"},\"title\":{\"font\":{\"color\":\"#4D5663\"},\"text\":\"\"},\"zerolinecolor\":\"#E1E5ED\"},\"xaxis7\":{\"anchor\":\"y7\",\"domain\":[0.525,0.7375],\"gridcolor\":\"#E1E5ED\",\"showgrid\":false,\"tickfont\":{\"color\":\"#4D5663\"},\"title\":{\"font\":{\"color\":\"#4D5663\"},\"text\":\"\"},\"zerolinecolor\":\"#E1E5ED\"},\"yaxis7\":{\"anchor\":\"x7\",\"domain\":[0.535,0.7325],\"gridcolor\":\"#E1E5ED\",\"showgrid\":false,\"tickfont\":{\"color\":\"#4D5663\"},\"title\":{\"font\":{\"color\":\"#4D5663\"},\"text\":\"\"},\"zerolinecolor\":\"#E1E5ED\"},\"xaxis8\":{\"anchor\":\"y8\",\"domain\":[0.7875,1.0],\"gridcolor\":\"#E1E5ED\",\"showgrid\":false,\"tickfont\":{\"color\":\"#4D5663\"},\"title\":{\"font\":{\"color\":\"#4D5663\"},\"text\":\"\"},\"zerolinecolor\":\"#E1E5ED\"},\"yaxis8\":{\"anchor\":\"x8\",\"domain\":[0.535,0.7325],\"gridcolor\":\"#E1E5ED\",\"showgrid\":false,\"tickfont\":{\"color\":\"#4D5663\"},\"title\":{\"font\":{\"color\":\"#4D5663\"},\"text\":\"\"},\"zerolinecolor\":\"#E1E5ED\"},\"xaxis9\":{\"anchor\":\"y9\",\"domain\":[0.0,0.2125],\"gridcolor\":\"#E1E5ED\",\"showgrid\":false,\"tickfont\":{\"color\":\"#4D5663\"},\"title\":{\"font\":{\"color\":\"#4D5663\"},\"text\":\"\"},\"zerolinecolor\":\"#E1E5ED\"},\"yaxis9\":{\"anchor\":\"x9\",\"domain\":[0.2675,0.465],\"gridcolor\":\"#E1E5ED\",\"showgrid\":false,\"tickfont\":{\"color\":\"#4D5663\"},\"title\":{\"font\":{\"color\":\"#4D5663\"},\"text\":\"\"},\"zerolinecolor\":\"#E1E5ED\"},\"xaxis10\":{\"anchor\":\"y10\",\"domain\":[0.2625,0.475],\"gridcolor\":\"#E1E5ED\",\"showgrid\":false,\"tickfont\":{\"color\":\"#4D5663\"},\"title\":{\"font\":{\"color\":\"#4D5663\"},\"text\":\"\"},\"zerolinecolor\":\"#E1E5ED\"},\"yaxis10\":{\"anchor\":\"x10\",\"domain\":[0.2675,0.465],\"gridcolor\":\"#E1E5ED\",\"showgrid\":false,\"tickfont\":{\"color\":\"#4D5663\"},\"title\":{\"font\":{\"color\":\"#4D5663\"},\"text\":\"\"},\"zerolinecolor\":\"#E1E5ED\"},\"xaxis11\":{\"anchor\":\"y11\",\"domain\":[0.525,0.7375],\"gridcolor\":\"#E1E5ED\",\"showgrid\":false,\"tickfont\":{\"color\":\"#4D5663\"},\"title\":{\"font\":{\"color\":\"#4D5663\"},\"text\":\"\"},\"zerolinecolor\":\"#E1E5ED\"},\"yaxis11\":{\"anchor\":\"x11\",\"domain\":[0.2675,0.465],\"gridcolor\":\"#E1E5ED\",\"showgrid\":false,\"tickfont\":{\"color\":\"#4D5663\"},\"title\":{\"font\":{\"color\":\"#4D5663\"},\"text\":\"\"},\"zerolinecolor\":\"#E1E5ED\"},\"xaxis12\":{\"anchor\":\"y12\",\"domain\":[0.7875,1.0],\"gridcolor\":\"#E1E5ED\",\"showgrid\":false,\"tickfont\":{\"color\":\"#4D5663\"},\"title\":{\"font\":{\"color\":\"#4D5663\"},\"text\":\"\"},\"zerolinecolor\":\"#E1E5ED\"},\"yaxis12\":{\"anchor\":\"x12\",\"domain\":[0.2675,0.465],\"gridcolor\":\"#E1E5ED\",\"showgrid\":false,\"tickfont\":{\"color\":\"#4D5663\"},\"title\":{\"font\":{\"color\":\"#4D5663\"},\"text\":\"\"},\"zerolinecolor\":\"#E1E5ED\"},\"xaxis13\":{\"anchor\":\"y13\",\"domain\":[0.0,0.2125],\"gridcolor\":\"#E1E5ED\",\"showgrid\":false,\"tickfont\":{\"color\":\"#4D5663\"},\"title\":{\"font\":{\"color\":\"#4D5663\"},\"text\":\"\"},\"zerolinecolor\":\"#E1E5ED\"},\"yaxis13\":{\"anchor\":\"x13\",\"domain\":[0.0,0.1975],\"gridcolor\":\"#E1E5ED\",\"showgrid\":false,\"tickfont\":{\"color\":\"#4D5663\"},\"title\":{\"font\":{\"color\":\"#4D5663\"},\"text\":\"\"},\"zerolinecolor\":\"#E1E5ED\"},\"xaxis14\":{\"anchor\":\"y14\",\"domain\":[0.2625,0.475],\"gridcolor\":\"#E1E5ED\",\"showgrid\":false,\"tickfont\":{\"color\":\"#4D5663\"},\"title\":{\"font\":{\"color\":\"#4D5663\"},\"text\":\"\"},\"zerolinecolor\":\"#E1E5ED\"},\"yaxis14\":{\"anchor\":\"x14\",\"domain\":[0.0,0.1975],\"gridcolor\":\"#E1E5ED\",\"showgrid\":false,\"tickfont\":{\"color\":\"#4D5663\"},\"title\":{\"font\":{\"color\":\"#4D5663\"},\"text\":\"\"},\"zerolinecolor\":\"#E1E5ED\"},\"xaxis15\":{\"anchor\":\"y15\",\"domain\":[0.525,0.7375],\"gridcolor\":\"#E1E5ED\",\"showgrid\":false,\"tickfont\":{\"color\":\"#4D5663\"},\"title\":{\"font\":{\"color\":\"#4D5663\"},\"text\":\"\"},\"zerolinecolor\":\"#E1E5ED\"},\"yaxis15\":{\"anchor\":\"x15\",\"domain\":[0.0,0.1975],\"gridcolor\":\"#E1E5ED\",\"showgrid\":false,\"tickfont\":{\"color\":\"#4D5663\"},\"title\":{\"font\":{\"color\":\"#4D5663\"},\"text\":\"\"},\"zerolinecolor\":\"#E1E5ED\"},\"xaxis16\":{\"anchor\":\"y16\",\"domain\":[0.7875,1.0],\"gridcolor\":\"#E1E5ED\",\"showgrid\":false,\"tickfont\":{\"color\":\"#4D5663\"},\"title\":{\"font\":{\"color\":\"#4D5663\"},\"text\":\"\"},\"zerolinecolor\":\"#E1E5ED\"},\"yaxis16\":{\"anchor\":\"x16\",\"domain\":[0.0,0.1975],\"gridcolor\":\"#E1E5ED\",\"showgrid\":false,\"tickfont\":{\"color\":\"#4D5663\"},\"title\":{\"font\":{\"color\":\"#4D5663\"},\"text\":\"\"},\"zerolinecolor\":\"#E1E5ED\"}},                        {\"showLink\": true, \"linkText\": \"Export to plot.ly\", \"plotlyServerURL\": \"https://plot.ly\", \"responsive\": true}                    ).then(function(){\n",
       "                            \n",
       "var gd = document.getElementById('2984df5a-45f0-4042-96be-5b30944ed350');\n",
       "var x = new MutationObserver(function (mutations, observer) {{\n",
       "        var display = window.getComputedStyle(gd).display;\n",
       "        if (!display || display === 'none') {{\n",
       "            console.log([gd, 'removed!']);\n",
       "            Plotly.purge(gd);\n",
       "            observer.disconnect();\n",
       "        }}\n",
       "}});\n",
       "\n",
       "// Listen for the removal of the full notebook cells\n",
       "var notebookContainer = gd.closest('#notebook-container');\n",
       "if (notebookContainer) {{\n",
       "    x.observe(notebookContainer, {childList: true});\n",
       "}}\n",
       "\n",
       "// Listen for the clearing of the current output cell\n",
       "var outputEl = gd.closest('.output');\n",
       "if (outputEl) {{\n",
       "    x.observe(outputEl, {childList: true});\n",
       "}}\n",
       "\n",
       "                        })                };                });            </script>        </div>"
      ]
     },
     "metadata": {},
     "output_type": "display_data"
    }
   ],
   "source": [
    "df.scatter_matrix()"
   ]
  }
 ],
 "metadata": {
  "kernelspec": {
   "display_name": "Python 3 (ipykernel)",
   "language": "python",
   "name": "python3"
  },
  "language_info": {
   "codemirror_mode": {
    "name": "ipython",
    "version": 3
   },
   "file_extension": ".py",
   "mimetype": "text/x-python",
   "name": "python",
   "nbconvert_exporter": "python",
   "pygments_lexer": "ipython3",
   "version": "3.10.9"
  }
 },
 "nbformat": 4,
 "nbformat_minor": 5
}
